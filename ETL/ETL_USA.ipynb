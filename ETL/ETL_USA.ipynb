{
 "cells": [
  {
   "attachments": {},
   "cell_type": "markdown",
   "metadata": {},
   "source": [
    "# Librerias"
   ]
  },
  {
   "cell_type": "code",
   "execution_count": 2,
   "metadata": {},
   "outputs": [],
   "source": [
    "import pandas as pd\n",
    "import requests\n",
    "import json \n",
    "import folium \n",
    "import os\n",
    "from datetime import datetime, timedelta"
   ]
  },
  {
   "attachments": {},
   "cell_type": "markdown",
   "metadata": {},
   "source": [
    "# USGS\n",
    "## API Documentation - Earthquake Catalog\n",
    "### URL\n",
    "# Geophysics Institutions Throughout the World\n",
    "- https://www.usgs.gov/programs/earthquake-hazards/science/geophysics-institutions-throughout-world\n",
    "- https://earthquake.usgs.gov/fdsnws/event/1/[METHOD[?PARAMETERS]]\n",
    " - metodo: query\n",
    " - Parámetros:\n",
    "   - Ubicación: Las peticiones que utilicen tanto rectángulo como círculo devolverán la intersección, que puede estar vacía, utilízala con precaución.\n",
    "      * Conterminous U.S. [24.6, 50] Latitude. [-125, -65] Longitude.\n",
    "\n",
    "https://earthquake.usgs.gov/fdsnws/event/1/query?format=geojson&starttime=1995-05-04&minlatitude=24.6&maxlatitude=50&minlongitude=-125&maxlongitude=-65&limit=19999"
   ]
  },
  {
   "cell_type": "code",
   "execution_count": 11,
   "metadata": {},
   "outputs": [],
   "source": [
    "def sismo(url):\n",
    "    # Establecer el tiempo de inicio desde hoy menos 20000 eventos\n",
    "    endtime = datetime.today().strftime('%Y-%m-%dT%H:%M:%S')\n",
    "    starttime = (datetime.today() - timedelta(days=20000)).strftime('%Y-%m-%dT%H:%M:%S')\n",
    "\n",
    "    # Establecer los demás parámetros de solicitud\n",
    "    params = {\"format\": \"geojson\", \"starttime\": starttime, \"endtime\": endtime, \"minmagnitude\": 2.5,\n",
    "            \"minlatitude\": 24.6, \"maxlatitude\": 50, \"minlongitude\": -125, \"maxlongitude\": -65, \"limit\": 20000}    \n",
    "    data = requests.get(url, params = params)\n",
    "    data = json.loads(data.text)\n",
    "    return data\n",
    "\n",
    "url = r\"https://earthquake.usgs.gov/fdsnws/event/1/query?\"\n",
    "dic_sismo = sismo(url)\n",
    "count=0\n",
    "for i in (dic_sismo[\"features\"]):\n",
    "    if i[\"properties\"]['cdi']:\n",
    "        count += 1\n",
    "# Convertir los datos a un dataframe\n",
    "df_sismo = pd.json_normalize(dic_sismo['features'])"
   ]
  },
  {
   "cell_type": "code",
   "execution_count": 12,
   "metadata": {},
   "outputs": [],
   "source": [
    "folder_path = \"../DASHBOARD/CSV_ORIGINAL/\"\n",
    "file_name = \"raw_USA.csv\"\n",
    "file_path = os.path.join(folder_path, file_name)\n",
    "\n",
    "df_sismo.to_csv(file_path, index=False)"
   ]
  },
  {
   "cell_type": "code",
   "execution_count": 13,
   "metadata": {},
   "outputs": [
    {
     "data": {
      "text/html": [
       "<div>\n",
       "<style scoped>\n",
       "    .dataframe tbody tr th:only-of-type {\n",
       "        vertical-align: middle;\n",
       "    }\n",
       "\n",
       "    .dataframe tbody tr th {\n",
       "        vertical-align: top;\n",
       "    }\n",
       "\n",
       "    .dataframe thead th {\n",
       "        text-align: right;\n",
       "    }\n",
       "</style>\n",
       "<table border=\"1\" class=\"dataframe\">\n",
       "  <thead>\n",
       "    <tr style=\"text-align: right;\">\n",
       "      <th></th>\n",
       "      <th>type</th>\n",
       "      <th>id</th>\n",
       "      <th>properties.mag</th>\n",
       "      <th>properties.place</th>\n",
       "      <th>properties.time</th>\n",
       "      <th>properties.updated</th>\n",
       "      <th>properties.tz</th>\n",
       "      <th>properties.url</th>\n",
       "      <th>properties.detail</th>\n",
       "      <th>properties.felt</th>\n",
       "      <th>...</th>\n",
       "      <th>properties.types</th>\n",
       "      <th>properties.nst</th>\n",
       "      <th>properties.dmin</th>\n",
       "      <th>properties.rms</th>\n",
       "      <th>properties.gap</th>\n",
       "      <th>properties.magType</th>\n",
       "      <th>properties.type</th>\n",
       "      <th>properties.title</th>\n",
       "      <th>geometry.type</th>\n",
       "      <th>geometry.coordinates</th>\n",
       "    </tr>\n",
       "  </thead>\n",
       "  <tbody>\n",
       "    <tr>\n",
       "      <th>0</th>\n",
       "      <td>Feature</td>\n",
       "      <td>us6000kcpy</td>\n",
       "      <td>3.80</td>\n",
       "      <td>8 km ENE of San Mateo, New Mexico</td>\n",
       "      <td>1684371858365</td>\n",
       "      <td>1684387784364</td>\n",
       "      <td>NaN</td>\n",
       "      <td>https://earthquake.usgs.gov/earthquakes/eventp...</td>\n",
       "      <td>https://earthquake.usgs.gov/fdsnws/event/1/que...</td>\n",
       "      <td>11.0</td>\n",
       "      <td>...</td>\n",
       "      <td>,dyfi,origin,phase-data,shakemap,</td>\n",
       "      <td>35.0</td>\n",
       "      <td>0.98900</td>\n",
       "      <td>0.71</td>\n",
       "      <td>38.0</td>\n",
       "      <td>ml</td>\n",
       "      <td>earthquake</td>\n",
       "      <td>M 3.8 - 8 km ENE of San Mateo, New Mexico</td>\n",
       "      <td>Point</td>\n",
       "      <td>[-107.5538, 35.3639, 14.93]</td>\n",
       "    </tr>\n",
       "    <tr>\n",
       "      <th>1</th>\n",
       "      <td>Feature</td>\n",
       "      <td>us6000kckk</td>\n",
       "      <td>2.80</td>\n",
       "      <td>17 km S of Stonewall Gap, Colorado</td>\n",
       "      <td>1684344170329</td>\n",
       "      <td>1684354752040</td>\n",
       "      <td>NaN</td>\n",
       "      <td>https://earthquake.usgs.gov/earthquakes/eventp...</td>\n",
       "      <td>https://earthquake.usgs.gov/fdsnws/event/1/que...</td>\n",
       "      <td>NaN</td>\n",
       "      <td>...</td>\n",
       "      <td>,origin,phase-data,</td>\n",
       "      <td>29.0</td>\n",
       "      <td>0.15700</td>\n",
       "      <td>1.58</td>\n",
       "      <td>35.0</td>\n",
       "      <td>ml</td>\n",
       "      <td>earthquake</td>\n",
       "      <td>M 2.8 - 17 km S of Stonewall Gap, Colorado</td>\n",
       "      <td>Point</td>\n",
       "      <td>[-105.0247, 36.9979, 5]</td>\n",
       "    </tr>\n",
       "    <tr>\n",
       "      <th>2</th>\n",
       "      <td>Feature</td>\n",
       "      <td>nc73889196</td>\n",
       "      <td>2.84</td>\n",
       "      <td>42km W of Ferndale, CA</td>\n",
       "      <td>1684339850600</td>\n",
       "      <td>1684386299040</td>\n",
       "      <td>NaN</td>\n",
       "      <td>https://earthquake.usgs.gov/earthquakes/eventp...</td>\n",
       "      <td>https://earthquake.usgs.gov/fdsnws/event/1/que...</td>\n",
       "      <td>NaN</td>\n",
       "      <td>...</td>\n",
       "      <td>,nearby-cities,origin,phase-data,scitech-link,</td>\n",
       "      <td>30.0</td>\n",
       "      <td>0.48030</td>\n",
       "      <td>0.24</td>\n",
       "      <td>263.0</td>\n",
       "      <td>md</td>\n",
       "      <td>earthquake</td>\n",
       "      <td>M 2.8 - 42km W of Ferndale, CA</td>\n",
       "      <td>Point</td>\n",
       "      <td>[-124.7598343, 40.5231667, 1.67]</td>\n",
       "    </tr>\n",
       "    <tr>\n",
       "      <th>3</th>\n",
       "      <td>Feature</td>\n",
       "      <td>nc73889176</td>\n",
       "      <td>3.07</td>\n",
       "      <td>16km SSE of Tres Pinos, CA</td>\n",
       "      <td>1684335705260</td>\n",
       "      <td>1684368311806</td>\n",
       "      <td>NaN</td>\n",
       "      <td>https://earthquake.usgs.gov/earthquakes/eventp...</td>\n",
       "      <td>https://earthquake.usgs.gov/fdsnws/event/1/que...</td>\n",
       "      <td>4.0</td>\n",
       "      <td>...</td>\n",
       "      <td>,dyfi,focal-mechanism,nearby-cities,origin,pha...</td>\n",
       "      <td>66.0</td>\n",
       "      <td>0.05088</td>\n",
       "      <td>0.12</td>\n",
       "      <td>77.0</td>\n",
       "      <td>ml</td>\n",
       "      <td>earthquake</td>\n",
       "      <td>M 3.1 - 16km SSE of Tres Pinos, CA</td>\n",
       "      <td>Point</td>\n",
       "      <td>[-121.272, 36.6485, 3.75]</td>\n",
       "    </tr>\n",
       "    <tr>\n",
       "      <th>4</th>\n",
       "      <td>Feature</td>\n",
       "      <td>nc73889151</td>\n",
       "      <td>2.54</td>\n",
       "      <td>16km SSE of Tres Pinos, CA</td>\n",
       "      <td>1684333505270</td>\n",
       "      <td>1684357451488</td>\n",
       "      <td>NaN</td>\n",
       "      <td>https://earthquake.usgs.gov/earthquakes/eventp...</td>\n",
       "      <td>https://earthquake.usgs.gov/fdsnws/event/1/que...</td>\n",
       "      <td>NaN</td>\n",
       "      <td>...</td>\n",
       "      <td>,focal-mechanism,nearby-cities,origin,phase-da...</td>\n",
       "      <td>59.0</td>\n",
       "      <td>0.05078</td>\n",
       "      <td>0.11</td>\n",
       "      <td>105.0</td>\n",
       "      <td>md</td>\n",
       "      <td>earthquake</td>\n",
       "      <td>M 2.5 - 16km SSE of Tres Pinos, CA</td>\n",
       "      <td>Point</td>\n",
       "      <td>[-121.2738333, 36.6496667, 3.5]</td>\n",
       "    </tr>\n",
       "  </tbody>\n",
       "</table>\n",
       "<p>5 rows × 30 columns</p>\n",
       "</div>"
      ],
      "text/plain": [
       "      type          id  properties.mag                    properties.place  \\\n",
       "0  Feature  us6000kcpy            3.80   8 km ENE of San Mateo, New Mexico   \n",
       "1  Feature  us6000kckk            2.80  17 km S of Stonewall Gap, Colorado   \n",
       "2  Feature  nc73889196            2.84              42km W of Ferndale, CA   \n",
       "3  Feature  nc73889176            3.07          16km SSE of Tres Pinos, CA   \n",
       "4  Feature  nc73889151            2.54          16km SSE of Tres Pinos, CA   \n",
       "\n",
       "   properties.time  properties.updated  properties.tz  \\\n",
       "0    1684371858365       1684387784364            NaN   \n",
       "1    1684344170329       1684354752040            NaN   \n",
       "2    1684339850600       1684386299040            NaN   \n",
       "3    1684335705260       1684368311806            NaN   \n",
       "4    1684333505270       1684357451488            NaN   \n",
       "\n",
       "                                      properties.url  \\\n",
       "0  https://earthquake.usgs.gov/earthquakes/eventp...   \n",
       "1  https://earthquake.usgs.gov/earthquakes/eventp...   \n",
       "2  https://earthquake.usgs.gov/earthquakes/eventp...   \n",
       "3  https://earthquake.usgs.gov/earthquakes/eventp...   \n",
       "4  https://earthquake.usgs.gov/earthquakes/eventp...   \n",
       "\n",
       "                                   properties.detail  properties.felt  ...  \\\n",
       "0  https://earthquake.usgs.gov/fdsnws/event/1/que...             11.0  ...   \n",
       "1  https://earthquake.usgs.gov/fdsnws/event/1/que...              NaN  ...   \n",
       "2  https://earthquake.usgs.gov/fdsnws/event/1/que...              NaN  ...   \n",
       "3  https://earthquake.usgs.gov/fdsnws/event/1/que...              4.0  ...   \n",
       "4  https://earthquake.usgs.gov/fdsnws/event/1/que...              NaN  ...   \n",
       "\n",
       "                                    properties.types  properties.nst  \\\n",
       "0                  ,dyfi,origin,phase-data,shakemap,            35.0   \n",
       "1                                ,origin,phase-data,            29.0   \n",
       "2     ,nearby-cities,origin,phase-data,scitech-link,            30.0   \n",
       "3  ,dyfi,focal-mechanism,nearby-cities,origin,pha...            66.0   \n",
       "4  ,focal-mechanism,nearby-cities,origin,phase-da...            59.0   \n",
       "\n",
       "  properties.dmin properties.rms  properties.gap  properties.magType  \\\n",
       "0         0.98900           0.71            38.0                  ml   \n",
       "1         0.15700           1.58            35.0                  ml   \n",
       "2         0.48030           0.24           263.0                  md   \n",
       "3         0.05088           0.12            77.0                  ml   \n",
       "4         0.05078           0.11           105.0                  md   \n",
       "\n",
       "  properties.type                            properties.title geometry.type  \\\n",
       "0      earthquake   M 3.8 - 8 km ENE of San Mateo, New Mexico         Point   \n",
       "1      earthquake  M 2.8 - 17 km S of Stonewall Gap, Colorado         Point   \n",
       "2      earthquake              M 2.8 - 42km W of Ferndale, CA         Point   \n",
       "3      earthquake          M 3.1 - 16km SSE of Tres Pinos, CA         Point   \n",
       "4      earthquake          M 2.5 - 16km SSE of Tres Pinos, CA         Point   \n",
       "\n",
       "               geometry.coordinates  \n",
       "0       [-107.5538, 35.3639, 14.93]  \n",
       "1           [-105.0247, 36.9979, 5]  \n",
       "2  [-124.7598343, 40.5231667, 1.67]  \n",
       "3         [-121.272, 36.6485, 3.75]  \n",
       "4   [-121.2738333, 36.6496667, 3.5]  \n",
       "\n",
       "[5 rows x 30 columns]"
      ]
     },
     "execution_count": 13,
     "metadata": {},
     "output_type": "execute_result"
    }
   ],
   "source": [
    "df_sismo.head()"
   ]
  },
  {
   "attachments": {},
   "cell_type": "markdown",
   "metadata": {},
   "source": [
    "Borro las columnas que no necesito"
   ]
  },
  {
   "cell_type": "code",
   "execution_count": 14,
   "metadata": {},
   "outputs": [
    {
     "data": {
      "text/plain": [
       "Index(['type', 'id', 'properties.mag', 'properties.place', 'properties.time',\n",
       "       'properties.updated', 'properties.tz', 'properties.url',\n",
       "       'properties.detail', 'properties.felt', 'properties.cdi',\n",
       "       'properties.mmi', 'properties.alert', 'properties.status',\n",
       "       'properties.tsunami', 'properties.sig', 'properties.net',\n",
       "       'properties.code', 'properties.ids', 'properties.sources',\n",
       "       'properties.types', 'properties.nst', 'properties.dmin',\n",
       "       'properties.rms', 'properties.gap', 'properties.magType',\n",
       "       'properties.type', 'properties.title', 'geometry.type',\n",
       "       'geometry.coordinates'],\n",
       "      dtype='object')"
      ]
     },
     "execution_count": 14,
     "metadata": {},
     "output_type": "execute_result"
    }
   ],
   "source": [
    "df_sismo.columns"
   ]
  },
  {
   "cell_type": "code",
   "execution_count": 15,
   "metadata": {},
   "outputs": [],
   "source": [
    "df_sismo.drop(columns=['type','properties.alert','properties.tz','properties.code','properties.url','properties.detail','properties.net'\n",
    "                       ,'properties.status','properties.types','properties.sources','properties.magType','properties.type','geometry.type',\n",
    "                       'properties.title'], axis=1, inplace=True)"
   ]
  },
  {
   "attachments": {},
   "cell_type": "markdown",
   "metadata": {},
   "source": [
    "Cambio el formato de la columna properties.time"
   ]
  },
  {
   "cell_type": "code",
   "execution_count": 16,
   "metadata": {},
   "outputs": [],
   "source": [
    "df_sismo[\"properties.time\"] = pd.to_datetime(df_sismo[\"properties.time\"], unit=\"ms\") \n",
    "df_sismo[\"properties.updated\"] = pd.to_datetime(df_sismo[\"properties.updated\"], unit=\"ms\")"
   ]
  },
  {
   "cell_type": "code",
   "execution_count": 17,
   "metadata": {},
   "outputs": [],
   "source": [
    "df_sismo['estado'] = df_sismo['properties.place'].str.split(',').str[1].str.strip()\n",
    "\n",
    "df_sismo['properties.place'] = df_sismo['properties.place'].str.split(',', expand=True)[0]\n"
   ]
  },
  {
   "cell_type": "code",
   "execution_count": 18,
   "metadata": {},
   "outputs": [
    {
     "data": {
      "text/html": [
       "<div>\n",
       "<style scoped>\n",
       "    .dataframe tbody tr th:only-of-type {\n",
       "        vertical-align: middle;\n",
       "    }\n",
       "\n",
       "    .dataframe tbody tr th {\n",
       "        vertical-align: top;\n",
       "    }\n",
       "\n",
       "    .dataframe thead th {\n",
       "        text-align: right;\n",
       "    }\n",
       "</style>\n",
       "<table border=\"1\" class=\"dataframe\">\n",
       "  <thead>\n",
       "    <tr style=\"text-align: right;\">\n",
       "      <th></th>\n",
       "      <th>id</th>\n",
       "      <th>properties.mag</th>\n",
       "      <th>properties.place</th>\n",
       "      <th>properties.time</th>\n",
       "      <th>properties.updated</th>\n",
       "      <th>properties.felt</th>\n",
       "      <th>properties.cdi</th>\n",
       "      <th>properties.mmi</th>\n",
       "      <th>properties.tsunami</th>\n",
       "      <th>properties.sig</th>\n",
       "      <th>properties.ids</th>\n",
       "      <th>properties.nst</th>\n",
       "      <th>properties.dmin</th>\n",
       "      <th>properties.rms</th>\n",
       "      <th>properties.gap</th>\n",
       "      <th>geometry.coordinates</th>\n",
       "      <th>estado</th>\n",
       "    </tr>\n",
       "  </thead>\n",
       "  <tbody>\n",
       "    <tr>\n",
       "      <th>0</th>\n",
       "      <td>us6000kcpy</td>\n",
       "      <td>3.80</td>\n",
       "      <td>8 km ENE of San Mateo</td>\n",
       "      <td>2023-05-18 01:04:18.365</td>\n",
       "      <td>2023-05-18 05:29:44.364</td>\n",
       "      <td>11.0</td>\n",
       "      <td>4.1</td>\n",
       "      <td>3.573</td>\n",
       "      <td>0</td>\n",
       "      <td>227</td>\n",
       "      <td>,us6000kcpy,</td>\n",
       "      <td>35.0</td>\n",
       "      <td>0.98900</td>\n",
       "      <td>0.71</td>\n",
       "      <td>38.0</td>\n",
       "      <td>[-107.5538, 35.3639, 14.93]</td>\n",
       "      <td>New Mexico</td>\n",
       "    </tr>\n",
       "    <tr>\n",
       "      <th>1</th>\n",
       "      <td>us6000kckk</td>\n",
       "      <td>2.80</td>\n",
       "      <td>17 km S of Stonewall Gap</td>\n",
       "      <td>2023-05-17 17:22:50.329</td>\n",
       "      <td>2023-05-17 20:19:12.040</td>\n",
       "      <td>NaN</td>\n",
       "      <td>NaN</td>\n",
       "      <td>NaN</td>\n",
       "      <td>0</td>\n",
       "      <td>121</td>\n",
       "      <td>,us6000kckk,</td>\n",
       "      <td>29.0</td>\n",
       "      <td>0.15700</td>\n",
       "      <td>1.58</td>\n",
       "      <td>35.0</td>\n",
       "      <td>[-105.0247, 36.9979, 5]</td>\n",
       "      <td>Colorado</td>\n",
       "    </tr>\n",
       "    <tr>\n",
       "      <th>2</th>\n",
       "      <td>nc73889196</td>\n",
       "      <td>2.84</td>\n",
       "      <td>42km W of Ferndale</td>\n",
       "      <td>2023-05-17 16:10:50.600</td>\n",
       "      <td>2023-05-18 05:04:59.040</td>\n",
       "      <td>NaN</td>\n",
       "      <td>NaN</td>\n",
       "      <td>NaN</td>\n",
       "      <td>0</td>\n",
       "      <td>124</td>\n",
       "      <td>,nc73889196,us6000kck7,</td>\n",
       "      <td>30.0</td>\n",
       "      <td>0.48030</td>\n",
       "      <td>0.24</td>\n",
       "      <td>263.0</td>\n",
       "      <td>[-124.7598343, 40.5231667, 1.67]</td>\n",
       "      <td>CA</td>\n",
       "    </tr>\n",
       "    <tr>\n",
       "      <th>3</th>\n",
       "      <td>nc73889176</td>\n",
       "      <td>3.07</td>\n",
       "      <td>16km SSE of Tres Pinos</td>\n",
       "      <td>2023-05-17 15:01:45.260</td>\n",
       "      <td>2023-05-18 00:05:11.806</td>\n",
       "      <td>4.0</td>\n",
       "      <td>2.0</td>\n",
       "      <td>NaN</td>\n",
       "      <td>0</td>\n",
       "      <td>146</td>\n",
       "      <td>,nc73889176,</td>\n",
       "      <td>66.0</td>\n",
       "      <td>0.05088</td>\n",
       "      <td>0.12</td>\n",
       "      <td>77.0</td>\n",
       "      <td>[-121.272, 36.6485, 3.75]</td>\n",
       "      <td>CA</td>\n",
       "    </tr>\n",
       "    <tr>\n",
       "      <th>4</th>\n",
       "      <td>nc73889151</td>\n",
       "      <td>2.54</td>\n",
       "      <td>16km SSE of Tres Pinos</td>\n",
       "      <td>2023-05-17 14:25:05.270</td>\n",
       "      <td>2023-05-17 21:04:11.488</td>\n",
       "      <td>NaN</td>\n",
       "      <td>NaN</td>\n",
       "      <td>NaN</td>\n",
       "      <td>0</td>\n",
       "      <td>99</td>\n",
       "      <td>,nc73889151,</td>\n",
       "      <td>59.0</td>\n",
       "      <td>0.05078</td>\n",
       "      <td>0.11</td>\n",
       "      <td>105.0</td>\n",
       "      <td>[-121.2738333, 36.6496667, 3.5]</td>\n",
       "      <td>CA</td>\n",
       "    </tr>\n",
       "  </tbody>\n",
       "</table>\n",
       "</div>"
      ],
      "text/plain": [
       "           id  properties.mag          properties.place  \\\n",
       "0  us6000kcpy            3.80     8 km ENE of San Mateo   \n",
       "1  us6000kckk            2.80  17 km S of Stonewall Gap   \n",
       "2  nc73889196            2.84        42km W of Ferndale   \n",
       "3  nc73889176            3.07    16km SSE of Tres Pinos   \n",
       "4  nc73889151            2.54    16km SSE of Tres Pinos   \n",
       "\n",
       "          properties.time      properties.updated  properties.felt  \\\n",
       "0 2023-05-18 01:04:18.365 2023-05-18 05:29:44.364             11.0   \n",
       "1 2023-05-17 17:22:50.329 2023-05-17 20:19:12.040              NaN   \n",
       "2 2023-05-17 16:10:50.600 2023-05-18 05:04:59.040              NaN   \n",
       "3 2023-05-17 15:01:45.260 2023-05-18 00:05:11.806              4.0   \n",
       "4 2023-05-17 14:25:05.270 2023-05-17 21:04:11.488              NaN   \n",
       "\n",
       "   properties.cdi  properties.mmi  properties.tsunami  properties.sig  \\\n",
       "0             4.1           3.573                   0             227   \n",
       "1             NaN             NaN                   0             121   \n",
       "2             NaN             NaN                   0             124   \n",
       "3             2.0             NaN                   0             146   \n",
       "4             NaN             NaN                   0              99   \n",
       "\n",
       "            properties.ids  properties.nst  properties.dmin  properties.rms  \\\n",
       "0             ,us6000kcpy,            35.0          0.98900            0.71   \n",
       "1             ,us6000kckk,            29.0          0.15700            1.58   \n",
       "2  ,nc73889196,us6000kck7,            30.0          0.48030            0.24   \n",
       "3             ,nc73889176,            66.0          0.05088            0.12   \n",
       "4             ,nc73889151,            59.0          0.05078            0.11   \n",
       "\n",
       "   properties.gap              geometry.coordinates      estado  \n",
       "0            38.0       [-107.5538, 35.3639, 14.93]  New Mexico  \n",
       "1            35.0           [-105.0247, 36.9979, 5]    Colorado  \n",
       "2           263.0  [-124.7598343, 40.5231667, 1.67]          CA  \n",
       "3            77.0         [-121.272, 36.6485, 3.75]          CA  \n",
       "4           105.0   [-121.2738333, 36.6496667, 3.5]          CA  "
      ]
     },
     "execution_count": 18,
     "metadata": {},
     "output_type": "execute_result"
    }
   ],
   "source": [
    "df_sismo.head(5)"
   ]
  },
  {
   "cell_type": "code",
   "execution_count": 19,
   "metadata": {},
   "outputs": [],
   "source": [
    "#Divido la columna geometry coordinates\n",
    "df_sismo[['Longitud', 'Latitud', 'Profundidad']] = df_sismo['geometry.coordinates'].apply(lambda x: pd.Series(str(x).strip('[]').split(',')))"
   ]
  },
  {
   "cell_type": "code",
   "execution_count": 20,
   "metadata": {},
   "outputs": [
    {
     "data": {
      "text/html": [
       "<div>\n",
       "<style scoped>\n",
       "    .dataframe tbody tr th:only-of-type {\n",
       "        vertical-align: middle;\n",
       "    }\n",
       "\n",
       "    .dataframe tbody tr th {\n",
       "        vertical-align: top;\n",
       "    }\n",
       "\n",
       "    .dataframe thead th {\n",
       "        text-align: right;\n",
       "    }\n",
       "</style>\n",
       "<table border=\"1\" class=\"dataframe\">\n",
       "  <thead>\n",
       "    <tr style=\"text-align: right;\">\n",
       "      <th></th>\n",
       "      <th>id</th>\n",
       "      <th>properties.mag</th>\n",
       "      <th>properties.place</th>\n",
       "      <th>properties.time</th>\n",
       "      <th>properties.updated</th>\n",
       "      <th>properties.felt</th>\n",
       "      <th>properties.cdi</th>\n",
       "      <th>properties.mmi</th>\n",
       "      <th>properties.tsunami</th>\n",
       "      <th>properties.sig</th>\n",
       "      <th>properties.ids</th>\n",
       "      <th>properties.nst</th>\n",
       "      <th>properties.dmin</th>\n",
       "      <th>properties.rms</th>\n",
       "      <th>properties.gap</th>\n",
       "      <th>geometry.coordinates</th>\n",
       "      <th>estado</th>\n",
       "      <th>Longitud</th>\n",
       "      <th>Latitud</th>\n",
       "      <th>Profundidad</th>\n",
       "    </tr>\n",
       "  </thead>\n",
       "  <tbody>\n",
       "    <tr>\n",
       "      <th>0</th>\n",
       "      <td>us6000kcpy</td>\n",
       "      <td>3.8</td>\n",
       "      <td>8 km ENE of San Mateo</td>\n",
       "      <td>2023-05-18 01:04:18.365</td>\n",
       "      <td>2023-05-18 05:29:44.364</td>\n",
       "      <td>11.0</td>\n",
       "      <td>4.1</td>\n",
       "      <td>3.573</td>\n",
       "      <td>0</td>\n",
       "      <td>227</td>\n",
       "      <td>,us6000kcpy,</td>\n",
       "      <td>35.0</td>\n",
       "      <td>0.989</td>\n",
       "      <td>0.71</td>\n",
       "      <td>38.0</td>\n",
       "      <td>[-107.5538, 35.3639, 14.93]</td>\n",
       "      <td>New Mexico</td>\n",
       "      <td>-107.5538</td>\n",
       "      <td>35.3639</td>\n",
       "      <td>14.93</td>\n",
       "    </tr>\n",
       "  </tbody>\n",
       "</table>\n",
       "</div>"
      ],
      "text/plain": [
       "           id  properties.mag       properties.place         properties.time  \\\n",
       "0  us6000kcpy             3.8  8 km ENE of San Mateo 2023-05-18 01:04:18.365   \n",
       "\n",
       "       properties.updated  properties.felt  properties.cdi  properties.mmi  \\\n",
       "0 2023-05-18 05:29:44.364             11.0             4.1           3.573   \n",
       "\n",
       "   properties.tsunami  properties.sig properties.ids  properties.nst  \\\n",
       "0                   0             227   ,us6000kcpy,            35.0   \n",
       "\n",
       "   properties.dmin  properties.rms  properties.gap  \\\n",
       "0            0.989            0.71            38.0   \n",
       "\n",
       "          geometry.coordinates      estado   Longitud   Latitud Profundidad  \n",
       "0  [-107.5538, 35.3639, 14.93]  New Mexico  -107.5538   35.3639       14.93  "
      ]
     },
     "execution_count": 20,
     "metadata": {},
     "output_type": "execute_result"
    }
   ],
   "source": [
    "df_sismo.head(1)"
   ]
  },
  {
   "cell_type": "code",
   "execution_count": 21,
   "metadata": {},
   "outputs": [],
   "source": [
    "df_sismo.drop(\"geometry.coordinates\", axis=1, inplace=True) "
   ]
  },
  {
   "cell_type": "code",
   "execution_count": 22,
   "metadata": {},
   "outputs": [
    {
     "data": {
      "text/plain": [
       "Index(['id', 'properties.mag', 'properties.place', 'properties.time',\n",
       "       'properties.updated', 'properties.felt', 'properties.cdi',\n",
       "       'properties.mmi', 'properties.tsunami', 'properties.sig',\n",
       "       'properties.ids', 'properties.nst', 'properties.dmin', 'properties.rms',\n",
       "       'properties.gap', 'estado', 'Longitud', 'Latitud', 'Profundidad'],\n",
       "      dtype='object')"
      ]
     },
     "execution_count": 22,
     "metadata": {},
     "output_type": "execute_result"
    }
   ],
   "source": [
    "df_sismo.columns"
   ]
  },
  {
   "attachments": {},
   "cell_type": "markdown",
   "metadata": {},
   "source": [
    "properties.sig : un número que describe la importancia del evento. Los números más grandes indican un evento más significativo. Este valor se determina en función de una serie de factores, que incluyen: magnitud, MMI máximo, informes de sensación e impacto estimado."
   ]
  },
  {
   "attachments": {},
   "cell_type": "markdown",
   "metadata": {},
   "source": [
    "properties.dmin Distancia horizontal desde el epicentro hasta la estación más cercana (en grados). 1 grado son aproximadamente 111,2 kilómetros. En general, cuanto menor sea este número, más confiable es la profundidad calculada del terremoto."
   ]
  },
  {
   "attachments": {},
   "cell_type": "markdown",
   "metadata": {},
   "source": [
    "\tproperties.gap: La brecha azimutal más grande entre estaciones azimutalmente adyacentes (en grados). En general, cuanto más pequeño es este número, más confiable es la posición horizontal calculada del terremoto. Las ubicaciones de terremotos en las que la brecha azimutal supera los 180 grados suelen tener grandes incertidumbres de ubicación y profundidad."
   ]
  },
  {
   "cell_type": "code",
   "execution_count": 23,
   "metadata": {},
   "outputs": [
    {
     "data": {
      "text/html": [
       "<div>\n",
       "<style scoped>\n",
       "    .dataframe tbody tr th:only-of-type {\n",
       "        vertical-align: middle;\n",
       "    }\n",
       "\n",
       "    .dataframe tbody tr th {\n",
       "        vertical-align: top;\n",
       "    }\n",
       "\n",
       "    .dataframe thead th {\n",
       "        text-align: right;\n",
       "    }\n",
       "</style>\n",
       "<table border=\"1\" class=\"dataframe\">\n",
       "  <thead>\n",
       "    <tr style=\"text-align: right;\">\n",
       "      <th></th>\n",
       "      <th>id</th>\n",
       "      <th>Magnitud</th>\n",
       "      <th>Place</th>\n",
       "      <th>Primer Registro</th>\n",
       "      <th>Ultimo registro</th>\n",
       "      <th>Felt</th>\n",
       "      <th>cdi</th>\n",
       "      <th>mmi</th>\n",
       "      <th>Posibilidad tsunami</th>\n",
       "      <th>Importancia del evento</th>\n",
       "      <th>ids</th>\n",
       "      <th>nst</th>\n",
       "      <th>Dist Horizontal epicentro</th>\n",
       "      <th>RMS</th>\n",
       "      <th>Brecha azimutal</th>\n",
       "      <th>estado</th>\n",
       "      <th>Longitud</th>\n",
       "      <th>Latitud</th>\n",
       "      <th>Profundidad</th>\n",
       "    </tr>\n",
       "  </thead>\n",
       "  <tbody>\n",
       "    <tr>\n",
       "      <th>0</th>\n",
       "      <td>us6000kcpy</td>\n",
       "      <td>3.8</td>\n",
       "      <td>8 km ENE of San Mateo</td>\n",
       "      <td>2023-05-18 01:04:18.365</td>\n",
       "      <td>2023-05-18 05:29:44.364</td>\n",
       "      <td>11.0</td>\n",
       "      <td>4.1</td>\n",
       "      <td>3.573</td>\n",
       "      <td>0</td>\n",
       "      <td>227</td>\n",
       "      <td>,us6000kcpy,</td>\n",
       "      <td>35.0</td>\n",
       "      <td>0.989</td>\n",
       "      <td>0.71</td>\n",
       "      <td>38.0</td>\n",
       "      <td>New Mexico</td>\n",
       "      <td>-107.5538</td>\n",
       "      <td>35.3639</td>\n",
       "      <td>14.93</td>\n",
       "    </tr>\n",
       "  </tbody>\n",
       "</table>\n",
       "</div>"
      ],
      "text/plain": [
       "           id  Magnitud                  Place         Primer Registro  \\\n",
       "0  us6000kcpy       3.8  8 km ENE of San Mateo 2023-05-18 01:04:18.365   \n",
       "\n",
       "          Ultimo registro  Felt  cdi    mmi  Posibilidad tsunami  \\\n",
       "0 2023-05-18 05:29:44.364  11.0  4.1  3.573                    0   \n",
       "\n",
       "   Importancia del evento           ids   nst  Dist Horizontal epicentro  \\\n",
       "0                     227  ,us6000kcpy,  35.0                      0.989   \n",
       "\n",
       "    RMS  Brecha azimutal      estado   Longitud   Latitud Profundidad  \n",
       "0  0.71             38.0  New Mexico  -107.5538   35.3639       14.93  "
      ]
     },
     "execution_count": 23,
     "metadata": {},
     "output_type": "execute_result"
    }
   ],
   "source": [
    "df_sismo = df_sismo.rename(columns={\"properties.mag\": \"Magnitud\",\n",
    "                                    'properties.place': \"Place\",\n",
    "                                    'properties.felt': \"Felt\",\n",
    "                                    \"properties.time\": \"Primer Registro\",\n",
    "                                    'properties.rms':\"RMS\",\n",
    "                                    \"properties.updated\": \"Ultimo registro\",\n",
    "                                    \"properties.tsunami\": \"Posibilidad tsunami\",\n",
    "                                    \"properties.sig\": \"Importancia del evento\",\n",
    "                                    \"properties.dmin\": \"Dist Horizontal epicentro\",\n",
    "                                    \"properties.gap\": \"Brecha azimutal\",\n",
    "                                    'properties.type': \"Tipo\",\n",
    "                                    'geometry.type': \"Tipo_geometria\",\n",
    "                                    'properties.cdi': 'cdi',  \n",
    "                                    'properties.mmi': 'mmi',  \n",
    "                                    'properties.net': 'net',  \n",
    "                                    'properties.code': 'code',\n",
    "                                    'properties.ids': 'ids',   \n",
    "                                    'properties.nst': 'nst',\n",
    "                                    'properties.alert': 'alert'})\n",
    "df_sismo.head(1)"
   ]
  },
  {
   "cell_type": "code",
   "execution_count": 24,
   "metadata": {},
   "outputs": [
    {
     "data": {
      "text/plain": [
       "array(['New Mexico', 'Colorado', 'CA', 'Oklahoma', 'Texas', 'Mexico',\n",
       "       'Arizona', 'Kansas', 'Montana', 'Idaho', 'Nevada', nan,\n",
       "       'Washington', None, 'Tennessee', 'B.C.', 'Wyoming', 'Canada',\n",
       "       'New Hampshire', 'New York', 'California', 'Utah', 'Ohio',\n",
       "       'Nebraska', 'Oregon', 'Missouri', 'Virginia', 'Maine', 'Kentucky',\n",
       "       'Arkansas', 'Minnesota', 'Mississippi', 'North Carolina', 'Quebec',\n",
       "       'Louisiana', 'South Carolina', 'Georgia', 'Alabama',\n",
       "       'South Dakota', 'Illinois', 'NV', 'United States', 'Florida',\n",
       "       'Iowa', 'MT', 'Maryland', 'NM', 'Michigan', 'ID', 'UT', 'OK', 'TN',\n",
       "       'Massachusetts', 'TX', 'Pennsylvania', 'New Jersey',\n",
       "       'NV Earthquake', 'KS', 'West Virginia', 'WA', 'WY', 'MO',\n",
       "       'Delaware', 'Indiana'], dtype=object)"
      ]
     },
     "execution_count": 24,
     "metadata": {},
     "output_type": "execute_result"
    }
   ],
   "source": [
    "df_sismo['estado'].unique()"
   ]
  },
  {
   "attachments": {},
   "cell_type": "markdown",
   "metadata": {},
   "source": [
    "## Normalizacion de la columna estado"
   ]
  },
  {
   "cell_type": "code",
   "execution_count": 25,
   "metadata": {},
   "outputs": [],
   "source": [
    "df_sismo['estado'] = df_sismo['estado'].replace({'United States': \"Sin Dato\",\n",
    "                                                 'Sandywoods Township': \"Sin Dato\",\n",
    "                                                 \"CA\":\"California\",\n",
    "                                                 \"WA\": \"Washington\",\n",
    "                                                 \"WY\": \"Wyoming\",\n",
    "                                                 \"UT\": \"Utah\",\n",
    "                                                 \"TN\": \"Tennessee\",\n",
    "                                                 \"TX\": \"Texas\",\n",
    "                                                 \"ID\": \"Idaho\",\n",
    "                                                 \"KS\": \"Kansas\",\n",
    "                                                 \"MO\": \"Misuri\",\n",
    "                                                 \"MT\": \"Montana\",\n",
    "                                                 \"NM\": \"Nuevo Mexico\",\n",
    "                                                 \"Mexico\": \"New Mexico\",\n",
    "                                                 \"NV\": \"Nevada\",\n",
    "                                                 \"NV Earthquake\":\"Nevada\",\n",
    "                                                 \"OK\": \"Oklahoma\",\n",
    "                                                 'MN': \"Minnesota\",\n",
    "                                                 'CO': 'Colorado',\n",
    "                                                 'AZ': 'Arizona',\n",
    "                                                 'OR': 'Oregon',\n",
    "                                                 'Son.': 'Sonora',\n",
    "                                                 'CA Earthquake': 'California',\n",
    "                                                 'California Earthquake': \"California\",\n",
    "                                                 'NE':\"Nebraska\"})"
   ]
  },
  {
   "cell_type": "code",
   "execution_count": 26,
   "metadata": {},
   "outputs": [
    {
     "data": {
      "text/plain": [
       "array(['New Mexico', 'Colorado', 'California', 'Oklahoma', 'Texas',\n",
       "       'Arizona', 'Kansas', 'Montana', 'Idaho', 'Nevada', nan,\n",
       "       'Washington', None, 'Tennessee', 'B.C.', 'Wyoming', 'Canada',\n",
       "       'New Hampshire', 'New York', 'Utah', 'Ohio', 'Nebraska', 'Oregon',\n",
       "       'Missouri', 'Virginia', 'Maine', 'Kentucky', 'Arkansas',\n",
       "       'Minnesota', 'Mississippi', 'North Carolina', 'Quebec',\n",
       "       'Louisiana', 'South Carolina', 'Georgia', 'Alabama',\n",
       "       'South Dakota', 'Illinois', 'Sin Dato', 'Florida', 'Iowa',\n",
       "       'Maryland', 'Nuevo Mexico', 'Michigan', 'Massachusetts',\n",
       "       'Pennsylvania', 'New Jersey', 'West Virginia', 'Misuri',\n",
       "       'Delaware', 'Indiana'], dtype=object)"
      ]
     },
     "execution_count": 26,
     "metadata": {},
     "output_type": "execute_result"
    }
   ],
   "source": [
    "df_sismo['estado'].unique()"
   ]
  },
  {
   "cell_type": "code",
   "execution_count": 27,
   "metadata": {},
   "outputs": [
    {
     "data": {
      "text/plain": [
       "id                               0\n",
       "Magnitud                         0\n",
       "Place                           47\n",
       "Primer Registro                  0\n",
       "Ultimo registro                  0\n",
       "Felt                         10128\n",
       "cdi                          10128\n",
       "mmi                          17240\n",
       "Posibilidad tsunami              0\n",
       "Importancia del evento           0\n",
       "ids                              0\n",
       "nst                           5555\n",
       "Dist Horizontal epicentro      891\n",
       "RMS                              2\n",
       "Brecha azimutal                 18\n",
       "estado                         384\n",
       "Longitud                         0\n",
       "Latitud                          0\n",
       "Profundidad                      0\n",
       "dtype: int64"
      ]
     },
     "execution_count": 27,
     "metadata": {},
     "output_type": "execute_result"
    }
   ],
   "source": [
    "df_sismo.isnull().sum()"
   ]
  },
  {
   "cell_type": "code",
   "execution_count": 28,
   "metadata": {},
   "outputs": [
    {
     "name": "stdout",
     "output_type": "stream",
     "text": [
      "<class 'pandas.core.frame.DataFrame'>\n",
      "RangeIndex: 20000 entries, 0 to 19999\n",
      "Data columns (total 19 columns):\n",
      " #   Column                     Non-Null Count  Dtype         \n",
      "---  ------                     --------------  -----         \n",
      " 0   id                         20000 non-null  object        \n",
      " 1   Magnitud                   20000 non-null  float64       \n",
      " 2   Place                      19953 non-null  object        \n",
      " 3   Primer Registro            20000 non-null  datetime64[ns]\n",
      " 4   Ultimo registro            20000 non-null  datetime64[ns]\n",
      " 5   Felt                       9872 non-null   float64       \n",
      " 6   cdi                        9872 non-null   float64       \n",
      " 7   mmi                        2760 non-null   float64       \n",
      " 8   Posibilidad tsunami        20000 non-null  int64         \n",
      " 9   Importancia del evento     20000 non-null  int64         \n",
      " 10  ids                        20000 non-null  object        \n",
      " 11  nst                        14445 non-null  float64       \n",
      " 12  Dist Horizontal epicentro  19109 non-null  float64       \n",
      " 13  RMS                        19998 non-null  float64       \n",
      " 14  Brecha azimutal            19982 non-null  float64       \n",
      " 15  estado                     19616 non-null  object        \n",
      " 16  Longitud                   20000 non-null  object        \n",
      " 17  Latitud                    20000 non-null  object        \n",
      " 18  Profundidad                20000 non-null  object        \n",
      "dtypes: datetime64[ns](2), float64(8), int64(2), object(7)\n",
      "memory usage: 2.9+ MB\n"
     ]
    }
   ],
   "source": [
    "df_sismo.info()"
   ]
  },
  {
   "attachments": {},
   "cell_type": "markdown",
   "metadata": {},
   "source": [
    "Cambio el tipo de dato de Latitud y Longitud a float para poder utilizarlo en el mapa."
   ]
  },
  {
   "cell_type": "code",
   "execution_count": 29,
   "metadata": {},
   "outputs": [],
   "source": [
    "df_sismo[\"Longitud\"] = df_sismo[\"Longitud\"].astype(float) \n",
    "df_sismo[\"Latitud\"] = df_sismo[\"Latitud\"].astype(float) \n",
    "df_sismo[\"Profundidad\"] = df_sismo[\"Profundidad\"].astype(float)"
   ]
  },
  {
   "attachments": {},
   "cell_type": "markdown",
   "metadata": {},
   "source": [
    "DATOS UTILIZADOS"
   ]
  },
  {
   "attachments": {},
   "cell_type": "markdown",
   "metadata": {},
   "source": [
    "Alert\n",
    "  - Tipo de datos: Cadena\n",
    "  - Valores típicos: “verde”, “amarillo”, “naranja”, “rojo”.\n",
    "  - Descripción: El nivel de alerta de la escala de impacto de terremotos de PAGER.  \n"
   ]
  },
  {
   "attachments": {},
   "cell_type": "markdown",
   "metadata": {},
   "source": [
    "**cdi**\n",
    "  - Tipo de datos: decimal\n",
    "  - Descripción: La máxima intensidad reportada para el evento. Calculado por DYFI. S \n",
    "i bien generalmente se informa como un número romano, para los fines de esta API, se espera que la intensidad  \n",
    "sea el equivalente decimal del número romano. Obtenga más información sobre la magnitud frente a la intensidad. \n",
    " "
   ]
  },
  {
   "attachments": {},
   "cell_type": "markdown",
   "metadata": {},
   "source": [
    "Depth \n",
    "- Tipo de datos: decimal \n",
    "- Profundidad del evento en kilómetros."
   ]
  },
  {
   "attachments": {},
   "cell_type": "markdown",
   "metadata": {},
   "source": [
    "DepthError\n",
    "  - Tipo de datos: decimal\n",
    "  - Valores típicos: [0, 100]- Descripción: Incertidumbre de la profundidad reportada del evento en kilómetros.\n",
    "  - Información adicional: El error de profundidad, en km, definido como la mayor proyección de los tres errores principales en una línea vertical. \n"
   ]
  },
  {
   "attachments": {},
   "cell_type": "markdown",
   "metadata": {},
   "source": [
    "Dmin \n",
    "  - Tipo de datos: decimal\n",
    "  - Descripción :Distancia horizontal desde el epicentro hasta la estación más cercana (en grados). 1 grado son aproximadamente 111,2 kilómetros.  \n",
    "En general, cuanto menor sea este número, más confiable es la profundidad calculada del terremoto."
   ]
  },
  {
   "attachments": {},
   "cell_type": "markdown",
   "metadata": {},
   "source": [
    "Gap\n",
    "  - Tipo de datos: decimal\n",
    "  - Descripción: La mayor brecha azimutal entre estaciones azimutalmente adyacentes (en grados). En general, cuanto más pequeño es este número, más confiable es la posición horizontal calculada del terremoto. Las ubicaciones de terremotos en las que la brecha azimutal supera los 180 grados suelen tener grandes incertidumbres de ubicación y profundidad."
   ]
  },
  {
   "attachments": {},
   "cell_type": "markdown",
   "metadata": {},
   "source": [
    "HorizontalError\n",
    "  - Tipo de datos: decimal\n",
    "  - Descripción: Incertidumbre de la ubicación reportada del evento en kilómetros.\n",
    "  - Información adicional: El error de ubicación horizontal, en km, definido como la longitud de la mayor proyección de los tres errores principales en un plano horizontal.  \n",
    "Los errores principales son los ejes principales del elipsoide de error y son mutuamente perpendiculares.  \n",
    "Las incertidumbres horizontales y verticales en la ubicación de un evento varían desde aproximadamente 100 m en horizontal y 300 metros en vertical para los eventos mejor ubicados, aquellos en medio de redes de sismógrafos densamente espaciadas, hasta decenas de kilómetros para eventos globales en muchas partes del mundo.  \n",
    "Informamos un valor \"desconocido\" si la red sísmica contribuyente no proporciona estimaciones de incertidumbre. "
   ]
  },
  {
   "attachments": {},
   "cell_type": "markdown",
   "metadata": {},
   "source": [
    "Latitud\n",
    "  - Tipo de datos: decimal\n",
    "  - Descripción :Grados decimales de latitud. Valores negativos para latitudes del sur.\n",
    "  - Información adicional: Un terremoto comienza a romperse en un hipocentro que está definido por una posición en la superficie de la tierra (epicentro) y una profundidad por debajo de este punto (profundidad focal). Proporcionamos las coordenadas del epicentro en unidades de latitud y longitud. La latitud es el número de grados al norte (N) o al sur (S) del ecuador y varía de 0 en el ecuador a 90 en los polos.\n"
   ]
  },
  {
   "attachments": {},
   "cell_type": "markdown",
   "metadata": {},
   "source": [
    "LocationSource \n",
    "  - Tipo de datos: Cadena\n",
    "  - Descripción: la red que originalmente creó la ubicación informada de este evento."
   ]
  },
  {
   "attachments": {},
   "cell_type": "markdown",
   "metadata": {},
   "source": [
    "Longitud\n",
    "  - Tipo de datos: decimal\n",
    "  - Descripción :Grados decimales de longitud. Valores negativos para longitudes occidentales.\n",
    "  - Información adicional: La longitud varía de 0 en Greenwich a 180 y el E o W muestra la dirección desde Greenwich. Las coordenadas se dan en el marco de referencia WGS84. La incertidumbre de la posición del hipocentro varía desde aproximadamente 100 m en horizontal y 300 metros en vertical para los eventos mejor ubicados, aquellos en medio de redes de sismógrafos densamente espaciadas, hasta decenas de kilómetros para eventos globales en muchas partes del mundo. \n"
   ]
  },
  {
   "attachments": {},
   "cell_type": "markdown",
   "metadata": {},
   "source": [
    "mag \n",
    " \n",
    "- Información adicional: La magnitud reportada es la que el Servicio Geológico de los EE. UU. considera oficial para este terremoto, y fue la mejor estimación disponible del tamaño del terremoto, en el momento en que se creó esta página."
   ]
  },
  {
   "attachments": {},
   "cell_type": "markdown",
   "metadata": {},
   "source": [
    "Mag Error\n",
    "  - Tipo de datos: decimal\n",
    "  - Descripción: Incertidumbre de la magnitud reportada del evento. El error estándar estimado de la magnitud. La incertidumbre corresponde al tipo de magnitud específica que se informa y no tiene en cuenta las variaciones de magnitud y los sesgos entre diferentes escalas de magnitud. Informamos un valor \"desconocido\" si la red sísmica contribuyente no proporciona estimaciones de incertidumbre.  \n",
    "  "
   ]
  },
  {
   "attachments": {},
   "cell_type": "markdown",
   "metadata": {},
   "source": [
    "magNST\n",
    "  - Tipo de datos: entero\n",
    "  - - Descripción: El número total de estaciones sísmicas utilizadas para calcular la magnitud de este terremoto."
   ]
  },
  {
   "attachments": {},
   "cell_type": "markdown",
   "metadata": {},
   "source": [
    "mmi\n",
    "  - Tipo de datos: decimal\n",
    "  - Descripción: La intensidad instrumental máxima estimada para el evento. Calculado por ShakeMap. Si bien generalmente se informa como un número romano, para los fines de esta API, se espera que la intensidad sea el equivalente decimal del número romano. Obtenga más información sobre la magnitud frente a la intensidad.\n"
   ]
  },
  {
   "attachments": {},
   "cell_type": "markdown",
   "metadata": {},
   "source": [
    "Nph\n",
    "  - Número de fases utilizadas: Cadena\n",
    "  - Descripción: número de observaciones de tiempo de llegada P y S utilizadas para calcular la ubicación del hipocentro. Un mayor número de observaciones de tiempo de llegada generalmente da como resultado mejores ubicaciones de terremotos."
   ]
  },
  {
   "attachments": {},
   "cell_type": "markdown",
   "metadata": {},
   "source": [
    "Nst\n",
    "  - Tipo de datos: entero\n",
    "  - Descripción: El número total de estaciones sísmicas utilizadas para determinar la ubicación del terremoto.\n",
    "  - Información Adicional: Número de estaciones sísmicas que reportaron tiempos de llegada P y S para este sismo. Este número: puede ser mayor que el Número de fases utilizadas si se rechazan los tiempos de llegada porque la distancia a una estación sísmica excede la distancia máxima permitida o porque la observación del tiempo de llegada es inconsistente con la solución."
   ]
  },
  {
   "attachments": {},
   "cell_type": "markdown",
   "metadata": {},
   "source": [
    "Place\n",
    "  - Tipo de datos: Cadena\n",
    "  - - Descripción: Descripción textual de la región geográfica nombrada cercana al evento. Puede ser el nombre de una ciudad o el nombre de una región"
   ]
  },
  {
   "attachments": {},
   "cell_type": "markdown",
   "metadata": {},
   "source": [
    "Rms \n",
    "  - Tipo de datos: decimal\n",
    "  - Descripción: El residual de tiempo de viaje de la raíz cuadrada media (RMS), en segundos, usando todos los pesos. Este parámetro proporciona una medida del ajuste de los tiempos de llegada observados a los tiempos de llegada previstos para esta ubicación. Los números más pequeños reflejan un mejor ajuste de los datos. El valor depende de la precisión del modelo de velocidad utilizado para calcular la ubicación del terremoto, los pesos de calidad asignados a los datos de tiempo de llegada y el procedimiento utilizado para localizar el terremoto. "
   ]
  },
  {
   "attachments": {},
   "cell_type": "markdown",
   "metadata": {},
   "source": [
    "Sig (para discutir)\n",
    "  - Tipo de datos: entero\n",
    "  - Descripción: Un número que describe cuán significativo es el evento. Los números más grandes indican un evento más significativo. Este valor se determina en función de una serie de factores, que incluyen: magnitud, MMI máximo, informes de sensación e impacto estimado."
   ]
  },
  {
   "attachments": {},
   "cell_type": "markdown",
   "metadata": {},
   "source": [
    "time\n",
    "  - Tipo de datos: entero largo\n",
    "  - Información: Indicamos la fecha y hora en que el sismo inicia la ruptura, lo que se conoce como hora \"origen\". Tenga en cuenta que los grandes terremotos pueden continuar rompiéndose durante muchas decenas de segundos. Proporcionamos la hora en UTC (Tiempo Universal Coordinado). Los sismólogos usan UTC para evitar la confusión causada por las zonas horarias locales y el horario de verano. En las páginas de eventos individuales, también se proporcionan los tiempos en el epicentro y su hora local en función de la hora configurada en su computadora.\n"
   ]
  },
  {
   "attachments": {},
   "cell_type": "markdown",
   "metadata": {},
   "source": [
    "tsunami\n",
    "  - Tipo de datos: entero\n",
    "  - Descripción: esta bandera se establece en \"1\" para grandes eventos en regiones oceánicas y \"0\" en caso contrario. La existencia o el valor de esta bandera no indica si realmente existió o existirá un tsunami.\n"
   ]
  },
  {
   "attachments": {},
   "cell_type": "markdown",
   "metadata": {},
   "source": [
    "Tipy(para discutir)\n",
    "  - Tipo de datos: Cadena\n",
    "  - Descripción :Tipo de evento sísmico."
   ]
  },
  {
   "attachments": {},
   "cell_type": "markdown",
   "metadata": {},
   "source": [
    "Tz\n",
    "  - Tipo de datos: entero\n",
    "  - Descripción: Desplazamiento de zona horaria desde UTC en minutos en el epicentro del evento."
   ]
  },
  {
   "attachments": {},
   "cell_type": "markdown",
   "metadata": {},
   "source": [
    "Updated\n",
    "  - Tipo de datos: entero largo\n",
    "  - Descripción: hora en que se actualizó el evento por última vez. Los tiempos se informan en milisegundos desde la época"
   ]
  },
  {
   "attachments": {},
   "cell_type": "markdown",
   "metadata": {},
   "source": [
    "Status\n",
    "  - Tipo de datos: Cadena\n",
    "  - Descripción: Indica si el evento ha sido revisado por un humano."
   ]
  },
  {
   "attachments": {},
   "cell_type": "markdown",
   "metadata": {},
   "source": [
    "idss\n",
    "  - Tipo de datos: Cadena\n",
    "  - Descripción: una lista separada por comas de ID de eventos que están asociados a un evento.\n"
   ]
  },
  {
   "cell_type": "code",
   "execution_count": 32,
   "metadata": {},
   "outputs": [
    {
     "name": "stdout",
     "output_type": "stream",
     "text": [
      "<class 'pandas.core.frame.DataFrame'>\n",
      "RangeIndex: 20000 entries, 0 to 19999\n",
      "Data columns (total 19 columns):\n",
      " #   Column                     Non-Null Count  Dtype         \n",
      "---  ------                     --------------  -----         \n",
      " 0   id                         20000 non-null  object        \n",
      " 1   Magnitud                   20000 non-null  float64       \n",
      " 2   Place                      19953 non-null  object        \n",
      " 3   Primer Registro            20000 non-null  datetime64[ns]\n",
      " 4   Ultimo registro            20000 non-null  datetime64[ns]\n",
      " 5   Felt                       9872 non-null   float64       \n",
      " 6   cdi                        9872 non-null   float64       \n",
      " 7   mmi                        2760 non-null   float64       \n",
      " 8   Posibilidad tsunami        20000 non-null  int64         \n",
      " 9   Importancia del evento     20000 non-null  int64         \n",
      " 10  ids                        20000 non-null  object        \n",
      " 11  nst                        14445 non-null  float64       \n",
      " 12  Dist Horizontal epicentro  19109 non-null  float64       \n",
      " 13  RMS                        19998 non-null  float64       \n",
      " 14  Brecha azimutal            19982 non-null  float64       \n",
      " 15  estado                     19616 non-null  object        \n",
      " 16  Longitud                   20000 non-null  float64       \n",
      " 17  Latitud                    20000 non-null  float64       \n",
      " 18  Profundidad                20000 non-null  float64       \n",
      "dtypes: datetime64[ns](2), float64(11), int64(2), object(4)\n",
      "memory usage: 2.9+ MB\n"
     ]
    }
   ],
   "source": [
    "df_sismo.info()"
   ]
  },
  {
   "cell_type": "code",
   "execution_count": 33,
   "metadata": {},
   "outputs": [
    {
     "data": {
      "text/plain": [
       "id                               0\n",
       "Magnitud                         0\n",
       "Place                           47\n",
       "Primer Registro                  0\n",
       "Ultimo registro                  0\n",
       "Felt                         10128\n",
       "cdi                          10128\n",
       "mmi                          17240\n",
       "Posibilidad tsunami              0\n",
       "Importancia del evento           0\n",
       "ids                              0\n",
       "nst                           5555\n",
       "Dist Horizontal epicentro      891\n",
       "RMS                              2\n",
       "Brecha azimutal                 18\n",
       "estado                         384\n",
       "Longitud                         0\n",
       "Latitud                          0\n",
       "Profundidad                      0\n",
       "dtype: int64"
      ]
     },
     "execution_count": 33,
     "metadata": {},
     "output_type": "execute_result"
    }
   ],
   "source": [
    "df_sismo.isnull().sum()"
   ]
  },
  {
   "cell_type": "code",
   "execution_count": 113,
   "metadata": {},
   "outputs": [],
   "source": [
    "#folder_path = \"../DASHBOARD/CSV_TRANSFORMADOS\"\n",
    "#file_name = \"Datos_USA.csv\"\n",
    "#file_path = os.path.join(folder_path, file_name)\n",
    "#\n",
    "#df_sismo.to_csv(file_path, index=False)"
   ]
  }
 ],
 "metadata": {
  "kernelspec": {
   "display_name": "Python 3",
   "language": "python",
   "name": "python3"
  },
  "language_info": {
   "codemirror_mode": {
    "name": "ipython",
    "version": 3
   },
   "file_extension": ".py",
   "mimetype": "text/x-python",
   "name": "python",
   "nbconvert_exporter": "python",
   "pygments_lexer": "ipython3",
   "version": "3.11.0"
  },
  "orig_nbformat": 4
 },
 "nbformat": 4,
 "nbformat_minor": 2
}
