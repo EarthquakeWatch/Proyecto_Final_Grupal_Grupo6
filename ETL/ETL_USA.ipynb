{
 "cells": [
  {
   "attachments": {},
   "cell_type": "markdown",
   "metadata": {},
   "source": [
    "# Librerias"
   ]
  },
  {
   "cell_type": "code",
   "execution_count": 1,
   "metadata": {},
   "outputs": [],
   "source": [
    "import pandas as pd\n",
    "import requests\n",
    "import json \n",
    "import folium \n",
    "import os\n",
    "from datetime import datetime, timedelta"
   ]
  },
  {
   "attachments": {},
   "cell_type": "markdown",
   "metadata": {},
   "source": [
    "# USGS\n",
    "## API Documentation - Earthquake Catalog\n",
    "### URL\n",
    "# Geophysics Institutions Throughout the World\n",
    "- https://www.usgs.gov/programs/earthquake-hazards/science/geophysics-institutions-throughout-world\n",
    "- https://earthquake.usgs.gov/fdsnws/event/1/[METHOD[?PARAMETERS]]\n",
    " - metodo: query\n",
    " - Parámetros:\n",
    "   - Ubicación: Las peticiones que utilicen tanto rectángulo como círculo devolverán la intersección, que puede estar vacía, utilízala con precaución.\n",
    "      * Conterminous U.S. [24.6, 50] Latitude. [-125, -65] Longitude.\n",
    "\n",
    "https://earthquake.usgs.gov/fdsnws/event/1/query?format=geojson&starttime=1995-05-04&minlatitude=24.6&maxlatitude=50&minlongitude=-125&maxlongitude=-65&limit=19999"
   ]
  },
  {
   "cell_type": "code",
   "execution_count": 2,
   "metadata": {},
   "outputs": [],
   "source": [
    "def sismo(url):\n",
    "    # Establecer el tiempo de inicio desde hoy menos 20000 eventos\n",
    "    endtime = datetime.today().strftime('%Y-%m-%dT%H:%M:%S')\n",
    "    starttime = (datetime.today() - timedelta(days=20000)).strftime('%Y-%m-%dT%H:%M:%S')\n",
    "\n",
    "    # Establecer los demás parámetros de solicitud\n",
    "    params = {\"format\": \"geojson\", \"starttime\": starttime, \"endtime\": endtime, \"minmagnitude\": 2.5,\n",
    "            \"minlatitude\": 24.6, \"maxlatitude\": 50, \"minlongitude\": -125, \"maxlongitude\": -65, \"limit\": 20000}    \n",
    "    data = requests.get(url, params = params)\n",
    "    data = json.loads(data.text)\n",
    "    return data\n",
    "\n",
    "url = r\"https://earthquake.usgs.gov/fdsnws/event/1/query?\"\n",
    "dic_sismo = sismo(url)\n",
    "count=0\n",
    "for i in (dic_sismo[\"features\"]):\n",
    "    if i[\"properties\"]['cdi']:\n",
    "        count += 1\n",
    "# Convertir los datos a un dataframe\n",
    "df_sismo = pd.json_normalize(dic_sismo['features'])"
   ]
  },
  {
   "cell_type": "code",
   "execution_count": 3,
   "metadata": {},
   "outputs": [],
   "source": [
    "#folder_path = \"../DASHBOARD/CSV_ORIGINAL/\"\n",
    "#file_name = \"raw_USA.csv\"\n",
    "#file_path = os.path.join(folder_path, file_name)\n",
    "#\n",
    "#df_sismo.to_csv(file_path, index=False)"
   ]
  },
  {
   "cell_type": "code",
   "execution_count": 4,
   "metadata": {},
   "outputs": [
    {
     "data": {
      "text/html": [
       "<div>\n",
       "<style scoped>\n",
       "    .dataframe tbody tr th:only-of-type {\n",
       "        vertical-align: middle;\n",
       "    }\n",
       "\n",
       "    .dataframe tbody tr th {\n",
       "        vertical-align: top;\n",
       "    }\n",
       "\n",
       "    .dataframe thead th {\n",
       "        text-align: right;\n",
       "    }\n",
       "</style>\n",
       "<table border=\"1\" class=\"dataframe\">\n",
       "  <thead>\n",
       "    <tr style=\"text-align: right;\">\n",
       "      <th></th>\n",
       "      <th>type</th>\n",
       "      <th>id</th>\n",
       "      <th>properties.mag</th>\n",
       "      <th>properties.place</th>\n",
       "      <th>properties.time</th>\n",
       "      <th>properties.updated</th>\n",
       "      <th>properties.tz</th>\n",
       "      <th>properties.url</th>\n",
       "      <th>properties.detail</th>\n",
       "      <th>properties.felt</th>\n",
       "      <th>...</th>\n",
       "      <th>properties.types</th>\n",
       "      <th>properties.nst</th>\n",
       "      <th>properties.dmin</th>\n",
       "      <th>properties.rms</th>\n",
       "      <th>properties.gap</th>\n",
       "      <th>properties.magType</th>\n",
       "      <th>properties.type</th>\n",
       "      <th>properties.title</th>\n",
       "      <th>geometry.type</th>\n",
       "      <th>geometry.coordinates</th>\n",
       "    </tr>\n",
       "  </thead>\n",
       "  <tbody>\n",
       "    <tr>\n",
       "      <th>0</th>\n",
       "      <td>Feature</td>\n",
       "      <td>us6000kcxl</td>\n",
       "      <td>2.50</td>\n",
       "      <td>12 km SE of Lincolnville, Kansas</td>\n",
       "      <td>1684438229827</td>\n",
       "      <td>1684466842499</td>\n",
       "      <td>NaN</td>\n",
       "      <td>https://earthquake.usgs.gov/earthquakes/eventp...</td>\n",
       "      <td>https://earthquake.usgs.gov/fdsnws/event/1/que...</td>\n",
       "      <td>2.0</td>\n",
       "      <td>...</td>\n",
       "      <td>,dyfi,origin,phase-data,</td>\n",
       "      <td>37.0</td>\n",
       "      <td>0.724000</td>\n",
       "      <td>0.45</td>\n",
       "      <td>95.0</td>\n",
       "      <td>mb_lg</td>\n",
       "      <td>earthquake</td>\n",
       "      <td>M 2.5 - 12 km SE of Lincolnville, Kansas</td>\n",
       "      <td>Point</td>\n",
       "      <td>[-96.8691, 38.4053, 5]</td>\n",
       "    </tr>\n",
       "    <tr>\n",
       "      <th>1</th>\n",
       "      <td>Feature</td>\n",
       "      <td>nc73889641</td>\n",
       "      <td>3.72</td>\n",
       "      <td>3km NE of Prattville, CA</td>\n",
       "      <td>1684425353710</td>\n",
       "      <td>1684460134151</td>\n",
       "      <td>NaN</td>\n",
       "      <td>https://earthquake.usgs.gov/earthquakes/eventp...</td>\n",
       "      <td>https://earthquake.usgs.gov/fdsnws/event/1/que...</td>\n",
       "      <td>48.0</td>\n",
       "      <td>...</td>\n",
       "      <td>,dyfi,focal-mechanism,moment-tensor,nearby-cit...</td>\n",
       "      <td>47.0</td>\n",
       "      <td>0.023960</td>\n",
       "      <td>0.17</td>\n",
       "      <td>35.0</td>\n",
       "      <td>mw</td>\n",
       "      <td>earthquake</td>\n",
       "      <td>M 3.7 - 3km NE of Prattville, CA</td>\n",
       "      <td>Point</td>\n",
       "      <td>[-121.1346667, 40.2251667, 8.4]</td>\n",
       "    </tr>\n",
       "    <tr>\n",
       "      <th>2</th>\n",
       "      <td>Feature</td>\n",
       "      <td>nc73889591</td>\n",
       "      <td>2.85</td>\n",
       "      <td>2km ENE of Prattville, CA</td>\n",
       "      <td>1684417575740</td>\n",
       "      <td>1684443257491</td>\n",
       "      <td>NaN</td>\n",
       "      <td>https://earthquake.usgs.gov/earthquakes/eventp...</td>\n",
       "      <td>https://earthquake.usgs.gov/fdsnws/event/1/que...</td>\n",
       "      <td>6.0</td>\n",
       "      <td>...</td>\n",
       "      <td>,dyfi,focal-mechanism,nearby-cities,origin,pha...</td>\n",
       "      <td>41.0</td>\n",
       "      <td>0.033800</td>\n",
       "      <td>0.23</td>\n",
       "      <td>35.0</td>\n",
       "      <td>md</td>\n",
       "      <td>earthquake</td>\n",
       "      <td>M 2.9 - 2km ENE of Prattville, CA</td>\n",
       "      <td>Point</td>\n",
       "      <td>[-121.1318333, 40.2155, 7.22]</td>\n",
       "    </tr>\n",
       "    <tr>\n",
       "      <th>3</th>\n",
       "      <td>Feature</td>\n",
       "      <td>tx2023jqyx</td>\n",
       "      <td>2.60</td>\n",
       "      <td>20 km WSW of Coyanosa, Texas</td>\n",
       "      <td>1684398894840</td>\n",
       "      <td>1684428432193</td>\n",
       "      <td>NaN</td>\n",
       "      <td>https://earthquake.usgs.gov/earthquakes/eventp...</td>\n",
       "      <td>https://earthquake.usgs.gov/fdsnws/event/1/que...</td>\n",
       "      <td>NaN</td>\n",
       "      <td>...</td>\n",
       "      <td>,origin,phase-data,</td>\n",
       "      <td>15.0</td>\n",
       "      <td>0.018328</td>\n",
       "      <td>0.20</td>\n",
       "      <td>62.0</td>\n",
       "      <td>ml</td>\n",
       "      <td>earthquake</td>\n",
       "      <td>M 2.6 - 20 km WSW of Coyanosa, Texas</td>\n",
       "      <td>Point</td>\n",
       "      <td>[-103.2609303, 31.1701984, 2.121118164]</td>\n",
       "    </tr>\n",
       "    <tr>\n",
       "      <th>4</th>\n",
       "      <td>Feature</td>\n",
       "      <td>nc73889446</td>\n",
       "      <td>2.57</td>\n",
       "      <td>2km SW of Hollister, CA</td>\n",
       "      <td>1684385013420</td>\n",
       "      <td>1684457230947</td>\n",
       "      <td>NaN</td>\n",
       "      <td>https://earthquake.usgs.gov/earthquakes/eventp...</td>\n",
       "      <td>https://earthquake.usgs.gov/fdsnws/event/1/que...</td>\n",
       "      <td>9.0</td>\n",
       "      <td>...</td>\n",
       "      <td>,dyfi,focal-mechanism,nearby-cities,origin,pha...</td>\n",
       "      <td>74.0</td>\n",
       "      <td>0.017670</td>\n",
       "      <td>0.09</td>\n",
       "      <td>77.0</td>\n",
       "      <td>md</td>\n",
       "      <td>earthquake</td>\n",
       "      <td>M 2.6 - 2km SW of Hollister, CA</td>\n",
       "      <td>Point</td>\n",
       "      <td>[-121.4096667, 36.8341667, 8.66]</td>\n",
       "    </tr>\n",
       "  </tbody>\n",
       "</table>\n",
       "<p>5 rows × 30 columns</p>\n",
       "</div>"
      ],
      "text/plain": [
       "      type          id  properties.mag                  properties.place  \\\n",
       "0  Feature  us6000kcxl            2.50  12 km SE of Lincolnville, Kansas   \n",
       "1  Feature  nc73889641            3.72          3km NE of Prattville, CA   \n",
       "2  Feature  nc73889591            2.85         2km ENE of Prattville, CA   \n",
       "3  Feature  tx2023jqyx            2.60      20 km WSW of Coyanosa, Texas   \n",
       "4  Feature  nc73889446            2.57           2km SW of Hollister, CA   \n",
       "\n",
       "   properties.time  properties.updated  properties.tz  \\\n",
       "0    1684438229827       1684466842499            NaN   \n",
       "1    1684425353710       1684460134151            NaN   \n",
       "2    1684417575740       1684443257491            NaN   \n",
       "3    1684398894840       1684428432193            NaN   \n",
       "4    1684385013420       1684457230947            NaN   \n",
       "\n",
       "                                      properties.url  \\\n",
       "0  https://earthquake.usgs.gov/earthquakes/eventp...   \n",
       "1  https://earthquake.usgs.gov/earthquakes/eventp...   \n",
       "2  https://earthquake.usgs.gov/earthquakes/eventp...   \n",
       "3  https://earthquake.usgs.gov/earthquakes/eventp...   \n",
       "4  https://earthquake.usgs.gov/earthquakes/eventp...   \n",
       "\n",
       "                                   properties.detail  properties.felt  ...  \\\n",
       "0  https://earthquake.usgs.gov/fdsnws/event/1/que...              2.0  ...   \n",
       "1  https://earthquake.usgs.gov/fdsnws/event/1/que...             48.0  ...   \n",
       "2  https://earthquake.usgs.gov/fdsnws/event/1/que...              6.0  ...   \n",
       "3  https://earthquake.usgs.gov/fdsnws/event/1/que...              NaN  ...   \n",
       "4  https://earthquake.usgs.gov/fdsnws/event/1/que...              9.0  ...   \n",
       "\n",
       "                                    properties.types  properties.nst  \\\n",
       "0                           ,dyfi,origin,phase-data,            37.0   \n",
       "1  ,dyfi,focal-mechanism,moment-tensor,nearby-cit...            47.0   \n",
       "2  ,dyfi,focal-mechanism,nearby-cities,origin,pha...            41.0   \n",
       "3                                ,origin,phase-data,            15.0   \n",
       "4  ,dyfi,focal-mechanism,nearby-cities,origin,pha...            74.0   \n",
       "\n",
       "  properties.dmin properties.rms  properties.gap  properties.magType  \\\n",
       "0        0.724000           0.45            95.0               mb_lg   \n",
       "1        0.023960           0.17            35.0                  mw   \n",
       "2        0.033800           0.23            35.0                  md   \n",
       "3        0.018328           0.20            62.0                  ml   \n",
       "4        0.017670           0.09            77.0                  md   \n",
       "\n",
       "  properties.type                          properties.title geometry.type  \\\n",
       "0      earthquake  M 2.5 - 12 km SE of Lincolnville, Kansas         Point   \n",
       "1      earthquake          M 3.7 - 3km NE of Prattville, CA         Point   \n",
       "2      earthquake         M 2.9 - 2km ENE of Prattville, CA         Point   \n",
       "3      earthquake      M 2.6 - 20 km WSW of Coyanosa, Texas         Point   \n",
       "4      earthquake           M 2.6 - 2km SW of Hollister, CA         Point   \n",
       "\n",
       "                      geometry.coordinates  \n",
       "0                   [-96.8691, 38.4053, 5]  \n",
       "1          [-121.1346667, 40.2251667, 8.4]  \n",
       "2            [-121.1318333, 40.2155, 7.22]  \n",
       "3  [-103.2609303, 31.1701984, 2.121118164]  \n",
       "4         [-121.4096667, 36.8341667, 8.66]  \n",
       "\n",
       "[5 rows x 30 columns]"
      ]
     },
     "execution_count": 4,
     "metadata": {},
     "output_type": "execute_result"
    }
   ],
   "source": [
    "df_sismo.head()"
   ]
  },
  {
   "attachments": {},
   "cell_type": "markdown",
   "metadata": {},
   "source": [
    "Borro las columnas que no necesito"
   ]
  },
  {
   "cell_type": "code",
   "execution_count": 5,
   "metadata": {},
   "outputs": [
    {
     "data": {
      "text/plain": [
       "Index(['type', 'id', 'properties.mag', 'properties.place', 'properties.time',\n",
       "       'properties.updated', 'properties.tz', 'properties.url',\n",
       "       'properties.detail', 'properties.felt', 'properties.cdi',\n",
       "       'properties.mmi', 'properties.alert', 'properties.status',\n",
       "       'properties.tsunami', 'properties.sig', 'properties.net',\n",
       "       'properties.code', 'properties.ids', 'properties.sources',\n",
       "       'properties.types', 'properties.nst', 'properties.dmin',\n",
       "       'properties.rms', 'properties.gap', 'properties.magType',\n",
       "       'properties.type', 'properties.title', 'geometry.type',\n",
       "       'geometry.coordinates'],\n",
       "      dtype='object')"
      ]
     },
     "execution_count": 5,
     "metadata": {},
     "output_type": "execute_result"
    }
   ],
   "source": [
    "df_sismo.columns"
   ]
  },
  {
   "cell_type": "code",
   "execution_count": 6,
   "metadata": {},
   "outputs": [],
   "source": [
    "df_sismo.drop(columns=['type','properties.alert','properties.tz','properties.code','properties.url','properties.detail','properties.net'\n",
    "                       ,'properties.status','properties.types','properties.sources','properties.magType','properties.type','geometry.type',\n",
    "                       'properties.title'], axis=1, inplace=True)"
   ]
  },
  {
   "attachments": {},
   "cell_type": "markdown",
   "metadata": {},
   "source": [
    "Cambio el formato de la columna properties.time"
   ]
  },
  {
   "cell_type": "code",
   "execution_count": 7,
   "metadata": {},
   "outputs": [],
   "source": [
    "df_sismo[\"properties.time\"] = pd.to_datetime(df_sismo[\"properties.time\"], unit=\"ms\") \n",
    "df_sismo[\"properties.updated\"] = pd.to_datetime(df_sismo[\"properties.updated\"], unit=\"ms\")"
   ]
  },
  {
   "cell_type": "code",
   "execution_count": 8,
   "metadata": {},
   "outputs": [],
   "source": [
    "df_sismo['estado'] = df_sismo['properties.place'].str.split(',').str[1].str.strip()\n",
    "\n",
    "df_sismo['properties.place'] = df_sismo['properties.place'].str.split(',', expand=True)[0]\n"
   ]
  },
  {
   "cell_type": "code",
   "execution_count": 9,
   "metadata": {},
   "outputs": [
    {
     "data": {
      "text/html": [
       "<div>\n",
       "<style scoped>\n",
       "    .dataframe tbody tr th:only-of-type {\n",
       "        vertical-align: middle;\n",
       "    }\n",
       "\n",
       "    .dataframe tbody tr th {\n",
       "        vertical-align: top;\n",
       "    }\n",
       "\n",
       "    .dataframe thead th {\n",
       "        text-align: right;\n",
       "    }\n",
       "</style>\n",
       "<table border=\"1\" class=\"dataframe\">\n",
       "  <thead>\n",
       "    <tr style=\"text-align: right;\">\n",
       "      <th></th>\n",
       "      <th>id</th>\n",
       "      <th>properties.mag</th>\n",
       "      <th>properties.place</th>\n",
       "      <th>properties.time</th>\n",
       "      <th>properties.updated</th>\n",
       "      <th>properties.felt</th>\n",
       "      <th>properties.cdi</th>\n",
       "      <th>properties.mmi</th>\n",
       "      <th>properties.tsunami</th>\n",
       "      <th>properties.sig</th>\n",
       "      <th>properties.ids</th>\n",
       "      <th>properties.nst</th>\n",
       "      <th>properties.dmin</th>\n",
       "      <th>properties.rms</th>\n",
       "      <th>properties.gap</th>\n",
       "      <th>geometry.coordinates</th>\n",
       "      <th>estado</th>\n",
       "    </tr>\n",
       "  </thead>\n",
       "  <tbody>\n",
       "    <tr>\n",
       "      <th>0</th>\n",
       "      <td>us6000kcxl</td>\n",
       "      <td>2.50</td>\n",
       "      <td>12 km SE of Lincolnville</td>\n",
       "      <td>2023-05-18 19:30:29.827</td>\n",
       "      <td>2023-05-19 03:27:22.499</td>\n",
       "      <td>2.0</td>\n",
       "      <td>4.1</td>\n",
       "      <td>NaN</td>\n",
       "      <td>0</td>\n",
       "      <td>97</td>\n",
       "      <td>,us6000kcxl,</td>\n",
       "      <td>37.0</td>\n",
       "      <td>0.724000</td>\n",
       "      <td>0.45</td>\n",
       "      <td>95.0</td>\n",
       "      <td>[-96.8691, 38.4053, 5]</td>\n",
       "      <td>Kansas</td>\n",
       "    </tr>\n",
       "    <tr>\n",
       "      <th>1</th>\n",
       "      <td>nc73889641</td>\n",
       "      <td>3.72</td>\n",
       "      <td>3km NE of Prattville</td>\n",
       "      <td>2023-05-18 15:55:53.710</td>\n",
       "      <td>2023-05-19 01:35:34.151</td>\n",
       "      <td>48.0</td>\n",
       "      <td>3.8</td>\n",
       "      <td>3.728</td>\n",
       "      <td>0</td>\n",
       "      <td>231</td>\n",
       "      <td>,ew1684425360,nc73889641,us6000kcuy,nn00859666,</td>\n",
       "      <td>47.0</td>\n",
       "      <td>0.023960</td>\n",
       "      <td>0.17</td>\n",
       "      <td>35.0</td>\n",
       "      <td>[-121.1346667, 40.2251667, 8.4]</td>\n",
       "      <td>CA</td>\n",
       "    </tr>\n",
       "    <tr>\n",
       "      <th>2</th>\n",
       "      <td>nc73889591</td>\n",
       "      <td>2.85</td>\n",
       "      <td>2km ENE of Prattville</td>\n",
       "      <td>2023-05-18 13:46:15.740</td>\n",
       "      <td>2023-05-18 20:54:17.491</td>\n",
       "      <td>6.0</td>\n",
       "      <td>2.5</td>\n",
       "      <td>NaN</td>\n",
       "      <td>0</td>\n",
       "      <td>126</td>\n",
       "      <td>,nc73889591,nn00859663,us6000kcte,</td>\n",
       "      <td>41.0</td>\n",
       "      <td>0.033800</td>\n",
       "      <td>0.23</td>\n",
       "      <td>35.0</td>\n",
       "      <td>[-121.1318333, 40.2155, 7.22]</td>\n",
       "      <td>CA</td>\n",
       "    </tr>\n",
       "    <tr>\n",
       "      <th>3</th>\n",
       "      <td>tx2023jqyx</td>\n",
       "      <td>2.60</td>\n",
       "      <td>20 km WSW of Coyanosa</td>\n",
       "      <td>2023-05-18 08:34:54.840</td>\n",
       "      <td>2023-05-18 16:47:12.193</td>\n",
       "      <td>NaN</td>\n",
       "      <td>NaN</td>\n",
       "      <td>NaN</td>\n",
       "      <td>0</td>\n",
       "      <td>104</td>\n",
       "      <td>,tx2023jqyx,</td>\n",
       "      <td>15.0</td>\n",
       "      <td>0.018328</td>\n",
       "      <td>0.20</td>\n",
       "      <td>62.0</td>\n",
       "      <td>[-103.2609303, 31.1701984, 2.121118164]</td>\n",
       "      <td>Texas</td>\n",
       "    </tr>\n",
       "    <tr>\n",
       "      <th>4</th>\n",
       "      <td>nc73889446</td>\n",
       "      <td>2.57</td>\n",
       "      <td>2km SW of Hollister</td>\n",
       "      <td>2023-05-18 04:43:33.420</td>\n",
       "      <td>2023-05-19 00:47:10.947</td>\n",
       "      <td>9.0</td>\n",
       "      <td>3.4</td>\n",
       "      <td>NaN</td>\n",
       "      <td>0</td>\n",
       "      <td>105</td>\n",
       "      <td>,nc73889446,</td>\n",
       "      <td>74.0</td>\n",
       "      <td>0.017670</td>\n",
       "      <td>0.09</td>\n",
       "      <td>77.0</td>\n",
       "      <td>[-121.4096667, 36.8341667, 8.66]</td>\n",
       "      <td>CA</td>\n",
       "    </tr>\n",
       "  </tbody>\n",
       "</table>\n",
       "</div>"
      ],
      "text/plain": [
       "           id  properties.mag          properties.place  \\\n",
       "0  us6000kcxl            2.50  12 km SE of Lincolnville   \n",
       "1  nc73889641            3.72      3km NE of Prattville   \n",
       "2  nc73889591            2.85     2km ENE of Prattville   \n",
       "3  tx2023jqyx            2.60     20 km WSW of Coyanosa   \n",
       "4  nc73889446            2.57       2km SW of Hollister   \n",
       "\n",
       "          properties.time      properties.updated  properties.felt  \\\n",
       "0 2023-05-18 19:30:29.827 2023-05-19 03:27:22.499              2.0   \n",
       "1 2023-05-18 15:55:53.710 2023-05-19 01:35:34.151             48.0   \n",
       "2 2023-05-18 13:46:15.740 2023-05-18 20:54:17.491              6.0   \n",
       "3 2023-05-18 08:34:54.840 2023-05-18 16:47:12.193              NaN   \n",
       "4 2023-05-18 04:43:33.420 2023-05-19 00:47:10.947              9.0   \n",
       "\n",
       "   properties.cdi  properties.mmi  properties.tsunami  properties.sig  \\\n",
       "0             4.1             NaN                   0              97   \n",
       "1             3.8           3.728                   0             231   \n",
       "2             2.5             NaN                   0             126   \n",
       "3             NaN             NaN                   0             104   \n",
       "4             3.4             NaN                   0             105   \n",
       "\n",
       "                                    properties.ids  properties.nst  \\\n",
       "0                                     ,us6000kcxl,            37.0   \n",
       "1  ,ew1684425360,nc73889641,us6000kcuy,nn00859666,            47.0   \n",
       "2               ,nc73889591,nn00859663,us6000kcte,            41.0   \n",
       "3                                     ,tx2023jqyx,            15.0   \n",
       "4                                     ,nc73889446,            74.0   \n",
       "\n",
       "   properties.dmin  properties.rms  properties.gap  \\\n",
       "0         0.724000            0.45            95.0   \n",
       "1         0.023960            0.17            35.0   \n",
       "2         0.033800            0.23            35.0   \n",
       "3         0.018328            0.20            62.0   \n",
       "4         0.017670            0.09            77.0   \n",
       "\n",
       "                      geometry.coordinates  estado  \n",
       "0                   [-96.8691, 38.4053, 5]  Kansas  \n",
       "1          [-121.1346667, 40.2251667, 8.4]      CA  \n",
       "2            [-121.1318333, 40.2155, 7.22]      CA  \n",
       "3  [-103.2609303, 31.1701984, 2.121118164]   Texas  \n",
       "4         [-121.4096667, 36.8341667, 8.66]      CA  "
      ]
     },
     "execution_count": 9,
     "metadata": {},
     "output_type": "execute_result"
    }
   ],
   "source": [
    "df_sismo.head(5)"
   ]
  },
  {
   "cell_type": "code",
   "execution_count": 10,
   "metadata": {},
   "outputs": [],
   "source": [
    "#Divido la columna geometry coordinates\n",
    "df_sismo[['Longitud', 'Latitud', 'Profundidad']] = df_sismo['geometry.coordinates'].apply(lambda x: pd.Series(str(x).strip('[]').split(',')))"
   ]
  },
  {
   "cell_type": "code",
   "execution_count": 11,
   "metadata": {},
   "outputs": [
    {
     "data": {
      "text/html": [
       "<div>\n",
       "<style scoped>\n",
       "    .dataframe tbody tr th:only-of-type {\n",
       "        vertical-align: middle;\n",
       "    }\n",
       "\n",
       "    .dataframe tbody tr th {\n",
       "        vertical-align: top;\n",
       "    }\n",
       "\n",
       "    .dataframe thead th {\n",
       "        text-align: right;\n",
       "    }\n",
       "</style>\n",
       "<table border=\"1\" class=\"dataframe\">\n",
       "  <thead>\n",
       "    <tr style=\"text-align: right;\">\n",
       "      <th></th>\n",
       "      <th>id</th>\n",
       "      <th>properties.mag</th>\n",
       "      <th>properties.place</th>\n",
       "      <th>properties.time</th>\n",
       "      <th>properties.updated</th>\n",
       "      <th>properties.felt</th>\n",
       "      <th>properties.cdi</th>\n",
       "      <th>properties.mmi</th>\n",
       "      <th>properties.tsunami</th>\n",
       "      <th>properties.sig</th>\n",
       "      <th>properties.ids</th>\n",
       "      <th>properties.nst</th>\n",
       "      <th>properties.dmin</th>\n",
       "      <th>properties.rms</th>\n",
       "      <th>properties.gap</th>\n",
       "      <th>geometry.coordinates</th>\n",
       "      <th>estado</th>\n",
       "      <th>Longitud</th>\n",
       "      <th>Latitud</th>\n",
       "      <th>Profundidad</th>\n",
       "    </tr>\n",
       "  </thead>\n",
       "  <tbody>\n",
       "    <tr>\n",
       "      <th>0</th>\n",
       "      <td>us6000kcxl</td>\n",
       "      <td>2.5</td>\n",
       "      <td>12 km SE of Lincolnville</td>\n",
       "      <td>2023-05-18 19:30:29.827</td>\n",
       "      <td>2023-05-19 03:27:22.499</td>\n",
       "      <td>2.0</td>\n",
       "      <td>4.1</td>\n",
       "      <td>NaN</td>\n",
       "      <td>0</td>\n",
       "      <td>97</td>\n",
       "      <td>,us6000kcxl,</td>\n",
       "      <td>37.0</td>\n",
       "      <td>0.724</td>\n",
       "      <td>0.45</td>\n",
       "      <td>95.0</td>\n",
       "      <td>[-96.8691, 38.4053, 5]</td>\n",
       "      <td>Kansas</td>\n",
       "      <td>-96.8691</td>\n",
       "      <td>38.4053</td>\n",
       "      <td>5</td>\n",
       "    </tr>\n",
       "  </tbody>\n",
       "</table>\n",
       "</div>"
      ],
      "text/plain": [
       "           id  properties.mag          properties.place  \\\n",
       "0  us6000kcxl             2.5  12 km SE of Lincolnville   \n",
       "\n",
       "          properties.time      properties.updated  properties.felt  \\\n",
       "0 2023-05-18 19:30:29.827 2023-05-19 03:27:22.499              2.0   \n",
       "\n",
       "   properties.cdi  properties.mmi  properties.tsunami  properties.sig  \\\n",
       "0             4.1             NaN                   0              97   \n",
       "\n",
       "  properties.ids  properties.nst  properties.dmin  properties.rms  \\\n",
       "0   ,us6000kcxl,            37.0            0.724            0.45   \n",
       "\n",
       "   properties.gap    geometry.coordinates  estado  Longitud   Latitud  \\\n",
       "0            95.0  [-96.8691, 38.4053, 5]  Kansas  -96.8691   38.4053   \n",
       "\n",
       "  Profundidad  \n",
       "0           5  "
      ]
     },
     "execution_count": 11,
     "metadata": {},
     "output_type": "execute_result"
    }
   ],
   "source": [
    "df_sismo.head(1)"
   ]
  },
  {
   "cell_type": "code",
   "execution_count": 12,
   "metadata": {},
   "outputs": [],
   "source": [
    "df_sismo.drop(\"geometry.coordinates\", axis=1, inplace=True) "
   ]
  },
  {
   "cell_type": "code",
   "execution_count": 13,
   "metadata": {},
   "outputs": [
    {
     "data": {
      "text/plain": [
       "Index(['id', 'properties.mag', 'properties.place', 'properties.time',\n",
       "       'properties.updated', 'properties.felt', 'properties.cdi',\n",
       "       'properties.mmi', 'properties.tsunami', 'properties.sig',\n",
       "       'properties.ids', 'properties.nst', 'properties.dmin', 'properties.rms',\n",
       "       'properties.gap', 'estado', 'Longitud', 'Latitud', 'Profundidad'],\n",
       "      dtype='object')"
      ]
     },
     "execution_count": 13,
     "metadata": {},
     "output_type": "execute_result"
    }
   ],
   "source": [
    "df_sismo.columns"
   ]
  },
  {
   "attachments": {},
   "cell_type": "markdown",
   "metadata": {},
   "source": [
    "properties.sig : un número que describe la importancia del evento. Los números más grandes indican un evento más significativo. Este valor se determina en función de una serie de factores, que incluyen: magnitud, MMI máximo, informes de sensación e impacto estimado."
   ]
  },
  {
   "attachments": {},
   "cell_type": "markdown",
   "metadata": {},
   "source": [
    "properties.dmin Distancia horizontal desde el epicentro hasta la estación más cercana (en grados). 1 grado son aproximadamente 111,2 kilómetros. En general, cuanto menor sea este número, más confiable es la profundidad calculada del terremoto."
   ]
  },
  {
   "attachments": {},
   "cell_type": "markdown",
   "metadata": {},
   "source": [
    "\tproperties.gap: La brecha azimutal más grande entre estaciones azimutalmente adyacentes (en grados). En general, cuanto más pequeño es este número, más confiable es la posición horizontal calculada del terremoto. Las ubicaciones de terremotos en las que la brecha azimutal supera los 180 grados suelen tener grandes incertidumbres de ubicación y profundidad."
   ]
  },
  {
   "cell_type": "code",
   "execution_count": 14,
   "metadata": {},
   "outputs": [
    {
     "data": {
      "text/html": [
       "<div>\n",
       "<style scoped>\n",
       "    .dataframe tbody tr th:only-of-type {\n",
       "        vertical-align: middle;\n",
       "    }\n",
       "\n",
       "    .dataframe tbody tr th {\n",
       "        vertical-align: top;\n",
       "    }\n",
       "\n",
       "    .dataframe thead th {\n",
       "        text-align: right;\n",
       "    }\n",
       "</style>\n",
       "<table border=\"1\" class=\"dataframe\">\n",
       "  <thead>\n",
       "    <tr style=\"text-align: right;\">\n",
       "      <th></th>\n",
       "      <th>id</th>\n",
       "      <th>Magnituud</th>\n",
       "      <th>Place</th>\n",
       "      <th>Fecha</th>\n",
       "      <th>Ultimo registro</th>\n",
       "      <th>Felt</th>\n",
       "      <th>cdi</th>\n",
       "      <th>mmi</th>\n",
       "      <th>Posibilidad tsunami</th>\n",
       "      <th>Importancia del evento</th>\n",
       "      <th>Ids</th>\n",
       "      <th>nst</th>\n",
       "      <th>Distancia Horizontal Epicentro</th>\n",
       "      <th>RMS</th>\n",
       "      <th>Brecha Azimutal</th>\n",
       "      <th>estado</th>\n",
       "      <th>Longitud</th>\n",
       "      <th>Latitud</th>\n",
       "      <th>Profundidad</th>\n",
       "    </tr>\n",
       "  </thead>\n",
       "  <tbody>\n",
       "    <tr>\n",
       "      <th>0</th>\n",
       "      <td>us6000kcxl</td>\n",
       "      <td>2.5</td>\n",
       "      <td>12 km SE of Lincolnville</td>\n",
       "      <td>2023-05-18 19:30:29.827</td>\n",
       "      <td>2023-05-19 03:27:22.499</td>\n",
       "      <td>2.0</td>\n",
       "      <td>4.1</td>\n",
       "      <td>NaN</td>\n",
       "      <td>0</td>\n",
       "      <td>97</td>\n",
       "      <td>,us6000kcxl,</td>\n",
       "      <td>37.0</td>\n",
       "      <td>0.724</td>\n",
       "      <td>0.45</td>\n",
       "      <td>95.0</td>\n",
       "      <td>Kansas</td>\n",
       "      <td>-96.8691</td>\n",
       "      <td>38.4053</td>\n",
       "      <td>5</td>\n",
       "    </tr>\n",
       "  </tbody>\n",
       "</table>\n",
       "</div>"
      ],
      "text/plain": [
       "           id  Magnituud                     Place                   Fecha  \\\n",
       "0  us6000kcxl        2.5  12 km SE of Lincolnville 2023-05-18 19:30:29.827   \n",
       "\n",
       "          Ultimo registro  Felt  cdi  mmi  Posibilidad tsunami  \\\n",
       "0 2023-05-19 03:27:22.499   2.0  4.1  NaN                    0   \n",
       "\n",
       "   Importancia del evento           Ids   nst  Distancia Horizontal Epicentro  \\\n",
       "0                      97  ,us6000kcxl,  37.0                           0.724   \n",
       "\n",
       "    RMS  Brecha Azimutal  estado  Longitud   Latitud Profundidad  \n",
       "0  0.45             95.0  Kansas  -96.8691   38.4053           5  "
      ]
     },
     "execution_count": 14,
     "metadata": {},
     "output_type": "execute_result"
    }
   ],
   "source": [
    "df_sismo = df_sismo.rename(columns={'properties.mag':      'Magnituud',   \n",
    "                                    'properties.place':    'Place',\n",
    "                                    'properties.time':     'Fecha',  \n",
    "                                    'properties.updated':  'Ultimo registro', \n",
    "                                    'properties.felt':     'Felt',\n",
    "                                    'properties.cdi':      'cdi',\n",
    "                                    'properties.mmi':      'mmi', \n",
    "                                    'properties.tsunami':  'Posibilidad tsunami',\n",
    "                                    'properties.sig':      'Importancia del evento',\n",
    "                                    'properties.ids':      'Ids',\n",
    "                                    'properties.nst':      'nst',\n",
    "                                    'properties.dmin':     'Distancia Horizontal Epicentro',\n",
    "                                    'properties.rms':      'RMS',\n",
    "                                    'properties.gap':      'Brecha Azimutal'})\n",
    "df_sismo.head(1)"
   ]
  },
  {
   "cell_type": "code",
   "execution_count": 15,
   "metadata": {},
   "outputs": [
    {
     "data": {
      "text/plain": [
       "array(['Kansas', 'CA', 'Texas', nan, 'Colorado', 'Oklahoma', 'New Mexico',\n",
       "       'Mexico', 'Arizona', 'Montana', 'Idaho', 'Nevada', 'Washington',\n",
       "       None, 'Tennessee', 'B.C.', 'Wyoming', 'Canada', 'New Hampshire',\n",
       "       'New York', 'California', 'Utah', 'Ohio', 'Nebraska', 'Oregon',\n",
       "       'Missouri', 'Virginia', 'Maine', 'Kentucky', 'Arkansas',\n",
       "       'Minnesota', 'Mississippi', 'North Carolina', 'Quebec',\n",
       "       'Louisiana', 'South Carolina', 'Georgia', 'Alabama',\n",
       "       'South Dakota', 'Illinois', 'NV', 'United States', 'Florida',\n",
       "       'Iowa', 'MT', 'Maryland', 'NM', 'Michigan', 'ID', 'UT', 'OK', 'TN',\n",
       "       'Massachusetts', 'TX', 'Pennsylvania', 'New Jersey',\n",
       "       'NV Earthquake', 'KS', 'West Virginia', 'WA', 'WY', 'MO',\n",
       "       'Delaware', 'Indiana'], dtype=object)"
      ]
     },
     "execution_count": 15,
     "metadata": {},
     "output_type": "execute_result"
    }
   ],
   "source": [
    "df_sismo['estado'].unique()"
   ]
  },
  {
   "attachments": {},
   "cell_type": "markdown",
   "metadata": {},
   "source": [
    "## Normalizacion de la columna estado"
   ]
  },
  {
   "cell_type": "code",
   "execution_count": 16,
   "metadata": {},
   "outputs": [],
   "source": [
    "df_sismo['estado'] = df_sismo['estado'].replace({'United States': \"Sin Dato\",\n",
    "                                                 'Sandywoods Township': \"Sin Dato\",\n",
    "                                                 \"CA\":\"California\",\n",
    "                                                 \"WA\": \"Washington\",\n",
    "                                                 \"WY\": \"Wyoming\",\n",
    "                                                 \"UT\": \"Utah\",\n",
    "                                                 \"TN\": \"Tennessee\",\n",
    "                                                 \"TX\": \"Texas\",\n",
    "                                                 \"ID\": \"Idaho\",\n",
    "                                                 \"KS\": \"Kansas\",\n",
    "                                                 \"MO\": \"Misuri\",\n",
    "                                                 \"MT\": \"Montana\",\n",
    "                                                 \"NM\": \"Nuevo Mexico\",\n",
    "                                                 \"Mexico\": \"New Mexico\",\n",
    "                                                 \"NV\": \"Nevada\",\n",
    "                                                 \"NV Earthquake\":\"Nevada\",\n",
    "                                                 \"OK\": \"Oklahoma\",\n",
    "                                                 'MN': \"Minnesota\",\n",
    "                                                 'CO': 'Colorado',\n",
    "                                                 'AZ': 'Arizona',\n",
    "                                                 'OR': 'Oregon',\n",
    "                                                 'Son.': 'Sonora',\n",
    "                                                 'CA Earthquake': 'California',\n",
    "                                                 'California Earthquake': \"California\",\n",
    "                                                 'NE':\"Nebraska\"})"
   ]
  },
  {
   "cell_type": "code",
   "execution_count": 17,
   "metadata": {},
   "outputs": [
    {
     "data": {
      "text/plain": [
       "array(['Kansas', 'California', 'Texas', nan, 'Colorado', 'Oklahoma',\n",
       "       'New Mexico', 'Arizona', 'Montana', 'Idaho', 'Nevada',\n",
       "       'Washington', None, 'Tennessee', 'B.C.', 'Wyoming', 'Canada',\n",
       "       'New Hampshire', 'New York', 'Utah', 'Ohio', 'Nebraska', 'Oregon',\n",
       "       'Missouri', 'Virginia', 'Maine', 'Kentucky', 'Arkansas',\n",
       "       'Minnesota', 'Mississippi', 'North Carolina', 'Quebec',\n",
       "       'Louisiana', 'South Carolina', 'Georgia', 'Alabama',\n",
       "       'South Dakota', 'Illinois', 'Sin Dato', 'Florida', 'Iowa',\n",
       "       'Maryland', 'Nuevo Mexico', 'Michigan', 'Massachusetts',\n",
       "       'Pennsylvania', 'New Jersey', 'West Virginia', 'Misuri',\n",
       "       'Delaware', 'Indiana'], dtype=object)"
      ]
     },
     "execution_count": 17,
     "metadata": {},
     "output_type": "execute_result"
    }
   ],
   "source": [
    "df_sismo['estado'].unique()"
   ]
  },
  {
   "cell_type": "code",
   "execution_count": 18,
   "metadata": {},
   "outputs": [
    {
     "data": {
      "text/plain": [
       "id                                    0\n",
       "Magnituud                             0\n",
       "Place                                47\n",
       "Fecha                                 0\n",
       "Ultimo registro                       0\n",
       "Felt                              10124\n",
       "cdi                               10124\n",
       "mmi                               17240\n",
       "Posibilidad tsunami                   0\n",
       "Importancia del evento                0\n",
       "Ids                                   0\n",
       "nst                                5551\n",
       "Distancia Horizontal Epicentro      891\n",
       "RMS                                   2\n",
       "Brecha Azimutal                      18\n",
       "estado                              385\n",
       "Longitud                              0\n",
       "Latitud                               0\n",
       "Profundidad                           0\n",
       "dtype: int64"
      ]
     },
     "execution_count": 18,
     "metadata": {},
     "output_type": "execute_result"
    }
   ],
   "source": [
    "df_sismo.isnull().sum()"
   ]
  },
  {
   "cell_type": "code",
   "execution_count": 19,
   "metadata": {},
   "outputs": [
    {
     "name": "stdout",
     "output_type": "stream",
     "text": [
      "<class 'pandas.core.frame.DataFrame'>\n",
      "RangeIndex: 20000 entries, 0 to 19999\n",
      "Data columns (total 19 columns):\n",
      " #   Column                          Non-Null Count  Dtype         \n",
      "---  ------                          --------------  -----         \n",
      " 0   id                              20000 non-null  object        \n",
      " 1   Magnituud                       20000 non-null  float64       \n",
      " 2   Place                           19953 non-null  object        \n",
      " 3   Fecha                           20000 non-null  datetime64[ns]\n",
      " 4   Ultimo registro                 20000 non-null  datetime64[ns]\n",
      " 5   Felt                            9876 non-null   float64       \n",
      " 6   cdi                             9876 non-null   float64       \n",
      " 7   mmi                             2760 non-null   float64       \n",
      " 8   Posibilidad tsunami             20000 non-null  int64         \n",
      " 9   Importancia del evento          20000 non-null  int64         \n",
      " 10  Ids                             20000 non-null  object        \n",
      " 11  nst                             14449 non-null  float64       \n",
      " 12  Distancia Horizontal Epicentro  19109 non-null  float64       \n",
      " 13  RMS                             19998 non-null  float64       \n",
      " 14  Brecha Azimutal                 19982 non-null  float64       \n",
      " 15  estado                          19615 non-null  object        \n",
      " 16  Longitud                        20000 non-null  object        \n",
      " 17  Latitud                         20000 non-null  object        \n",
      " 18  Profundidad                     20000 non-null  object        \n",
      "dtypes: datetime64[ns](2), float64(8), int64(2), object(7)\n",
      "memory usage: 2.9+ MB\n"
     ]
    }
   ],
   "source": [
    "df_sismo.info()"
   ]
  },
  {
   "attachments": {},
   "cell_type": "markdown",
   "metadata": {},
   "source": [
    "Cambio el tipo de dato de Latitud y Longitud a float para poder utilizarlo en el mapa."
   ]
  },
  {
   "cell_type": "code",
   "execution_count": 20,
   "metadata": {},
   "outputs": [],
   "source": [
    "df_sismo[\"Longitud\"] = df_sismo[\"Longitud\"].astype(float) \n",
    "df_sismo[\"Latitud\"] = df_sismo[\"Latitud\"].astype(float) \n",
    "df_sismo[\"Profundidad\"] = df_sismo[\"Profundidad\"].astype(float)"
   ]
  },
  {
   "attachments": {},
   "cell_type": "markdown",
   "metadata": {},
   "source": [
    "DATOS UTILIZADOS"
   ]
  },
  {
   "attachments": {},
   "cell_type": "markdown",
   "metadata": {},
   "source": [
    "Alert\n",
    "  - Tipo de datos: Cadena\n",
    "  - Valores típicos: “verde”, “amarillo”, “naranja”, “rojo”.\n",
    "  - Descripción: El nivel de alerta de la escala de impacto de terremotos de PAGER.  \n"
   ]
  },
  {
   "attachments": {},
   "cell_type": "markdown",
   "metadata": {},
   "source": [
    "**cdi**\n",
    "  - Tipo de datos: decimal\n",
    "  - Descripción: La máxima intensidad reportada para el evento. Calculado por DYFI. S \n",
    "i bien generalmente se informa como un número romano, para los fines de esta API, se espera que la intensidad  \n",
    "sea el equivalente decimal del número romano. Obtenga más información sobre la magnitud frente a la intensidad. \n",
    " "
   ]
  },
  {
   "attachments": {},
   "cell_type": "markdown",
   "metadata": {},
   "source": [
    "Depth \n",
    "- Tipo de datos: decimal \n",
    "- Profundidad del evento en kilómetros."
   ]
  },
  {
   "attachments": {},
   "cell_type": "markdown",
   "metadata": {},
   "source": [
    "DepthError\n",
    "  - Tipo de datos: decimal\n",
    "  - Valores típicos: [0, 100]- Descripción: Incertidumbre de la profundidad reportada del evento en kilómetros.\n",
    "  - Información adicional: El error de profundidad, en km, definido como la mayor proyección de los tres errores principales en una línea vertical. \n"
   ]
  },
  {
   "attachments": {},
   "cell_type": "markdown",
   "metadata": {},
   "source": [
    "Dmin \n",
    "  - Tipo de datos: decimal\n",
    "  - Descripción :Distancia horizontal desde el epicentro hasta la estación más cercana (en grados). 1 grado son aproximadamente 111,2 kilómetros.  \n",
    "En general, cuanto menor sea este número, más confiable es la profundidad calculada del terremoto."
   ]
  },
  {
   "attachments": {},
   "cell_type": "markdown",
   "metadata": {},
   "source": [
    "Gap\n",
    "  - Tipo de datos: decimal\n",
    "  - Descripción: La mayor brecha azimutal entre estaciones azimutalmente adyacentes (en grados). En general, cuanto más pequeño es este número, más confiable es la posición horizontal calculada del terremoto. Las ubicaciones de terremotos en las que la brecha azimutal supera los 180 grados suelen tener grandes incertidumbres de ubicación y profundidad."
   ]
  },
  {
   "attachments": {},
   "cell_type": "markdown",
   "metadata": {},
   "source": [
    "HorizontalError\n",
    "  - Tipo de datos: decimal\n",
    "  - Descripción: Incertidumbre de la ubicación reportada del evento en kilómetros.\n",
    "  - Información adicional: El error de ubicación horizontal, en km, definido como la longitud de la mayor proyección de los tres errores principales en un plano horizontal.  \n",
    "Los errores principales son los ejes principales del elipsoide de error y son mutuamente perpendiculares.  \n",
    "Las incertidumbres horizontales y verticales en la ubicación de un evento varían desde aproximadamente 100 m en horizontal y 300 metros en vertical para los eventos mejor ubicados, aquellos en medio de redes de sismógrafos densamente espaciadas, hasta decenas de kilómetros para eventos globales en muchas partes del mundo.  \n",
    "Informamos un valor \"desconocido\" si la red sísmica contribuyente no proporciona estimaciones de incertidumbre. "
   ]
  },
  {
   "attachments": {},
   "cell_type": "markdown",
   "metadata": {},
   "source": [
    "Latitud\n",
    "  - Tipo de datos: decimal\n",
    "  - Descripción :Grados decimales de latitud. Valores negativos para latitudes del sur.\n",
    "  - Información adicional: Un terremoto comienza a romperse en un hipocentro que está definido por una posición en la superficie de la tierra (epicentro) y una profundidad por debajo de este punto (profundidad focal). Proporcionamos las coordenadas del epicentro en unidades de latitud y longitud. La latitud es el número de grados al norte (N) o al sur (S) del ecuador y varía de 0 en el ecuador a 90 en los polos.\n"
   ]
  },
  {
   "attachments": {},
   "cell_type": "markdown",
   "metadata": {},
   "source": [
    "LocationSource \n",
    "  - Tipo de datos: Cadena\n",
    "  - Descripción: la red que originalmente creó la ubicación informada de este evento."
   ]
  },
  {
   "attachments": {},
   "cell_type": "markdown",
   "metadata": {},
   "source": [
    "Longitud\n",
    "  - Tipo de datos: decimal\n",
    "  - Descripción :Grados decimales de longitud. Valores negativos para longitudes occidentales.\n",
    "  - Información adicional: La longitud varía de 0 en Greenwich a 180 y el E o W muestra la dirección desde Greenwich. Las coordenadas se dan en el marco de referencia WGS84. La incertidumbre de la posición del hipocentro varía desde aproximadamente 100 m en horizontal y 300 metros en vertical para los eventos mejor ubicados, aquellos en medio de redes de sismógrafos densamente espaciadas, hasta decenas de kilómetros para eventos globales en muchas partes del mundo. \n"
   ]
  },
  {
   "attachments": {},
   "cell_type": "markdown",
   "metadata": {},
   "source": [
    "mag \n",
    " \n",
    "- Información adicional: La magnitud reportada es la que el Servicio Geológico de los EE. UU. considera oficial para este terremoto, y fue la mejor estimación disponible del tamaño del terremoto, en el momento en que se creó esta página."
   ]
  },
  {
   "attachments": {},
   "cell_type": "markdown",
   "metadata": {},
   "source": [
    "Mag Error\n",
    "  - Tipo de datos: decimal\n",
    "  - Descripción: Incertidumbre de la magnitud reportada del evento. El error estándar estimado de la magnitud. La incertidumbre corresponde al tipo de magnitud específica que se informa y no tiene en cuenta las variaciones de magnitud y los sesgos entre diferentes escalas de magnitud. Informamos un valor \"desconocido\" si la red sísmica contribuyente no proporciona estimaciones de incertidumbre.  \n",
    "  "
   ]
  },
  {
   "attachments": {},
   "cell_type": "markdown",
   "metadata": {},
   "source": [
    "magNST\n",
    "  - Tipo de datos: entero\n",
    "  - - Descripción: El número total de estaciones sísmicas utilizadas para calcular la magnitud de este terremoto."
   ]
  },
  {
   "attachments": {},
   "cell_type": "markdown",
   "metadata": {},
   "source": [
    "mmi\n",
    "  - Tipo de datos: decimal\n",
    "  - Descripción: La intensidad instrumental máxima estimada para el evento. Calculado por ShakeMap. Si bien generalmente se informa como un número romano, para los fines de esta API, se espera que la intensidad sea el equivalente decimal del número romano. Obtenga más información sobre la magnitud frente a la intensidad.\n"
   ]
  },
  {
   "attachments": {},
   "cell_type": "markdown",
   "metadata": {},
   "source": [
    "Nph\n",
    "  - Número de fases utilizadas: Cadena\n",
    "  - Descripción: número de observaciones de tiempo de llegada P y S utilizadas para calcular la ubicación del hipocentro. Un mayor número de observaciones de tiempo de llegada generalmente da como resultado mejores ubicaciones de terremotos."
   ]
  },
  {
   "attachments": {},
   "cell_type": "markdown",
   "metadata": {},
   "source": [
    "Nst\n",
    "  - Tipo de datos: entero\n",
    "  - Descripción: El número total de estaciones sísmicas utilizadas para determinar la ubicación del terremoto.\n",
    "  - Información Adicional: Número de estaciones sísmicas que reportaron tiempos de llegada P y S para este sismo. Este número: puede ser mayor que el Número de fases utilizadas si se rechazan los tiempos de llegada porque la distancia a una estación sísmica excede la distancia máxima permitida o porque la observación del tiempo de llegada es inconsistente con la solución."
   ]
  },
  {
   "attachments": {},
   "cell_type": "markdown",
   "metadata": {},
   "source": [
    "Place\n",
    "  - Tipo de datos: Cadena\n",
    "  - - Descripción: Descripción textual de la región geográfica nombrada cercana al evento. Puede ser el nombre de una ciudad o el nombre de una región"
   ]
  },
  {
   "attachments": {},
   "cell_type": "markdown",
   "metadata": {},
   "source": [
    "Rms \n",
    "  - Tipo de datos: decimal\n",
    "  - Descripción: El residual de tiempo de viaje de la raíz cuadrada media (RMS), en segundos, usando todos los pesos. Este parámetro proporciona una medida del ajuste de los tiempos de llegada observados a los tiempos de llegada previstos para esta ubicación. Los números más pequeños reflejan un mejor ajuste de los datos. El valor depende de la precisión del modelo de velocidad utilizado para calcular la ubicación del terremoto, los pesos de calidad asignados a los datos de tiempo de llegada y el procedimiento utilizado para localizar el terremoto. "
   ]
  },
  {
   "attachments": {},
   "cell_type": "markdown",
   "metadata": {},
   "source": [
    "Sig (para discutir)\n",
    "  - Tipo de datos: entero\n",
    "  - Descripción: Un número que describe cuán significativo es el evento. Los números más grandes indican un evento más significativo. Este valor se determina en función de una serie de factores, que incluyen: magnitud, MMI máximo, informes de sensación e impacto estimado."
   ]
  },
  {
   "attachments": {},
   "cell_type": "markdown",
   "metadata": {},
   "source": [
    "time\n",
    "  - Tipo de datos: entero largo\n",
    "  - Información: Indicamos la fecha y hora en que el sismo inicia la ruptura, lo que se conoce como hora \"origen\". Tenga en cuenta que los grandes terremotos pueden continuar rompiéndose durante muchas decenas de segundos. Proporcionamos la hora en UTC (Tiempo Universal Coordinado). Los sismólogos usan UTC para evitar la confusión causada por las zonas horarias locales y el horario de verano. En las páginas de eventos individuales, también se proporcionan los tiempos en el epicentro y su hora local en función de la hora configurada en su computadora.\n"
   ]
  },
  {
   "attachments": {},
   "cell_type": "markdown",
   "metadata": {},
   "source": [
    "tsunami\n",
    "  - Tipo de datos: entero\n",
    "  - Descripción: esta bandera se establece en \"1\" para grandes eventos en regiones oceánicas y \"0\" en caso contrario. La existencia o el valor de esta bandera no indica si realmente existió o existirá un tsunami.\n"
   ]
  },
  {
   "attachments": {},
   "cell_type": "markdown",
   "metadata": {},
   "source": [
    "Tipy(para discutir)\n",
    "  - Tipo de datos: Cadena\n",
    "  - Descripción :Tipo de evento sísmico."
   ]
  },
  {
   "attachments": {},
   "cell_type": "markdown",
   "metadata": {},
   "source": [
    "Tz\n",
    "  - Tipo de datos: entero\n",
    "  - Descripción: Desplazamiento de zona horaria desde UTC en minutos en el epicentro del evento."
   ]
  },
  {
   "attachments": {},
   "cell_type": "markdown",
   "metadata": {},
   "source": [
    "Updated\n",
    "  - Tipo de datos: entero largo\n",
    "  - Descripción: hora en que se actualizó el evento por última vez. Los tiempos se informan en milisegundos desde la época"
   ]
  },
  {
   "attachments": {},
   "cell_type": "markdown",
   "metadata": {},
   "source": [
    "Status\n",
    "  - Tipo de datos: Cadena\n",
    "  - Descripción: Indica si el evento ha sido revisado por un humano."
   ]
  },
  {
   "attachments": {},
   "cell_type": "markdown",
   "metadata": {},
   "source": [
    "idss\n",
    "  - Tipo de datos: Cadena\n",
    "  - Descripción: una lista separada por comas de ID de eventos que están asociados a un evento.\n"
   ]
  },
  {
   "cell_type": "code",
   "execution_count": 21,
   "metadata": {},
   "outputs": [
    {
     "name": "stdout",
     "output_type": "stream",
     "text": [
      "<class 'pandas.core.frame.DataFrame'>\n",
      "RangeIndex: 20000 entries, 0 to 19999\n",
      "Data columns (total 19 columns):\n",
      " #   Column                          Non-Null Count  Dtype         \n",
      "---  ------                          --------------  -----         \n",
      " 0   id                              20000 non-null  object        \n",
      " 1   Magnituud                       20000 non-null  float64       \n",
      " 2   Place                           19953 non-null  object        \n",
      " 3   Fecha                           20000 non-null  datetime64[ns]\n",
      " 4   Ultimo registro                 20000 non-null  datetime64[ns]\n",
      " 5   Felt                            9876 non-null   float64       \n",
      " 6   cdi                             9876 non-null   float64       \n",
      " 7   mmi                             2760 non-null   float64       \n",
      " 8   Posibilidad tsunami             20000 non-null  int64         \n",
      " 9   Importancia del evento          20000 non-null  int64         \n",
      " 10  Ids                             20000 non-null  object        \n",
      " 11  nst                             14449 non-null  float64       \n",
      " 12  Distancia Horizontal Epicentro  19109 non-null  float64       \n",
      " 13  RMS                             19998 non-null  float64       \n",
      " 14  Brecha Azimutal                 19982 non-null  float64       \n",
      " 15  estado                          19615 non-null  object        \n",
      " 16  Longitud                        20000 non-null  float64       \n",
      " 17  Latitud                         20000 non-null  float64       \n",
      " 18  Profundidad                     20000 non-null  float64       \n",
      "dtypes: datetime64[ns](2), float64(11), int64(2), object(4)\n",
      "memory usage: 2.9+ MB\n"
     ]
    }
   ],
   "source": [
    "df_sismo.info()"
   ]
  },
  {
   "cell_type": "code",
   "execution_count": 22,
   "metadata": {},
   "outputs": [
    {
     "data": {
      "text/plain": [
       "id                                    0\n",
       "Magnituud                             0\n",
       "Place                                47\n",
       "Fecha                                 0\n",
       "Ultimo registro                       0\n",
       "Felt                              10124\n",
       "cdi                               10124\n",
       "mmi                               17240\n",
       "Posibilidad tsunami                   0\n",
       "Importancia del evento                0\n",
       "Ids                                   0\n",
       "nst                                5551\n",
       "Distancia Horizontal Epicentro      891\n",
       "RMS                                   2\n",
       "Brecha Azimutal                      18\n",
       "estado                              385\n",
       "Longitud                              0\n",
       "Latitud                               0\n",
       "Profundidad                           0\n",
       "dtype: int64"
      ]
     },
     "execution_count": 22,
     "metadata": {},
     "output_type": "execute_result"
    }
   ],
   "source": [
    "df_sismo.isnull().sum()"
   ]
  },
  {
   "cell_type": "code",
   "execution_count": 23,
   "metadata": {},
   "outputs": [],
   "source": [
    "#folder_path = \"../DASHBOARD/CSV_TRANSFORMADOS\"\n",
    "#file_name = \"Datos_USA.csv\"\n",
    "#file_path = os.path.join(folder_path, file_name)\n",
    "#\n",
    "#df_sismo.to_csv(file_path, index=False)"
   ]
  }
 ],
 "metadata": {
  "kernelspec": {
   "display_name": "Python 3",
   "language": "python",
   "name": "python3"
  },
  "language_info": {
   "codemirror_mode": {
    "name": "ipython",
    "version": 3
   },
   "file_extension": ".py",
   "mimetype": "text/x-python",
   "name": "python",
   "nbconvert_exporter": "python",
   "pygments_lexer": "ipython3",
   "version": "3.11.0"
  },
  "orig_nbformat": 4
 },
 "nbformat": 4,
 "nbformat_minor": 2
}
