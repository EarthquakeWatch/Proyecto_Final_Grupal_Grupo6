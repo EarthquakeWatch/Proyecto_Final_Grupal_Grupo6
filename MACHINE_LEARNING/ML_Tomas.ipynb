{
 "cells": [
  {
   "attachments": {},
   "cell_type": "markdown",
   "metadata": {},
   "source": [
    "# Modelo de predicción sismos EEUU"
   ]
  },
  {
   "cell_type": "code",
   "execution_count": 1,
   "metadata": {},
   "outputs": [],
   "source": [
    "import pandas as pd\n",
    "import geopandas as gpd\n",
    "import matplotlib.pyplot as plt\n",
    "from shapely.geometry import Point\n",
    "from shapely import wkt\n",
    "from shapely.geometry import polygon\n",
    "import numpy as np\n",
    "\n",
    "\n",
    "from sklearn.svm import SVC\n",
    "from sklearn.model_selection import train_test_split\n",
    "from sklearn.preprocessing import StandardScaler\n",
    "from sklearn.metrics import accuracy_score, precision_score, recall_score, f1_score\n",
    "from sklearn.metrics import confusion_matrix"
   ]
  },
  {
   "attachments": {},
   "cell_type": "markdown",
   "metadata": {},
   "source": [
    "# Lectura de archivos shapefile"
   ]
  },
  {
   "attachments": {},
   "cell_type": "markdown",
   "metadata": {},
   "source": [
    "Archivo principal (.shp): Este archivo contiene la geometría de los objetos geoespaciales, como puntos, líneas o polígonos, en formato binario.  \n",
    "\n",
    "Archivo de índice (.shx): Este archivo es un índice de acceso espacial que permite un acceso más rápido a los datos en el archivo principal (.shp). Contiene información sobre la ubicación de cada registro en el archivo principal.  \n",
    "\n",
    "Archivo de atributos (.dbf): Este archivo almacena los atributos o datos no espaciales asociados a los objetos geoespaciales. Puede contener información como nombres, valores, fechas u otra información relevante.  \n",
    " \n",
    "Archivo de metadatos (.prj): Este archivo almacena la información del sistema de referencia de coordenadas (CRS) utilizado en el archivo Shapefile. El CRS define cómo se interpreta y proyecta la geometría espacial en un sistema de coordenadas específico.  "
   ]
  },
  {
   "attachments": {},
   "cell_type": "markdown",
   "metadata": {},
   "source": [
    "# MAPA CENTRO Y ESTE"
   ]
  },
  {
   "cell_type": "code",
   "execution_count": 2,
   "metadata": {},
   "outputs": [],
   "source": [
    "#Leo el shapefile con geopandas\n",
    "gdf_zonasCE = gpd.read_file('Shapefiles\\CEUS_1PctIn1Yr_5Hz.shp')"
   ]
  },
  {
   "cell_type": "code",
   "execution_count": 3,
   "metadata": {},
   "outputs": [
    {
     "data": {
      "text/html": [
       "<div>\n",
       "<style scoped>\n",
       "    .dataframe tbody tr th:only-of-type {\n",
       "        vertical-align: middle;\n",
       "    }\n",
       "\n",
       "    .dataframe tbody tr th {\n",
       "        vertical-align: top;\n",
       "    }\n",
       "\n",
       "    .dataframe thead th {\n",
       "        text-align: right;\n",
       "    }\n",
       "</style>\n",
       "<table border=\"1\" class=\"dataframe\">\n",
       "  <thead>\n",
       "    <tr style=\"text-align: right;\">\n",
       "      <th></th>\n",
       "      <th>ValueRange</th>\n",
       "      <th>geometry</th>\n",
       "    </tr>\n",
       "  </thead>\n",
       "  <tbody>\n",
       "    <tr>\n",
       "      <th>0</th>\n",
       "      <td>40 - 60</td>\n",
       "      <td>POLYGON ((-786984.399 3286941.888, -788200.330...</td>\n",
       "    </tr>\n",
       "    <tr>\n",
       "      <th>1</th>\n",
       "      <td>30 - 40</td>\n",
       "      <td>POLYGON ((-773036.783 3305960.178, -772758.019...</td>\n",
       "    </tr>\n",
       "    <tr>\n",
       "      <th>2</th>\n",
       "      <td>20 - 30</td>\n",
       "      <td>POLYGON ((-766738.972 3314078.833, -765464.024...</td>\n",
       "    </tr>\n",
       "    <tr>\n",
       "      <th>3</th>\n",
       "      <td>16 - 20</td>\n",
       "      <td>POLYGON ((-769309.282 3323964.882, -768067.743...</td>\n",
       "    </tr>\n",
       "    <tr>\n",
       "      <th>4</th>\n",
       "      <td>12 - 16</td>\n",
       "      <td>POLYGON ((-762096.479 3328986.210, -760806.454...</td>\n",
       "    </tr>\n",
       "  </tbody>\n",
       "</table>\n",
       "</div>"
      ],
      "text/plain": [
       "  ValueRange                                           geometry\n",
       "0    40 - 60  POLYGON ((-786984.399 3286941.888, -788200.330...\n",
       "1    30 - 40  POLYGON ((-773036.783 3305960.178, -772758.019...\n",
       "2    20 - 30  POLYGON ((-766738.972 3314078.833, -765464.024...\n",
       "3    16 - 20  POLYGON ((-769309.282 3323964.882, -768067.743...\n",
       "4    12 - 16  POLYGON ((-762096.479 3328986.210, -760806.454..."
      ]
     },
     "execution_count": 3,
     "metadata": {},
     "output_type": "execute_result"
    }
   ],
   "source": [
    "gdf_zonasCE.head()"
   ]
  },
  {
   "cell_type": "code",
   "execution_count": 4,
   "metadata": {},
   "outputs": [
    {
     "data": {
      "text/plain": [
       "array(['40 - 60', '30 - 40', '20 - 30', '16 - 20', '12 - 16', '8 - 12',\n",
       "       '6 - 8', '4 - 6', '< 2', '> 80', '60 - 80', '2 - 4'], dtype=object)"
      ]
     },
     "execution_count": 4,
     "metadata": {},
     "output_type": "execute_result"
    }
   ],
   "source": [
    "gdf_zonasCE.ValueRange.unique()"
   ]
  },
  {
   "cell_type": "code",
   "execution_count": 5,
   "metadata": {},
   "outputs": [
    {
     "name": "stdout",
     "output_type": "stream",
     "text": [
      "<class 'geopandas.geodataframe.GeoDataFrame'>\n",
      "RangeIndex: 65 entries, 0 to 64\n",
      "Data columns (total 2 columns):\n",
      " #   Column      Non-Null Count  Dtype   \n",
      "---  ------      --------------  -----   \n",
      " 0   ValueRange  65 non-null     object  \n",
      " 1   geometry    65 non-null     geometry\n",
      "dtypes: geometry(1), object(1)\n",
      "memory usage: 1.1+ KB\n"
     ]
    }
   ],
   "source": [
    "gdf_zonasCE.info()"
   ]
  },
  {
   "cell_type": "code",
   "execution_count": 6,
   "metadata": {},
   "outputs": [
    {
     "name": "stdout",
     "output_type": "stream",
     "text": [
      "0     POLYGON ((-103.28787 31.11885, -103.30000 31.1...\n",
      "1     POLYGON ((-103.15886 31.30000, -103.15537 31.2...\n",
      "2     POLYGON ((-103.10000 31.37753, -103.08522 31.3...\n",
      "3     POLYGON ((-103.13594 31.46406, -103.12207 31.4...\n",
      "4     POLYGON ((-103.06452 31.51452, -103.05000 31.5...\n",
      "                            ...                        \n",
      "60    MULTIPOLYGON (((-111.50471 37.75000, -111.5151...\n",
      "61    POLYGON ((-105.10897 35.45515, -105.10625 35.4...\n",
      "62    MULTIPOLYGON (((-107.11831 36.35000, -107.1130...\n",
      "63    POLYGON ((-65.00000 48.06236, -65.00000 24.600...\n",
      "64    POLYGON ((-65.00000 48.06236, -65.00199 48.051...\n",
      "Name: geometry, Length: 65, dtype: geometry\n"
     ]
    }
   ],
   "source": [
    "# Definir la proyección de destino (proyección geográfica en grados decimales)\n",
    "crs_destino = 'EPSG:4326'  # WGS84, utilizado comúnmente en coordenadas geográficas\n",
    "\n",
    "# Convertir el GeoDataFrame de zonas a la proyección de destino\n",
    "gdf_zonasCE = gdf_zonasCE.to_crs(crs_destino)\n",
    "\n",
    "# Verificar el nuevo formato de los polígonos\n",
    "print(gdf_zonasCE['geometry'])"
   ]
  },
  {
   "attachments": {},
   "cell_type": "markdown",
   "metadata": {},
   "source": [
    "# MAPA OESTE "
   ]
  },
  {
   "cell_type": "code",
   "execution_count": 7,
   "metadata": {},
   "outputs": [],
   "source": [
    "gdf_zonasW = gpd.read_file('Shapefiles\\WUS_1PctIn1Yr_5Hz.shp')"
   ]
  },
  {
   "cell_type": "code",
   "execution_count": 8,
   "metadata": {},
   "outputs": [
    {
     "data": {
      "text/html": [
       "<div>\n",
       "<style scoped>\n",
       "    .dataframe tbody tr th:only-of-type {\n",
       "        vertical-align: middle;\n",
       "    }\n",
       "\n",
       "    .dataframe tbody tr th {\n",
       "        vertical-align: top;\n",
       "    }\n",
       "\n",
       "    .dataframe thead th {\n",
       "        text-align: right;\n",
       "    }\n",
       "</style>\n",
       "<table border=\"1\" class=\"dataframe\">\n",
       "  <thead>\n",
       "    <tr style=\"text-align: right;\">\n",
       "      <th></th>\n",
       "      <th>ValueRange</th>\n",
       "      <th>geometry</th>\n",
       "    </tr>\n",
       "  </thead>\n",
       "  <tbody>\n",
       "    <tr>\n",
       "      <th>0</th>\n",
       "      <td>20 - 30</td>\n",
       "      <td>POLYGON ((-1662039.603 3115326.005, -1659795.4...</td>\n",
       "    </tr>\n",
       "    <tr>\n",
       "      <th>1</th>\n",
       "      <td>30 - 40</td>\n",
       "      <td>POLYGON ((-1821368.340 3277822.480, -1823606.9...</td>\n",
       "    </tr>\n",
       "    <tr>\n",
       "      <th>2</th>\n",
       "      <td>20 - 30</td>\n",
       "      <td>POLYGON ((-1727780.469 3394543.335, -1727247.2...</td>\n",
       "    </tr>\n",
       "    <tr>\n",
       "      <th>3</th>\n",
       "      <td>12 - 16</td>\n",
       "      <td>POLYGON ((-1861635.333 3477092.816, -1862862.4...</td>\n",
       "    </tr>\n",
       "    <tr>\n",
       "      <th>4</th>\n",
       "      <td>30 - 40</td>\n",
       "      <td>POLYGON ((-1937339.330 3488399.977, -1938269.8...</td>\n",
       "    </tr>\n",
       "  </tbody>\n",
       "</table>\n",
       "</div>"
      ],
      "text/plain": [
       "  ValueRange                                           geometry\n",
       "0    20 - 30  POLYGON ((-1662039.603 3115326.005, -1659795.4...\n",
       "1    30 - 40  POLYGON ((-1821368.340 3277822.480, -1823606.9...\n",
       "2    20 - 30  POLYGON ((-1727780.469 3394543.335, -1727247.2...\n",
       "3    12 - 16  POLYGON ((-1861635.333 3477092.816, -1862862.4...\n",
       "4    30 - 40  POLYGON ((-1937339.330 3488399.977, -1938269.8..."
      ]
     },
     "execution_count": 8,
     "metadata": {},
     "output_type": "execute_result"
    }
   ],
   "source": [
    "gdf_zonasW.head()"
   ]
  },
  {
   "cell_type": "code",
   "execution_count": 9,
   "metadata": {},
   "outputs": [
    {
     "data": {
      "text/plain": [
       "array(['20 - 30', '30 - 40', '12 - 16', '8 - 12', '6 - 8', '60 - 80',\n",
       "       '4 - 6', '> 80', '< 2', '40 - 60', '16 - 20', '2 - 4'],\n",
       "      dtype=object)"
      ]
     },
     "execution_count": 9,
     "metadata": {},
     "output_type": "execute_result"
    }
   ],
   "source": [
    "gdf_zonasW.ValueRange.unique()"
   ]
  },
  {
   "cell_type": "code",
   "execution_count": 10,
   "metadata": {},
   "outputs": [
    {
     "name": "stdout",
     "output_type": "stream",
     "text": [
      "<class 'geopandas.geodataframe.GeoDataFrame'>\n",
      "RangeIndex: 73 entries, 0 to 72\n",
      "Data columns (total 2 columns):\n",
      " #   Column      Non-Null Count  Dtype   \n",
      "---  ------      --------------  -----   \n",
      " 0   ValueRange  73 non-null     object  \n",
      " 1   geometry    73 non-null     geometry\n",
      "dtypes: geometry(1), object(1)\n",
      "memory usage: 1.3+ KB\n"
     ]
    }
   ],
   "source": [
    "gdf_zonasW.info()"
   ]
  },
  {
   "cell_type": "code",
   "execution_count": 11,
   "metadata": {},
   "outputs": [
    {
     "name": "stdout",
     "output_type": "stream",
     "text": [
      "0     POLYGON ((-112.03461 28.53461, -112.01204 28.5...\n",
      "1     POLYGON ((-113.95503 29.70502, -113.97747 29.7...\n",
      "2     POLYGON ((-113.23537 30.90000, -113.22420 30.8...\n",
      "3     POLYGON ((-114.78820 31.38820, -114.80000 31.3...\n",
      "4     POLYGON ((-115.59407 31.34407, -115.60000 31.3...\n",
      "                            ...                        \n",
      "68    MULTIPOLYGON (((-111.19531 39.04844, -111.1988...\n",
      "69    MULTIPOLYGON (((-105.69219 38.15156, -105.6812...\n",
      "70    POLYGON ((-116.78563 50.00000, -116.79933 49.9...\n",
      "71    MULTIPOLYGON (((-124.78926 39.21074, -124.7870...\n",
      "72    POLYGON ((-101.67384 29.44503, -101.67031 29.4...\n",
      "Name: geometry, Length: 73, dtype: geometry\n"
     ]
    }
   ],
   "source": [
    "# Definir la proyección de destino (proyección geográfica en grados decimales)\n",
    "crs_destino = 'EPSG:4326'  # WGS84, utilizado comúnmente en coordenadas geográficas\n",
    "\n",
    "# Convertir el GeoDataFrame de zonas a la proyección de destino\n",
    "gdf_zonasW = gdf_zonasW.to_crs(crs_destino)\n",
    "\n",
    "# Verificar el nuevo formato de los polígonos\n",
    "print(gdf_zonasW['geometry'])"
   ]
  },
  {
   "attachments": {},
   "cell_type": "markdown",
   "metadata": {},
   "source": [
    "# Junto los dos geodataframes"
   ]
  },
  {
   "cell_type": "code",
   "execution_count": 12,
   "metadata": {},
   "outputs": [
    {
     "name": "stderr",
     "output_type": "stream",
     "text": [
      "C:\\Users\\claud\\AppData\\Local\\Temp\\ipykernel_10536\\3050802443.py:2: FutureWarning: The frame.append method is deprecated and will be removed from pandas in a future version. Use pandas.concat instead.\n",
      "  gdf_zonas= gdf_zonasCE.append(gdf_zonasW, ignore_index=True)\n"
     ]
    }
   ],
   "source": [
    "# Unir dos GeoDataFrames\n",
    "gdf_zonas= gdf_zonasCE.append(gdf_zonasW, ignore_index=True)"
   ]
  },
  {
   "cell_type": "code",
   "execution_count": 13,
   "metadata": {},
   "outputs": [
    {
     "data": {
      "text/html": [
       "<div>\n",
       "<style scoped>\n",
       "    .dataframe tbody tr th:only-of-type {\n",
       "        vertical-align: middle;\n",
       "    }\n",
       "\n",
       "    .dataframe tbody tr th {\n",
       "        vertical-align: top;\n",
       "    }\n",
       "\n",
       "    .dataframe thead th {\n",
       "        text-align: right;\n",
       "    }\n",
       "</style>\n",
       "<table border=\"1\" class=\"dataframe\">\n",
       "  <thead>\n",
       "    <tr style=\"text-align: right;\">\n",
       "      <th></th>\n",
       "      <th>ValueRange</th>\n",
       "      <th>geometry</th>\n",
       "    </tr>\n",
       "  </thead>\n",
       "  <tbody>\n",
       "    <tr>\n",
       "      <th>0</th>\n",
       "      <td>40 - 60</td>\n",
       "      <td>POLYGON ((-103.28787 31.11885, -103.30000 31.1...</td>\n",
       "    </tr>\n",
       "    <tr>\n",
       "      <th>1</th>\n",
       "      <td>30 - 40</td>\n",
       "      <td>POLYGON ((-103.15886 31.30000, -103.15537 31.2...</td>\n",
       "    </tr>\n",
       "    <tr>\n",
       "      <th>2</th>\n",
       "      <td>20 - 30</td>\n",
       "      <td>POLYGON ((-103.10000 31.37753, -103.08522 31.3...</td>\n",
       "    </tr>\n",
       "    <tr>\n",
       "      <th>3</th>\n",
       "      <td>16 - 20</td>\n",
       "      <td>POLYGON ((-103.13594 31.46406, -103.12207 31.4...</td>\n",
       "    </tr>\n",
       "    <tr>\n",
       "      <th>4</th>\n",
       "      <td>12 - 16</td>\n",
       "      <td>POLYGON ((-103.06452 31.51452, -103.05000 31.5...</td>\n",
       "    </tr>\n",
       "  </tbody>\n",
       "</table>\n",
       "</div>"
      ],
      "text/plain": [
       "  ValueRange                                           geometry\n",
       "0    40 - 60  POLYGON ((-103.28787 31.11885, -103.30000 31.1...\n",
       "1    30 - 40  POLYGON ((-103.15886 31.30000, -103.15537 31.2...\n",
       "2    20 - 30  POLYGON ((-103.10000 31.37753, -103.08522 31.3...\n",
       "3    16 - 20  POLYGON ((-103.13594 31.46406, -103.12207 31.4...\n",
       "4    12 - 16  POLYGON ((-103.06452 31.51452, -103.05000 31.5..."
      ]
     },
     "execution_count": 13,
     "metadata": {},
     "output_type": "execute_result"
    }
   ],
   "source": [
    "gdf_zonas.head()"
   ]
  },
  {
   "cell_type": "code",
   "execution_count": 14,
   "metadata": {},
   "outputs": [
    {
     "name": "stdout",
     "output_type": "stream",
     "text": [
      "<class 'geopandas.geodataframe.GeoDataFrame'>\n",
      "RangeIndex: 138 entries, 0 to 137\n",
      "Data columns (total 2 columns):\n",
      " #   Column      Non-Null Count  Dtype   \n",
      "---  ------      --------------  -----   \n",
      " 0   ValueRange  138 non-null    object  \n",
      " 1   geometry    138 non-null    geometry\n",
      "dtypes: geometry(1), object(1)\n",
      "memory usage: 2.3+ KB\n"
     ]
    }
   ],
   "source": [
    "gdf_zonas.info()"
   ]
  },
  {
   "attachments": {},
   "cell_type": "markdown",
   "metadata": {},
   "source": [
    "# SISMOS"
   ]
  },
  {
   "cell_type": "code",
   "execution_count": 15,
   "metadata": {},
   "outputs": [],
   "source": [
    "df = pd.read_csv('..\\DASHBOARD\\CSV_TRANSFORMADOS\\Datos_USA.csv')"
   ]
  },
  {
   "cell_type": "code",
   "execution_count": 16,
   "metadata": {},
   "outputs": [
    {
     "name": "stderr",
     "output_type": "stream",
     "text": [
      "C:\\Users\\claud\\AppData\\Local\\Temp\\ipykernel_10536\\2662450449.py:7: UserWarning: Column names longer than 10 characters will be truncated when saved to ESRI Shapefile.\n",
      "  gdf_sismos.to_file(output_shapefile, driver='ESRI Shapefile')\n"
     ]
    }
   ],
   "source": [
    "#Convierte las columnas de latitud y longitud en objetos de geometría de puntos utilizando la clase Point de la biblioteca shapely.\n",
    "geometry = [Point(xy) for xy in zip(df['Longitud'], df['Latitud'])]\n",
    "#Crea un GeoDataFrame a partir del DataFrame original y las geometrías de puntos.\n",
    "gdf_sismos = gpd.GeoDataFrame(df, geometry=geometry)\n",
    "#Utiliza el método to_file del GeoDataFrame para exportar el archivo Shapefile.\n",
    "# output_shapefile = 'sismos_eeuu.shp'  # Nombre del archivo Shapefile de salida\n",
    "# gdf_sismos.to_file(output_shapefile, driver='ESRI Shapefile')"
   ]
  },
  {
   "cell_type": "code",
   "execution_count": 17,
   "metadata": {},
   "outputs": [
    {
     "data": {
      "text/html": [
       "<div>\n",
       "<style scoped>\n",
       "    .dataframe tbody tr th:only-of-type {\n",
       "        vertical-align: middle;\n",
       "    }\n",
       "\n",
       "    .dataframe tbody tr th {\n",
       "        vertical-align: top;\n",
       "    }\n",
       "\n",
       "    .dataframe thead th {\n",
       "        text-align: right;\n",
       "    }\n",
       "</style>\n",
       "<table border=\"1\" class=\"dataframe\">\n",
       "  <thead>\n",
       "    <tr style=\"text-align: right;\">\n",
       "      <th></th>\n",
       "      <th>id</th>\n",
       "      <th>Magnitud</th>\n",
       "      <th>Place</th>\n",
       "      <th>Primer Registro</th>\n",
       "      <th>Ultimo registro</th>\n",
       "      <th>Felt</th>\n",
       "      <th>cdi</th>\n",
       "      <th>mmi</th>\n",
       "      <th>Posibilidad tsunami</th>\n",
       "      <th>Importancia del evento</th>\n",
       "      <th>ids</th>\n",
       "      <th>nst</th>\n",
       "      <th>Dist Horizontal epicentro</th>\n",
       "      <th>RMS</th>\n",
       "      <th>Brecha azimutal</th>\n",
       "      <th>Longitud</th>\n",
       "      <th>Latitud</th>\n",
       "      <th>Profundidad</th>\n",
       "      <th>estado</th>\n",
       "    </tr>\n",
       "  </thead>\n",
       "  <tbody>\n",
       "    <tr>\n",
       "      <th>0</th>\n",
       "      <td>nc73888821</td>\n",
       "      <td>2.83</td>\n",
       "      <td>58km WNW of Petrolia</td>\n",
       "      <td>2023-05-16 16:22:09.380</td>\n",
       "      <td>2023-05-17 02:32:10.393</td>\n",
       "      <td>NaN</td>\n",
       "      <td>NaN</td>\n",
       "      <td>NaN</td>\n",
       "      <td>0</td>\n",
       "      <td>123</td>\n",
       "      <td>,nc73888821,us6000kcbg,</td>\n",
       "      <td>21.0</td>\n",
       "      <td>0.58120</td>\n",
       "      <td>0.28</td>\n",
       "      <td>289.0</td>\n",
       "      <td>-124.955833</td>\n",
       "      <td>40.425335</td>\n",
       "      <td>-0.37</td>\n",
       "      <td>California</td>\n",
       "    </tr>\n",
       "    <tr>\n",
       "      <th>1</th>\n",
       "      <td>nc73888746</td>\n",
       "      <td>3.24</td>\n",
       "      <td>2km NNE of Almanor</td>\n",
       "      <td>2023-05-16 11:37:26.630</td>\n",
       "      <td>2023-05-16 23:58:52.060</td>\n",
       "      <td>18.0</td>\n",
       "      <td>4.3</td>\n",
       "      <td>NaN</td>\n",
       "      <td>0</td>\n",
       "      <td>169</td>\n",
       "      <td>,nc73888746,nn00859587,us6000kc9f,</td>\n",
       "      <td>42.0</td>\n",
       "      <td>0.02014</td>\n",
       "      <td>0.20</td>\n",
       "      <td>33.0</td>\n",
       "      <td>-121.167833</td>\n",
       "      <td>40.237167</td>\n",
       "      <td>6.02</td>\n",
       "      <td>California</td>\n",
       "    </tr>\n",
       "    <tr>\n",
       "      <th>2</th>\n",
       "      <td>ok2023jmlz</td>\n",
       "      <td>2.98</td>\n",
       "      <td>8 km NW of Prague</td>\n",
       "      <td>2023-05-15 21:30:20.910</td>\n",
       "      <td>2023-05-16 00:59:31.375</td>\n",
       "      <td>6.0</td>\n",
       "      <td>3.7</td>\n",
       "      <td>NaN</td>\n",
       "      <td>0</td>\n",
       "      <td>139</td>\n",
       "      <td>,ok2023jmlz,us6000kc5i,</td>\n",
       "      <td>90.0</td>\n",
       "      <td>0.00000</td>\n",
       "      <td>0.14</td>\n",
       "      <td>34.0</td>\n",
       "      <td>-96.749667</td>\n",
       "      <td>35.536000</td>\n",
       "      <td>7.81</td>\n",
       "      <td>Oklahoma</td>\n",
       "    </tr>\n",
       "    <tr>\n",
       "      <th>3</th>\n",
       "      <td>nc73888511</td>\n",
       "      <td>2.60</td>\n",
       "      <td>3km NNE of Prattville</td>\n",
       "      <td>2023-05-15 17:38:58.740</td>\n",
       "      <td>2023-05-15 23:58:18.995</td>\n",
       "      <td>2.0</td>\n",
       "      <td>2.0</td>\n",
       "      <td>NaN</td>\n",
       "      <td>0</td>\n",
       "      <td>104</td>\n",
       "      <td>,nc73888511,nn00859567,</td>\n",
       "      <td>36.0</td>\n",
       "      <td>0.01564</td>\n",
       "      <td>0.18</td>\n",
       "      <td>44.0</td>\n",
       "      <td>-121.142833</td>\n",
       "      <td>40.232167</td>\n",
       "      <td>6.76</td>\n",
       "      <td>California</td>\n",
       "    </tr>\n",
       "    <tr>\n",
       "      <th>4</th>\n",
       "      <td>nc73888396</td>\n",
       "      <td>2.63</td>\n",
       "      <td>41km W of Ferndale</td>\n",
       "      <td>2023-05-15 11:35:46.410</td>\n",
       "      <td>2023-05-15 17:11:12.082</td>\n",
       "      <td>NaN</td>\n",
       "      <td>NaN</td>\n",
       "      <td>NaN</td>\n",
       "      <td>0</td>\n",
       "      <td>106</td>\n",
       "      <td>,nc73888396,</td>\n",
       "      <td>25.0</td>\n",
       "      <td>0.47330</td>\n",
       "      <td>0.16</td>\n",
       "      <td>294.0</td>\n",
       "      <td>-124.746002</td>\n",
       "      <td>40.527000</td>\n",
       "      <td>20.25</td>\n",
       "      <td>California</td>\n",
       "    </tr>\n",
       "  </tbody>\n",
       "</table>\n",
       "</div>"
      ],
      "text/plain": [
       "           id  Magnitud                  Place          Primer Registro  \\\n",
       "0  nc73888821      2.83   58km WNW of Petrolia  2023-05-16 16:22:09.380   \n",
       "1  nc73888746      3.24     2km NNE of Almanor  2023-05-16 11:37:26.630   \n",
       "2  ok2023jmlz      2.98      8 km NW of Prague  2023-05-15 21:30:20.910   \n",
       "3  nc73888511      2.60  3km NNE of Prattville  2023-05-15 17:38:58.740   \n",
       "4  nc73888396      2.63     41km W of Ferndale  2023-05-15 11:35:46.410   \n",
       "\n",
       "           Ultimo registro  Felt  cdi  mmi  Posibilidad tsunami  \\\n",
       "0  2023-05-17 02:32:10.393   NaN  NaN  NaN                    0   \n",
       "1  2023-05-16 23:58:52.060  18.0  4.3  NaN                    0   \n",
       "2  2023-05-16 00:59:31.375   6.0  3.7  NaN                    0   \n",
       "3  2023-05-15 23:58:18.995   2.0  2.0  NaN                    0   \n",
       "4  2023-05-15 17:11:12.082   NaN  NaN  NaN                    0   \n",
       "\n",
       "   Importancia del evento                                 ids   nst  \\\n",
       "0                     123             ,nc73888821,us6000kcbg,  21.0   \n",
       "1                     169  ,nc73888746,nn00859587,us6000kc9f,  42.0   \n",
       "2                     139             ,ok2023jmlz,us6000kc5i,  90.0   \n",
       "3                     104             ,nc73888511,nn00859567,  36.0   \n",
       "4                     106                        ,nc73888396,  25.0   \n",
       "\n",
       "   Dist Horizontal epicentro   RMS  Brecha azimutal    Longitud    Latitud  \\\n",
       "0                    0.58120  0.28            289.0 -124.955833  40.425335   \n",
       "1                    0.02014  0.20             33.0 -121.167833  40.237167   \n",
       "2                    0.00000  0.14             34.0  -96.749667  35.536000   \n",
       "3                    0.01564  0.18             44.0 -121.142833  40.232167   \n",
       "4                    0.47330  0.16            294.0 -124.746002  40.527000   \n",
       "\n",
       "   Profundidad      estado  \n",
       "0        -0.37  California  \n",
       "1         6.02  California  \n",
       "2         7.81    Oklahoma  \n",
       "3         6.76  California  \n",
       "4        20.25  California  "
      ]
     },
     "execution_count": 17,
     "metadata": {},
     "output_type": "execute_result"
    }
   ],
   "source": [
    "df.head()"
   ]
  },
  {
   "cell_type": "code",
   "execution_count": 18,
   "metadata": {},
   "outputs": [
    {
     "data": {
      "text/html": [
       "<div>\n",
       "<style scoped>\n",
       "    .dataframe tbody tr th:only-of-type {\n",
       "        vertical-align: middle;\n",
       "    }\n",
       "\n",
       "    .dataframe tbody tr th {\n",
       "        vertical-align: top;\n",
       "    }\n",
       "\n",
       "    .dataframe thead th {\n",
       "        text-align: right;\n",
       "    }\n",
       "</style>\n",
       "<table border=\"1\" class=\"dataframe\">\n",
       "  <thead>\n",
       "    <tr style=\"text-align: right;\">\n",
       "      <th></th>\n",
       "      <th>id</th>\n",
       "      <th>Magnitud</th>\n",
       "      <th>Place</th>\n",
       "      <th>Primer Registro</th>\n",
       "      <th>Ultimo registro</th>\n",
       "      <th>Felt</th>\n",
       "      <th>cdi</th>\n",
       "      <th>mmi</th>\n",
       "      <th>Posibilidad tsunami</th>\n",
       "      <th>Importancia del evento</th>\n",
       "      <th>ids</th>\n",
       "      <th>nst</th>\n",
       "      <th>Dist Horizontal epicentro</th>\n",
       "      <th>RMS</th>\n",
       "      <th>Brecha azimutal</th>\n",
       "      <th>Longitud</th>\n",
       "      <th>Latitud</th>\n",
       "      <th>Profundidad</th>\n",
       "      <th>estado</th>\n",
       "      <th>geometry</th>\n",
       "    </tr>\n",
       "  </thead>\n",
       "  <tbody>\n",
       "    <tr>\n",
       "      <th>0</th>\n",
       "      <td>nc73888821</td>\n",
       "      <td>2.83</td>\n",
       "      <td>58km WNW of Petrolia</td>\n",
       "      <td>2023-05-16 16:22:09.380</td>\n",
       "      <td>2023-05-17 02:32:10.393</td>\n",
       "      <td>NaN</td>\n",
       "      <td>NaN</td>\n",
       "      <td>NaN</td>\n",
       "      <td>0</td>\n",
       "      <td>123</td>\n",
       "      <td>,nc73888821,us6000kcbg,</td>\n",
       "      <td>21.0</td>\n",
       "      <td>0.58120</td>\n",
       "      <td>0.28</td>\n",
       "      <td>289.0</td>\n",
       "      <td>-124.955833</td>\n",
       "      <td>40.425335</td>\n",
       "      <td>-0.37</td>\n",
       "      <td>California</td>\n",
       "      <td>POINT (-124.95583 40.42533)</td>\n",
       "    </tr>\n",
       "    <tr>\n",
       "      <th>1</th>\n",
       "      <td>nc73888746</td>\n",
       "      <td>3.24</td>\n",
       "      <td>2km NNE of Almanor</td>\n",
       "      <td>2023-05-16 11:37:26.630</td>\n",
       "      <td>2023-05-16 23:58:52.060</td>\n",
       "      <td>18.0</td>\n",
       "      <td>4.3</td>\n",
       "      <td>NaN</td>\n",
       "      <td>0</td>\n",
       "      <td>169</td>\n",
       "      <td>,nc73888746,nn00859587,us6000kc9f,</td>\n",
       "      <td>42.0</td>\n",
       "      <td>0.02014</td>\n",
       "      <td>0.20</td>\n",
       "      <td>33.0</td>\n",
       "      <td>-121.167833</td>\n",
       "      <td>40.237167</td>\n",
       "      <td>6.02</td>\n",
       "      <td>California</td>\n",
       "      <td>POINT (-121.16783 40.23717)</td>\n",
       "    </tr>\n",
       "    <tr>\n",
       "      <th>2</th>\n",
       "      <td>ok2023jmlz</td>\n",
       "      <td>2.98</td>\n",
       "      <td>8 km NW of Prague</td>\n",
       "      <td>2023-05-15 21:30:20.910</td>\n",
       "      <td>2023-05-16 00:59:31.375</td>\n",
       "      <td>6.0</td>\n",
       "      <td>3.7</td>\n",
       "      <td>NaN</td>\n",
       "      <td>0</td>\n",
       "      <td>139</td>\n",
       "      <td>,ok2023jmlz,us6000kc5i,</td>\n",
       "      <td>90.0</td>\n",
       "      <td>0.00000</td>\n",
       "      <td>0.14</td>\n",
       "      <td>34.0</td>\n",
       "      <td>-96.749667</td>\n",
       "      <td>35.536000</td>\n",
       "      <td>7.81</td>\n",
       "      <td>Oklahoma</td>\n",
       "      <td>POINT (-96.74967 35.53600)</td>\n",
       "    </tr>\n",
       "    <tr>\n",
       "      <th>3</th>\n",
       "      <td>nc73888511</td>\n",
       "      <td>2.60</td>\n",
       "      <td>3km NNE of Prattville</td>\n",
       "      <td>2023-05-15 17:38:58.740</td>\n",
       "      <td>2023-05-15 23:58:18.995</td>\n",
       "      <td>2.0</td>\n",
       "      <td>2.0</td>\n",
       "      <td>NaN</td>\n",
       "      <td>0</td>\n",
       "      <td>104</td>\n",
       "      <td>,nc73888511,nn00859567,</td>\n",
       "      <td>36.0</td>\n",
       "      <td>0.01564</td>\n",
       "      <td>0.18</td>\n",
       "      <td>44.0</td>\n",
       "      <td>-121.142833</td>\n",
       "      <td>40.232167</td>\n",
       "      <td>6.76</td>\n",
       "      <td>California</td>\n",
       "      <td>POINT (-121.14283 40.23217)</td>\n",
       "    </tr>\n",
       "    <tr>\n",
       "      <th>4</th>\n",
       "      <td>nc73888396</td>\n",
       "      <td>2.63</td>\n",
       "      <td>41km W of Ferndale</td>\n",
       "      <td>2023-05-15 11:35:46.410</td>\n",
       "      <td>2023-05-15 17:11:12.082</td>\n",
       "      <td>NaN</td>\n",
       "      <td>NaN</td>\n",
       "      <td>NaN</td>\n",
       "      <td>0</td>\n",
       "      <td>106</td>\n",
       "      <td>,nc73888396,</td>\n",
       "      <td>25.0</td>\n",
       "      <td>0.47330</td>\n",
       "      <td>0.16</td>\n",
       "      <td>294.0</td>\n",
       "      <td>-124.746002</td>\n",
       "      <td>40.527000</td>\n",
       "      <td>20.25</td>\n",
       "      <td>California</td>\n",
       "      <td>POINT (-124.74600 40.52700)</td>\n",
       "    </tr>\n",
       "  </tbody>\n",
       "</table>\n",
       "</div>"
      ],
      "text/plain": [
       "           id  Magnitud                  Place          Primer Registro  \\\n",
       "0  nc73888821      2.83   58km WNW of Petrolia  2023-05-16 16:22:09.380   \n",
       "1  nc73888746      3.24     2km NNE of Almanor  2023-05-16 11:37:26.630   \n",
       "2  ok2023jmlz      2.98      8 km NW of Prague  2023-05-15 21:30:20.910   \n",
       "3  nc73888511      2.60  3km NNE of Prattville  2023-05-15 17:38:58.740   \n",
       "4  nc73888396      2.63     41km W of Ferndale  2023-05-15 11:35:46.410   \n",
       "\n",
       "           Ultimo registro  Felt  cdi  mmi  Posibilidad tsunami  \\\n",
       "0  2023-05-17 02:32:10.393   NaN  NaN  NaN                    0   \n",
       "1  2023-05-16 23:58:52.060  18.0  4.3  NaN                    0   \n",
       "2  2023-05-16 00:59:31.375   6.0  3.7  NaN                    0   \n",
       "3  2023-05-15 23:58:18.995   2.0  2.0  NaN                    0   \n",
       "4  2023-05-15 17:11:12.082   NaN  NaN  NaN                    0   \n",
       "\n",
       "   Importancia del evento                                 ids   nst  \\\n",
       "0                     123             ,nc73888821,us6000kcbg,  21.0   \n",
       "1                     169  ,nc73888746,nn00859587,us6000kc9f,  42.0   \n",
       "2                     139             ,ok2023jmlz,us6000kc5i,  90.0   \n",
       "3                     104             ,nc73888511,nn00859567,  36.0   \n",
       "4                     106                        ,nc73888396,  25.0   \n",
       "\n",
       "   Dist Horizontal epicentro   RMS  Brecha azimutal    Longitud    Latitud  \\\n",
       "0                    0.58120  0.28            289.0 -124.955833  40.425335   \n",
       "1                    0.02014  0.20             33.0 -121.167833  40.237167   \n",
       "2                    0.00000  0.14             34.0  -96.749667  35.536000   \n",
       "3                    0.01564  0.18             44.0 -121.142833  40.232167   \n",
       "4                    0.47330  0.16            294.0 -124.746002  40.527000   \n",
       "\n",
       "   Profundidad      estado                     geometry  \n",
       "0        -0.37  California  POINT (-124.95583 40.42533)  \n",
       "1         6.02  California  POINT (-121.16783 40.23717)  \n",
       "2         7.81    Oklahoma   POINT (-96.74967 35.53600)  \n",
       "3         6.76  California  POINT (-121.14283 40.23217)  \n",
       "4        20.25  California  POINT (-124.74600 40.52700)  "
      ]
     },
     "execution_count": 18,
     "metadata": {},
     "output_type": "execute_result"
    }
   ],
   "source": [
    "gdf_sismos.head()"
   ]
  },
  {
   "cell_type": "code",
   "execution_count": 19,
   "metadata": {},
   "outputs": [
    {
     "name": "stdout",
     "output_type": "stream",
     "text": [
      "<class 'geopandas.geodataframe.GeoDataFrame'>\n",
      "RangeIndex: 142593 entries, 0 to 142592\n",
      "Data columns (total 20 columns):\n",
      " #   Column                     Non-Null Count   Dtype   \n",
      "---  ------                     --------------   -----   \n",
      " 0   id                         142593 non-null  object  \n",
      " 1   Magnitud                   142593 non-null  float64 \n",
      " 2   Place                      142490 non-null  object  \n",
      " 3   Primer Registro            142593 non-null  object  \n",
      " 4   Ultimo registro            142593 non-null  object  \n",
      " 5   Felt                       23869 non-null   float64 \n",
      " 6   cdi                        23869 non-null   float64 \n",
      " 7   mmi                        6038 non-null    float64 \n",
      " 8   Posibilidad tsunami        142593 non-null  int64   \n",
      " 9   Importancia del evento     142593 non-null  int64   \n",
      " 10  ids                        142593 non-null  object  \n",
      " 11  nst                        120414 non-null  float64 \n",
      " 12  Dist Horizontal epicentro  93371 non-null   float64 \n",
      " 13  RMS                        137570 non-null  float64 \n",
      " 14  Brecha azimutal            133085 non-null  float64 \n",
      " 15  Longitud                   142593 non-null  float64 \n",
      " 16  Latitud                    142593 non-null  float64 \n",
      " 17  Profundidad                142565 non-null  float64 \n",
      " 18  estado                     140198 non-null  object  \n",
      " 19  geometry                   142593 non-null  geometry\n",
      "dtypes: float64(11), geometry(1), int64(2), object(6)\n",
      "memory usage: 21.8+ MB\n"
     ]
    }
   ],
   "source": [
    "gdf_sismos.info()"
   ]
  },
  {
   "attachments": {},
   "cell_type": "markdown",
   "metadata": {},
   "source": [
    "# Idea  \n",
    "Con poligono.contains(punto), polygon y points genero una columna con el RangeValue del geodataframe de las zonas correspondientes"
   ]
  },
  {
   "cell_type": "code",
   "execution_count": 20,
   "metadata": {},
   "outputs": [
    {
     "name": "stdout",
     "output_type": "stream",
     "text": [
      "None\n",
      "EPSG:4326\n"
     ]
    }
   ],
   "source": [
    "# Verifica el CRS de los GeoDataFrames\n",
    "print(gdf_sismos.crs)\n",
    "print(gdf_zonas.crs)"
   ]
  },
  {
   "attachments": {},
   "cell_type": "markdown",
   "metadata": {},
   "source": [
    "El resultado indica que el GeoDataFrame de los sismos (gdf_sismos) no tiene definido un sistema de referencia espacial (CRS), mientras que el GeoDataFrame de las zonas de riesgo (gdf_zonas) tiene un CRS definido."
   ]
  },
  {
   "cell_type": "code",
   "execution_count": 21,
   "metadata": {},
   "outputs": [
    {
     "name": "stdout",
     "output_type": "stream",
     "text": [
      "EPSG:4326\n",
      "EPSG:4326\n"
     ]
    }
   ],
   "source": [
    "# Asigna el CRS al GeoDataFrame de los sismos\n",
    "gdf_sismos.set_crs(gdf_zonas.crs, inplace=True)\n",
    "\n",
    "print(gdf_sismos.crs)\n",
    "print(gdf_zonas.crs)\n"
   ]
  },
  {
   "cell_type": "code",
   "execution_count": 22,
   "metadata": {},
   "outputs": [],
   "source": [
    "# Establece la columna de geometría en el GeoDataFrame de los sismos\n",
    "gdf_sismos.set_geometry('geometry', inplace=True)\n",
    "\n",
    "# Realiza la unión espacial\n",
    "gdf_sismos_con_zonas = gpd.sjoin(gdf_sismos, gdf_zonas, how='left')"
   ]
  },
  {
   "cell_type": "code",
   "execution_count": 23,
   "metadata": {},
   "outputs": [
    {
     "data": {
      "text/html": [
       "<div>\n",
       "<style scoped>\n",
       "    .dataframe tbody tr th:only-of-type {\n",
       "        vertical-align: middle;\n",
       "    }\n",
       "\n",
       "    .dataframe tbody tr th {\n",
       "        vertical-align: top;\n",
       "    }\n",
       "\n",
       "    .dataframe thead th {\n",
       "        text-align: right;\n",
       "    }\n",
       "</style>\n",
       "<table border=\"1\" class=\"dataframe\">\n",
       "  <thead>\n",
       "    <tr style=\"text-align: right;\">\n",
       "      <th></th>\n",
       "      <th>id</th>\n",
       "      <th>Magnitud</th>\n",
       "      <th>Place</th>\n",
       "      <th>Primer Registro</th>\n",
       "      <th>Ultimo registro</th>\n",
       "      <th>Felt</th>\n",
       "      <th>cdi</th>\n",
       "      <th>mmi</th>\n",
       "      <th>Posibilidad tsunami</th>\n",
       "      <th>Importancia del evento</th>\n",
       "      <th>...</th>\n",
       "      <th>Dist Horizontal epicentro</th>\n",
       "      <th>RMS</th>\n",
       "      <th>Brecha azimutal</th>\n",
       "      <th>Longitud</th>\n",
       "      <th>Latitud</th>\n",
       "      <th>Profundidad</th>\n",
       "      <th>estado</th>\n",
       "      <th>geometry</th>\n",
       "      <th>index_right</th>\n",
       "      <th>ValueRange</th>\n",
       "    </tr>\n",
       "  </thead>\n",
       "  <tbody>\n",
       "    <tr>\n",
       "      <th>0</th>\n",
       "      <td>nc73888821</td>\n",
       "      <td>2.83</td>\n",
       "      <td>58km WNW of Petrolia</td>\n",
       "      <td>2023-05-16 16:22:09.380</td>\n",
       "      <td>2023-05-17 02:32:10.393</td>\n",
       "      <td>NaN</td>\n",
       "      <td>NaN</td>\n",
       "      <td>NaN</td>\n",
       "      <td>0</td>\n",
       "      <td>123</td>\n",
       "      <td>...</td>\n",
       "      <td>0.58120</td>\n",
       "      <td>0.28</td>\n",
       "      <td>289.0</td>\n",
       "      <td>-124.955833</td>\n",
       "      <td>40.425335</td>\n",
       "      <td>-0.37</td>\n",
       "      <td>California</td>\n",
       "      <td>POINT (-124.95583 40.42533)</td>\n",
       "      <td>109</td>\n",
       "      <td>40 - 60</td>\n",
       "    </tr>\n",
       "    <tr>\n",
       "      <th>1</th>\n",
       "      <td>nc73888746</td>\n",
       "      <td>3.24</td>\n",
       "      <td>2km NNE of Almanor</td>\n",
       "      <td>2023-05-16 11:37:26.630</td>\n",
       "      <td>2023-05-16 23:58:52.060</td>\n",
       "      <td>18.0</td>\n",
       "      <td>4.3</td>\n",
       "      <td>NaN</td>\n",
       "      <td>0</td>\n",
       "      <td>169</td>\n",
       "      <td>...</td>\n",
       "      <td>0.02014</td>\n",
       "      <td>0.20</td>\n",
       "      <td>33.0</td>\n",
       "      <td>-121.167833</td>\n",
       "      <td>40.237167</td>\n",
       "      <td>6.02</td>\n",
       "      <td>California</td>\n",
       "      <td>POINT (-121.16783 40.23717)</td>\n",
       "      <td>106</td>\n",
       "      <td>20 - 30</td>\n",
       "    </tr>\n",
       "    <tr>\n",
       "      <th>2</th>\n",
       "      <td>ok2023jmlz</td>\n",
       "      <td>2.98</td>\n",
       "      <td>8 km NW of Prague</td>\n",
       "      <td>2023-05-15 21:30:20.910</td>\n",
       "      <td>2023-05-16 00:59:31.375</td>\n",
       "      <td>6.0</td>\n",
       "      <td>3.7</td>\n",
       "      <td>NaN</td>\n",
       "      <td>0</td>\n",
       "      <td>139</td>\n",
       "      <td>...</td>\n",
       "      <td>0.00000</td>\n",
       "      <td>0.14</td>\n",
       "      <td>34.0</td>\n",
       "      <td>-96.749667</td>\n",
       "      <td>35.536000</td>\n",
       "      <td>7.81</td>\n",
       "      <td>Oklahoma</td>\n",
       "      <td>POINT (-96.74967 35.53600)</td>\n",
       "      <td>34</td>\n",
       "      <td>60 - 80</td>\n",
       "    </tr>\n",
       "    <tr>\n",
       "      <th>3</th>\n",
       "      <td>nc73888511</td>\n",
       "      <td>2.60</td>\n",
       "      <td>3km NNE of Prattville</td>\n",
       "      <td>2023-05-15 17:38:58.740</td>\n",
       "      <td>2023-05-15 23:58:18.995</td>\n",
       "      <td>2.0</td>\n",
       "      <td>2.0</td>\n",
       "      <td>NaN</td>\n",
       "      <td>0</td>\n",
       "      <td>104</td>\n",
       "      <td>...</td>\n",
       "      <td>0.01564</td>\n",
       "      <td>0.18</td>\n",
       "      <td>44.0</td>\n",
       "      <td>-121.142833</td>\n",
       "      <td>40.232167</td>\n",
       "      <td>6.76</td>\n",
       "      <td>California</td>\n",
       "      <td>POINT (-121.14283 40.23217)</td>\n",
       "      <td>106</td>\n",
       "      <td>20 - 30</td>\n",
       "    </tr>\n",
       "    <tr>\n",
       "      <th>4</th>\n",
       "      <td>nc73888396</td>\n",
       "      <td>2.63</td>\n",
       "      <td>41km W of Ferndale</td>\n",
       "      <td>2023-05-15 11:35:46.410</td>\n",
       "      <td>2023-05-15 17:11:12.082</td>\n",
       "      <td>NaN</td>\n",
       "      <td>NaN</td>\n",
       "      <td>NaN</td>\n",
       "      <td>0</td>\n",
       "      <td>106</td>\n",
       "      <td>...</td>\n",
       "      <td>0.47330</td>\n",
       "      <td>0.16</td>\n",
       "      <td>294.0</td>\n",
       "      <td>-124.746002</td>\n",
       "      <td>40.527000</td>\n",
       "      <td>20.25</td>\n",
       "      <td>California</td>\n",
       "      <td>POINT (-124.74600 40.52700)</td>\n",
       "      <td>109</td>\n",
       "      <td>40 - 60</td>\n",
       "    </tr>\n",
       "  </tbody>\n",
       "</table>\n",
       "<p>5 rows × 22 columns</p>\n",
       "</div>"
      ],
      "text/plain": [
       "           id  Magnitud                  Place          Primer Registro  \\\n",
       "0  nc73888821      2.83   58km WNW of Petrolia  2023-05-16 16:22:09.380   \n",
       "1  nc73888746      3.24     2km NNE of Almanor  2023-05-16 11:37:26.630   \n",
       "2  ok2023jmlz      2.98      8 km NW of Prague  2023-05-15 21:30:20.910   \n",
       "3  nc73888511      2.60  3km NNE of Prattville  2023-05-15 17:38:58.740   \n",
       "4  nc73888396      2.63     41km W of Ferndale  2023-05-15 11:35:46.410   \n",
       "\n",
       "           Ultimo registro  Felt  cdi  mmi  Posibilidad tsunami  \\\n",
       "0  2023-05-17 02:32:10.393   NaN  NaN  NaN                    0   \n",
       "1  2023-05-16 23:58:52.060  18.0  4.3  NaN                    0   \n",
       "2  2023-05-16 00:59:31.375   6.0  3.7  NaN                    0   \n",
       "3  2023-05-15 23:58:18.995   2.0  2.0  NaN                    0   \n",
       "4  2023-05-15 17:11:12.082   NaN  NaN  NaN                    0   \n",
       "\n",
       "   Importancia del evento  ... Dist Horizontal epicentro   RMS  \\\n",
       "0                     123  ...                   0.58120  0.28   \n",
       "1                     169  ...                   0.02014  0.20   \n",
       "2                     139  ...                   0.00000  0.14   \n",
       "3                     104  ...                   0.01564  0.18   \n",
       "4                     106  ...                   0.47330  0.16   \n",
       "\n",
       "   Brecha azimutal    Longitud    Latitud  Profundidad      estado  \\\n",
       "0            289.0 -124.955833  40.425335        -0.37  California   \n",
       "1             33.0 -121.167833  40.237167         6.02  California   \n",
       "2             34.0  -96.749667  35.536000         7.81    Oklahoma   \n",
       "3             44.0 -121.142833  40.232167         6.76  California   \n",
       "4            294.0 -124.746002  40.527000        20.25  California   \n",
       "\n",
       "                      geometry index_right ValueRange  \n",
       "0  POINT (-124.95583 40.42533)         109    40 - 60  \n",
       "1  POINT (-121.16783 40.23717)         106    20 - 30  \n",
       "2   POINT (-96.74967 35.53600)          34    60 - 80  \n",
       "3  POINT (-121.14283 40.23217)         106    20 - 30  \n",
       "4  POINT (-124.74600 40.52700)         109    40 - 60  \n",
       "\n",
       "[5 rows x 22 columns]"
      ]
     },
     "execution_count": 23,
     "metadata": {},
     "output_type": "execute_result"
    }
   ],
   "source": [
    "gdf_sismos_con_zonas.head()"
   ]
  },
  {
   "cell_type": "code",
   "execution_count": 24,
   "metadata": {},
   "outputs": [],
   "source": [
    "# # Guardar el GeoDataFrame como CSV\n",
    "# gdf_sismos_con_zonas.to_csv('Sismos_usa_ML.csv', index=False)"
   ]
  },
  {
   "cell_type": "code",
   "execution_count": 25,
   "metadata": {},
   "outputs": [],
   "source": [
    "# # Guardar el GeoDataFrame como CSV\n",
    "# gdf_sismos_con_zonas.to_file(\"Sismos_usa_ML.json\", driver=\"GeoJSON\")"
   ]
  },
  {
   "cell_type": "code",
   "execution_count": 26,
   "metadata": {},
   "outputs": [
    {
     "data": {
      "text/html": [
       "<div>\n",
       "<style scoped>\n",
       "    .dataframe tbody tr th:only-of-type {\n",
       "        vertical-align: middle;\n",
       "    }\n",
       "\n",
       "    .dataframe tbody tr th {\n",
       "        vertical-align: top;\n",
       "    }\n",
       "\n",
       "    .dataframe thead th {\n",
       "        text-align: right;\n",
       "    }\n",
       "</style>\n",
       "<table border=\"1\" class=\"dataframe\">\n",
       "  <thead>\n",
       "    <tr style=\"text-align: right;\">\n",
       "      <th></th>\n",
       "      <th>id</th>\n",
       "      <th>Magnitud</th>\n",
       "      <th>Place</th>\n",
       "      <th>Primer Registro</th>\n",
       "      <th>Ultimo registro</th>\n",
       "      <th>Felt</th>\n",
       "      <th>cdi</th>\n",
       "      <th>mmi</th>\n",
       "      <th>Posibilidad tsunami</th>\n",
       "      <th>Importancia del evento</th>\n",
       "      <th>...</th>\n",
       "      <th>Dist Horizontal epicentro</th>\n",
       "      <th>RMS</th>\n",
       "      <th>Brecha azimutal</th>\n",
       "      <th>Longitud</th>\n",
       "      <th>Latitud</th>\n",
       "      <th>Profundidad</th>\n",
       "      <th>estado</th>\n",
       "      <th>geometry</th>\n",
       "      <th>index_right</th>\n",
       "      <th>ValueRange</th>\n",
       "    </tr>\n",
       "  </thead>\n",
       "  <tbody>\n",
       "    <tr>\n",
       "      <th>0</th>\n",
       "      <td>nc73888821</td>\n",
       "      <td>2.83</td>\n",
       "      <td>58km WNW of Petrolia</td>\n",
       "      <td>2023-05-16 16:22:09.380</td>\n",
       "      <td>2023-05-17 02:32:10.393</td>\n",
       "      <td>NaN</td>\n",
       "      <td>NaN</td>\n",
       "      <td>NaN</td>\n",
       "      <td>0</td>\n",
       "      <td>123</td>\n",
       "      <td>...</td>\n",
       "      <td>0.58120</td>\n",
       "      <td>0.28</td>\n",
       "      <td>289.0</td>\n",
       "      <td>-124.955833</td>\n",
       "      <td>40.425335</td>\n",
       "      <td>-0.37</td>\n",
       "      <td>California</td>\n",
       "      <td>POINT (-124.95583 40.42533)</td>\n",
       "      <td>109</td>\n",
       "      <td>40 - 60</td>\n",
       "    </tr>\n",
       "    <tr>\n",
       "      <th>1</th>\n",
       "      <td>nc73888746</td>\n",
       "      <td>3.24</td>\n",
       "      <td>2km NNE of Almanor</td>\n",
       "      <td>2023-05-16 11:37:26.630</td>\n",
       "      <td>2023-05-16 23:58:52.060</td>\n",
       "      <td>18.0</td>\n",
       "      <td>4.3</td>\n",
       "      <td>NaN</td>\n",
       "      <td>0</td>\n",
       "      <td>169</td>\n",
       "      <td>...</td>\n",
       "      <td>0.02014</td>\n",
       "      <td>0.20</td>\n",
       "      <td>33.0</td>\n",
       "      <td>-121.167833</td>\n",
       "      <td>40.237167</td>\n",
       "      <td>6.02</td>\n",
       "      <td>California</td>\n",
       "      <td>POINT (-121.16783 40.23717)</td>\n",
       "      <td>106</td>\n",
       "      <td>20 - 30</td>\n",
       "    </tr>\n",
       "    <tr>\n",
       "      <th>2</th>\n",
       "      <td>ok2023jmlz</td>\n",
       "      <td>2.98</td>\n",
       "      <td>8 km NW of Prague</td>\n",
       "      <td>2023-05-15 21:30:20.910</td>\n",
       "      <td>2023-05-16 00:59:31.375</td>\n",
       "      <td>6.0</td>\n",
       "      <td>3.7</td>\n",
       "      <td>NaN</td>\n",
       "      <td>0</td>\n",
       "      <td>139</td>\n",
       "      <td>...</td>\n",
       "      <td>0.00000</td>\n",
       "      <td>0.14</td>\n",
       "      <td>34.0</td>\n",
       "      <td>-96.749667</td>\n",
       "      <td>35.536000</td>\n",
       "      <td>7.81</td>\n",
       "      <td>Oklahoma</td>\n",
       "      <td>POINT (-96.74967 35.53600)</td>\n",
       "      <td>34</td>\n",
       "      <td>60 - 80</td>\n",
       "    </tr>\n",
       "    <tr>\n",
       "      <th>3</th>\n",
       "      <td>nc73888511</td>\n",
       "      <td>2.60</td>\n",
       "      <td>3km NNE of Prattville</td>\n",
       "      <td>2023-05-15 17:38:58.740</td>\n",
       "      <td>2023-05-15 23:58:18.995</td>\n",
       "      <td>2.0</td>\n",
       "      <td>2.0</td>\n",
       "      <td>NaN</td>\n",
       "      <td>0</td>\n",
       "      <td>104</td>\n",
       "      <td>...</td>\n",
       "      <td>0.01564</td>\n",
       "      <td>0.18</td>\n",
       "      <td>44.0</td>\n",
       "      <td>-121.142833</td>\n",
       "      <td>40.232167</td>\n",
       "      <td>6.76</td>\n",
       "      <td>California</td>\n",
       "      <td>POINT (-121.14283 40.23217)</td>\n",
       "      <td>106</td>\n",
       "      <td>20 - 30</td>\n",
       "    </tr>\n",
       "    <tr>\n",
       "      <th>4</th>\n",
       "      <td>nc73888396</td>\n",
       "      <td>2.63</td>\n",
       "      <td>41km W of Ferndale</td>\n",
       "      <td>2023-05-15 11:35:46.410</td>\n",
       "      <td>2023-05-15 17:11:12.082</td>\n",
       "      <td>NaN</td>\n",
       "      <td>NaN</td>\n",
       "      <td>NaN</td>\n",
       "      <td>0</td>\n",
       "      <td>106</td>\n",
       "      <td>...</td>\n",
       "      <td>0.47330</td>\n",
       "      <td>0.16</td>\n",
       "      <td>294.0</td>\n",
       "      <td>-124.746002</td>\n",
       "      <td>40.527000</td>\n",
       "      <td>20.25</td>\n",
       "      <td>California</td>\n",
       "      <td>POINT (-124.74600 40.52700)</td>\n",
       "      <td>109</td>\n",
       "      <td>40 - 60</td>\n",
       "    </tr>\n",
       "  </tbody>\n",
       "</table>\n",
       "<p>5 rows × 22 columns</p>\n",
       "</div>"
      ],
      "text/plain": [
       "           id  Magnitud                  Place          Primer Registro  \\\n",
       "0  nc73888821      2.83   58km WNW of Petrolia  2023-05-16 16:22:09.380   \n",
       "1  nc73888746      3.24     2km NNE of Almanor  2023-05-16 11:37:26.630   \n",
       "2  ok2023jmlz      2.98      8 km NW of Prague  2023-05-15 21:30:20.910   \n",
       "3  nc73888511      2.60  3km NNE of Prattville  2023-05-15 17:38:58.740   \n",
       "4  nc73888396      2.63     41km W of Ferndale  2023-05-15 11:35:46.410   \n",
       "\n",
       "           Ultimo registro  Felt  cdi  mmi  Posibilidad tsunami  \\\n",
       "0  2023-05-17 02:32:10.393   NaN  NaN  NaN                    0   \n",
       "1  2023-05-16 23:58:52.060  18.0  4.3  NaN                    0   \n",
       "2  2023-05-16 00:59:31.375   6.0  3.7  NaN                    0   \n",
       "3  2023-05-15 23:58:18.995   2.0  2.0  NaN                    0   \n",
       "4  2023-05-15 17:11:12.082   NaN  NaN  NaN                    0   \n",
       "\n",
       "   Importancia del evento  ... Dist Horizontal epicentro   RMS  \\\n",
       "0                     123  ...                   0.58120  0.28   \n",
       "1                     169  ...                   0.02014  0.20   \n",
       "2                     139  ...                   0.00000  0.14   \n",
       "3                     104  ...                   0.01564  0.18   \n",
       "4                     106  ...                   0.47330  0.16   \n",
       "\n",
       "   Brecha azimutal    Longitud    Latitud  Profundidad      estado  \\\n",
       "0            289.0 -124.955833  40.425335        -0.37  California   \n",
       "1             33.0 -121.167833  40.237167         6.02  California   \n",
       "2             34.0  -96.749667  35.536000         7.81    Oklahoma   \n",
       "3             44.0 -121.142833  40.232167         6.76  California   \n",
       "4            294.0 -124.746002  40.527000        20.25  California   \n",
       "\n",
       "                      geometry index_right ValueRange  \n",
       "0  POINT (-124.95583 40.42533)         109    40 - 60  \n",
       "1  POINT (-121.16783 40.23717)         106    20 - 30  \n",
       "2   POINT (-96.74967 35.53600)          34    60 - 80  \n",
       "3  POINT (-121.14283 40.23217)         106    20 - 30  \n",
       "4  POINT (-124.74600 40.52700)         109    40 - 60  \n",
       "\n",
       "[5 rows x 22 columns]"
      ]
     },
     "execution_count": 26,
     "metadata": {},
     "output_type": "execute_result"
    }
   ],
   "source": [
    "gdf_sismos_con_zonas.head()"
   ]
  },
  {
   "cell_type": "code",
   "execution_count": 27,
   "metadata": {},
   "outputs": [
    {
     "name": "stdout",
     "output_type": "stream",
     "text": [
      "<class 'geopandas.geodataframe.GeoDataFrame'>\n",
      "Int64Index: 142593 entries, 0 to 142592\n",
      "Data columns (total 22 columns):\n",
      " #   Column                     Non-Null Count   Dtype   \n",
      "---  ------                     --------------   -----   \n",
      " 0   id                         142593 non-null  object  \n",
      " 1   Magnitud                   142593 non-null  float64 \n",
      " 2   Place                      142490 non-null  object  \n",
      " 3   Primer Registro            142593 non-null  object  \n",
      " 4   Ultimo registro            142593 non-null  object  \n",
      " 5   Felt                       23869 non-null   float64 \n",
      " 6   cdi                        23869 non-null   float64 \n",
      " 7   mmi                        6038 non-null    float64 \n",
      " 8   Posibilidad tsunami        142593 non-null  int64   \n",
      " 9   Importancia del evento     142593 non-null  int64   \n",
      " 10  ids                        142593 non-null  object  \n",
      " 11  nst                        120414 non-null  float64 \n",
      " 12  Dist Horizontal epicentro  93371 non-null   float64 \n",
      " 13  RMS                        137570 non-null  float64 \n",
      " 14  Brecha azimutal            133085 non-null  float64 \n",
      " 15  Longitud                   142593 non-null  float64 \n",
      " 16  Latitud                    142593 non-null  float64 \n",
      " 17  Profundidad                142565 non-null  float64 \n",
      " 18  estado                     140198 non-null  object  \n",
      " 19  geometry                   142593 non-null  geometry\n",
      " 20  index_right                142593 non-null  int64   \n",
      " 21  ValueRange                 142593 non-null  object  \n",
      "dtypes: float64(11), geometry(1), int64(3), object(7)\n",
      "memory usage: 25.0+ MB\n"
     ]
    }
   ],
   "source": [
    "gdf_sismos_con_zonas.info()"
   ]
  },
  {
   "cell_type": "code",
   "execution_count": 28,
   "metadata": {},
   "outputs": [],
   "source": [
    "gdf_sismos_con_zonas.drop(['Primer Registro', 'Ultimo registro', 'Felt', 'cdi', 'mmi',\n",
    "       'Posibilidad tsunami', 'ids', 'nst',\n",
    "       'RMS', 'Brecha azimutal', 'Dist Horizontal epicentro',\n",
    "       'estado', 'index_right'], axis = 1, inplace=True)"
   ]
  },
  {
   "cell_type": "code",
   "execution_count": 29,
   "metadata": {},
   "outputs": [
    {
     "data": {
      "text/html": [
       "<div>\n",
       "<style scoped>\n",
       "    .dataframe tbody tr th:only-of-type {\n",
       "        vertical-align: middle;\n",
       "    }\n",
       "\n",
       "    .dataframe tbody tr th {\n",
       "        vertical-align: top;\n",
       "    }\n",
       "\n",
       "    .dataframe thead th {\n",
       "        text-align: right;\n",
       "    }\n",
       "</style>\n",
       "<table border=\"1\" class=\"dataframe\">\n",
       "  <thead>\n",
       "    <tr style=\"text-align: right;\">\n",
       "      <th></th>\n",
       "      <th>id</th>\n",
       "      <th>Magnitud</th>\n",
       "      <th>Place</th>\n",
       "      <th>Importancia del evento</th>\n",
       "      <th>Longitud</th>\n",
       "      <th>Latitud</th>\n",
       "      <th>Profundidad</th>\n",
       "      <th>geometry</th>\n",
       "      <th>ValueRange</th>\n",
       "    </tr>\n",
       "  </thead>\n",
       "  <tbody>\n",
       "    <tr>\n",
       "      <th>0</th>\n",
       "      <td>nc73888821</td>\n",
       "      <td>2.83</td>\n",
       "      <td>58km WNW of Petrolia</td>\n",
       "      <td>123</td>\n",
       "      <td>-124.955833</td>\n",
       "      <td>40.425335</td>\n",
       "      <td>-0.37</td>\n",
       "      <td>POINT (-124.95583 40.42533)</td>\n",
       "      <td>40 - 60</td>\n",
       "    </tr>\n",
       "    <tr>\n",
       "      <th>1</th>\n",
       "      <td>nc73888746</td>\n",
       "      <td>3.24</td>\n",
       "      <td>2km NNE of Almanor</td>\n",
       "      <td>169</td>\n",
       "      <td>-121.167833</td>\n",
       "      <td>40.237167</td>\n",
       "      <td>6.02</td>\n",
       "      <td>POINT (-121.16783 40.23717)</td>\n",
       "      <td>20 - 30</td>\n",
       "    </tr>\n",
       "    <tr>\n",
       "      <th>2</th>\n",
       "      <td>ok2023jmlz</td>\n",
       "      <td>2.98</td>\n",
       "      <td>8 km NW of Prague</td>\n",
       "      <td>139</td>\n",
       "      <td>-96.749667</td>\n",
       "      <td>35.536000</td>\n",
       "      <td>7.81</td>\n",
       "      <td>POINT (-96.74967 35.53600)</td>\n",
       "      <td>60 - 80</td>\n",
       "    </tr>\n",
       "    <tr>\n",
       "      <th>3</th>\n",
       "      <td>nc73888511</td>\n",
       "      <td>2.60</td>\n",
       "      <td>3km NNE of Prattville</td>\n",
       "      <td>104</td>\n",
       "      <td>-121.142833</td>\n",
       "      <td>40.232167</td>\n",
       "      <td>6.76</td>\n",
       "      <td>POINT (-121.14283 40.23217)</td>\n",
       "      <td>20 - 30</td>\n",
       "    </tr>\n",
       "    <tr>\n",
       "      <th>4</th>\n",
       "      <td>nc73888396</td>\n",
       "      <td>2.63</td>\n",
       "      <td>41km W of Ferndale</td>\n",
       "      <td>106</td>\n",
       "      <td>-124.746002</td>\n",
       "      <td>40.527000</td>\n",
       "      <td>20.25</td>\n",
       "      <td>POINT (-124.74600 40.52700)</td>\n",
       "      <td>40 - 60</td>\n",
       "    </tr>\n",
       "  </tbody>\n",
       "</table>\n",
       "</div>"
      ],
      "text/plain": [
       "           id  Magnitud                  Place  Importancia del evento  \\\n",
       "0  nc73888821      2.83   58km WNW of Petrolia                     123   \n",
       "1  nc73888746      3.24     2km NNE of Almanor                     169   \n",
       "2  ok2023jmlz      2.98      8 km NW of Prague                     139   \n",
       "3  nc73888511      2.60  3km NNE of Prattville                     104   \n",
       "4  nc73888396      2.63     41km W of Ferndale                     106   \n",
       "\n",
       "     Longitud    Latitud  Profundidad                     geometry ValueRange  \n",
       "0 -124.955833  40.425335        -0.37  POINT (-124.95583 40.42533)    40 - 60  \n",
       "1 -121.167833  40.237167         6.02  POINT (-121.16783 40.23717)    20 - 30  \n",
       "2  -96.749667  35.536000         7.81   POINT (-96.74967 35.53600)    60 - 80  \n",
       "3 -121.142833  40.232167         6.76  POINT (-121.14283 40.23217)    20 - 30  \n",
       "4 -124.746002  40.527000        20.25  POINT (-124.74600 40.52700)    40 - 60  "
      ]
     },
     "execution_count": 29,
     "metadata": {},
     "output_type": "execute_result"
    }
   ],
   "source": [
    "gdf_sismos_con_zonas.head()"
   ]
  },
  {
   "cell_type": "code",
   "execution_count": 30,
   "metadata": {},
   "outputs": [
    {
     "data": {
      "text/html": [
       "<div>\n",
       "<style scoped>\n",
       "    .dataframe tbody tr th:only-of-type {\n",
       "        vertical-align: middle;\n",
       "    }\n",
       "\n",
       "    .dataframe tbody tr th {\n",
       "        vertical-align: top;\n",
       "    }\n",
       "\n",
       "    .dataframe thead th {\n",
       "        text-align: right;\n",
       "    }\n",
       "</style>\n",
       "<table border=\"1\" class=\"dataframe\">\n",
       "  <thead>\n",
       "    <tr style=\"text-align: right;\">\n",
       "      <th></th>\n",
       "      <th>ValueRange</th>\n",
       "      <th>geometry</th>\n",
       "    </tr>\n",
       "  </thead>\n",
       "  <tbody>\n",
       "    <tr>\n",
       "      <th>0</th>\n",
       "      <td>40 - 60</td>\n",
       "      <td>POLYGON ((-103.28787 31.11885, -103.30000 31.1...</td>\n",
       "    </tr>\n",
       "    <tr>\n",
       "      <th>1</th>\n",
       "      <td>30 - 40</td>\n",
       "      <td>POLYGON ((-103.15886 31.30000, -103.15537 31.2...</td>\n",
       "    </tr>\n",
       "    <tr>\n",
       "      <th>2</th>\n",
       "      <td>20 - 30</td>\n",
       "      <td>POLYGON ((-103.10000 31.37753, -103.08522 31.3...</td>\n",
       "    </tr>\n",
       "    <tr>\n",
       "      <th>3</th>\n",
       "      <td>16 - 20</td>\n",
       "      <td>POLYGON ((-103.13594 31.46406, -103.12207 31.4...</td>\n",
       "    </tr>\n",
       "    <tr>\n",
       "      <th>4</th>\n",
       "      <td>12 - 16</td>\n",
       "      <td>POLYGON ((-103.06452 31.51452, -103.05000 31.5...</td>\n",
       "    </tr>\n",
       "  </tbody>\n",
       "</table>\n",
       "</div>"
      ],
      "text/plain": [
       "  ValueRange                                           geometry\n",
       "0    40 - 60  POLYGON ((-103.28787 31.11885, -103.30000 31.1...\n",
       "1    30 - 40  POLYGON ((-103.15886 31.30000, -103.15537 31.2...\n",
       "2    20 - 30  POLYGON ((-103.10000 31.37753, -103.08522 31.3...\n",
       "3    16 - 20  POLYGON ((-103.13594 31.46406, -103.12207 31.4...\n",
       "4    12 - 16  POLYGON ((-103.06452 31.51452, -103.05000 31.5..."
      ]
     },
     "execution_count": 30,
     "metadata": {},
     "output_type": "execute_result"
    }
   ],
   "source": [
    "gdf_zonas.head()"
   ]
  },
  {
   "cell_type": "code",
   "execution_count": 31,
   "metadata": {},
   "outputs": [
    {
     "data": {
      "text/plain": [
       "id                          0\n",
       "Magnitud                    0\n",
       "Place                     103\n",
       "Importancia del evento      0\n",
       "Longitud                    0\n",
       "Latitud                     0\n",
       "Profundidad                28\n",
       "geometry                    0\n",
       "ValueRange                  0\n",
       "dtype: int64"
      ]
     },
     "execution_count": 31,
     "metadata": {},
     "output_type": "execute_result"
    }
   ],
   "source": [
    "gdf_sismos_con_zonas.isnull().sum()"
   ]
  },
  {
   "cell_type": "code",
   "execution_count": 32,
   "metadata": {},
   "outputs": [],
   "source": [
    "gdf_sismos_con_zonas.dropna(inplace = True)"
   ]
  },
  {
   "attachments": {},
   "cell_type": "markdown",
   "metadata": {},
   "source": [
    "## Aplicar método supervisado SVC  \n",
    "El método de aprendizaje supervisado Support Vector Classification (SVC) es un algoritmo utilizado para clasificar datos en dos o más clases. El SVC se basa en la idea de encontrar un hiperplano óptimo que separe las clases en el espacio de características."
   ]
  },
  {
   "attachments": {},
   "cell_type": "markdown",
   "metadata": {},
   "source": [
    "### Preparar las características (atributos)"
   ]
  },
  {
   "cell_type": "code",
   "execution_count": 33,
   "metadata": {},
   "outputs": [],
   "source": [
    "X = gdf_sismos_con_zonas[['Magnitud', 'Longitud', 'Latitud', 'Profundidad']].values"
   ]
  },
  {
   "attachments": {},
   "cell_type": "markdown",
   "metadata": {},
   "source": [
    "### Preparar las etiquetas (clases)"
   ]
  },
  {
   "cell_type": "code",
   "execution_count": 34,
   "metadata": {},
   "outputs": [],
   "source": [
    "y = gdf_sismos_con_zonas['ValueRange'].values"
   ]
  },
  {
   "cell_type": "code",
   "execution_count": 35,
   "metadata": {},
   "outputs": [],
   "source": [
    "#separo el dataframe en entrenamiento y prueba\n",
    "X_train, X_test, y_train, y_test = train_test_split(X, y, test_size=0.2, random_state=42)"
   ]
  },
  {
   "cell_type": "code",
   "execution_count": 36,
   "metadata": {},
   "outputs": [],
   "source": [
    "#normalizo los datos\n",
    "scaler = StandardScaler()\n",
    "X_train = scaler.fit_transform(X_train)\n",
    "X_test = scaler.transform(X_test)"
   ]
  },
  {
   "cell_type": "code",
   "execution_count": 37,
   "metadata": {},
   "outputs": [
    {
     "data": {
      "text/html": [
       "<style>#sk-container-id-1 {color: black;background-color: white;}#sk-container-id-1 pre{padding: 0;}#sk-container-id-1 div.sk-toggleable {background-color: white;}#sk-container-id-1 label.sk-toggleable__label {cursor: pointer;display: block;width: 100%;margin-bottom: 0;padding: 0.3em;box-sizing: border-box;text-align: center;}#sk-container-id-1 label.sk-toggleable__label-arrow:before {content: \"▸\";float: left;margin-right: 0.25em;color: #696969;}#sk-container-id-1 label.sk-toggleable__label-arrow:hover:before {color: black;}#sk-container-id-1 div.sk-estimator:hover label.sk-toggleable__label-arrow:before {color: black;}#sk-container-id-1 div.sk-toggleable__content {max-height: 0;max-width: 0;overflow: hidden;text-align: left;background-color: #f0f8ff;}#sk-container-id-1 div.sk-toggleable__content pre {margin: 0.2em;color: black;border-radius: 0.25em;background-color: #f0f8ff;}#sk-container-id-1 input.sk-toggleable__control:checked~div.sk-toggleable__content {max-height: 200px;max-width: 100%;overflow: auto;}#sk-container-id-1 input.sk-toggleable__control:checked~label.sk-toggleable__label-arrow:before {content: \"▾\";}#sk-container-id-1 div.sk-estimator input.sk-toggleable__control:checked~label.sk-toggleable__label {background-color: #d4ebff;}#sk-container-id-1 div.sk-label input.sk-toggleable__control:checked~label.sk-toggleable__label {background-color: #d4ebff;}#sk-container-id-1 input.sk-hidden--visually {border: 0;clip: rect(1px 1px 1px 1px);clip: rect(1px, 1px, 1px, 1px);height: 1px;margin: -1px;overflow: hidden;padding: 0;position: absolute;width: 1px;}#sk-container-id-1 div.sk-estimator {font-family: monospace;background-color: #f0f8ff;border: 1px dotted black;border-radius: 0.25em;box-sizing: border-box;margin-bottom: 0.5em;}#sk-container-id-1 div.sk-estimator:hover {background-color: #d4ebff;}#sk-container-id-1 div.sk-parallel-item::after {content: \"\";width: 100%;border-bottom: 1px solid gray;flex-grow: 1;}#sk-container-id-1 div.sk-label:hover label.sk-toggleable__label {background-color: #d4ebff;}#sk-container-id-1 div.sk-serial::before {content: \"\";position: absolute;border-left: 1px solid gray;box-sizing: border-box;top: 0;bottom: 0;left: 50%;z-index: 0;}#sk-container-id-1 div.sk-serial {display: flex;flex-direction: column;align-items: center;background-color: white;padding-right: 0.2em;padding-left: 0.2em;position: relative;}#sk-container-id-1 div.sk-item {position: relative;z-index: 1;}#sk-container-id-1 div.sk-parallel {display: flex;align-items: stretch;justify-content: center;background-color: white;position: relative;}#sk-container-id-1 div.sk-item::before, #sk-container-id-1 div.sk-parallel-item::before {content: \"\";position: absolute;border-left: 1px solid gray;box-sizing: border-box;top: 0;bottom: 0;left: 50%;z-index: -1;}#sk-container-id-1 div.sk-parallel-item {display: flex;flex-direction: column;z-index: 1;position: relative;background-color: white;}#sk-container-id-1 div.sk-parallel-item:first-child::after {align-self: flex-end;width: 50%;}#sk-container-id-1 div.sk-parallel-item:last-child::after {align-self: flex-start;width: 50%;}#sk-container-id-1 div.sk-parallel-item:only-child::after {width: 0;}#sk-container-id-1 div.sk-dashed-wrapped {border: 1px dashed gray;margin: 0 0.4em 0.5em 0.4em;box-sizing: border-box;padding-bottom: 0.4em;background-color: white;}#sk-container-id-1 div.sk-label label {font-family: monospace;font-weight: bold;display: inline-block;line-height: 1.2em;}#sk-container-id-1 div.sk-label-container {text-align: center;}#sk-container-id-1 div.sk-container {/* jupyter's `normalize.less` sets `[hidden] { display: none; }` but bootstrap.min.css set `[hidden] { display: none !important; }` so we also need the `!important` here to be able to override the default hidden behavior on the sphinx rendered scikit-learn.org. See: https://github.com/scikit-learn/scikit-learn/issues/21755 */display: inline-block !important;position: relative;}#sk-container-id-1 div.sk-text-repr-fallback {display: none;}</style><div id=\"sk-container-id-1\" class=\"sk-top-container\"><div class=\"sk-text-repr-fallback\"><pre>SVC()</pre><b>In a Jupyter environment, please rerun this cell to show the HTML representation or trust the notebook. <br />On GitHub, the HTML representation is unable to render, please try loading this page with nbviewer.org.</b></div><div class=\"sk-container\" hidden><div class=\"sk-item\"><div class=\"sk-estimator sk-toggleable\"><input class=\"sk-toggleable__control sk-hidden--visually\" id=\"sk-estimator-id-1\" type=\"checkbox\" checked><label for=\"sk-estimator-id-1\" class=\"sk-toggleable__label sk-toggleable__label-arrow\">SVC</label><div class=\"sk-toggleable__content\"><pre>SVC()</pre></div></div></div></div></div>"
      ],
      "text/plain": [
       "SVC()"
      ]
     },
     "execution_count": 37,
     "metadata": {},
     "output_type": "execute_result"
    }
   ],
   "source": [
    "#creo el modelo de aprendizaje supervisado\n",
    "model = SVC()\n",
    "#entreno el modelo SVC:\n",
    "model.fit(X_train, y_train)"
   ]
  },
  {
   "cell_type": "code",
   "execution_count": 38,
   "metadata": {},
   "outputs": [],
   "source": [
    "#evaluo el modelo\n",
    "y_pred = model.predict(X_test)"
   ]
  },
  {
   "attachments": {},
   "cell_type": "markdown",
   "metadata": {},
   "source": [
    "Evaluar la precisión de tu modelo utilizo métricas como la precisión, el recall, el F1-score y la matriz de confusión."
   ]
  },
  {
   "attachments": {},
   "cell_type": "markdown",
   "metadata": {},
   "source": [
    "Precisión: La precisión es la proporción de instancias clasificadas correctamente como positivas (verdaderos positivos) sobre el total de instancias clasificadas como positivas (verdaderos positivos más falsos positivos)."
   ]
  },
  {
   "cell_type": "code",
   "execution_count": 39,
   "metadata": {},
   "outputs": [],
   "source": [
    "# Calcular la precisión del modelo\n",
    "accuracy = accuracy_score(y_test, y_pred)\n",
    "\n",
    "# Calcular la precisión, el recall y el F1-score para cada clase (si es un problema multiclase)\n",
    "precision = precision_score(y_test, y_pred, average='weighted')\n",
    "recall = recall_score(y_test, y_pred, average='weighted')\n",
    "f1 = f1_score(y_test, y_pred, average='weighted')"
   ]
  },
  {
   "cell_type": "code",
   "execution_count": 40,
   "metadata": {},
   "outputs": [
    {
     "data": {
      "text/plain": [
       "0.5327975292177026"
      ]
     },
     "execution_count": 40,
     "metadata": {},
     "output_type": "execute_result"
    }
   ],
   "source": [
    "accuracy"
   ]
  },
  {
   "cell_type": "code",
   "execution_count": 41,
   "metadata": {},
   "outputs": [
    {
     "data": {
      "text/plain": [
       "0.5269818577080402"
      ]
     },
     "execution_count": 41,
     "metadata": {},
     "output_type": "execute_result"
    }
   ],
   "source": [
    "precision"
   ]
  },
  {
   "cell_type": "code",
   "execution_count": 42,
   "metadata": {},
   "outputs": [
    {
     "data": {
      "text/plain": [
       "0.5327975292177026"
      ]
     },
     "execution_count": 42,
     "metadata": {},
     "output_type": "execute_result"
    }
   ],
   "source": [
    "recall"
   ]
  },
  {
   "cell_type": "code",
   "execution_count": 43,
   "metadata": {},
   "outputs": [
    {
     "data": {
      "text/plain": [
       "0.5024343066467809"
      ]
     },
     "execution_count": 43,
     "metadata": {},
     "output_type": "execute_result"
    }
   ],
   "source": [
    "f1"
   ]
  },
  {
   "cell_type": "code",
   "execution_count": 44,
   "metadata": {},
   "outputs": [
    {
     "name": "stdout",
     "output_type": "stream",
     "text": [
      "[[ 989   77    3  494  260   33   51   23    3   81    0   26]\n",
      " [ 154  299    1  796  227   26  188    4    1    9    0   24]\n",
      " [   7    0 1197    9    1  185    0   11    0   15   23    0]\n",
      " [  27  129    3 2462  821   33 1154    4    2    5    0  287]\n",
      " [   6   11   10  601 1656   36 2091    0    3    6    0   79]\n",
      " [  96    4   40   39    6  774    3   47    0   58    5    0]\n",
      " [   1    0    2  253  905   45 4234    0   13   16    0  415]\n",
      " [ 108    8    2   42    7  100   17  254    0  124    1    1]\n",
      " [   0    2    0    9   18    0  597    1   18    0    0 1204]\n",
      " [ 163   19    4  236   55   62   34   56    0  291    0   10]\n",
      " [   0    2   21   15    2    4    0    0    0    2  276    0]\n",
      " [   0    0    0   11    2    0  375    0   10    0    0 2731]]\n"
     ]
    }
   ],
   "source": [
    "# Generar la matriz de confusión\n",
    "confusion_mtx = confusion_matrix(y_test, y_pred)\n",
    "\n",
    "print(confusion_mtx)"
   ]
  },
  {
   "attachments": {},
   "cell_type": "markdown",
   "metadata": {},
   "source": [
    "Idea: separar sismo peligroso o no peligroso"
   ]
  }
 ],
 "metadata": {
  "kernelspec": {
   "display_name": "Python 3",
   "language": "python",
   "name": "python3"
  },
  "language_info": {
   "codemirror_mode": {
    "name": "ipython",
    "version": 3
   },
   "file_extension": ".py",
   "mimetype": "text/x-python",
   "name": "python",
   "nbconvert_exporter": "python",
   "pygments_lexer": "ipython3",
   "version": "3.10.6"
  },
  "orig_nbformat": 4
 },
 "nbformat": 4,
 "nbformat_minor": 2
}
