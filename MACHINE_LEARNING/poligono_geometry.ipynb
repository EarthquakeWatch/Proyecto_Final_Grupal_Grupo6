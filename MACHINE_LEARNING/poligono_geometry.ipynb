{
 "cells": [
  {
   "cell_type": "code",
   "execution_count": null,
   "metadata": {},
   "outputs": [],
   "source": [
    "from shapely.geometry import Polygon, Point\n",
    "\n",
    "# Definir las coordenadas del polígono irregular\n",
    "polygon_coords = [(0, 0), (0, 5), (3, 5), (5, 3), (2, 0)]\n",
    "\n",
    "# Crear un objeto de polígono con las coordenadas\n",
    "polygon = Polygon(polygon_coords)\n",
    "\n",
    "# Definir las coordenadas de un punto a verificar\n",
    "point = Point(2, 2)\n",
    "\n",
    "# Verificar si el punto está dentro del polígono\n",
    "is_inside_polygon = polygon.contains(point)\n",
    "\n",
    "# Imprimir el resultado\n",
    "if is_inside_polygon:\n",
    "    print(\"El punto está dentro del polígono.\")\n",
    "else:\n",
    "    print(\"El punto está fuera del polígono.\")"
   ]
  }
 ],
 "metadata": {
  "kernelspec": {
   "display_name": "Python 3",
   "language": "python",
   "name": "python3"
  },
  "language_info": {
   "name": "python",
   "version": "3.10.4"
  },
  "orig_nbformat": 4
 },
 "nbformat": 4,
 "nbformat_minor": 2
}
