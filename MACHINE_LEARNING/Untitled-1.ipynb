{
 "cells": [
  {
   "cell_type": "code",
   "execution_count": 2,
   "metadata": {},
   "outputs": [],
   "source": [
    "import pandas as pd"
   ]
  },
  {
   "cell_type": "code",
   "execution_count": 4,
   "metadata": {},
   "outputs": [],
   "source": [
    "import random\n",
    "\n",
    "def generar_registros(num_registros):\n",
    "    registros = []\n",
    "    estados = [\"Alabama\", \"Alaska\", \"Arizona\", \"Arkansas\", \"California\", \"Colorado\", \"Connecticut\", \"Delaware\",\n",
    "               \"Florida\", \"Georgia\", \"Hawaii\", \"Idaho\", \"Illinois\", \"Indiana\", \"Iowa\", \"Kansas\", \"Kentucky\",\n",
    "               \"Louisiana\", \"Maine\", \"Maryland\", \"Massachusetts\", \"Michigan\", \"Minnesota\", \"Mississippi\",\n",
    "               \"Missouri\", \"Montana\", \"Nebraska\", \"Nevada\", \"New Hampshire\", \"New Jersey\", \"New Mexico\",\n",
    "               \"New York\", \"North Carolina\", \"North Dakota\", \"Ohio\", \"Oklahoma\", \"Oregon\", \"Pennsylvania\",\n",
    "               \"Rhode Island\", \"South Carolina\", \"South Dakota\", \"Tennessee\", \"Texas\", \"Utah\", \"Vermont\",\n",
    "               \"Virginia\", \"Washington\", \"West Virginia\", \"Wisconsin\", \"Wyoming\"]\n",
    "    clasificaciones = [\"Baja\", \"Media\", \"Alta\"]\n",
    "\n",
    "    for i in range(num_registros):\n",
    "        registro = {}\n",
    "        registro['Año'] = random.randint(2010, 2023)\n",
    "        registro['Estado'] = random.choice(estados)\n",
    "        registro['Clasificación de peligrosidad'] = random.choice(clasificaciones)\n",
    "        registros.append(registro)\n",
    "\n",
    "    return registros\n",
    "\n",
    "# Generar 10,000 registros ficticios\n",
    "registros = generar_registros(10000)\n",
    "\n",
    "# Convertir los registros en un DataFrame\n",
    "df = pd.DataFrame(registros)\n",
    "\n",
    "df.to_csv(path_or_buf='../DASHBOARD/CSV_ORIGINAL/df.csv', index=False)\n"
   ]
  },
  {
   "cell_type": "code",
   "execution_count": 6,
   "metadata": {},
   "outputs": [],
   "source": [
    "grouped = df.groupby(['Año', 'Estado', 'Clasificación de peligrosidad']).size().reset_index(name='Cantidad')"
   ]
  },
  {
   "cell_type": "code",
   "execution_count": 11,
   "metadata": {},
   "outputs": [],
   "source": [
    "grouped.to_csv(path_or_buf='../DASHBOARD/CSV_ORIGINAL/df.csv', index=False)"
   ]
  }
 ],
 "metadata": {
  "kernelspec": {
   "display_name": "Python 3",
   "language": "python",
   "name": "python3"
  },
  "language_info": {
   "codemirror_mode": {
    "name": "ipython",
    "version": 3
   },
   "file_extension": ".py",
   "mimetype": "text/x-python",
   "name": "python",
   "nbconvert_exporter": "python",
   "pygments_lexer": "ipython3",
   "version": "3.10.4"
  },
  "orig_nbformat": 4
 },
 "nbformat": 4,
 "nbformat_minor": 2
}
