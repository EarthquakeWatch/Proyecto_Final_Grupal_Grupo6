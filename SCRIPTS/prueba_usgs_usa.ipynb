{
 "cells": [
  {
   "cell_type": "code",
   "execution_count": 4,
   "metadata": {},
   "outputs": [],
   "source": [
    "#Este código en Python utiliza las bibliotecas requests, json, pandas, folium y numpy para obtener datos sobre terremotos \n",
    "#en los Estados Unidos, convertirlos en un objeto de marco de datos de Pandas y mostrarlos en un mapa utilizando Folium\n",
    "\n",
    "import requests  # importa la biblioteca requests que se usa para hacer solicitudes HTTP a una URL.\n",
    "import json  # importa la biblioteca json que se usa para trabajar con datos JSON.\n",
    "import pandas as pd  # importa la biblioteca pandas como pd, que se utiliza para trabajar con marcos de datos.\n",
    "import numpy as np  # importa la biblioteca numpy como np, que se utiliza para realizar operaciones matemáticas en matrices y arreglos de datos.\n",
    "from datetime import datetime, timedelta\n",
    "import sys"
   ]
  },
  {
   "cell_type": "code",
   "execution_count": 7,
   "metadata": {},
   "outputs": [],
   "source": [
    "\n",
    "def sismo_usa_json_etl(url, filename, format=None):\n",
    "    \n",
    "    # Establecer el tiempo de inicio desde hoy menos 20000 eventos\n",
    "    endtime = datetime.today().strftime('%Y-%m-%dT%H:%M:%S')\n",
    "    starttime = (datetime.today() - timedelta(days=20000)).strftime('%Y-%m-%dT%H:%M:%S')\n",
    "    \n",
    "    # Establecer los demás parámetros de solicitud\n",
    "    params = {\"format\": \"geojson\", \"starttime\": starttime, \"endtime\": endtime, \"minmagnitude\": 2.5,\n",
    "                \"minlatitude\": 24.6, \"maxlatitude\": 50, \"minlongitude\": -125, \"maxlongitude\": -65, \"limit\": 20000}\n",
    "    \n",
    "    # Realizar la solicitud a la API de USGS\n",
    "    response = requests.get(url, params=params)\n",
    "    data = response.json()\n",
    "    \n",
    "    # Obtener solo las características (features)\n",
    "    features = data['features']\n",
    "    \n",
    "    # Convertir las características a un DataFrame\n",
    "    df_sismo = pd.json_normalize(features)\n",
    "    \n",
    "    # Transformar las columnas de tiempo\n",
    "    df_sismo[\"properties.time\"] = pd.to_datetime(df_sismo[\"properties.time\"], unit=\"ms\")\n",
    "    df_sismo[\"properties.updated\"] = pd.to_datetime(df_sismo[\"properties.updated\"], unit=\"ms\")\n",
    "    \n",
    "    # Dividir la columna geometry.coordinates en columnas separadas\n",
    "    df_sismo[[\"Longitud\", \"Latitud\", \"Profundidad\"]] = pd.DataFrame(df_sismo[\"geometry.coordinates\"].tolist())\n",
    "    \n",
    "    df_sismo.drop(columns=[])\n",
    "    \n",
    "    df_sismo.drop(columns=['type',\"properties.tz\",'properties.tz', 'properties.code','properties.url',\n",
    "                           'properties.detail','properties.alert', 'properties.status','properties.types','properties.sources','properties.magType',\n",
    "                           'properties.type', 'properties.title', 'geometry.type'], axis=1, inplace=True)\n",
    "    # Renombrar las columnas\n",
    "    df_sismo = df_sismo.rename(columns={\"properties.mag\": \"Magnitud\",\n",
    "                                        \"properties.time\": \"Primer Registro\",\n",
    "                                        \"properties.updated\": \"Último Registro\",\n",
    "                                        \"properties.place\": \"Ubicación\",\n",
    "                                        \"Longitud\": \"Longitud (grados)\",\n",
    "                                        \"Latitud\": \"Latitud (grados)\",\n",
    "                                        \"Profundidad\": \"Profundidad (km)\"})\n",
    "    \n",
    "    # Guardar el DataFrame en un archivo JSON\n",
    "    # df_sismo.to_json(path_or_buf= '../DASHBOARD/CSV_ORIGINAL/' + filename, orient=\"records\")\n",
    "    \n",
    "    # Devolver el DataFrame\n",
    "    return df_sismo.to_csv(path_or_buf= '../DASHBOARD/CSV_ORIGINAL/' + filename, index=False)"
   ]
  },
  {
   "cell_type": "code",
   "execution_count": 8,
   "metadata": {},
   "outputs": [],
   "source": [
    "filename = 'USA_data.csv'\n",
    "url = r\"https://earthquake.usgs.gov/fdsnws/event/1/query?\"\n",
    "sismo_usa_json_etl(url, filename)"
   ]
  },
  {
   "attachments": {},
   "cell_type": "markdown",
   "metadata": {},
   "source": [
    "#Japon\n",
    "- Latitud mínima: 24.396308\n",
    "- Latitud máxima: 45.551483\n",
    "- Longitud mínima: 122.934570\n",
    "- Longitud máxima: 153.986672"
   ]
  },
  {
   "cell_type": "code",
   "execution_count": 5,
   "metadata": {},
   "outputs": [],
   "source": [
    "def usgs_japon_json_etl(url, filename, format=None):\n",
    "    \n",
    "    # Establecer el tiempo de inicio desde hoy menos 20000 eventos\n",
    "    endtime = datetime.today().strftime('%Y-%m-%dT%H:%M:%S')\n",
    "    starttime = (datetime.today() - timedelta(days=20000)).strftime('%Y-%m-%dT%H:%M:%S')\n",
    "    \n",
    "    # Establecer los demás parámetros de solicitud\n",
    "    params = {\"format\": \"geojson\", \"starttime\": starttime, \"endtime\": endtime, \"minmagnitude\": 2.5,\n",
    "                \"minlatitude\": 24.40, \"maxlatitude\": 45, \"minlongitude\": 122.93, \"maxlongitude\": 153.99, \"limit\": 20000}\n",
    "    \n",
    "    # Realizar la solicitud a la API de USGS\n",
    "    response = requests.get(url, params=params)\n",
    "    data = response.json()\n",
    "    \n",
    "    # Obtener solo las características (features)\n",
    "    features = data['features']\n",
    "    \n",
    "    # Convertir las características a un DataFrame\n",
    "    df_sismo = pd.json_normalize(features)\n",
    "    \n",
    "    # Transformar las columnas de tiempo\n",
    "    df_sismo[\"properties.time\"] = pd.to_datetime(df_sismo[\"properties.time\"], unit=\"ms\")\n",
    "    df_sismo[\"properties.updated\"] = pd.to_datetime(df_sismo[\"properties.updated\"], unit=\"ms\")\n",
    "    \n",
    "    # Dividir la columna geometry.coordinates en columnas separadas\n",
    "    df_sismo[[\"Longitud\", \"Latitud\", \"Profundidad\"]] = pd.DataFrame(df_sismo[\"geometry.coordinates\"].tolist())\n",
    "    \n",
    "    df_sismo.drop(columns=[])\n",
    "    \n",
    "    df_sismo.drop(columns=['type',\"properties.tz\",'properties.tz', 'properties.code','properties.url',\n",
    "                           'properties.detail','properties.alert', 'properties.status','properties.types','properties.sources','properties.magType',\n",
    "                           'properties.type', 'properties.title', 'geometry.type'], axis=1, inplace=True)\n",
    "    # Renombrar las columnas\n",
    "    df_sismo = df_sismo.rename(columns={\"properties.mag\": \"Magnitud\",\n",
    "                                        \"properties.time\": \"Primer Registro\",\n",
    "                                        \"properties.updated\": \"Último Registro\",\n",
    "                                        \"properties.place\": \"Ubicación\",\n",
    "                                        \"Longitud\": \"Longitud (grados)\",\n",
    "                                        \"Latitud\": \"Latitud (grados)\",\n",
    "                                        \"Profundidad\": \"Profundidad (km)\"})\n",
    "    \n",
    "    # Guardar el DataFrame en un archivo JSON\n",
    "    # df_sismo.to_json(path_or_buf= '../DASHBOARD/CSV_ORIGINAL/' + filename, orient=\"records\")\n",
    "    \n",
    "    # Devolver el DataFrame\n",
    "    return df_sismo.to_csv(path_or_buf= '../DASHBOARD/CSV_ORIGINAL/' + filename, index=False)"
   ]
  },
  {
   "cell_type": "code",
   "execution_count": 6,
   "metadata": {},
   "outputs": [],
   "source": [
    "filename = 'JAPON_data.csv'\n",
    "url = r\"https://earthquake.usgs.gov/fdsnws/event/1/query?\"\n",
    "usgs_japon_json_etl(url, filename)"
   ]
  }
 ],
 "metadata": {
  "kernelspec": {
   "display_name": "Python 3",
   "language": "python",
   "name": "python3"
  },
  "language_info": {
   "codemirror_mode": {
    "name": "ipython",
    "version": 3
   },
   "file_extension": ".py",
   "mimetype": "text/x-python",
   "name": "python",
   "nbconvert_exporter": "python",
   "pygments_lexer": "ipython3",
   "version": "3.10.4"
  },
  "orig_nbformat": 4
 },
 "nbformat": 4,
 "nbformat_minor": 2
}
