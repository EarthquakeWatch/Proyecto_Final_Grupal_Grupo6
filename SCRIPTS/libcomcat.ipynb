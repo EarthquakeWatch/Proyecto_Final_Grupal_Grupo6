{
 "cells": [
  {
   "cell_type": "code",
   "execution_count": 33,
   "metadata": {},
   "outputs": [],
   "source": [
    "# Third party imports\n",
    "from IPython.display import display, HTML\n",
    "# Local imports\n",
    "from libcomcat.dataframes import (get_detail_data_frame, get_dyfi_data_frame,\n",
    "                                  get_history_data_frame, get_magnitude_data_frame,\n",
    "                                  get_pager_data_frame, get_phase_dataframe,\n",
    "                                  get_summary_data_frame)\n",
    "from libcomcat.search import search, get_event_by_id\n"
   ]
  },
  {
   "cell_type": "code",
   "execution_count": 34,
   "metadata": {},
   "outputs": [],
   "source": [
    "import pandas as pd"
   ]
  },
  {
   "attachments": {},
   "cell_type": "markdown",
   "metadata": {},
   "source": [
    "(Returns NoneType if no pager product)"
   ]
  },
  {
   "cell_type": "code",
   "execution_count": 35,
   "metadata": {},
   "outputs": [],
   "source": [
    "df = pd.read_csv('../DASHBOARD/CSV_ORIGINAL/raw_alert_usa.csv')"
   ]
  },
  {
   "cell_type": "code",
   "execution_count": 36,
   "metadata": {},
   "outputs": [
    {
     "data": {
      "text/plain": [
       "array(['earthquake'], dtype=object)"
      ]
     },
     "execution_count": 36,
     "metadata": {},
     "output_type": "execute_result"
    }
   ],
   "source": [
    "df[\"properties.type\"].unique()"
   ]
  },
  {
   "cell_type": "code",
   "execution_count": 37,
   "metadata": {},
   "outputs": [],
   "source": [
    "import json"
   ]
  },
  {
   "cell_type": "code",
   "execution_count": 38,
   "metadata": {},
   "outputs": [
    {
     "data": {
      "text/plain": [
       "array(['green', 'yellow', 'orange', 'red'], dtype=object)"
      ]
     },
     "execution_count": 38,
     "metadata": {},
     "output_type": "execute_result"
    }
   ],
   "source": [
    "df[\"properties.alert\"].unique()"
   ]
  },
  {
   "cell_type": "code",
   "execution_count": 39,
   "metadata": {},
   "outputs": [
    {
     "data": {
      "text/html": [
       "<div>\n",
       "<style scoped>\n",
       "    .dataframe tbody tr th:only-of-type {\n",
       "        vertical-align: middle;\n",
       "    }\n",
       "\n",
       "    .dataframe tbody tr th {\n",
       "        vertical-align: top;\n",
       "    }\n",
       "\n",
       "    .dataframe thead th {\n",
       "        text-align: right;\n",
       "    }\n",
       "</style>\n",
       "<table border=\"1\" class=\"dataframe\">\n",
       "  <thead>\n",
       "    <tr style=\"text-align: right;\">\n",
       "      <th></th>\n",
       "      <th>type</th>\n",
       "      <th>id</th>\n",
       "      <th>properties.mag</th>\n",
       "      <th>properties.place</th>\n",
       "      <th>properties.time</th>\n",
       "      <th>properties.updated</th>\n",
       "      <th>properties.tz</th>\n",
       "      <th>properties.url</th>\n",
       "      <th>properties.detail</th>\n",
       "      <th>properties.felt</th>\n",
       "      <th>...</th>\n",
       "      <th>properties.rms</th>\n",
       "      <th>properties.gap</th>\n",
       "      <th>properties.magType</th>\n",
       "      <th>properties.type</th>\n",
       "      <th>properties.title</th>\n",
       "      <th>geometry.type</th>\n",
       "      <th>geometry.coordinates</th>\n",
       "      <th>Longitud</th>\n",
       "      <th>Latitud</th>\n",
       "      <th>Profundidad</th>\n",
       "    </tr>\n",
       "  </thead>\n",
       "  <tbody>\n",
       "    <tr>\n",
       "      <th>0</th>\n",
       "      <td>Feature</td>\n",
       "      <td>nc73887046</td>\n",
       "      <td>5.16</td>\n",
       "      <td>4km NW of Canyondam, CA</td>\n",
       "      <td>2023-05-12 10:18:41.310</td>\n",
       "      <td>2023-05-15 14:53:47.275</td>\n",
       "      <td>NaN</td>\n",
       "      <td>https://earthquake.usgs.gov/earthquakes/eventp...</td>\n",
       "      <td>https://earthquake.usgs.gov/fdsnws/event/1/que...</td>\n",
       "      <td>1347.0</td>\n",
       "      <td>...</td>\n",
       "      <td>0.19</td>\n",
       "      <td>37.0</td>\n",
       "      <td>mw</td>\n",
       "      <td>earthquake</td>\n",
       "      <td>M 5.2 - 4km NW of Canyondam, CA</td>\n",
       "      <td>Point</td>\n",
       "      <td>[-121.0998333, 40.196, 6.06]</td>\n",
       "      <td>-121.099833</td>\n",
       "      <td>40.196000</td>\n",
       "      <td>6.06</td>\n",
       "    </tr>\n",
       "    <tr>\n",
       "      <th>1</th>\n",
       "      <td>Feature</td>\n",
       "      <td>nc73886731</td>\n",
       "      <td>5.48</td>\n",
       "      <td>Lake Almanor Earthquake</td>\n",
       "      <td>2023-05-11 23:19:41.990</td>\n",
       "      <td>2023-05-16 13:39:33.501</td>\n",
       "      <td>NaN</td>\n",
       "      <td>https://earthquake.usgs.gov/earthquakes/eventp...</td>\n",
       "      <td>https://earthquake.usgs.gov/fdsnws/event/1/que...</td>\n",
       "      <td>7013.0</td>\n",
       "      <td>...</td>\n",
       "      <td>0.16</td>\n",
       "      <td>46.0</td>\n",
       "      <td>mw</td>\n",
       "      <td>earthquake</td>\n",
       "      <td>M 5.5 - Lake Almanor Earthquake</td>\n",
       "      <td>Point</td>\n",
       "      <td>[-121.1095, 40.2041667, 5.85]</td>\n",
       "      <td>-121.109500</td>\n",
       "      <td>40.204167</td>\n",
       "      <td>5.85</td>\n",
       "    </tr>\n",
       "    <tr>\n",
       "      <th>2</th>\n",
       "      <td>Feature</td>\n",
       "      <td>ci40215735</td>\n",
       "      <td>4.26</td>\n",
       "      <td>7km WSW of Niland, CA</td>\n",
       "      <td>2023-04-30 07:58:19.380</td>\n",
       "      <td>2023-05-12 09:29:19.854</td>\n",
       "      <td>NaN</td>\n",
       "      <td>https://earthquake.usgs.gov/earthquakes/eventp...</td>\n",
       "      <td>https://earthquake.usgs.gov/fdsnws/event/1/que...</td>\n",
       "      <td>19.0</td>\n",
       "      <td>...</td>\n",
       "      <td>0.26</td>\n",
       "      <td>90.0</td>\n",
       "      <td>mw</td>\n",
       "      <td>earthquake</td>\n",
       "      <td>M 4.3 - 7km WSW of Niland, CA</td>\n",
       "      <td>Point</td>\n",
       "      <td>[-115.5858333, 33.2036667, 1.89]</td>\n",
       "      <td>-115.585833</td>\n",
       "      <td>33.203667</td>\n",
       "      <td>1.89</td>\n",
       "    </tr>\n",
       "    <tr>\n",
       "      <th>3</th>\n",
       "      <td>Feature</td>\n",
       "      <td>ci40215583</td>\n",
       "      <td>4.29</td>\n",
       "      <td>9km SW of Niland, CA</td>\n",
       "      <td>2023-04-30 07:10:10.180</td>\n",
       "      <td>2023-05-14 05:21:36.079</td>\n",
       "      <td>NaN</td>\n",
       "      <td>https://earthquake.usgs.gov/earthquakes/eventp...</td>\n",
       "      <td>https://earthquake.usgs.gov/fdsnws/event/1/que...</td>\n",
       "      <td>5.0</td>\n",
       "      <td>...</td>\n",
       "      <td>0.29</td>\n",
       "      <td>87.0</td>\n",
       "      <td>mw</td>\n",
       "      <td>earthquake</td>\n",
       "      <td>M 4.3 - 9km SW of Niland, CA</td>\n",
       "      <td>Point</td>\n",
       "      <td>[-115.5933333, 33.1893333, 1.88]</td>\n",
       "      <td>-115.593333</td>\n",
       "      <td>33.189333</td>\n",
       "      <td>1.88</td>\n",
       "    </tr>\n",
       "    <tr>\n",
       "      <th>4</th>\n",
       "      <td>Feature</td>\n",
       "      <td>ci40215575</td>\n",
       "      <td>4.33</td>\n",
       "      <td>8km WSW of Niland, CA</td>\n",
       "      <td>2023-04-30 07:09:34.500</td>\n",
       "      <td>2023-05-12 03:32:21.944</td>\n",
       "      <td>NaN</td>\n",
       "      <td>https://earthquake.usgs.gov/earthquakes/eventp...</td>\n",
       "      <td>https://earthquake.usgs.gov/fdsnws/event/1/que...</td>\n",
       "      <td>50.0</td>\n",
       "      <td>...</td>\n",
       "      <td>0.25</td>\n",
       "      <td>88.0</td>\n",
       "      <td>mw</td>\n",
       "      <td>earthquake</td>\n",
       "      <td>M 4.3 - 8km WSW of Niland, CA</td>\n",
       "      <td>Point</td>\n",
       "      <td>[-115.59, 33.2008333, 2.04]</td>\n",
       "      <td>-115.590000</td>\n",
       "      <td>33.200833</td>\n",
       "      <td>2.04</td>\n",
       "    </tr>\n",
       "  </tbody>\n",
       "</table>\n",
       "<p>5 rows × 33 columns</p>\n",
       "</div>"
      ],
      "text/plain": [
       "      type          id  properties.mag         properties.place   \n",
       "0  Feature  nc73887046            5.16  4km NW of Canyondam, CA  \\\n",
       "1  Feature  nc73886731            5.48  Lake Almanor Earthquake   \n",
       "2  Feature  ci40215735            4.26    7km WSW of Niland, CA   \n",
       "3  Feature  ci40215583            4.29     9km SW of Niland, CA   \n",
       "4  Feature  ci40215575            4.33    8km WSW of Niland, CA   \n",
       "\n",
       "           properties.time       properties.updated  properties.tz   \n",
       "0  2023-05-12 10:18:41.310  2023-05-15 14:53:47.275            NaN  \\\n",
       "1  2023-05-11 23:19:41.990  2023-05-16 13:39:33.501            NaN   \n",
       "2  2023-04-30 07:58:19.380  2023-05-12 09:29:19.854            NaN   \n",
       "3  2023-04-30 07:10:10.180  2023-05-14 05:21:36.079            NaN   \n",
       "4  2023-04-30 07:09:34.500  2023-05-12 03:32:21.944            NaN   \n",
       "\n",
       "                                      properties.url   \n",
       "0  https://earthquake.usgs.gov/earthquakes/eventp...  \\\n",
       "1  https://earthquake.usgs.gov/earthquakes/eventp...   \n",
       "2  https://earthquake.usgs.gov/earthquakes/eventp...   \n",
       "3  https://earthquake.usgs.gov/earthquakes/eventp...   \n",
       "4  https://earthquake.usgs.gov/earthquakes/eventp...   \n",
       "\n",
       "                                   properties.detail  properties.felt  ...   \n",
       "0  https://earthquake.usgs.gov/fdsnws/event/1/que...           1347.0  ...  \\\n",
       "1  https://earthquake.usgs.gov/fdsnws/event/1/que...           7013.0  ...   \n",
       "2  https://earthquake.usgs.gov/fdsnws/event/1/que...             19.0  ...   \n",
       "3  https://earthquake.usgs.gov/fdsnws/event/1/que...              5.0  ...   \n",
       "4  https://earthquake.usgs.gov/fdsnws/event/1/que...             50.0  ...   \n",
       "\n",
       "   properties.rms  properties.gap properties.magType properties.type   \n",
       "0            0.19            37.0                 mw      earthquake  \\\n",
       "1            0.16            46.0                 mw      earthquake   \n",
       "2            0.26            90.0                 mw      earthquake   \n",
       "3            0.29            87.0                 mw      earthquake   \n",
       "4            0.25            88.0                 mw      earthquake   \n",
       "\n",
       "                  properties.title  geometry.type   \n",
       "0  M 5.2 - 4km NW of Canyondam, CA          Point  \\\n",
       "1  M 5.5 - Lake Almanor Earthquake          Point   \n",
       "2    M 4.3 - 7km WSW of Niland, CA          Point   \n",
       "3     M 4.3 - 9km SW of Niland, CA          Point   \n",
       "4    M 4.3 - 8km WSW of Niland, CA          Point   \n",
       "\n",
       "               geometry.coordinates    Longitud    Latitud Profundidad  \n",
       "0      [-121.0998333, 40.196, 6.06] -121.099833  40.196000        6.06  \n",
       "1     [-121.1095, 40.2041667, 5.85] -121.109500  40.204167        5.85  \n",
       "2  [-115.5858333, 33.2036667, 1.89] -115.585833  33.203667        1.89  \n",
       "3  [-115.5933333, 33.1893333, 1.88] -115.593333  33.189333        1.88  \n",
       "4       [-115.59, 33.2008333, 2.04] -115.590000  33.200833        2.04  \n",
       "\n",
       "[5 rows x 33 columns]"
      ]
     },
     "execution_count": 39,
     "metadata": {},
     "output_type": "execute_result"
    }
   ],
   "source": [
    "df.head()"
   ]
  },
  {
   "cell_type": "code",
   "execution_count": 29,
   "metadata": {},
   "outputs": [
    {
     "data": {
      "text/html": [
       "<div>\n",
       "<style scoped>\n",
       "    .dataframe tbody tr th:only-of-type {\n",
       "        vertical-align: middle;\n",
       "    }\n",
       "\n",
       "    .dataframe tbody tr th {\n",
       "        vertical-align: top;\n",
       "    }\n",
       "\n",
       "    .dataframe thead th {\n",
       "        text-align: right;\n",
       "    }\n",
       "</style>\n",
       "<table border=\"1\" class=\"dataframe\">\n",
       "  <thead>\n",
       "    <tr style=\"text-align: right;\">\n",
       "      <th></th>\n",
       "      <th>id</th>\n",
       "      <th>location</th>\n",
       "      <th>time</th>\n",
       "      <th>latitude</th>\n",
       "      <th>longitude</th>\n",
       "      <th>depth</th>\n",
       "      <th>magnitude</th>\n",
       "      <th>country</th>\n",
       "      <th>pager_version</th>\n",
       "      <th>mmi1</th>\n",
       "      <th>...</th>\n",
       "      <th>mmi5</th>\n",
       "      <th>mmi6</th>\n",
       "      <th>mmi7</th>\n",
       "      <th>mmi8</th>\n",
       "      <th>mmi9</th>\n",
       "      <th>mmi10</th>\n",
       "      <th>predicted_fatalities</th>\n",
       "      <th>fatality_sigma</th>\n",
       "      <th>predicted_dollars</th>\n",
       "      <th>dollars_sigma</th>\n",
       "    </tr>\n",
       "  </thead>\n",
       "  <tbody>\n",
       "    <tr>\n",
       "      <th>0</th>\n",
       "      <td>us6000kbtz</td>\n",
       "      <td>144 km SSE of Shimoda, Japan</td>\n",
       "      <td>2023-05-14 10:11:35.380</td>\n",
       "      <td>33.4097</td>\n",
       "      <td>139.3129</td>\n",
       "      <td>13.71</td>\n",
       "      <td>5.6</td>\n",
       "      <td>Total</td>\n",
       "      <td>1</td>\n",
       "      <td>0</td>\n",
       "      <td>...</td>\n",
       "      <td>0</td>\n",
       "      <td>0</td>\n",
       "      <td>0</td>\n",
       "      <td>0</td>\n",
       "      <td>0</td>\n",
       "      <td>0</td>\n",
       "      <td>0</td>\n",
       "      <td>1</td>\n",
       "      <td>0</td>\n",
       "      <td>1</td>\n",
       "    </tr>\n",
       "  </tbody>\n",
       "</table>\n",
       "<p>1 rows × 23 columns</p>\n",
       "</div>"
      ],
      "text/plain": [
       "           id                      location                    time  latitude   \n",
       "0  us6000kbtz  144 km SSE of Shimoda, Japan 2023-05-14 10:11:35.380   33.4097  \\\n",
       "\n",
       "   longitude  depth  magnitude country  pager_version  mmi1  ...  mmi5  mmi6   \n",
       "0   139.3129  13.71        5.6   Total              1     0  ...     0     0  \\\n",
       "\n",
       "   mmi7  mmi8  mmi9  mmi10  predicted_fatalities  fatality_sigma   \n",
       "0     0     0     0      0                     0               1  \\\n",
       "\n",
       "   predicted_dollars  dollars_sigma  \n",
       "0                  0              1  \n",
       "\n",
       "[1 rows x 23 columns]"
      ]
     },
     "execution_count": 29,
     "metadata": {},
     "output_type": "execute_result"
    }
   ],
   "source": [
    "pager_event = get_event_by_id('us6000kbtz')\n",
    "pager_country_df = get_pager_data_frame(pager_event, get_losses=True, get_country_exposures=False, get_all_versions=False)\n",
    "pager_country_df"
   ]
  },
  {
   "cell_type": "code",
   "execution_count": 30,
   "metadata": {},
   "outputs": [
    {
     "data": {
      "text/plain": [
       "pandas.core.frame.DataFrame"
      ]
     },
     "execution_count": 30,
     "metadata": {},
     "output_type": "execute_result"
    }
   ],
   "source": [
    "type(pager_country_df)"
   ]
  },
  {
   "cell_type": "code",
   "execution_count": 40,
   "metadata": {},
   "outputs": [
    {
     "ename": "KeyboardInterrupt",
     "evalue": "",
     "output_type": "error",
     "traceback": [
      "\u001b[1;31m---------------------------------------------------------------------------\u001b[0m",
      "\u001b[1;31mKeyboardInterrupt\u001b[0m                         Traceback (most recent call last)",
      "Cell \u001b[1;32mIn[40], line 3\u001b[0m\n\u001b[0;32m      1\u001b[0m extra_data \u001b[39m=\u001b[39m []\n\u001b[0;32m      2\u001b[0m \u001b[39mfor\u001b[39;00m \u001b[39mid\u001b[39m \u001b[39min\u001b[39;00m df[\u001b[39m'\u001b[39m\u001b[39mid\u001b[39m\u001b[39m'\u001b[39m]:\n\u001b[1;32m----> 3\u001b[0m     pager_event \u001b[39m=\u001b[39m get_event_by_id(\u001b[39mid\u001b[39;49m)\n\u001b[0;32m      4\u001b[0m     \u001b[39mtry\u001b[39;00m:\n\u001b[0;32m      5\u001b[0m         pager_country_df \u001b[39m=\u001b[39m get_pager_data_frame(pager_event, get_losses\u001b[39m=\u001b[39m\u001b[39mTrue\u001b[39;00m, get_country_exposures\u001b[39m=\u001b[39m\u001b[39mFalse\u001b[39;00m, get_all_versions\u001b[39m=\u001b[39m\u001b[39mFalse\u001b[39;00m)\n",
      "File \u001b[1;32mc:\\Users\\Usuario\\AppData\\Local\\Programs\\Python\\Python310\\lib\\site-packages\\libcomcat\\search.py:280\u001b[0m, in \u001b[0;36mget_event_by_id\u001b[1;34m(eventid, catalog, includedeleted, includesuperseded, scenario, host)\u001b[0m\n\u001b[0;32m    277\u001b[0m         \u001b[39mcontinue\u001b[39;00m\n\u001b[0;32m    278\u001b[0m     newargs[key] \u001b[39m=\u001b[39m value\n\u001b[1;32m--> 280\u001b[0m event \u001b[39m=\u001b[39m _search(\u001b[39m*\u001b[39m\u001b[39m*\u001b[39mnewargs)  \u001b[39m# this should be a DetailEvent\u001b[39;00m\n\u001b[0;32m    281\u001b[0m \u001b[39mreturn\u001b[39;00m event\n",
      "File \u001b[1;32mc:\\Users\\Usuario\\AppData\\Local\\Programs\\Python\\Python310\\lib\\site-packages\\libcomcat\\search.py:568\u001b[0m, in \u001b[0;36m_search\u001b[1;34m(**newargs)\u001b[0m\n\u001b[0;32m    566\u001b[0m \u001b[39m# handle the case when they're asking for an event id\u001b[39;00m\n\u001b[0;32m    567\u001b[0m \u001b[39mif\u001b[39;00m \u001b[39m\"\u001b[39m\u001b[39meventid\u001b[39m\u001b[39m\"\u001b[39m \u001b[39min\u001b[39;00m newargs:\n\u001b[1;32m--> 568\u001b[0m     \u001b[39mreturn\u001b[39;00m DetailEvent(url)\n\u001b[0;32m    570\u001b[0m \u001b[39mtry\u001b[39;00m:\n\u001b[0;32m    571\u001b[0m     response \u001b[39m=\u001b[39m requests\u001b[39m.\u001b[39mget(url, timeout\u001b[39m=\u001b[39mTIMEOUT, headers\u001b[39m=\u001b[39mHEADERS)\n",
      "File \u001b[1;32mc:\\Users\\Usuario\\AppData\\Local\\Programs\\Python\\Python310\\lib\\site-packages\\libcomcat\\classes.py:384\u001b[0m, in \u001b[0;36mDetailEvent.__init__\u001b[1;34m(self, url)\u001b[0m\n\u001b[0;32m    373\u001b[0m \u001b[39m\u001b[39m\u001b[39m\"\"\"Instantiate a DetailEvent object with a url pointing to detailed GeoJSON.\u001b[39;00m\n\u001b[0;32m    374\u001b[0m \n\u001b[0;32m    375\u001b[0m \u001b[39mSee detailed documentation here:\u001b[39;00m\n\u001b[1;32m   (...)\u001b[0m\n\u001b[0;32m    381\u001b[0m \u001b[39m               event.\u001b[39;00m\n\u001b[0;32m    382\u001b[0m \u001b[39m\"\"\"\u001b[39;00m\n\u001b[0;32m    383\u001b[0m \u001b[39mtry\u001b[39;00m:\n\u001b[1;32m--> 384\u001b[0m     response \u001b[39m=\u001b[39m requests\u001b[39m.\u001b[39;49mget(url, timeout\u001b[39m=\u001b[39;49mTIMEOUT, headers\u001b[39m=\u001b[39;49mHEADERS)\n\u001b[0;32m    385\u001b[0m     \u001b[39mself\u001b[39m\u001b[39m.\u001b[39m_jdict \u001b[39m=\u001b[39m response\u001b[39m.\u001b[39mjson()\n\u001b[0;32m    386\u001b[0m     \u001b[39mself\u001b[39m\u001b[39m.\u001b[39m_actual_url \u001b[39m=\u001b[39m url\n",
      "File \u001b[1;32mc:\\Users\\Usuario\\AppData\\Local\\Programs\\Python\\Python310\\lib\\site-packages\\requests\\api.py:73\u001b[0m, in \u001b[0;36mget\u001b[1;34m(url, params, **kwargs)\u001b[0m\n\u001b[0;32m     62\u001b[0m \u001b[39mdef\u001b[39;00m \u001b[39mget\u001b[39m(url, params\u001b[39m=\u001b[39m\u001b[39mNone\u001b[39;00m, \u001b[39m*\u001b[39m\u001b[39m*\u001b[39mkwargs):\n\u001b[0;32m     63\u001b[0m \u001b[39m    \u001b[39m\u001b[39mr\u001b[39m\u001b[39m\"\"\"Sends a GET request.\u001b[39;00m\n\u001b[0;32m     64\u001b[0m \n\u001b[0;32m     65\u001b[0m \u001b[39m    :param url: URL for the new :class:`Request` object.\u001b[39;00m\n\u001b[1;32m   (...)\u001b[0m\n\u001b[0;32m     70\u001b[0m \u001b[39m    :rtype: requests.Response\u001b[39;00m\n\u001b[0;32m     71\u001b[0m \u001b[39m    \"\"\"\u001b[39;00m\n\u001b[1;32m---> 73\u001b[0m     \u001b[39mreturn\u001b[39;00m request(\u001b[39m\"\u001b[39m\u001b[39mget\u001b[39m\u001b[39m\"\u001b[39m, url, params\u001b[39m=\u001b[39mparams, \u001b[39m*\u001b[39m\u001b[39m*\u001b[39mkwargs)\n",
      "File \u001b[1;32mc:\\Users\\Usuario\\AppData\\Local\\Programs\\Python\\Python310\\lib\\site-packages\\requests\\api.py:59\u001b[0m, in \u001b[0;36mrequest\u001b[1;34m(method, url, **kwargs)\u001b[0m\n\u001b[0;32m     55\u001b[0m \u001b[39m# By using the 'with' statement we are sure the session is closed, thus we\u001b[39;00m\n\u001b[0;32m     56\u001b[0m \u001b[39m# avoid leaving sockets open which can trigger a ResourceWarning in some\u001b[39;00m\n\u001b[0;32m     57\u001b[0m \u001b[39m# cases, and look like a memory leak in others.\u001b[39;00m\n\u001b[0;32m     58\u001b[0m \u001b[39mwith\u001b[39;00m sessions\u001b[39m.\u001b[39mSession() \u001b[39mas\u001b[39;00m session:\n\u001b[1;32m---> 59\u001b[0m     \u001b[39mreturn\u001b[39;00m session\u001b[39m.\u001b[39mrequest(method\u001b[39m=\u001b[39mmethod, url\u001b[39m=\u001b[39murl, \u001b[39m*\u001b[39m\u001b[39m*\u001b[39mkwargs)\n",
      "File \u001b[1;32mc:\\Users\\Usuario\\AppData\\Local\\Programs\\Python\\Python310\\lib\\site-packages\\requests\\sessions.py:587\u001b[0m, in \u001b[0;36mSession.request\u001b[1;34m(self, method, url, params, data, headers, cookies, files, auth, timeout, allow_redirects, proxies, hooks, stream, verify, cert, json)\u001b[0m\n\u001b[0;32m    582\u001b[0m send_kwargs \u001b[39m=\u001b[39m {\n\u001b[0;32m    583\u001b[0m     \u001b[39m\"\u001b[39m\u001b[39mtimeout\u001b[39m\u001b[39m\"\u001b[39m: timeout,\n\u001b[0;32m    584\u001b[0m     \u001b[39m\"\u001b[39m\u001b[39mallow_redirects\u001b[39m\u001b[39m\"\u001b[39m: allow_redirects,\n\u001b[0;32m    585\u001b[0m }\n\u001b[0;32m    586\u001b[0m send_kwargs\u001b[39m.\u001b[39mupdate(settings)\n\u001b[1;32m--> 587\u001b[0m resp \u001b[39m=\u001b[39m \u001b[39mself\u001b[39m\u001b[39m.\u001b[39msend(prep, \u001b[39m*\u001b[39m\u001b[39m*\u001b[39msend_kwargs)\n\u001b[0;32m    589\u001b[0m \u001b[39mreturn\u001b[39;00m resp\n",
      "File \u001b[1;32mc:\\Users\\Usuario\\AppData\\Local\\Programs\\Python\\Python310\\lib\\site-packages\\requests\\sessions.py:701\u001b[0m, in \u001b[0;36mSession.send\u001b[1;34m(self, request, **kwargs)\u001b[0m\n\u001b[0;32m    698\u001b[0m start \u001b[39m=\u001b[39m preferred_clock()\n\u001b[0;32m    700\u001b[0m \u001b[39m# Send the request\u001b[39;00m\n\u001b[1;32m--> 701\u001b[0m r \u001b[39m=\u001b[39m adapter\u001b[39m.\u001b[39msend(request, \u001b[39m*\u001b[39m\u001b[39m*\u001b[39mkwargs)\n\u001b[0;32m    703\u001b[0m \u001b[39m# Total elapsed time of the request (approximately)\u001b[39;00m\n\u001b[0;32m    704\u001b[0m elapsed \u001b[39m=\u001b[39m preferred_clock() \u001b[39m-\u001b[39m start\n",
      "File \u001b[1;32mc:\\Users\\Usuario\\AppData\\Local\\Programs\\Python\\Python310\\lib\\site-packages\\requests\\adapters.py:486\u001b[0m, in \u001b[0;36mHTTPAdapter.send\u001b[1;34m(self, request, stream, timeout, verify, cert, proxies)\u001b[0m\n\u001b[0;32m    483\u001b[0m     timeout \u001b[39m=\u001b[39m TimeoutSauce(connect\u001b[39m=\u001b[39mtimeout, read\u001b[39m=\u001b[39mtimeout)\n\u001b[0;32m    485\u001b[0m \u001b[39mtry\u001b[39;00m:\n\u001b[1;32m--> 486\u001b[0m     resp \u001b[39m=\u001b[39m conn\u001b[39m.\u001b[39;49murlopen(\n\u001b[0;32m    487\u001b[0m         method\u001b[39m=\u001b[39;49mrequest\u001b[39m.\u001b[39;49mmethod,\n\u001b[0;32m    488\u001b[0m         url\u001b[39m=\u001b[39;49murl,\n\u001b[0;32m    489\u001b[0m         body\u001b[39m=\u001b[39;49mrequest\u001b[39m.\u001b[39;49mbody,\n\u001b[0;32m    490\u001b[0m         headers\u001b[39m=\u001b[39;49mrequest\u001b[39m.\u001b[39;49mheaders,\n\u001b[0;32m    491\u001b[0m         redirect\u001b[39m=\u001b[39;49m\u001b[39mFalse\u001b[39;49;00m,\n\u001b[0;32m    492\u001b[0m         assert_same_host\u001b[39m=\u001b[39;49m\u001b[39mFalse\u001b[39;49;00m,\n\u001b[0;32m    493\u001b[0m         preload_content\u001b[39m=\u001b[39;49m\u001b[39mFalse\u001b[39;49;00m,\n\u001b[0;32m    494\u001b[0m         decode_content\u001b[39m=\u001b[39;49m\u001b[39mFalse\u001b[39;49;00m,\n\u001b[0;32m    495\u001b[0m         retries\u001b[39m=\u001b[39;49m\u001b[39mself\u001b[39;49m\u001b[39m.\u001b[39;49mmax_retries,\n\u001b[0;32m    496\u001b[0m         timeout\u001b[39m=\u001b[39;49mtimeout,\n\u001b[0;32m    497\u001b[0m         chunked\u001b[39m=\u001b[39;49mchunked,\n\u001b[0;32m    498\u001b[0m     )\n\u001b[0;32m    500\u001b[0m \u001b[39mexcept\u001b[39;00m (ProtocolError, \u001b[39mOSError\u001b[39;00m) \u001b[39mas\u001b[39;00m err:\n\u001b[0;32m    501\u001b[0m     \u001b[39mraise\u001b[39;00m \u001b[39mConnectionError\u001b[39;00m(err, request\u001b[39m=\u001b[39mrequest)\n",
      "File \u001b[1;32mc:\\Users\\Usuario\\AppData\\Local\\Programs\\Python\\Python310\\lib\\site-packages\\urllib3\\connectionpool.py:703\u001b[0m, in \u001b[0;36mHTTPConnectionPool.urlopen\u001b[1;34m(self, method, url, body, headers, retries, redirect, assert_same_host, timeout, pool_timeout, release_conn, chunked, body_pos, **response_kw)\u001b[0m\n\u001b[0;32m    700\u001b[0m     \u001b[39mself\u001b[39m\u001b[39m.\u001b[39m_prepare_proxy(conn)\n\u001b[0;32m    702\u001b[0m \u001b[39m# Make the request on the httplib connection object.\u001b[39;00m\n\u001b[1;32m--> 703\u001b[0m httplib_response \u001b[39m=\u001b[39m \u001b[39mself\u001b[39;49m\u001b[39m.\u001b[39;49m_make_request(\n\u001b[0;32m    704\u001b[0m     conn,\n\u001b[0;32m    705\u001b[0m     method,\n\u001b[0;32m    706\u001b[0m     url,\n\u001b[0;32m    707\u001b[0m     timeout\u001b[39m=\u001b[39;49mtimeout_obj,\n\u001b[0;32m    708\u001b[0m     body\u001b[39m=\u001b[39;49mbody,\n\u001b[0;32m    709\u001b[0m     headers\u001b[39m=\u001b[39;49mheaders,\n\u001b[0;32m    710\u001b[0m     chunked\u001b[39m=\u001b[39;49mchunked,\n\u001b[0;32m    711\u001b[0m )\n\u001b[0;32m    713\u001b[0m \u001b[39m# If we're going to release the connection in ``finally:``, then\u001b[39;00m\n\u001b[0;32m    714\u001b[0m \u001b[39m# the response doesn't need to know about the connection. Otherwise\u001b[39;00m\n\u001b[0;32m    715\u001b[0m \u001b[39m# it will also try to release it and we'll have a double-release\u001b[39;00m\n\u001b[0;32m    716\u001b[0m \u001b[39m# mess.\u001b[39;00m\n\u001b[0;32m    717\u001b[0m response_conn \u001b[39m=\u001b[39m conn \u001b[39mif\u001b[39;00m \u001b[39mnot\u001b[39;00m release_conn \u001b[39melse\u001b[39;00m \u001b[39mNone\u001b[39;00m\n",
      "File \u001b[1;32mc:\\Users\\Usuario\\AppData\\Local\\Programs\\Python\\Python310\\lib\\site-packages\\urllib3\\connectionpool.py:449\u001b[0m, in \u001b[0;36mHTTPConnectionPool._make_request\u001b[1;34m(self, conn, method, url, timeout, chunked, **httplib_request_kw)\u001b[0m\n\u001b[0;32m    444\u001b[0m             httplib_response \u001b[39m=\u001b[39m conn\u001b[39m.\u001b[39mgetresponse()\n\u001b[0;32m    445\u001b[0m         \u001b[39mexcept\u001b[39;00m \u001b[39mBaseException\u001b[39;00m \u001b[39mas\u001b[39;00m e:\n\u001b[0;32m    446\u001b[0m             \u001b[39m# Remove the TypeError from the exception chain in\u001b[39;00m\n\u001b[0;32m    447\u001b[0m             \u001b[39m# Python 3 (including for exceptions like SystemExit).\u001b[39;00m\n\u001b[0;32m    448\u001b[0m             \u001b[39m# Otherwise it looks like a bug in the code.\u001b[39;00m\n\u001b[1;32m--> 449\u001b[0m             six\u001b[39m.\u001b[39;49mraise_from(e, \u001b[39mNone\u001b[39;49;00m)\n\u001b[0;32m    450\u001b[0m \u001b[39mexcept\u001b[39;00m (SocketTimeout, BaseSSLError, SocketError) \u001b[39mas\u001b[39;00m e:\n\u001b[0;32m    451\u001b[0m     \u001b[39mself\u001b[39m\u001b[39m.\u001b[39m_raise_timeout(err\u001b[39m=\u001b[39me, url\u001b[39m=\u001b[39murl, timeout_value\u001b[39m=\u001b[39mread_timeout)\n",
      "File \u001b[1;32m<string>:3\u001b[0m, in \u001b[0;36mraise_from\u001b[1;34m(value, from_value)\u001b[0m\n",
      "File \u001b[1;32mc:\\Users\\Usuario\\AppData\\Local\\Programs\\Python\\Python310\\lib\\site-packages\\urllib3\\connectionpool.py:444\u001b[0m, in \u001b[0;36mHTTPConnectionPool._make_request\u001b[1;34m(self, conn, method, url, timeout, chunked, **httplib_request_kw)\u001b[0m\n\u001b[0;32m    441\u001b[0m \u001b[39mexcept\u001b[39;00m \u001b[39mTypeError\u001b[39;00m:\n\u001b[0;32m    442\u001b[0m     \u001b[39m# Python 3\u001b[39;00m\n\u001b[0;32m    443\u001b[0m     \u001b[39mtry\u001b[39;00m:\n\u001b[1;32m--> 444\u001b[0m         httplib_response \u001b[39m=\u001b[39m conn\u001b[39m.\u001b[39;49mgetresponse()\n\u001b[0;32m    445\u001b[0m     \u001b[39mexcept\u001b[39;00m \u001b[39mBaseException\u001b[39;00m \u001b[39mas\u001b[39;00m e:\n\u001b[0;32m    446\u001b[0m         \u001b[39m# Remove the TypeError from the exception chain in\u001b[39;00m\n\u001b[0;32m    447\u001b[0m         \u001b[39m# Python 3 (including for exceptions like SystemExit).\u001b[39;00m\n\u001b[0;32m    448\u001b[0m         \u001b[39m# Otherwise it looks like a bug in the code.\u001b[39;00m\n\u001b[0;32m    449\u001b[0m         six\u001b[39m.\u001b[39mraise_from(e, \u001b[39mNone\u001b[39;00m)\n",
      "File \u001b[1;32mc:\\Users\\Usuario\\AppData\\Local\\Programs\\Python\\Python310\\lib\\http\\client.py:1374\u001b[0m, in \u001b[0;36mHTTPConnection.getresponse\u001b[1;34m(self)\u001b[0m\n\u001b[0;32m   1372\u001b[0m \u001b[39mtry\u001b[39;00m:\n\u001b[0;32m   1373\u001b[0m     \u001b[39mtry\u001b[39;00m:\n\u001b[1;32m-> 1374\u001b[0m         response\u001b[39m.\u001b[39;49mbegin()\n\u001b[0;32m   1375\u001b[0m     \u001b[39mexcept\u001b[39;00m \u001b[39mConnectionError\u001b[39;00m:\n\u001b[0;32m   1376\u001b[0m         \u001b[39mself\u001b[39m\u001b[39m.\u001b[39mclose()\n",
      "File \u001b[1;32mc:\\Users\\Usuario\\AppData\\Local\\Programs\\Python\\Python310\\lib\\http\\client.py:318\u001b[0m, in \u001b[0;36mHTTPResponse.begin\u001b[1;34m(self)\u001b[0m\n\u001b[0;32m    316\u001b[0m \u001b[39m# read until we get a non-100 response\u001b[39;00m\n\u001b[0;32m    317\u001b[0m \u001b[39mwhile\u001b[39;00m \u001b[39mTrue\u001b[39;00m:\n\u001b[1;32m--> 318\u001b[0m     version, status, reason \u001b[39m=\u001b[39m \u001b[39mself\u001b[39;49m\u001b[39m.\u001b[39;49m_read_status()\n\u001b[0;32m    319\u001b[0m     \u001b[39mif\u001b[39;00m status \u001b[39m!=\u001b[39m CONTINUE:\n\u001b[0;32m    320\u001b[0m         \u001b[39mbreak\u001b[39;00m\n",
      "File \u001b[1;32mc:\\Users\\Usuario\\AppData\\Local\\Programs\\Python\\Python310\\lib\\http\\client.py:279\u001b[0m, in \u001b[0;36mHTTPResponse._read_status\u001b[1;34m(self)\u001b[0m\n\u001b[0;32m    278\u001b[0m \u001b[39mdef\u001b[39;00m \u001b[39m_read_status\u001b[39m(\u001b[39mself\u001b[39m):\n\u001b[1;32m--> 279\u001b[0m     line \u001b[39m=\u001b[39m \u001b[39mstr\u001b[39m(\u001b[39mself\u001b[39;49m\u001b[39m.\u001b[39;49mfp\u001b[39m.\u001b[39;49mreadline(_MAXLINE \u001b[39m+\u001b[39;49m \u001b[39m1\u001b[39;49m), \u001b[39m\"\u001b[39m\u001b[39miso-8859-1\u001b[39m\u001b[39m\"\u001b[39m)\n\u001b[0;32m    280\u001b[0m     \u001b[39mif\u001b[39;00m \u001b[39mlen\u001b[39m(line) \u001b[39m>\u001b[39m _MAXLINE:\n\u001b[0;32m    281\u001b[0m         \u001b[39mraise\u001b[39;00m LineTooLong(\u001b[39m\"\u001b[39m\u001b[39mstatus line\u001b[39m\u001b[39m\"\u001b[39m)\n",
      "File \u001b[1;32mc:\\Users\\Usuario\\AppData\\Local\\Programs\\Python\\Python310\\lib\\socket.py:705\u001b[0m, in \u001b[0;36mSocketIO.readinto\u001b[1;34m(self, b)\u001b[0m\n\u001b[0;32m    703\u001b[0m \u001b[39mwhile\u001b[39;00m \u001b[39mTrue\u001b[39;00m:\n\u001b[0;32m    704\u001b[0m     \u001b[39mtry\u001b[39;00m:\n\u001b[1;32m--> 705\u001b[0m         \u001b[39mreturn\u001b[39;00m \u001b[39mself\u001b[39;49m\u001b[39m.\u001b[39;49m_sock\u001b[39m.\u001b[39;49mrecv_into(b)\n\u001b[0;32m    706\u001b[0m     \u001b[39mexcept\u001b[39;00m timeout:\n\u001b[0;32m    707\u001b[0m         \u001b[39mself\u001b[39m\u001b[39m.\u001b[39m_timeout_occurred \u001b[39m=\u001b[39m \u001b[39mTrue\u001b[39;00m\n",
      "File \u001b[1;32mc:\\Users\\Usuario\\AppData\\Local\\Programs\\Python\\Python310\\lib\\ssl.py:1273\u001b[0m, in \u001b[0;36mSSLSocket.recv_into\u001b[1;34m(self, buffer, nbytes, flags)\u001b[0m\n\u001b[0;32m   1269\u001b[0m     \u001b[39mif\u001b[39;00m flags \u001b[39m!=\u001b[39m \u001b[39m0\u001b[39m:\n\u001b[0;32m   1270\u001b[0m         \u001b[39mraise\u001b[39;00m \u001b[39mValueError\u001b[39;00m(\n\u001b[0;32m   1271\u001b[0m           \u001b[39m\"\u001b[39m\u001b[39mnon-zero flags not allowed in calls to recv_into() on \u001b[39m\u001b[39m%s\u001b[39;00m\u001b[39m\"\u001b[39m \u001b[39m%\u001b[39m\n\u001b[0;32m   1272\u001b[0m           \u001b[39mself\u001b[39m\u001b[39m.\u001b[39m\u001b[39m__class__\u001b[39m)\n\u001b[1;32m-> 1273\u001b[0m     \u001b[39mreturn\u001b[39;00m \u001b[39mself\u001b[39;49m\u001b[39m.\u001b[39;49mread(nbytes, buffer)\n\u001b[0;32m   1274\u001b[0m \u001b[39melse\u001b[39;00m:\n\u001b[0;32m   1275\u001b[0m     \u001b[39mreturn\u001b[39;00m \u001b[39msuper\u001b[39m()\u001b[39m.\u001b[39mrecv_into(buffer, nbytes, flags)\n",
      "File \u001b[1;32mc:\\Users\\Usuario\\AppData\\Local\\Programs\\Python\\Python310\\lib\\ssl.py:1129\u001b[0m, in \u001b[0;36mSSLSocket.read\u001b[1;34m(self, len, buffer)\u001b[0m\n\u001b[0;32m   1127\u001b[0m \u001b[39mtry\u001b[39;00m:\n\u001b[0;32m   1128\u001b[0m     \u001b[39mif\u001b[39;00m buffer \u001b[39mis\u001b[39;00m \u001b[39mnot\u001b[39;00m \u001b[39mNone\u001b[39;00m:\n\u001b[1;32m-> 1129\u001b[0m         \u001b[39mreturn\u001b[39;00m \u001b[39mself\u001b[39;49m\u001b[39m.\u001b[39;49m_sslobj\u001b[39m.\u001b[39;49mread(\u001b[39mlen\u001b[39;49m, buffer)\n\u001b[0;32m   1130\u001b[0m     \u001b[39melse\u001b[39;00m:\n\u001b[0;32m   1131\u001b[0m         \u001b[39mreturn\u001b[39;00m \u001b[39mself\u001b[39m\u001b[39m.\u001b[39m_sslobj\u001b[39m.\u001b[39mread(\u001b[39mlen\u001b[39m)\n",
      "\u001b[1;31mKeyboardInterrupt\u001b[0m: "
     ]
    }
   ],
   "source": [
    "extra_data = []\n",
    "for id in df['id']:\n",
    "    pager_event = get_event_by_id(id)\n",
    "    try:\n",
    "        pager_country_df = get_pager_data_frame(pager_event, get_losses=True, get_country_exposures=False, get_all_versions=False)\n",
    "    except KeyError:\n",
    "        display(\"['fatality_sigma', 'dollars_sigma'] not in index\")\n",
    "    if pager_country_df is not None:\n",
    "        pager_country_df = pager_country_df[['id', 'mmi1', 'mmi2', 'mmi3', 'mmi4', 'mmi5', 'mmi6', 'mmi7', 'mmi8', 'mmi9', 'mmi10',\n",
    "                    'predicted_fatalities', 'fatality_sigma', 'predicted_dollars', 'dollars_sigma']]\n",
    "        extra_data.append(pager_country_df)\n",
    "\n",
    "df_concat = pd.concat(extra_data, ignore_index=True)\n",
    "df_pager = pd.merge(df_concat, df, on='id', how='inner')"
   ]
  },
  {
   "cell_type": "code",
   "execution_count": null,
   "metadata": {},
   "outputs": [],
   "source": [
    "# extra_data = []\n",
    "# for id in df['id']:\n",
    "#     pager_event = get_event_by_id(id)\n",
    "#     try:\n",
    "#         pager_country_df = get_pager_data_frame(pager_event, get_losses=True, get_country_exposures=False, get_all_versions=False)\n",
    "#     except KeyError:\n",
    "#         display(\"['fatality_sigma', 'dollars_sigma'] not in index\")\n",
    "#     if pager_country_df is not None and not pager_country_df.empty:\n",
    "#         try:\n",
    "#             pager_country_json = pager_country_df.to_json()\n",
    "#             pager_country_data = json.loads(pager_country_json)\n",
    "#             extra_data.append(pager_country_df)\n",
    "#         except json.JSONDecodeError as e:\n",
    "#             print(f\"Error decoding JSON for id {id}: {e}\")\n",
    "#             continue\n",
    "\n",
    "# display(extra_data)\n"
   ]
  }
 ],
 "metadata": {
  "kernelspec": {
   "display_name": "Python 3",
   "language": "python",
   "name": "python3"
  },
  "language_info": {
   "codemirror_mode": {
    "name": "ipython",
    "version": 3
   },
   "file_extension": ".py",
   "mimetype": "text/x-python",
   "name": "python",
   "nbconvert_exporter": "python",
   "pygments_lexer": "ipython3",
   "version": "3.10.4"
  },
  "orig_nbformat": 4
 },
 "nbformat": 4,
 "nbformat_minor": 2
}
