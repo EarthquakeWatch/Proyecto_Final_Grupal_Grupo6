{
 "cells": [
  {
   "cell_type": "code",
   "execution_count": 2,
   "metadata": {},
   "outputs": [],
   "source": [
    "# Third party imports\n",
    "from IPython.display import display, HTML\n",
    "# Local imports\n",
    "from libcomcat.dataframes import (get_detail_data_frame, get_dyfi_data_frame,\n",
    "                                  get_history_data_frame, get_magnitude_data_frame,\n",
    "                                  get_pager_data_frame, get_phase_dataframe,\n",
    "                                  get_summary_data_frame)\n",
    "from libcomcat.search import search, get_event_by_id\n"
   ]
  },
  {
   "cell_type": "code",
   "execution_count": 3,
   "metadata": {},
   "outputs": [],
   "source": [
    "import pandas as pd"
   ]
  },
  {
   "attachments": {},
   "cell_type": "markdown",
   "metadata": {},
   "source": [
    "(Returns NoneType if no pager product)"
   ]
  },
  {
   "cell_type": "code",
   "execution_count": 5,
   "metadata": {},
   "outputs": [],
   "source": [
    "df = pd.read_csv('../DASHBOARD/CSV_ORIGINAL/raw_alert_usa.csv')"
   ]
  },
  {
   "cell_type": "code",
   "execution_count": 6,
   "metadata": {},
   "outputs": [
    {
     "data": {
      "text/html": [
       "<div>\n",
       "<style scoped>\n",
       "    .dataframe tbody tr th:only-of-type {\n",
       "        vertical-align: middle;\n",
       "    }\n",
       "\n",
       "    .dataframe tbody tr th {\n",
       "        vertical-align: top;\n",
       "    }\n",
       "\n",
       "    .dataframe thead th {\n",
       "        text-align: right;\n",
       "    }\n",
       "</style>\n",
       "<table border=\"1\" class=\"dataframe\">\n",
       "  <thead>\n",
       "    <tr style=\"text-align: right;\">\n",
       "      <th></th>\n",
       "      <th>type</th>\n",
       "      <th>id</th>\n",
       "      <th>properties.mag</th>\n",
       "      <th>properties.place</th>\n",
       "      <th>properties.time</th>\n",
       "      <th>properties.updated</th>\n",
       "      <th>properties.tz</th>\n",
       "      <th>properties.url</th>\n",
       "      <th>properties.detail</th>\n",
       "      <th>properties.felt</th>\n",
       "      <th>...</th>\n",
       "      <th>properties.rms</th>\n",
       "      <th>properties.gap</th>\n",
       "      <th>properties.magType</th>\n",
       "      <th>properties.type</th>\n",
       "      <th>properties.title</th>\n",
       "      <th>geometry.type</th>\n",
       "      <th>geometry.coordinates</th>\n",
       "      <th>Longitud</th>\n",
       "      <th>Latitud</th>\n",
       "      <th>Profundidad</th>\n",
       "    </tr>\n",
       "  </thead>\n",
       "  <tbody>\n",
       "    <tr>\n",
       "      <th>0</th>\n",
       "      <td>Feature</td>\n",
       "      <td>nc73887046</td>\n",
       "      <td>5.16</td>\n",
       "      <td>4km NW of Canyondam, CA</td>\n",
       "      <td>2023-05-12 10:18:41.310</td>\n",
       "      <td>2023-05-15 14:53:47.275</td>\n",
       "      <td>NaN</td>\n",
       "      <td>https://earthquake.usgs.gov/earthquakes/eventp...</td>\n",
       "      <td>https://earthquake.usgs.gov/fdsnws/event/1/que...</td>\n",
       "      <td>1347.0</td>\n",
       "      <td>...</td>\n",
       "      <td>0.19</td>\n",
       "      <td>37.0</td>\n",
       "      <td>mw</td>\n",
       "      <td>earthquake</td>\n",
       "      <td>M 5.2 - 4km NW of Canyondam, CA</td>\n",
       "      <td>Point</td>\n",
       "      <td>[-121.0998333, 40.196, 6.06]</td>\n",
       "      <td>-121.099833</td>\n",
       "      <td>40.196</td>\n",
       "      <td>6.06</td>\n",
       "    </tr>\n",
       "  </tbody>\n",
       "</table>\n",
       "<p>1 rows × 33 columns</p>\n",
       "</div>"
      ],
      "text/plain": [
       "      type          id  properties.mag         properties.place   \n",
       "0  Feature  nc73887046            5.16  4km NW of Canyondam, CA  \\\n",
       "\n",
       "           properties.time       properties.updated  properties.tz   \n",
       "0  2023-05-12 10:18:41.310  2023-05-15 14:53:47.275            NaN  \\\n",
       "\n",
       "                                      properties.url   \n",
       "0  https://earthquake.usgs.gov/earthquakes/eventp...  \\\n",
       "\n",
       "                                   properties.detail  properties.felt  ...   \n",
       "0  https://earthquake.usgs.gov/fdsnws/event/1/que...           1347.0  ...  \\\n",
       "\n",
       "   properties.rms  properties.gap properties.magType properties.type   \n",
       "0            0.19            37.0                 mw      earthquake  \\\n",
       "\n",
       "                  properties.title  geometry.type   \n",
       "0  M 5.2 - 4km NW of Canyondam, CA          Point  \\\n",
       "\n",
       "           geometry.coordinates    Longitud Latitud Profundidad  \n",
       "0  [-121.0998333, 40.196, 6.06] -121.099833  40.196        6.06  \n",
       "\n",
       "[1 rows x 33 columns]"
      ]
     },
     "execution_count": 6,
     "metadata": {},
     "output_type": "execute_result"
    }
   ],
   "source": [
    "df.head(1)"
   ]
  },
  {
   "cell_type": "code",
   "execution_count": 10,
   "metadata": {},
   "outputs": [],
   "source": [
    "import json"
   ]
  },
  {
   "cell_type": "code",
   "execution_count": null,
   "metadata": {},
   "outputs": [],
   "source": [
    "extra_data = []\n",
    "for id in df['id']:\n",
    "    pager_event = get_event_by_id(id)\n",
    "    pager_country_df = get_pager_data_frame(pager_event, get_losses=True)\n",
    "    \n",
    "    if pager_country_df is not None:\n",
    "        try:\n",
    "            pager_country_json = pager_country_df.to_json()\n",
    "            pager_country_data = json.loads(pager_country_json)\n",
    "            extra_data.append(pager_country_data)\n",
    "        except json.JSONDecodeError as e:\n",
    "            print(f\"Error decoding JSON for id {id}: {e}\")\n",
    "            continue\n",
    "\n",
    "extra_data_df = pd.concat(extra_data)\n",
    "\n",
    "df = pd.merge(df, extra_data_df, on='id', how='left')\n",
    "df.head(1)"
   ]
  }
 ],
 "metadata": {
  "kernelspec": {
   "display_name": "Python 3",
   "language": "python",
   "name": "python3"
  },
  "language_info": {
   "codemirror_mode": {
    "name": "ipython",
    "version": 3
   },
   "file_extension": ".py",
   "mimetype": "text/x-python",
   "name": "python",
   "nbconvert_exporter": "python",
   "pygments_lexer": "ipython3",
   "version": "3.10.4"
  },
  "orig_nbformat": 4
 },
 "nbformat": 4,
 "nbformat_minor": 2
}
