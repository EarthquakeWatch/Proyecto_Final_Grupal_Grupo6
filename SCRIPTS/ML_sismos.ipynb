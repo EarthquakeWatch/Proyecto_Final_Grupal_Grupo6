{
 "cells": [
  {
   "attachments": {},
   "cell_type": "markdown",
   "metadata": {},
   "source": [
    "# Modelo de predicción sismos EEUU"
   ]
  },
  {
   "cell_type": "code",
   "execution_count": 141,
   "metadata": {},
   "outputs": [],
   "source": [
    "import pandas as pd\n",
    "import geopandas as gpd\n",
    "import matplotlib.pyplot as plt\n",
    "from shapely.geometry import Point\n",
    "from shapely import wkt\n",
    "from shapely.geometry import polygon"
   ]
  },
  {
   "attachments": {},
   "cell_type": "markdown",
   "metadata": {},
   "source": [
    "# Lectura de archivos shapefile"
   ]
  },
  {
   "attachments": {},
   "cell_type": "markdown",
   "metadata": {},
   "source": [
    "Archivo principal (.shp): Este archivo contiene la geometría de los objetos geoespaciales, como puntos, líneas o polígonos, en formato binario.  \n",
    "\n",
    "Archivo de índice (.shx): Este archivo es un índice de acceso espacial que permite un acceso más rápido a los datos en el archivo principal (.shp). Contiene información sobre la ubicación de cada registro en el archivo principal.  \n",
    "\n",
    "Archivo de atributos (.dbf): Este archivo almacena los atributos o datos no espaciales asociados a los objetos geoespaciales. Puede contener información como nombres, valores, fechas u otra información relevante.  \n",
    " \n",
    "Archivo de metadatos (.prj): Este archivo almacena la información del sistema de referencia de coordenadas (CRS) utilizado en el archivo Shapefile. El CRS define cómo se interpreta y proyecta la geometría espacial en un sistema de coordenadas específico.  "
   ]
  },
  {
   "attachments": {},
   "cell_type": "markdown",
   "metadata": {},
   "source": [
    "# MAPA CENTRO Y ESTE"
   ]
  },
  {
   "cell_type": "code",
   "execution_count": 142,
   "metadata": {},
   "outputs": [],
   "source": [
    "#Leo el shapefile con geopandas\n",
    "gdf_zonasCE = gpd.read_file('Shapefiles\\CEUS_1PctIn1Yr_5Hz.shp')"
   ]
  },
  {
   "cell_type": "code",
   "execution_count": 143,
   "metadata": {},
   "outputs": [
    {
     "data": {
      "text/html": [
       "<div>\n",
       "<style scoped>\n",
       "    .dataframe tbody tr th:only-of-type {\n",
       "        vertical-align: middle;\n",
       "    }\n",
       "\n",
       "    .dataframe tbody tr th {\n",
       "        vertical-align: top;\n",
       "    }\n",
       "\n",
       "    .dataframe thead th {\n",
       "        text-align: right;\n",
       "    }\n",
       "</style>\n",
       "<table border=\"1\" class=\"dataframe\">\n",
       "  <thead>\n",
       "    <tr style=\"text-align: right;\">\n",
       "      <th></th>\n",
       "      <th>ValueRange</th>\n",
       "      <th>geometry</th>\n",
       "    </tr>\n",
       "  </thead>\n",
       "  <tbody>\n",
       "    <tr>\n",
       "      <th>0</th>\n",
       "      <td>40 - 60</td>\n",
       "      <td>POLYGON ((-786984.399 3286941.888, -788200.330...</td>\n",
       "    </tr>\n",
       "    <tr>\n",
       "      <th>1</th>\n",
       "      <td>30 - 40</td>\n",
       "      <td>POLYGON ((-773036.783 3305960.178, -772758.019...</td>\n",
       "    </tr>\n",
       "    <tr>\n",
       "      <th>2</th>\n",
       "      <td>20 - 30</td>\n",
       "      <td>POLYGON ((-766738.972 3314078.833, -765464.024...</td>\n",
       "    </tr>\n",
       "    <tr>\n",
       "      <th>3</th>\n",
       "      <td>16 - 20</td>\n",
       "      <td>POLYGON ((-769309.282 3323964.882, -768067.743...</td>\n",
       "    </tr>\n",
       "    <tr>\n",
       "      <th>4</th>\n",
       "      <td>12 - 16</td>\n",
       "      <td>POLYGON ((-762096.479 3328986.210, -760806.454...</td>\n",
       "    </tr>\n",
       "  </tbody>\n",
       "</table>\n",
       "</div>"
      ],
      "text/plain": [
       "  ValueRange                                           geometry\n",
       "0    40 - 60  POLYGON ((-786984.399 3286941.888, -788200.330...\n",
       "1    30 - 40  POLYGON ((-773036.783 3305960.178, -772758.019...\n",
       "2    20 - 30  POLYGON ((-766738.972 3314078.833, -765464.024...\n",
       "3    16 - 20  POLYGON ((-769309.282 3323964.882, -768067.743...\n",
       "4    12 - 16  POLYGON ((-762096.479 3328986.210, -760806.454..."
      ]
     },
     "execution_count": 143,
     "metadata": {},
     "output_type": "execute_result"
    }
   ],
   "source": [
    "gdf_zonasCE.head()"
   ]
  },
  {
   "cell_type": "code",
   "execution_count": 144,
   "metadata": {},
   "outputs": [
    {
     "data": {
      "text/plain": [
       "array(['40 - 60', '30 - 40', '20 - 30', '16 - 20', '12 - 16', '8 - 12',\n",
       "       '6 - 8', '4 - 6', '< 2', '> 80', '60 - 80', '2 - 4'], dtype=object)"
      ]
     },
     "execution_count": 144,
     "metadata": {},
     "output_type": "execute_result"
    }
   ],
   "source": [
    "gdf_zonasCE.ValueRange.unique()"
   ]
  },
  {
   "cell_type": "code",
   "execution_count": 145,
   "metadata": {},
   "outputs": [
    {
     "name": "stdout",
     "output_type": "stream",
     "text": [
      "<class 'geopandas.geodataframe.GeoDataFrame'>\n",
      "RangeIndex: 65 entries, 0 to 64\n",
      "Data columns (total 2 columns):\n",
      " #   Column      Non-Null Count  Dtype   \n",
      "---  ------      --------------  -----   \n",
      " 0   ValueRange  65 non-null     object  \n",
      " 1   geometry    65 non-null     geometry\n",
      "dtypes: geometry(1), object(1)\n",
      "memory usage: 1.1+ KB\n"
     ]
    }
   ],
   "source": [
    "gdf_zonasCE.info()"
   ]
  },
  {
   "cell_type": "code",
   "execution_count": 146,
   "metadata": {},
   "outputs": [
    {
     "name": "stdout",
     "output_type": "stream",
     "text": [
      "0     POLYGON ((-103.28787 31.11885, -103.30000 31.1...\n",
      "1     POLYGON ((-103.15886 31.30000, -103.15537 31.2...\n",
      "2     POLYGON ((-103.10000 31.37753, -103.08522 31.3...\n",
      "3     POLYGON ((-103.13594 31.46406, -103.12207 31.4...\n",
      "4     POLYGON ((-103.06452 31.51452, -103.05000 31.5...\n",
      "                            ...                        \n",
      "60    MULTIPOLYGON (((-111.50471 37.75000, -111.5151...\n",
      "61    POLYGON ((-105.10897 35.45515, -105.10625 35.4...\n",
      "62    MULTIPOLYGON (((-107.11831 36.35000, -107.1130...\n",
      "63    POLYGON ((-65.00000 48.06236, -65.00000 24.600...\n",
      "64    POLYGON ((-65.00000 48.06236, -65.00199 48.051...\n",
      "Name: geometry, Length: 65, dtype: geometry\n"
     ]
    }
   ],
   "source": [
    "# Definir la proyección de destino (proyección geográfica en grados decimales)\n",
    "crs_destino = 'EPSG:4326'  # WGS84, utilizado comúnmente en coordenadas geográficas\n",
    "\n",
    "# Convertir el GeoDataFrame de zonas a la proyección de destino\n",
    "gdf_zonasCE = gdf_zonasCE.to_crs(crs_destino)\n",
    "\n",
    "# Verificar el nuevo formato de los polígonos\n",
    "print(gdf_zonasCE['geometry'])"
   ]
  },
  {
   "attachments": {},
   "cell_type": "markdown",
   "metadata": {},
   "source": [
    "# MAPA OESTE "
   ]
  },
  {
   "cell_type": "code",
   "execution_count": 147,
   "metadata": {},
   "outputs": [],
   "source": [
    "gdf_zonasW = gpd.read_file('Shapefiles\\WUS_1PctIn1Yr_5Hz.shp')"
   ]
  },
  {
   "cell_type": "code",
   "execution_count": 148,
   "metadata": {},
   "outputs": [
    {
     "data": {
      "text/html": [
       "<div>\n",
       "<style scoped>\n",
       "    .dataframe tbody tr th:only-of-type {\n",
       "        vertical-align: middle;\n",
       "    }\n",
       "\n",
       "    .dataframe tbody tr th {\n",
       "        vertical-align: top;\n",
       "    }\n",
       "\n",
       "    .dataframe thead th {\n",
       "        text-align: right;\n",
       "    }\n",
       "</style>\n",
       "<table border=\"1\" class=\"dataframe\">\n",
       "  <thead>\n",
       "    <tr style=\"text-align: right;\">\n",
       "      <th></th>\n",
       "      <th>ValueRange</th>\n",
       "      <th>geometry</th>\n",
       "    </tr>\n",
       "  </thead>\n",
       "  <tbody>\n",
       "    <tr>\n",
       "      <th>0</th>\n",
       "      <td>20 - 30</td>\n",
       "      <td>POLYGON ((-1662039.603 3115326.005, -1659795.4...</td>\n",
       "    </tr>\n",
       "    <tr>\n",
       "      <th>1</th>\n",
       "      <td>30 - 40</td>\n",
       "      <td>POLYGON ((-1821368.340 3277822.480, -1823606.9...</td>\n",
       "    </tr>\n",
       "    <tr>\n",
       "      <th>2</th>\n",
       "      <td>20 - 30</td>\n",
       "      <td>POLYGON ((-1727780.469 3394543.335, -1727247.2...</td>\n",
       "    </tr>\n",
       "    <tr>\n",
       "      <th>3</th>\n",
       "      <td>12 - 16</td>\n",
       "      <td>POLYGON ((-1861635.333 3477092.816, -1862862.4...</td>\n",
       "    </tr>\n",
       "    <tr>\n",
       "      <th>4</th>\n",
       "      <td>30 - 40</td>\n",
       "      <td>POLYGON ((-1937339.330 3488399.977, -1938269.8...</td>\n",
       "    </tr>\n",
       "  </tbody>\n",
       "</table>\n",
       "</div>"
      ],
      "text/plain": [
       "  ValueRange                                           geometry\n",
       "0    20 - 30  POLYGON ((-1662039.603 3115326.005, -1659795.4...\n",
       "1    30 - 40  POLYGON ((-1821368.340 3277822.480, -1823606.9...\n",
       "2    20 - 30  POLYGON ((-1727780.469 3394543.335, -1727247.2...\n",
       "3    12 - 16  POLYGON ((-1861635.333 3477092.816, -1862862.4...\n",
       "4    30 - 40  POLYGON ((-1937339.330 3488399.977, -1938269.8..."
      ]
     },
     "execution_count": 148,
     "metadata": {},
     "output_type": "execute_result"
    }
   ],
   "source": [
    "gdf_zonasW.head()"
   ]
  },
  {
   "cell_type": "code",
   "execution_count": 149,
   "metadata": {},
   "outputs": [
    {
     "data": {
      "text/plain": [
       "array(['20 - 30', '30 - 40', '12 - 16', '8 - 12', '6 - 8', '60 - 80',\n",
       "       '4 - 6', '> 80', '< 2', '40 - 60', '16 - 20', '2 - 4'],\n",
       "      dtype=object)"
      ]
     },
     "execution_count": 149,
     "metadata": {},
     "output_type": "execute_result"
    }
   ],
   "source": [
    "gdf_zonasW.ValueRange.unique()"
   ]
  },
  {
   "cell_type": "code",
   "execution_count": 150,
   "metadata": {},
   "outputs": [
    {
     "name": "stdout",
     "output_type": "stream",
     "text": [
      "<class 'geopandas.geodataframe.GeoDataFrame'>\n",
      "RangeIndex: 73 entries, 0 to 72\n",
      "Data columns (total 2 columns):\n",
      " #   Column      Non-Null Count  Dtype   \n",
      "---  ------      --------------  -----   \n",
      " 0   ValueRange  73 non-null     object  \n",
      " 1   geometry    73 non-null     geometry\n",
      "dtypes: geometry(1), object(1)\n",
      "memory usage: 1.3+ KB\n"
     ]
    }
   ],
   "source": [
    "gdf_zonasW.info()"
   ]
  },
  {
   "cell_type": "code",
   "execution_count": 151,
   "metadata": {},
   "outputs": [
    {
     "name": "stdout",
     "output_type": "stream",
     "text": [
      "0     POLYGON ((-112.03461 28.53461, -112.01204 28.5...\n",
      "1     POLYGON ((-113.95503 29.70502, -113.97747 29.7...\n",
      "2     POLYGON ((-113.23537 30.90000, -113.22420 30.8...\n",
      "3     POLYGON ((-114.78820 31.38820, -114.80000 31.3...\n",
      "4     POLYGON ((-115.59407 31.34407, -115.60000 31.3...\n",
      "                            ...                        \n",
      "68    MULTIPOLYGON (((-111.19531 39.04844, -111.1988...\n",
      "69    MULTIPOLYGON (((-105.69219 38.15156, -105.6812...\n",
      "70    POLYGON ((-116.78563 50.00000, -116.79933 49.9...\n",
      "71    MULTIPOLYGON (((-124.78926 39.21074, -124.7870...\n",
      "72    POLYGON ((-101.67384 29.44503, -101.67031 29.4...\n",
      "Name: geometry, Length: 73, dtype: geometry\n"
     ]
    }
   ],
   "source": [
    "# Definir la proyección de destino (proyección geográfica en grados decimales)\n",
    "crs_destino = 'EPSG:4326'  # WGS84, utilizado comúnmente en coordenadas geográficas\n",
    "\n",
    "# Convertir el GeoDataFrame de zonas a la proyección de destino\n",
    "gdf_zonasW = gdf_zonasW.to_crs(crs_destino)\n",
    "\n",
    "# Verificar el nuevo formato de los polígonos\n",
    "print(gdf_zonasW['geometry'])"
   ]
  },
  {
   "attachments": {},
   "cell_type": "markdown",
   "metadata": {},
   "source": [
    "# Junto los dos geodataframes"
   ]
  },
  {
   "cell_type": "code",
   "execution_count": 152,
   "metadata": {},
   "outputs": [
    {
     "name": "stderr",
     "output_type": "stream",
     "text": [
      "C:\\Users\\claud\\AppData\\Local\\Temp\\ipykernel_6168\\3050802443.py:2: FutureWarning: The frame.append method is deprecated and will be removed from pandas in a future version. Use pandas.concat instead.\n",
      "  gdf_zonas= gdf_zonasCE.append(gdf_zonasW, ignore_index=True)\n"
     ]
    }
   ],
   "source": [
    "# Unir dos GeoDataFrames\n",
    "gdf_zonas= gdf_zonasCE.append(gdf_zonasW, ignore_index=True)"
   ]
  },
  {
   "cell_type": "code",
   "execution_count": 153,
   "metadata": {},
   "outputs": [
    {
     "data": {
      "text/html": [
       "<div>\n",
       "<style scoped>\n",
       "    .dataframe tbody tr th:only-of-type {\n",
       "        vertical-align: middle;\n",
       "    }\n",
       "\n",
       "    .dataframe tbody tr th {\n",
       "        vertical-align: top;\n",
       "    }\n",
       "\n",
       "    .dataframe thead th {\n",
       "        text-align: right;\n",
       "    }\n",
       "</style>\n",
       "<table border=\"1\" class=\"dataframe\">\n",
       "  <thead>\n",
       "    <tr style=\"text-align: right;\">\n",
       "      <th></th>\n",
       "      <th>ValueRange</th>\n",
       "      <th>geometry</th>\n",
       "    </tr>\n",
       "  </thead>\n",
       "  <tbody>\n",
       "    <tr>\n",
       "      <th>0</th>\n",
       "      <td>40 - 60</td>\n",
       "      <td>POLYGON ((-103.28787 31.11885, -103.30000 31.1...</td>\n",
       "    </tr>\n",
       "    <tr>\n",
       "      <th>1</th>\n",
       "      <td>30 - 40</td>\n",
       "      <td>POLYGON ((-103.15886 31.30000, -103.15537 31.2...</td>\n",
       "    </tr>\n",
       "    <tr>\n",
       "      <th>2</th>\n",
       "      <td>20 - 30</td>\n",
       "      <td>POLYGON ((-103.10000 31.37753, -103.08522 31.3...</td>\n",
       "    </tr>\n",
       "    <tr>\n",
       "      <th>3</th>\n",
       "      <td>16 - 20</td>\n",
       "      <td>POLYGON ((-103.13594 31.46406, -103.12207 31.4...</td>\n",
       "    </tr>\n",
       "    <tr>\n",
       "      <th>4</th>\n",
       "      <td>12 - 16</td>\n",
       "      <td>POLYGON ((-103.06452 31.51452, -103.05000 31.5...</td>\n",
       "    </tr>\n",
       "  </tbody>\n",
       "</table>\n",
       "</div>"
      ],
      "text/plain": [
       "  ValueRange                                           geometry\n",
       "0    40 - 60  POLYGON ((-103.28787 31.11885, -103.30000 31.1...\n",
       "1    30 - 40  POLYGON ((-103.15886 31.30000, -103.15537 31.2...\n",
       "2    20 - 30  POLYGON ((-103.10000 31.37753, -103.08522 31.3...\n",
       "3    16 - 20  POLYGON ((-103.13594 31.46406, -103.12207 31.4...\n",
       "4    12 - 16  POLYGON ((-103.06452 31.51452, -103.05000 31.5..."
      ]
     },
     "execution_count": 153,
     "metadata": {},
     "output_type": "execute_result"
    }
   ],
   "source": [
    "gdf_zonas.head()"
   ]
  },
  {
   "cell_type": "code",
   "execution_count": 154,
   "metadata": {},
   "outputs": [
    {
     "name": "stdout",
     "output_type": "stream",
     "text": [
      "<class 'geopandas.geodataframe.GeoDataFrame'>\n",
      "RangeIndex: 138 entries, 0 to 137\n",
      "Data columns (total 2 columns):\n",
      " #   Column      Non-Null Count  Dtype   \n",
      "---  ------      --------------  -----   \n",
      " 0   ValueRange  138 non-null    object  \n",
      " 1   geometry    138 non-null    geometry\n",
      "dtypes: geometry(1), object(1)\n",
      "memory usage: 2.3+ KB\n"
     ]
    }
   ],
   "source": [
    "gdf_zonas.info()"
   ]
  },
  {
   "attachments": {},
   "cell_type": "markdown",
   "metadata": {},
   "source": [
    "# SISMOS"
   ]
  },
  {
   "cell_type": "code",
   "execution_count": 155,
   "metadata": {},
   "outputs": [],
   "source": [
    "df = pd.read_csv('..\\DASHBOARD\\CSV_TRANSFORMADOS\\Datos_USA.csv')"
   ]
  },
  {
   "cell_type": "code",
   "execution_count": 156,
   "metadata": {},
   "outputs": [
    {
     "name": "stderr",
     "output_type": "stream",
     "text": [
      "C:\\Users\\claud\\AppData\\Local\\Temp\\ipykernel_6168\\2662450449.py:7: UserWarning: Column names longer than 10 characters will be truncated when saved to ESRI Shapefile.\n",
      "  gdf_sismos.to_file(output_shapefile, driver='ESRI Shapefile')\n"
     ]
    }
   ],
   "source": [
    "#Convierte las columnas de latitud y longitud en objetos de geometría de puntos utilizando la clase Point de la biblioteca shapely.\n",
    "geometry = [Point(xy) for xy in zip(df['Longitud'], df['Latitud'])]\n",
    "#Crea un GeoDataFrame a partir del DataFrame original y las geometrías de puntos.\n",
    "gdf_sismos = gpd.GeoDataFrame(df, geometry=geometry)\n",
    "#Utiliza el método to_file del GeoDataFrame para exportar el archivo Shapefile.\n",
    "output_shapefile = 'sismos_eeuu.shp'  # Nombre del archivo Shapefile de salida\n",
    "gdf_sismos.to_file(output_shapefile, driver='ESRI Shapefile')"
   ]
  },
  {
   "cell_type": "code",
   "execution_count": 157,
   "metadata": {},
   "outputs": [
    {
     "data": {
      "text/html": [
       "<div>\n",
       "<style scoped>\n",
       "    .dataframe tbody tr th:only-of-type {\n",
       "        vertical-align: middle;\n",
       "    }\n",
       "\n",
       "    .dataframe tbody tr th {\n",
       "        vertical-align: top;\n",
       "    }\n",
       "\n",
       "    .dataframe thead th {\n",
       "        text-align: right;\n",
       "    }\n",
       "</style>\n",
       "<table border=\"1\" class=\"dataframe\">\n",
       "  <thead>\n",
       "    <tr style=\"text-align: right;\">\n",
       "      <th></th>\n",
       "      <th>id</th>\n",
       "      <th>Magnitud</th>\n",
       "      <th>primer reg</th>\n",
       "      <th>Ult reg</th>\n",
       "      <th>properties.felt</th>\n",
       "      <th>cdi</th>\n",
       "      <th>mmi</th>\n",
       "      <th>Posivilidad tsunami</th>\n",
       "      <th>Importancia del evento</th>\n",
       "      <th>net</th>\n",
       "      <th>ids</th>\n",
       "      <th>nst</th>\n",
       "      <th>Dist Horizontal epicentro</th>\n",
       "      <th>Brecha azimutal</th>\n",
       "      <th>estado</th>\n",
       "      <th>Longitud</th>\n",
       "      <th>Latitud</th>\n",
       "      <th>Profundidad</th>\n",
       "    </tr>\n",
       "  </thead>\n",
       "  <tbody>\n",
       "    <tr>\n",
       "      <th>0</th>\n",
       "      <td>us6000kbl9</td>\n",
       "      <td>2.50</td>\n",
       "      <td>2023-05-13 00:22:34.350</td>\n",
       "      <td>2023-05-13 01:02:32.040</td>\n",
       "      <td>NaN</td>\n",
       "      <td>NaN</td>\n",
       "      <td>NaN</td>\n",
       "      <td>0</td>\n",
       "      <td>96</td>\n",
       "      <td>us</td>\n",
       "      <td>,us6000kbl9,</td>\n",
       "      <td>10.0</td>\n",
       "      <td>0.46000</td>\n",
       "      <td>119.00</td>\n",
       "      <td>Kansas</td>\n",
       "      <td>-99.499500</td>\n",
       "      <td>39.235400</td>\n",
       "      <td>3.69</td>\n",
       "    </tr>\n",
       "    <tr>\n",
       "      <th>1</th>\n",
       "      <td>nn00859459</td>\n",
       "      <td>2.80</td>\n",
       "      <td>2023-05-12 22:29:14.464</td>\n",
       "      <td>2023-05-12 23:43:48.040</td>\n",
       "      <td>NaN</td>\n",
       "      <td>NaN</td>\n",
       "      <td>NaN</td>\n",
       "      <td>0</td>\n",
       "      <td>121</td>\n",
       "      <td>nn</td>\n",
       "      <td>,us6000kbkj,nn00859459,</td>\n",
       "      <td>14.0</td>\n",
       "      <td>0.22000</td>\n",
       "      <td>64.37</td>\n",
       "      <td>Nevada</td>\n",
       "      <td>-118.914500</td>\n",
       "      <td>38.402200</td>\n",
       "      <td>11.50</td>\n",
       "    </tr>\n",
       "    <tr>\n",
       "      <th>2</th>\n",
       "      <td>nc73887311</td>\n",
       "      <td>2.91</td>\n",
       "      <td>2023-05-12 20:57:31.130</td>\n",
       "      <td>2023-05-12 23:55:14.063</td>\n",
       "      <td>NaN</td>\n",
       "      <td>NaN</td>\n",
       "      <td>NaN</td>\n",
       "      <td>0</td>\n",
       "      <td>130</td>\n",
       "      <td>nc</td>\n",
       "      <td>,nc73887311,us6000kbjl,</td>\n",
       "      <td>24.0</td>\n",
       "      <td>0.10920</td>\n",
       "      <td>182.00</td>\n",
       "      <td>CA</td>\n",
       "      <td>-121.261330</td>\n",
       "      <td>35.747665</td>\n",
       "      <td>3.66</td>\n",
       "    </tr>\n",
       "    <tr>\n",
       "      <th>3</th>\n",
       "      <td>nc73887306</td>\n",
       "      <td>2.90</td>\n",
       "      <td>2023-05-12 20:57:24.320</td>\n",
       "      <td>2023-05-12 23:54:10.059</td>\n",
       "      <td>NaN</td>\n",
       "      <td>NaN</td>\n",
       "      <td>NaN</td>\n",
       "      <td>0</td>\n",
       "      <td>129</td>\n",
       "      <td>nc</td>\n",
       "      <td>,nc73887306,</td>\n",
       "      <td>12.0</td>\n",
       "      <td>0.10120</td>\n",
       "      <td>180.00</td>\n",
       "      <td>CA</td>\n",
       "      <td>-121.248833</td>\n",
       "      <td>35.747501</td>\n",
       "      <td>4.59</td>\n",
       "    </tr>\n",
       "    <tr>\n",
       "      <th>4</th>\n",
       "      <td>ci40223751</td>\n",
       "      <td>2.77</td>\n",
       "      <td>2023-05-12 17:30:47.620</td>\n",
       "      <td>2023-05-12 23:47:37.500</td>\n",
       "      <td>NaN</td>\n",
       "      <td>NaN</td>\n",
       "      <td>NaN</td>\n",
       "      <td>0</td>\n",
       "      <td>118</td>\n",
       "      <td>ci</td>\n",
       "      <td>,ci40223751,us6000kbhy,</td>\n",
       "      <td>94.0</td>\n",
       "      <td>0.07689</td>\n",
       "      <td>20.00</td>\n",
       "      <td>CA</td>\n",
       "      <td>-116.735167</td>\n",
       "      <td>33.979167</td>\n",
       "      <td>17.35</td>\n",
       "    </tr>\n",
       "  </tbody>\n",
       "</table>\n",
       "</div>"
      ],
      "text/plain": [
       "           id  Magnitud               primer reg                  Ult reg  \\\n",
       "0  us6000kbl9      2.50  2023-05-13 00:22:34.350  2023-05-13 01:02:32.040   \n",
       "1  nn00859459      2.80  2023-05-12 22:29:14.464  2023-05-12 23:43:48.040   \n",
       "2  nc73887311      2.91  2023-05-12 20:57:31.130  2023-05-12 23:55:14.063   \n",
       "3  nc73887306      2.90  2023-05-12 20:57:24.320  2023-05-12 23:54:10.059   \n",
       "4  ci40223751      2.77  2023-05-12 17:30:47.620  2023-05-12 23:47:37.500   \n",
       "\n",
       "   properties.felt  cdi  mmi  Posivilidad tsunami  Importancia del evento net  \\\n",
       "0              NaN  NaN  NaN                    0                      96  us   \n",
       "1              NaN  NaN  NaN                    0                     121  nn   \n",
       "2              NaN  NaN  NaN                    0                     130  nc   \n",
       "3              NaN  NaN  NaN                    0                     129  nc   \n",
       "4              NaN  NaN  NaN                    0                     118  ci   \n",
       "\n",
       "                       ids   nst  Dist Horizontal epicentro  Brecha azimutal  \\\n",
       "0             ,us6000kbl9,  10.0                    0.46000           119.00   \n",
       "1  ,us6000kbkj,nn00859459,  14.0                    0.22000            64.37   \n",
       "2  ,nc73887311,us6000kbjl,  24.0                    0.10920           182.00   \n",
       "3             ,nc73887306,  12.0                    0.10120           180.00   \n",
       "4  ,ci40223751,us6000kbhy,  94.0                    0.07689            20.00   \n",
       "\n",
       "   estado    Longitud    Latitud  Profundidad  \n",
       "0  Kansas  -99.499500  39.235400         3.69  \n",
       "1  Nevada -118.914500  38.402200        11.50  \n",
       "2      CA -121.261330  35.747665         3.66  \n",
       "3      CA -121.248833  35.747501         4.59  \n",
       "4      CA -116.735167  33.979167        17.35  "
      ]
     },
     "execution_count": 157,
     "metadata": {},
     "output_type": "execute_result"
    }
   ],
   "source": [
    "df.head()"
   ]
  },
  {
   "cell_type": "code",
   "execution_count": 158,
   "metadata": {},
   "outputs": [
    {
     "data": {
      "text/html": [
       "<div>\n",
       "<style scoped>\n",
       "    .dataframe tbody tr th:only-of-type {\n",
       "        vertical-align: middle;\n",
       "    }\n",
       "\n",
       "    .dataframe tbody tr th {\n",
       "        vertical-align: top;\n",
       "    }\n",
       "\n",
       "    .dataframe thead th {\n",
       "        text-align: right;\n",
       "    }\n",
       "</style>\n",
       "<table border=\"1\" class=\"dataframe\">\n",
       "  <thead>\n",
       "    <tr style=\"text-align: right;\">\n",
       "      <th></th>\n",
       "      <th>id</th>\n",
       "      <th>Magnitud</th>\n",
       "      <th>primer reg</th>\n",
       "      <th>Ult reg</th>\n",
       "      <th>properties.felt</th>\n",
       "      <th>cdi</th>\n",
       "      <th>mmi</th>\n",
       "      <th>Posivilidad tsunami</th>\n",
       "      <th>Importancia del evento</th>\n",
       "      <th>net</th>\n",
       "      <th>ids</th>\n",
       "      <th>nst</th>\n",
       "      <th>Dist Horizontal epicentro</th>\n",
       "      <th>Brecha azimutal</th>\n",
       "      <th>estado</th>\n",
       "      <th>Longitud</th>\n",
       "      <th>Latitud</th>\n",
       "      <th>Profundidad</th>\n",
       "      <th>geometry</th>\n",
       "    </tr>\n",
       "  </thead>\n",
       "  <tbody>\n",
       "    <tr>\n",
       "      <th>0</th>\n",
       "      <td>us6000kbl9</td>\n",
       "      <td>2.50</td>\n",
       "      <td>2023-05-13 00:22:34.350</td>\n",
       "      <td>2023-05-13 01:02:32.040</td>\n",
       "      <td>NaN</td>\n",
       "      <td>NaN</td>\n",
       "      <td>NaN</td>\n",
       "      <td>0</td>\n",
       "      <td>96</td>\n",
       "      <td>us</td>\n",
       "      <td>,us6000kbl9,</td>\n",
       "      <td>10.0</td>\n",
       "      <td>0.46000</td>\n",
       "      <td>119.00</td>\n",
       "      <td>Kansas</td>\n",
       "      <td>-99.499500</td>\n",
       "      <td>39.235400</td>\n",
       "      <td>3.69</td>\n",
       "      <td>POINT (-99.49950 39.23540)</td>\n",
       "    </tr>\n",
       "    <tr>\n",
       "      <th>1</th>\n",
       "      <td>nn00859459</td>\n",
       "      <td>2.80</td>\n",
       "      <td>2023-05-12 22:29:14.464</td>\n",
       "      <td>2023-05-12 23:43:48.040</td>\n",
       "      <td>NaN</td>\n",
       "      <td>NaN</td>\n",
       "      <td>NaN</td>\n",
       "      <td>0</td>\n",
       "      <td>121</td>\n",
       "      <td>nn</td>\n",
       "      <td>,us6000kbkj,nn00859459,</td>\n",
       "      <td>14.0</td>\n",
       "      <td>0.22000</td>\n",
       "      <td>64.37</td>\n",
       "      <td>Nevada</td>\n",
       "      <td>-118.914500</td>\n",
       "      <td>38.402200</td>\n",
       "      <td>11.50</td>\n",
       "      <td>POINT (-118.91450 38.40220)</td>\n",
       "    </tr>\n",
       "    <tr>\n",
       "      <th>2</th>\n",
       "      <td>nc73887311</td>\n",
       "      <td>2.91</td>\n",
       "      <td>2023-05-12 20:57:31.130</td>\n",
       "      <td>2023-05-12 23:55:14.063</td>\n",
       "      <td>NaN</td>\n",
       "      <td>NaN</td>\n",
       "      <td>NaN</td>\n",
       "      <td>0</td>\n",
       "      <td>130</td>\n",
       "      <td>nc</td>\n",
       "      <td>,nc73887311,us6000kbjl,</td>\n",
       "      <td>24.0</td>\n",
       "      <td>0.10920</td>\n",
       "      <td>182.00</td>\n",
       "      <td>CA</td>\n",
       "      <td>-121.261330</td>\n",
       "      <td>35.747665</td>\n",
       "      <td>3.66</td>\n",
       "      <td>POINT (-121.26133 35.74767)</td>\n",
       "    </tr>\n",
       "    <tr>\n",
       "      <th>3</th>\n",
       "      <td>nc73887306</td>\n",
       "      <td>2.90</td>\n",
       "      <td>2023-05-12 20:57:24.320</td>\n",
       "      <td>2023-05-12 23:54:10.059</td>\n",
       "      <td>NaN</td>\n",
       "      <td>NaN</td>\n",
       "      <td>NaN</td>\n",
       "      <td>0</td>\n",
       "      <td>129</td>\n",
       "      <td>nc</td>\n",
       "      <td>,nc73887306,</td>\n",
       "      <td>12.0</td>\n",
       "      <td>0.10120</td>\n",
       "      <td>180.00</td>\n",
       "      <td>CA</td>\n",
       "      <td>-121.248833</td>\n",
       "      <td>35.747501</td>\n",
       "      <td>4.59</td>\n",
       "      <td>POINT (-121.24883 35.74750)</td>\n",
       "    </tr>\n",
       "    <tr>\n",
       "      <th>4</th>\n",
       "      <td>ci40223751</td>\n",
       "      <td>2.77</td>\n",
       "      <td>2023-05-12 17:30:47.620</td>\n",
       "      <td>2023-05-12 23:47:37.500</td>\n",
       "      <td>NaN</td>\n",
       "      <td>NaN</td>\n",
       "      <td>NaN</td>\n",
       "      <td>0</td>\n",
       "      <td>118</td>\n",
       "      <td>ci</td>\n",
       "      <td>,ci40223751,us6000kbhy,</td>\n",
       "      <td>94.0</td>\n",
       "      <td>0.07689</td>\n",
       "      <td>20.00</td>\n",
       "      <td>CA</td>\n",
       "      <td>-116.735167</td>\n",
       "      <td>33.979167</td>\n",
       "      <td>17.35</td>\n",
       "      <td>POINT (-116.73517 33.97917)</td>\n",
       "    </tr>\n",
       "  </tbody>\n",
       "</table>\n",
       "</div>"
      ],
      "text/plain": [
       "           id  Magnitud               primer reg                  Ult reg  \\\n",
       "0  us6000kbl9      2.50  2023-05-13 00:22:34.350  2023-05-13 01:02:32.040   \n",
       "1  nn00859459      2.80  2023-05-12 22:29:14.464  2023-05-12 23:43:48.040   \n",
       "2  nc73887311      2.91  2023-05-12 20:57:31.130  2023-05-12 23:55:14.063   \n",
       "3  nc73887306      2.90  2023-05-12 20:57:24.320  2023-05-12 23:54:10.059   \n",
       "4  ci40223751      2.77  2023-05-12 17:30:47.620  2023-05-12 23:47:37.500   \n",
       "\n",
       "   properties.felt  cdi  mmi  Posivilidad tsunami  Importancia del evento net  \\\n",
       "0              NaN  NaN  NaN                    0                      96  us   \n",
       "1              NaN  NaN  NaN                    0                     121  nn   \n",
       "2              NaN  NaN  NaN                    0                     130  nc   \n",
       "3              NaN  NaN  NaN                    0                     129  nc   \n",
       "4              NaN  NaN  NaN                    0                     118  ci   \n",
       "\n",
       "                       ids   nst  Dist Horizontal epicentro  Brecha azimutal  \\\n",
       "0             ,us6000kbl9,  10.0                    0.46000           119.00   \n",
       "1  ,us6000kbkj,nn00859459,  14.0                    0.22000            64.37   \n",
       "2  ,nc73887311,us6000kbjl,  24.0                    0.10920           182.00   \n",
       "3             ,nc73887306,  12.0                    0.10120           180.00   \n",
       "4  ,ci40223751,us6000kbhy,  94.0                    0.07689            20.00   \n",
       "\n",
       "   estado    Longitud    Latitud  Profundidad                     geometry  \n",
       "0  Kansas  -99.499500  39.235400         3.69   POINT (-99.49950 39.23540)  \n",
       "1  Nevada -118.914500  38.402200        11.50  POINT (-118.91450 38.40220)  \n",
       "2      CA -121.261330  35.747665         3.66  POINT (-121.26133 35.74767)  \n",
       "3      CA -121.248833  35.747501         4.59  POINT (-121.24883 35.74750)  \n",
       "4      CA -116.735167  33.979167        17.35  POINT (-116.73517 33.97917)  "
      ]
     },
     "execution_count": 158,
     "metadata": {},
     "output_type": "execute_result"
    }
   ],
   "source": [
    "gdf_sismos.head()"
   ]
  },
  {
   "cell_type": "code",
   "execution_count": 159,
   "metadata": {},
   "outputs": [
    {
     "name": "stdout",
     "output_type": "stream",
     "text": [
      "<class 'geopandas.geodataframe.GeoDataFrame'>\n",
      "RangeIndex: 20000 entries, 0 to 19999\n",
      "Data columns (total 19 columns):\n",
      " #   Column                     Non-Null Count  Dtype   \n",
      "---  ------                     --------------  -----   \n",
      " 0   id                         20000 non-null  object  \n",
      " 1   Magnitud                   20000 non-null  float64 \n",
      " 2   primer reg                 20000 non-null  object  \n",
      " 3   Ult reg                    20000 non-null  object  \n",
      " 4   properties.felt            9863 non-null   float64 \n",
      " 5   cdi                        9863 non-null   float64 \n",
      " 6   mmi                        2764 non-null   float64 \n",
      " 7   Posivilidad tsunami        20000 non-null  int64   \n",
      " 8   Importancia del evento     20000 non-null  int64   \n",
      " 9   net                        20000 non-null  object  \n",
      " 10  ids                        20000 non-null  object  \n",
      " 11  nst                        14409 non-null  float64 \n",
      " 12  Dist Horizontal epicentro  19108 non-null  float64 \n",
      " 13  Brecha azimutal            19982 non-null  float64 \n",
      " 14  estado                     19611 non-null  object  \n",
      " 15  Longitud                   20000 non-null  float64 \n",
      " 16  Latitud                    20000 non-null  float64 \n",
      " 17  Profundidad                20000 non-null  float64 \n",
      " 18  geometry                   20000 non-null  geometry\n",
      "dtypes: float64(10), geometry(1), int64(2), object(6)\n",
      "memory usage: 2.9+ MB\n"
     ]
    }
   ],
   "source": [
    "gdf_sismos.info()"
   ]
  },
  {
   "attachments": {},
   "cell_type": "markdown",
   "metadata": {},
   "source": [
    "# Idea  \n",
    "Con poligono.contains(punto), polygon y points genero una columna con el RangeValue del geodataframe de las zonas correspondientes"
   ]
  },
  {
   "cell_type": "code",
   "execution_count": 160,
   "metadata": {},
   "outputs": [
    {
     "name": "stdout",
     "output_type": "stream",
     "text": [
      "None\n",
      "EPSG:4326\n"
     ]
    }
   ],
   "source": [
    "# Verifica el CRS de los GeoDataFrames\n",
    "print(gdf_sismos.crs)\n",
    "print(gdf_zonas.crs)"
   ]
  },
  {
   "attachments": {},
   "cell_type": "markdown",
   "metadata": {},
   "source": [
    "El resultado indica que el GeoDataFrame de los sismos (gdf_sismos) no tiene definido un sistema de referencia espacial (CRS), mientras que el GeoDataFrame de las zonas de riesgo (gdf_zonas) tiene un CRS definido."
   ]
  },
  {
   "cell_type": "code",
   "execution_count": 161,
   "metadata": {},
   "outputs": [
    {
     "name": "stdout",
     "output_type": "stream",
     "text": [
      "EPSG:4326\n",
      "EPSG:4326\n"
     ]
    }
   ],
   "source": [
    "# Asigna el CRS al GeoDataFrame de los sismos\n",
    "gdf_sismos.set_crs(gdf_zonas.crs, inplace=True)\n",
    "\n",
    "print(gdf_sismos.crs)\n",
    "print(gdf_zonas.crs)\n"
   ]
  },
  {
   "cell_type": "code",
   "execution_count": 162,
   "metadata": {},
   "outputs": [],
   "source": [
    "# Establece la columna de geometría en el GeoDataFrame de los sismos\n",
    "gdf_sismos.set_geometry('geometry', inplace=True)\n",
    "\n",
    "# Realiza la unión espacial\n",
    "gdf_sismos_con_zonas = gpd.sjoin(gdf_sismos, gdf_zonas, how='left')"
   ]
  },
  {
   "cell_type": "code",
   "execution_count": 163,
   "metadata": {},
   "outputs": [
    {
     "data": {
      "text/html": [
       "<div>\n",
       "<style scoped>\n",
       "    .dataframe tbody tr th:only-of-type {\n",
       "        vertical-align: middle;\n",
       "    }\n",
       "\n",
       "    .dataframe tbody tr th {\n",
       "        vertical-align: top;\n",
       "    }\n",
       "\n",
       "    .dataframe thead th {\n",
       "        text-align: right;\n",
       "    }\n",
       "</style>\n",
       "<table border=\"1\" class=\"dataframe\">\n",
       "  <thead>\n",
       "    <tr style=\"text-align: right;\">\n",
       "      <th></th>\n",
       "      <th>id</th>\n",
       "      <th>Magnitud</th>\n",
       "      <th>primer reg</th>\n",
       "      <th>Ult reg</th>\n",
       "      <th>properties.felt</th>\n",
       "      <th>cdi</th>\n",
       "      <th>mmi</th>\n",
       "      <th>Posivilidad tsunami</th>\n",
       "      <th>Importancia del evento</th>\n",
       "      <th>net</th>\n",
       "      <th>...</th>\n",
       "      <th>nst</th>\n",
       "      <th>Dist Horizontal epicentro</th>\n",
       "      <th>Brecha azimutal</th>\n",
       "      <th>estado</th>\n",
       "      <th>Longitud</th>\n",
       "      <th>Latitud</th>\n",
       "      <th>Profundidad</th>\n",
       "      <th>geometry</th>\n",
       "      <th>index_right</th>\n",
       "      <th>ValueRange</th>\n",
       "    </tr>\n",
       "  </thead>\n",
       "  <tbody>\n",
       "    <tr>\n",
       "      <th>0</th>\n",
       "      <td>us6000kbl9</td>\n",
       "      <td>2.50</td>\n",
       "      <td>2023-05-13 00:22:34.350</td>\n",
       "      <td>2023-05-13 01:02:32.040</td>\n",
       "      <td>NaN</td>\n",
       "      <td>NaN</td>\n",
       "      <td>NaN</td>\n",
       "      <td>0</td>\n",
       "      <td>96</td>\n",
       "      <td>us</td>\n",
       "      <td>...</td>\n",
       "      <td>10.0</td>\n",
       "      <td>0.46000</td>\n",
       "      <td>119.00</td>\n",
       "      <td>Kansas</td>\n",
       "      <td>-99.499500</td>\n",
       "      <td>39.235400</td>\n",
       "      <td>3.69</td>\n",
       "      <td>POINT (-99.49950 39.23540)</td>\n",
       "      <td>49</td>\n",
       "      <td>6 - 8</td>\n",
       "    </tr>\n",
       "    <tr>\n",
       "      <th>1</th>\n",
       "      <td>nn00859459</td>\n",
       "      <td>2.80</td>\n",
       "      <td>2023-05-12 22:29:14.464</td>\n",
       "      <td>2023-05-12 23:43:48.040</td>\n",
       "      <td>NaN</td>\n",
       "      <td>NaN</td>\n",
       "      <td>NaN</td>\n",
       "      <td>0</td>\n",
       "      <td>121</td>\n",
       "      <td>nn</td>\n",
       "      <td>...</td>\n",
       "      <td>14.0</td>\n",
       "      <td>0.22000</td>\n",
       "      <td>64.37</td>\n",
       "      <td>Nevada</td>\n",
       "      <td>-118.914500</td>\n",
       "      <td>38.402200</td>\n",
       "      <td>11.50</td>\n",
       "      <td>POINT (-118.91450 38.40220)</td>\n",
       "      <td>106</td>\n",
       "      <td>20 - 30</td>\n",
       "    </tr>\n",
       "    <tr>\n",
       "      <th>2</th>\n",
       "      <td>nc73887311</td>\n",
       "      <td>2.91</td>\n",
       "      <td>2023-05-12 20:57:31.130</td>\n",
       "      <td>2023-05-12 23:55:14.063</td>\n",
       "      <td>NaN</td>\n",
       "      <td>NaN</td>\n",
       "      <td>NaN</td>\n",
       "      <td>0</td>\n",
       "      <td>130</td>\n",
       "      <td>nc</td>\n",
       "      <td>...</td>\n",
       "      <td>24.0</td>\n",
       "      <td>0.10920</td>\n",
       "      <td>182.00</td>\n",
       "      <td>CA</td>\n",
       "      <td>-121.261330</td>\n",
       "      <td>35.747665</td>\n",
       "      <td>3.66</td>\n",
       "      <td>POINT (-121.26133 35.74767)</td>\n",
       "      <td>111</td>\n",
       "      <td>20 - 30</td>\n",
       "    </tr>\n",
       "    <tr>\n",
       "      <th>3</th>\n",
       "      <td>nc73887306</td>\n",
       "      <td>2.90</td>\n",
       "      <td>2023-05-12 20:57:24.320</td>\n",
       "      <td>2023-05-12 23:54:10.059</td>\n",
       "      <td>NaN</td>\n",
       "      <td>NaN</td>\n",
       "      <td>NaN</td>\n",
       "      <td>0</td>\n",
       "      <td>129</td>\n",
       "      <td>nc</td>\n",
       "      <td>...</td>\n",
       "      <td>12.0</td>\n",
       "      <td>0.10120</td>\n",
       "      <td>180.00</td>\n",
       "      <td>CA</td>\n",
       "      <td>-121.248833</td>\n",
       "      <td>35.747501</td>\n",
       "      <td>4.59</td>\n",
       "      <td>POINT (-121.24883 35.74750)</td>\n",
       "      <td>111</td>\n",
       "      <td>20 - 30</td>\n",
       "    </tr>\n",
       "    <tr>\n",
       "      <th>4</th>\n",
       "      <td>ci40223751</td>\n",
       "      <td>2.77</td>\n",
       "      <td>2023-05-12 17:30:47.620</td>\n",
       "      <td>2023-05-12 23:47:37.500</td>\n",
       "      <td>NaN</td>\n",
       "      <td>NaN</td>\n",
       "      <td>NaN</td>\n",
       "      <td>0</td>\n",
       "      <td>118</td>\n",
       "      <td>ci</td>\n",
       "      <td>...</td>\n",
       "      <td>94.0</td>\n",
       "      <td>0.07689</td>\n",
       "      <td>20.00</td>\n",
       "      <td>CA</td>\n",
       "      <td>-116.735167</td>\n",
       "      <td>33.979167</td>\n",
       "      <td>17.35</td>\n",
       "      <td>POINT (-116.73517 33.97917)</td>\n",
       "      <td>80</td>\n",
       "      <td>40 - 60</td>\n",
       "    </tr>\n",
       "  </tbody>\n",
       "</table>\n",
       "<p>5 rows × 21 columns</p>\n",
       "</div>"
      ],
      "text/plain": [
       "           id  Magnitud               primer reg                  Ult reg  \\\n",
       "0  us6000kbl9      2.50  2023-05-13 00:22:34.350  2023-05-13 01:02:32.040   \n",
       "1  nn00859459      2.80  2023-05-12 22:29:14.464  2023-05-12 23:43:48.040   \n",
       "2  nc73887311      2.91  2023-05-12 20:57:31.130  2023-05-12 23:55:14.063   \n",
       "3  nc73887306      2.90  2023-05-12 20:57:24.320  2023-05-12 23:54:10.059   \n",
       "4  ci40223751      2.77  2023-05-12 17:30:47.620  2023-05-12 23:47:37.500   \n",
       "\n",
       "   properties.felt  cdi  mmi  Posivilidad tsunami  Importancia del evento net  \\\n",
       "0              NaN  NaN  NaN                    0                      96  us   \n",
       "1              NaN  NaN  NaN                    0                     121  nn   \n",
       "2              NaN  NaN  NaN                    0                     130  nc   \n",
       "3              NaN  NaN  NaN                    0                     129  nc   \n",
       "4              NaN  NaN  NaN                    0                     118  ci   \n",
       "\n",
       "   ...   nst  Dist Horizontal epicentro  Brecha azimutal  estado    Longitud  \\\n",
       "0  ...  10.0                    0.46000           119.00  Kansas  -99.499500   \n",
       "1  ...  14.0                    0.22000            64.37  Nevada -118.914500   \n",
       "2  ...  24.0                    0.10920           182.00      CA -121.261330   \n",
       "3  ...  12.0                    0.10120           180.00      CA -121.248833   \n",
       "4  ...  94.0                    0.07689            20.00      CA -116.735167   \n",
       "\n",
       "     Latitud  Profundidad                     geometry index_right  ValueRange  \n",
       "0  39.235400         3.69   POINT (-99.49950 39.23540)          49       6 - 8  \n",
       "1  38.402200        11.50  POINT (-118.91450 38.40220)         106     20 - 30  \n",
       "2  35.747665         3.66  POINT (-121.26133 35.74767)         111     20 - 30  \n",
       "3  35.747501         4.59  POINT (-121.24883 35.74750)         111     20 - 30  \n",
       "4  33.979167        17.35  POINT (-116.73517 33.97917)          80     40 - 60  \n",
       "\n",
       "[5 rows x 21 columns]"
      ]
     },
     "execution_count": 163,
     "metadata": {},
     "output_type": "execute_result"
    }
   ],
   "source": [
    "gdf_sismos_con_zonas.head()"
   ]
  },
  {
   "cell_type": "code",
   "execution_count": 164,
   "metadata": {},
   "outputs": [
    {
     "name": "stdout",
     "output_type": "stream",
     "text": [
      "<class 'geopandas.geodataframe.GeoDataFrame'>\n",
      "Int64Index: 20000 entries, 0 to 19999\n",
      "Data columns (total 21 columns):\n",
      " #   Column                     Non-Null Count  Dtype   \n",
      "---  ------                     --------------  -----   \n",
      " 0   id                         20000 non-null  object  \n",
      " 1   Magnitud                   20000 non-null  float64 \n",
      " 2   primer reg                 20000 non-null  object  \n",
      " 3   Ult reg                    20000 non-null  object  \n",
      " 4   properties.felt            9863 non-null   float64 \n",
      " 5   cdi                        9863 non-null   float64 \n",
      " 6   mmi                        2764 non-null   float64 \n",
      " 7   Posivilidad tsunami        20000 non-null  int64   \n",
      " 8   Importancia del evento     20000 non-null  int64   \n",
      " 9   net                        20000 non-null  object  \n",
      " 10  ids                        20000 non-null  object  \n",
      " 11  nst                        14409 non-null  float64 \n",
      " 12  Dist Horizontal epicentro  19108 non-null  float64 \n",
      " 13  Brecha azimutal            19982 non-null  float64 \n",
      " 14  estado                     19611 non-null  object  \n",
      " 15  Longitud                   20000 non-null  float64 \n",
      " 16  Latitud                    20000 non-null  float64 \n",
      " 17  Profundidad                20000 non-null  float64 \n",
      " 18  geometry                   20000 non-null  geometry\n",
      " 19  index_right                20000 non-null  int64   \n",
      " 20  ValueRange                 20000 non-null  object  \n",
      "dtypes: float64(10), geometry(1), int64(3), object(7)\n",
      "memory usage: 3.4+ MB\n"
     ]
    }
   ],
   "source": [
    "gdf_sismos_con_zonas.info()"
   ]
  },
  {
   "cell_type": "code",
   "execution_count": 174,
   "metadata": {},
   "outputs": [],
   "source": [
    "# Guardar el GeoDataFrame como CSV\n",
    "gdf_sismos_con_zonas.to_csv('Sismos_usa_ML.csv', index=False)"
   ]
  },
  {
   "cell_type": "code",
   "execution_count": 178,
   "metadata": {},
   "outputs": [],
   "source": [
    "# Guardar el GeoDataFrame como CSV\n",
    "gdf_sismos_con_zonas.to_file(\"Sismos_usa_ML.json\", driver=\"GeoJSON\")"
   ]
  }
 ],
 "metadata": {
  "kernelspec": {
   "display_name": "Python 3",
   "language": "python",
   "name": "python3"
  },
  "language_info": {
   "codemirror_mode": {
    "name": "ipython",
    "version": 3
   },
   "file_extension": ".py",
   "mimetype": "text/x-python",
   "name": "python",
   "nbconvert_exporter": "python",
   "pygments_lexer": "ipython3",
   "version": "3.10.6"
  },
  "orig_nbformat": 4
 },
 "nbformat": 4,
 "nbformat_minor": 2
}
