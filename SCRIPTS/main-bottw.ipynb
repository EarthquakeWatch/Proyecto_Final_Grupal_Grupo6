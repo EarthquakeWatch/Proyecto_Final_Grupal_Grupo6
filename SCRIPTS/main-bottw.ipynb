{
 "cells": [
  {
   "cell_type": "code",
   "execution_count": 36,
   "metadata": {},
   "outputs": [],
   "source": [
    "\n",
    "import tweepy   #(La base principal de bots de twitter en python)\n",
    "import time    #(Para programar tiempos y poner pausas)\n",
    "import random   #(Por si necesitas elegir algo de forma random)\n",
    "import schedule  #(Para programar tareas cada cierto tiempo)"
   ]
  },
  {
   "attachments": {},
   "cell_type": "markdown",
   "metadata": {},
   "source": [
    "Claves"
   ]
  },
  {
   "cell_type": "code",
   "execution_count": 55,
   "metadata": {},
   "outputs": [],
   "source": [
    "api_key = \"piu1MWnlaB3Cx5LC6wA78b1OK\"\n",
    "api_secret = \"McYzSxJHdD5qpYBfdLf5060t9K5z28yqYCDveBPwUD8jy0oRSh\"\n",
    "bearer_token = \"AAAAAAAAAAAAAAAAAAAAAPMQngEAAAAASsyEmTaUhGRA0GGbRek%2FKjd2r1Y%3DjIGuiT4nBrDFfpAMUtxnQbXAY96e8kpxDgivJC6HQxbWmuOtRC\"\n",
    "access_token = \"1658180096023224344-Fh6W415nNRaZ0YNFRfr05V5wKmaBWX\"\n",
    "access_token_secret = \"k84bNCNwGGCzfAB7iXaxa4JT0HMMp2aIuBL5p6mT0AnKs\""
   ]
  },
  {
   "attachments": {},
   "cell_type": "markdown",
   "metadata": {},
   "source": [
    "Autorizamos al bot, para que postee tweet"
   ]
  },
  {
   "cell_type": "code",
   "execution_count": 57,
   "metadata": {},
   "outputs": [],
   "source": [
    "def api():\n",
    "    auth = tweepy.OAuthHandler(api_key, api_secret)\n",
    "    auth.set_access_token(access_token, access_token_secret)\n",
    "\n",
    "    return tweepy.API(auth) \n",
    "\n",
    "api = api()"
   ]
  },
  {
   "attachments": {},
   "cell_type": "markdown",
   "metadata": {},
   "source": [
    "Metodo para publicar tweet"
   ]
  },
  {
   "cell_type": "code",
   "execution_count": 58,
   "metadata": {},
   "outputs": [],
   "source": [
    "def tweet(api: tweepy.API, message: str, image_path=None):\n",
    "    if image_path:\n",
    "        api.update_status_with_media(message, image_path)\n",
    "    else:\n",
    "        api.update_status(message)\n",
    "\n",
    "    print('Tweet guardado!')"
   ]
  },
  {
   "cell_type": "code",
   "execution_count": 59,
   "metadata": {},
   "outputs": [
    {
     "ename": "Forbidden",
     "evalue": "403 Forbidden\n453 - You currently have Essential access which includes access to Twitter API v2 endpoints only. If you need access to this endpoint, you’ll need to apply for Elevated access via the Developer Portal. You can learn more here: https://developer.twitter.com/en/docs/twitter-api/getting-started/about-twitter-api#v2-access-leve",
     "output_type": "error",
     "traceback": [
      "\u001b[1;31m---------------------------------------------------------------------------\u001b[0m",
      "\u001b[1;31mForbidden\u001b[0m                                 Traceback (most recent call last)",
      "Cell \u001b[1;32mIn[59], line 2\u001b[0m\n\u001b[0;32m      1\u001b[0m \u001b[39mif\u001b[39;00m \u001b[39m__name__\u001b[39m \u001b[39m==\u001b[39m \u001b[39m'\u001b[39m\u001b[39m__main__\u001b[39m\u001b[39m'\u001b[39m:\n\u001b[1;32m----> 2\u001b[0m     tweet(api, \u001b[39m'\u001b[39;49m\u001b[39mThis was tweeted from Python\u001b[39;49m\u001b[39m'\u001b[39;49m, \u001b[39m'\u001b[39;49m\u001b[39mimage_sismo.png\u001b[39;49m\u001b[39m'\u001b[39;49m)\n",
      "Cell \u001b[1;32mIn[58], line 3\u001b[0m, in \u001b[0;36mtweet\u001b[1;34m(api, message, image_path)\u001b[0m\n\u001b[0;32m      1\u001b[0m \u001b[39mdef\u001b[39;00m \u001b[39mtweet\u001b[39m(api: tweepy\u001b[39m.\u001b[39mAPI, message: \u001b[39mstr\u001b[39m, image_path\u001b[39m=\u001b[39m\u001b[39mNone\u001b[39;00m):\n\u001b[0;32m      2\u001b[0m     \u001b[39mif\u001b[39;00m image_path:\n\u001b[1;32m----> 3\u001b[0m         api\u001b[39m.\u001b[39;49mupdate_status_with_media(message, image_path)\n\u001b[0;32m      4\u001b[0m     \u001b[39melse\u001b[39;00m:\n\u001b[0;32m      5\u001b[0m         api\u001b[39m.\u001b[39mupdate_status(message)\n",
      "File \u001b[1;32mc:\\Users\\Bounset\\AppData\\Local\\Programs\\Python\\Python311\\Lib\\site-packages\\tweepy\\api.py:46\u001b[0m, in \u001b[0;36mpayload.<locals>.decorator.<locals>.wrapper\u001b[1;34m(*args, **kwargs)\u001b[0m\n\u001b[0;32m     44\u001b[0m kwargs[\u001b[39m'\u001b[39m\u001b[39mpayload_list\u001b[39m\u001b[39m'\u001b[39m] \u001b[39m=\u001b[39m payload_list\n\u001b[0;32m     45\u001b[0m kwargs[\u001b[39m'\u001b[39m\u001b[39mpayload_type\u001b[39m\u001b[39m'\u001b[39m] \u001b[39m=\u001b[39m payload_type\n\u001b[1;32m---> 46\u001b[0m \u001b[39mreturn\u001b[39;00m method(\u001b[39m*\u001b[39;49margs, \u001b[39m*\u001b[39;49m\u001b[39m*\u001b[39;49mkwargs)\n",
      "File \u001b[1;32mc:\\Users\\Bounset\\AppData\\Local\\Programs\\Python\\Python311\\Lib\\site-packages\\tweepy\\api.py:1043\u001b[0m, in \u001b[0;36mAPI.update_status_with_media\u001b[1;34m(self, status, filename, file, **kwargs)\u001b[0m\n\u001b[0;32m   1041\u001b[0m \u001b[39melse\u001b[39;00m:\n\u001b[0;32m   1042\u001b[0m     files \u001b[39m=\u001b[39m {\u001b[39m'\u001b[39m\u001b[39mmedia[]\u001b[39m\u001b[39m'\u001b[39m: stack\u001b[39m.\u001b[39menter_context(\u001b[39mopen\u001b[39m(filename, \u001b[39m'\u001b[39m\u001b[39mrb\u001b[39m\u001b[39m'\u001b[39m))}\n\u001b[1;32m-> 1043\u001b[0m \u001b[39mreturn\u001b[39;00m \u001b[39mself\u001b[39;49m\u001b[39m.\u001b[39;49mrequest(\n\u001b[0;32m   1044\u001b[0m     \u001b[39m'\u001b[39;49m\u001b[39mPOST\u001b[39;49m\u001b[39m'\u001b[39;49m, \u001b[39m'\u001b[39;49m\u001b[39mstatuses/update_with_media\u001b[39;49m\u001b[39m'\u001b[39;49m, endpoint_parameters\u001b[39m=\u001b[39;49m(\n\u001b[0;32m   1045\u001b[0m         \u001b[39m'\u001b[39;49m\u001b[39mstatus\u001b[39;49m\u001b[39m'\u001b[39;49m, \u001b[39m'\u001b[39;49m\u001b[39mpossibly_sensitive\u001b[39;49m\u001b[39m'\u001b[39;49m, \u001b[39m'\u001b[39;49m\u001b[39min_reply_to_status_id\u001b[39;49m\u001b[39m'\u001b[39;49m,\n\u001b[0;32m   1046\u001b[0m         \u001b[39m'\u001b[39;49m\u001b[39mlat\u001b[39;49m\u001b[39m'\u001b[39;49m, \u001b[39m'\u001b[39;49m\u001b[39mlong\u001b[39;49m\u001b[39m'\u001b[39;49m, \u001b[39m'\u001b[39;49m\u001b[39mplace_id\u001b[39;49m\u001b[39m'\u001b[39;49m, \u001b[39m'\u001b[39;49m\u001b[39mdisplay_coordinates\u001b[39;49m\u001b[39m'\u001b[39;49m\n\u001b[0;32m   1047\u001b[0m     ), status\u001b[39m=\u001b[39;49mstatus, files\u001b[39m=\u001b[39;49mfiles, \u001b[39m*\u001b[39;49m\u001b[39m*\u001b[39;49mkwargs\n\u001b[0;32m   1048\u001b[0m )\n",
      "File \u001b[1;32mc:\\Users\\Bounset\\AppData\\Local\\Programs\\Python\\Python311\\Lib\\site-packages\\tweepy\\api.py:271\u001b[0m, in \u001b[0;36mAPI.request\u001b[1;34m(self, method, endpoint, endpoint_parameters, params, headers, json_payload, parser, payload_list, payload_type, post_data, files, require_auth, return_cursors, upload_api, use_cache, **kwargs)\u001b[0m\n\u001b[0;32m    269\u001b[0m     \u001b[39mraise\u001b[39;00m Unauthorized(resp)\n\u001b[0;32m    270\u001b[0m \u001b[39mif\u001b[39;00m resp\u001b[39m.\u001b[39mstatus_code \u001b[39m==\u001b[39m \u001b[39m403\u001b[39m:\n\u001b[1;32m--> 271\u001b[0m     \u001b[39mraise\u001b[39;00m Forbidden(resp)\n\u001b[0;32m    272\u001b[0m \u001b[39mif\u001b[39;00m resp\u001b[39m.\u001b[39mstatus_code \u001b[39m==\u001b[39m \u001b[39m404\u001b[39m:\n\u001b[0;32m    273\u001b[0m     \u001b[39mraise\u001b[39;00m NotFound(resp)\n",
      "\u001b[1;31mForbidden\u001b[0m: 403 Forbidden\n453 - You currently have Essential access which includes access to Twitter API v2 endpoints only. If you need access to this endpoint, you’ll need to apply for Elevated access via the Developer Portal. You can learn more here: https://developer.twitter.com/en/docs/twitter-api/getting-started/about-twitter-api#v2-access-leve"
     ]
    }
   ],
   "source": [
    "if __name__ == '__main__':\n",
    "    tweet(api, 'This was tweeted from Python', 'image_sismo.png')"
   ]
  },
  {
   "attachments": {},
   "cell_type": "markdown",
   "metadata": {},
   "source": [
    "-------------------------------------------------------------------------------------------------"
   ]
  },
  {
   "cell_type": "code",
   "execution_count": 39,
   "metadata": {},
   "outputs": [
    {
     "ename": "AttributeError",
     "evalue": "module 'tweepy' has no attribute 'TweepError'",
     "output_type": "error",
     "traceback": [
      "\u001b[1;31m---------------------------------------------------------------------------\u001b[0m",
      "\u001b[1;31mUnauthorized\u001b[0m                              Traceback (most recent call last)",
      "Cell \u001b[1;32mIn[39], line 42\u001b[0m, in \u001b[0;36mmain\u001b[1;34m()\u001b[0m\n\u001b[0;32m     41\u001b[0m \u001b[39mtry\u001b[39;00m:\n\u001b[1;32m---> 42\u001b[0m     schedule\u001b[39m.\u001b[39;49mrun_pending()\n\u001b[0;32m     43\u001b[0m     time\u001b[39m.\u001b[39msleep(\u001b[39m2\u001b[39m)\n",
      "File \u001b[1;32mc:\\Users\\Bounset\\AppData\\Local\\Programs\\Python\\Python311\\Lib\\site-packages\\schedule\\__init__.py:822\u001b[0m, in \u001b[0;36mrun_pending\u001b[1;34m()\u001b[0m\n\u001b[0;32m    819\u001b[0m \u001b[39m\"\"\"Calls :meth:`run_pending <Scheduler.run_pending>` on the\u001b[39;00m\n\u001b[0;32m    820\u001b[0m \u001b[39m:data:`default scheduler instance <default_scheduler>`.\u001b[39;00m\n\u001b[0;32m    821\u001b[0m \u001b[39m\"\"\"\u001b[39;00m\n\u001b[1;32m--> 822\u001b[0m default_scheduler\u001b[39m.\u001b[39;49mrun_pending()\n",
      "File \u001b[1;32mc:\\Users\\Bounset\\AppData\\Local\\Programs\\Python\\Python311\\Lib\\site-packages\\schedule\\__init__.py:100\u001b[0m, in \u001b[0;36mScheduler.run_pending\u001b[1;34m(self)\u001b[0m\n\u001b[0;32m     99\u001b[0m \u001b[39mfor\u001b[39;00m job \u001b[39min\u001b[39;00m \u001b[39msorted\u001b[39m(runnable_jobs):\n\u001b[1;32m--> 100\u001b[0m     \u001b[39mself\u001b[39;49m\u001b[39m.\u001b[39;49m_run_job(job)\n",
      "File \u001b[1;32mc:\\Users\\Bounset\\AppData\\Local\\Programs\\Python\\Python311\\Lib\\site-packages\\schedule\\__init__.py:172\u001b[0m, in \u001b[0;36mScheduler._run_job\u001b[1;34m(self, job)\u001b[0m\n\u001b[0;32m    171\u001b[0m \u001b[39mdef\u001b[39;00m \u001b[39m_run_job\u001b[39m(\u001b[39mself\u001b[39m, job: \u001b[39m\"\u001b[39m\u001b[39mJob\u001b[39m\u001b[39m\"\u001b[39m) \u001b[39m-\u001b[39m\u001b[39m>\u001b[39m \u001b[39mNone\u001b[39;00m:\n\u001b[1;32m--> 172\u001b[0m     ret \u001b[39m=\u001b[39m job\u001b[39m.\u001b[39;49mrun()\n\u001b[0;32m    173\u001b[0m     \u001b[39mif\u001b[39;00m \u001b[39misinstance\u001b[39m(ret, CancelJob) \u001b[39mor\u001b[39;00m ret \u001b[39mis\u001b[39;00m CancelJob:\n",
      "File \u001b[1;32mc:\\Users\\Bounset\\AppData\\Local\\Programs\\Python\\Python311\\Lib\\site-packages\\schedule\\__init__.py:693\u001b[0m, in \u001b[0;36mJob.run\u001b[1;34m(self)\u001b[0m\n\u001b[0;32m    692\u001b[0m logger\u001b[39m.\u001b[39mdebug(\u001b[39m\"\u001b[39m\u001b[39mRunning job \u001b[39m\u001b[39m%s\u001b[39;00m\u001b[39m\"\u001b[39m, \u001b[39mself\u001b[39m)\n\u001b[1;32m--> 693\u001b[0m ret \u001b[39m=\u001b[39m \u001b[39mself\u001b[39;49m\u001b[39m.\u001b[39;49mjob_func()\n\u001b[0;32m    694\u001b[0m \u001b[39mself\u001b[39m\u001b[39m.\u001b[39mlast_run \u001b[39m=\u001b[39m datetime\u001b[39m.\u001b[39mdatetime\u001b[39m.\u001b[39mnow()\n",
      "Cell \u001b[1;32mIn[37], line 24\u001b[0m, in \u001b[0;36mtweets_cuenta\u001b[1;34m()\u001b[0m\n\u001b[0;32m     21\u001b[0m \u001b[39mdef\u001b[39;00m \u001b[39mtweets_cuenta\u001b[39m():\n\u001b[0;32m     22\u001b[0m     \u001b[39m#Lo primero siempre es buscar los tweets sobre los que vas a trabajar\u001b[39;00m\n\u001b[0;32m     23\u001b[0m     \u001b[39m#con la linea de abajo obtienes los ultimos 5 tweets de la cuenta que reaccionaras\u001b[39;00m\n\u001b[1;32m---> 24\u001b[0m     tweets \u001b[39m=\u001b[39m client\u001b[39m.\u001b[39;49mget_users_tweets(\u001b[39mid\u001b[39;49m\u001b[39m=\u001b[39;49muser_id_cuenta,max_results\u001b[39m=\u001b[39;49m\u001b[39m5\u001b[39;49m)\n\u001b[0;32m     25\u001b[0m     \u001b[39m#Básicamente para cada tweet que consiga, vamos a buscar si tiene la palabra clave\u001b[39;00m\n\u001b[0;32m     26\u001b[0m     \u001b[39m#Luego vamos a darle like y Retweet a cada tweet o retweet que cumpla con la especificacion\t\u001b[39;00m\n",
      "File \u001b[1;32mc:\\Users\\Bounset\\AppData\\Local\\Programs\\Python\\Python311\\Lib\\site-packages\\tweepy\\client.py:1583\u001b[0m, in \u001b[0;36mClient.get_users_tweets\u001b[1;34m(self, id, user_auth, **params)\u001b[0m\n\u001b[0;32m   1484\u001b[0m \u001b[39m\"\"\"get_users_tweets( \\\u001b[39;00m\n\u001b[0;32m   1485\u001b[0m \u001b[39m    id, *, end_time=None, exclude=None, expansions=None, \\\u001b[39;00m\n\u001b[0;32m   1486\u001b[0m \u001b[39m    max_results=None, media_fields=None, pagination_token=None, \\\u001b[39;00m\n\u001b[1;32m   (...)\u001b[0m\n\u001b[0;32m   1581\u001b[0m \u001b[39m.. _here: https://developer.twitter.com/en/docs/twitter-ids\u001b[39;00m\n\u001b[0;32m   1582\u001b[0m \u001b[39m\"\"\"\u001b[39;00m\n\u001b[1;32m-> 1583\u001b[0m \u001b[39mreturn\u001b[39;00m \u001b[39mself\u001b[39;49m\u001b[39m.\u001b[39;49m_make_request(\n\u001b[0;32m   1584\u001b[0m     \u001b[39m\"\u001b[39;49m\u001b[39mGET\u001b[39;49m\u001b[39m\"\u001b[39;49m, \u001b[39mf\u001b[39;49m\u001b[39m\"\u001b[39;49m\u001b[39m/2/users/\u001b[39;49m\u001b[39m{\u001b[39;49;00m\u001b[39mid\u001b[39;49m\u001b[39m}\u001b[39;49;00m\u001b[39m/tweets\u001b[39;49m\u001b[39m\"\u001b[39;49m, params\u001b[39m=\u001b[39;49mparams,\n\u001b[0;32m   1585\u001b[0m     endpoint_parameters\u001b[39m=\u001b[39;49m(\n\u001b[0;32m   1586\u001b[0m         \u001b[39m\"\u001b[39;49m\u001b[39mend_time\u001b[39;49m\u001b[39m\"\u001b[39;49m, \u001b[39m\"\u001b[39;49m\u001b[39mexclude\u001b[39;49m\u001b[39m\"\u001b[39;49m, \u001b[39m\"\u001b[39;49m\u001b[39mexpansions\u001b[39;49m\u001b[39m\"\u001b[39;49m, \u001b[39m\"\u001b[39;49m\u001b[39mmax_results\u001b[39;49m\u001b[39m\"\u001b[39;49m,\n\u001b[0;32m   1587\u001b[0m         \u001b[39m\"\u001b[39;49m\u001b[39mmedia.fields\u001b[39;49m\u001b[39m\"\u001b[39;49m, \u001b[39m\"\u001b[39;49m\u001b[39mpagination_token\u001b[39;49m\u001b[39m\"\u001b[39;49m, \u001b[39m\"\u001b[39;49m\u001b[39mplace.fields\u001b[39;49m\u001b[39m\"\u001b[39;49m,\n\u001b[0;32m   1588\u001b[0m         \u001b[39m\"\u001b[39;49m\u001b[39mpoll.fields\u001b[39;49m\u001b[39m\"\u001b[39;49m, \u001b[39m\"\u001b[39;49m\u001b[39msince_id\u001b[39;49m\u001b[39m\"\u001b[39;49m, \u001b[39m\"\u001b[39;49m\u001b[39mstart_time\u001b[39;49m\u001b[39m\"\u001b[39;49m, \u001b[39m\"\u001b[39;49m\u001b[39mtweet.fields\u001b[39;49m\u001b[39m\"\u001b[39;49m,\n\u001b[0;32m   1589\u001b[0m         \u001b[39m\"\u001b[39;49m\u001b[39muntil_id\u001b[39;49m\u001b[39m\"\u001b[39;49m, \u001b[39m\"\u001b[39;49m\u001b[39muser.fields\u001b[39;49m\u001b[39m\"\u001b[39;49m\n\u001b[0;32m   1590\u001b[0m     ), data_type\u001b[39m=\u001b[39;49mTweet, user_auth\u001b[39m=\u001b[39;49muser_auth\n\u001b[0;32m   1591\u001b[0m )\n",
      "File \u001b[1;32mc:\\Users\\Bounset\\AppData\\Local\\Programs\\Python\\Python311\\Lib\\site-packages\\tweepy\\client.py:129\u001b[0m, in \u001b[0;36mBaseClient._make_request\u001b[1;34m(self, method, route, params, endpoint_parameters, json, data_type, user_auth)\u001b[0m\n\u001b[0;32m    127\u001b[0m request_params \u001b[39m=\u001b[39m \u001b[39mself\u001b[39m\u001b[39m.\u001b[39m_process_params(params, endpoint_parameters)\n\u001b[1;32m--> 129\u001b[0m response \u001b[39m=\u001b[39m \u001b[39mself\u001b[39;49m\u001b[39m.\u001b[39;49mrequest(method, route, params\u001b[39m=\u001b[39;49mrequest_params,\n\u001b[0;32m    130\u001b[0m                         json\u001b[39m=\u001b[39;49mjson, user_auth\u001b[39m=\u001b[39;49muser_auth)\n\u001b[0;32m    132\u001b[0m \u001b[39mif\u001b[39;00m \u001b[39mself\u001b[39m\u001b[39m.\u001b[39mreturn_type \u001b[39mis\u001b[39;00m requests\u001b[39m.\u001b[39mResponse:\n",
      "File \u001b[1;32mc:\\Users\\Bounset\\AppData\\Local\\Programs\\Python\\Python311\\Lib\\site-packages\\tweepy\\client.py:98\u001b[0m, in \u001b[0;36mBaseClient.request\u001b[1;34m(self, method, route, params, json, user_auth)\u001b[0m\n\u001b[0;32m     97\u001b[0m \u001b[39mif\u001b[39;00m response\u001b[39m.\u001b[39mstatus_code \u001b[39m==\u001b[39m \u001b[39m401\u001b[39m:\n\u001b[1;32m---> 98\u001b[0m     \u001b[39mraise\u001b[39;00m Unauthorized(response)\n\u001b[0;32m     99\u001b[0m \u001b[39mif\u001b[39;00m response\u001b[39m.\u001b[39mstatus_code \u001b[39m==\u001b[39m \u001b[39m403\u001b[39m:\n",
      "\u001b[1;31mUnauthorized\u001b[0m: 401 Unauthorized\nUnauthorized",
      "\nDuring handling of the above exception, another exception occurred:\n",
      "\u001b[1;31mAttributeError\u001b[0m                            Traceback (most recent call last)",
      "Cell \u001b[1;32mIn[39], line 49\u001b[0m\n\u001b[0;32m     47\u001b[0m \u001b[39m#Con esto evitamos errores por si importan el código, es una costumbre en Python\u001b[39;00m\n\u001b[0;32m     48\u001b[0m \u001b[39mif\u001b[39;00m \u001b[39m__name__\u001b[39m \u001b[39m==\u001b[39m \u001b[39m\"\u001b[39m\u001b[39m__main__\u001b[39m\u001b[39m\"\u001b[39m:\n\u001b[1;32m---> 49\u001b[0m     main()         \n",
      "Cell \u001b[1;32mIn[39], line 44\u001b[0m, in \u001b[0;36mmain\u001b[1;34m()\u001b[0m\n\u001b[0;32m     42\u001b[0m     schedule\u001b[39m.\u001b[39mrun_pending()\n\u001b[0;32m     43\u001b[0m     time\u001b[39m.\u001b[39msleep(\u001b[39m2\u001b[39m)\n\u001b[1;32m---> 44\u001b[0m \u001b[39mexcept\u001b[39;00m tweepy\u001b[39m.\u001b[39;49mTweepError \u001b[39mas\u001b[39;00m e:\n\u001b[0;32m     45\u001b[0m     \u001b[39mraise\u001b[39;00m e\n",
      "\u001b[1;31mAttributeError\u001b[0m: module 'tweepy' has no attribute 'TweepError'"
     ]
    }
   ],
   "source": [
    "#Esta es mi propia forma de usar el bot: \"client\" para buscar tweets y \"client1\" para hacer acciones\n",
    "\n",
    "client = tweepy.Client(\"Tu Barrear Token\")\n",
    "client1 = tweepy.Client(\n",
    "    consumer_key= api_key,\n",
    "    consumer_secret= api_secret,\n",
    "    access_token= access_token,\n",
    "    access_token_secret= access_token_secret\n",
    ")\n",
    "\n",
    "#Este es el código que uso para buscar el id de las cuentas, debes colocar entre comillas el usuario\n",
    "def buscaruser():\n",
    "    users = client.get_users(usernames=['Alertsismos'])\n",
    "    for user in users:\n",
    "    \tprint(user)\n",
    "\n",
    "user_id = 'OGNCMWUzRUhfM05ZbHZqZXdvLUs6MTpjaQ  '\n",
    "user_id_cuenta = 'GNlU2t-5x_hFQCFkcwOqXcLenj56GfvrYjNnfM6wlo9V5O_Dg0'\n",
    "\n",
    "# Definimos la función de reacción a la cuenta\n",
    "def tweets_cuenta():\n",
    "    #Lo primero siempre es buscar los tweets sobre los que vas a trabajar\n",
    "    #con la linea de abajo obtienes los ultimos 5 tweets de la cuenta que reaccionaras\n",
    "    tweets = client.get_users_tweets(id=user_id_cuenta,max_results=5)\n",
    "    #Básicamente para cada tweet que consiga, vamos a buscar si tiene la palabra clave\n",
    "    #Luego vamos a darle like y Retweet a cada tweet o retweet que cumpla con la especificacion\t\n",
    "    for tweet in tweets.data:\n",
    "        if '#NFTGiveaway' in tweet.text:\n",
    "            print('Likeable') #(Para saber si hará la accion o no)\n",
    "            client1.like(tweet.id) #(Para dar like al tweet)\n",
    "            client1.retweet(tweet.id) #(Para retweetear el tweet)\n",
    "            \n",
    "#Definimos los procesos que va a correr\n",
    "def main():\n",
    "\n",
    "    #Cada 600 segundos/10minutos va a correr la función que definimos antes\n",
    "    schedule.every(600).seconds.do(tweets_cuenta)\n",
    "\n",
    "    #Aqui definimos el lop infinito para que siempre este haciendo la tarea\n",
    "    while True:\n",
    "            try:\n",
    "                schedule.run_pending()\n",
    "                time.sleep(2)\n",
    "            except tweepy.TweepError as e:\n",
    "                raise e\n",
    "\n",
    "#Con esto evitamos errores por si importan el código, es una costumbre en Python\n",
    "if __name__ == \"__main__\":\n",
    "    main()         "
   ]
  },
  {
   "attachments": {},
   "cell_type": "markdown",
   "metadata": {},
   "source": [
    "-------------------------------------------------------------------"
   ]
  },
  {
   "cell_type": "code",
   "execution_count": 61,
   "metadata": {},
   "outputs": [
    {
     "ename": "Unauthorized",
     "evalue": "401 Unauthorized\n32 - Could not authenticate you.",
     "output_type": "error",
     "traceback": [
      "\u001b[1;31m---------------------------------------------------------------------------\u001b[0m",
      "\u001b[1;31mUnauthorized\u001b[0m                              Traceback (most recent call last)",
      "Cell \u001b[1;32mIn[61], line 17\u001b[0m\n\u001b[0;32m     14\u001b[0m api \u001b[39m=\u001b[39m tweepy\u001b[39m.\u001b[39mAPI(auth)\n\u001b[0;32m     16\u001b[0m \u001b[39m# Realiza una llamada a la API\u001b[39;00m\n\u001b[1;32m---> 17\u001b[0m public_tweets \u001b[39m=\u001b[39m api\u001b[39m.\u001b[39;49mhome_timeline()\n\u001b[0;32m     19\u001b[0m \u001b[39m# Imprime los tweets en la línea de tiempo\u001b[39;00m\n\u001b[0;32m     20\u001b[0m \u001b[39mfor\u001b[39;00m tweet \u001b[39min\u001b[39;00m public_tweets:\n",
      "File \u001b[1;32mc:\\Users\\Bounset\\AppData\\Local\\Programs\\Python\\Python311\\Lib\\site-packages\\tweepy\\api.py:33\u001b[0m, in \u001b[0;36mpagination.<locals>.decorator.<locals>.wrapper\u001b[1;34m(*args, **kwargs)\u001b[0m\n\u001b[0;32m     31\u001b[0m \u001b[39m@functools\u001b[39m\u001b[39m.\u001b[39mwraps(method)\n\u001b[0;32m     32\u001b[0m \u001b[39mdef\u001b[39;00m \u001b[39mwrapper\u001b[39m(\u001b[39m*\u001b[39margs, \u001b[39m*\u001b[39m\u001b[39m*\u001b[39mkwargs):\n\u001b[1;32m---> 33\u001b[0m     \u001b[39mreturn\u001b[39;00m method(\u001b[39m*\u001b[39;49margs, \u001b[39m*\u001b[39;49m\u001b[39m*\u001b[39;49mkwargs)\n",
      "File \u001b[1;32mc:\\Users\\Bounset\\AppData\\Local\\Programs\\Python\\Python311\\Lib\\site-packages\\tweepy\\api.py:46\u001b[0m, in \u001b[0;36mpayload.<locals>.decorator.<locals>.wrapper\u001b[1;34m(*args, **kwargs)\u001b[0m\n\u001b[0;32m     44\u001b[0m kwargs[\u001b[39m'\u001b[39m\u001b[39mpayload_list\u001b[39m\u001b[39m'\u001b[39m] \u001b[39m=\u001b[39m payload_list\n\u001b[0;32m     45\u001b[0m kwargs[\u001b[39m'\u001b[39m\u001b[39mpayload_type\u001b[39m\u001b[39m'\u001b[39m] \u001b[39m=\u001b[39m payload_type\n\u001b[1;32m---> 46\u001b[0m \u001b[39mreturn\u001b[39;00m method(\u001b[39m*\u001b[39;49margs, \u001b[39m*\u001b[39;49m\u001b[39m*\u001b[39;49mkwargs)\n",
      "File \u001b[1;32mc:\\Users\\Bounset\\AppData\\Local\\Programs\\Python\\Python311\\Lib\\site-packages\\tweepy\\api.py:331\u001b[0m, in \u001b[0;36mAPI.home_timeline\u001b[1;34m(self, **kwargs)\u001b[0m\n\u001b[0;32m    298\u001b[0m \u001b[39m@pagination\u001b[39m(mode\u001b[39m=\u001b[39m\u001b[39m'\u001b[39m\u001b[39mid\u001b[39m\u001b[39m'\u001b[39m)\n\u001b[0;32m    299\u001b[0m \u001b[39m@payload\u001b[39m(\u001b[39m'\u001b[39m\u001b[39mstatus\u001b[39m\u001b[39m'\u001b[39m, \u001b[39mlist\u001b[39m\u001b[39m=\u001b[39m\u001b[39mTrue\u001b[39;00m)\n\u001b[0;32m    300\u001b[0m \u001b[39mdef\u001b[39;00m \u001b[39mhome_timeline\u001b[39m(\u001b[39mself\u001b[39m, \u001b[39m*\u001b[39m\u001b[39m*\u001b[39mkwargs):\n\u001b[0;32m    301\u001b[0m     \u001b[39m\"\"\"home_timeline(*, count, since_id, max_id, trim_user, \\\u001b[39;00m\n\u001b[0;32m    302\u001b[0m \u001b[39m                     exclude_replies, include_entities)\u001b[39;00m\n\u001b[0;32m    303\u001b[0m \n\u001b[1;32m   (...)\u001b[0m\n\u001b[0;32m    329\u001b[0m \u001b[39m    https://developer.twitter.com/en/docs/twitter-api/v1/tweets/timelines/api-reference/get-statuses-home_timeline\u001b[39;00m\n\u001b[0;32m    330\u001b[0m \u001b[39m    \"\"\"\u001b[39;00m\n\u001b[1;32m--> 331\u001b[0m     \u001b[39mreturn\u001b[39;00m \u001b[39mself\u001b[39;49m\u001b[39m.\u001b[39;49mrequest(\n\u001b[0;32m    332\u001b[0m         \u001b[39m'\u001b[39;49m\u001b[39mGET\u001b[39;49m\u001b[39m'\u001b[39;49m, \u001b[39m'\u001b[39;49m\u001b[39mstatuses/home_timeline\u001b[39;49m\u001b[39m'\u001b[39;49m, endpoint_parameters\u001b[39m=\u001b[39;49m(\n\u001b[0;32m    333\u001b[0m             \u001b[39m'\u001b[39;49m\u001b[39mcount\u001b[39;49m\u001b[39m'\u001b[39;49m, \u001b[39m'\u001b[39;49m\u001b[39msince_id\u001b[39;49m\u001b[39m'\u001b[39;49m, \u001b[39m'\u001b[39;49m\u001b[39mmax_id\u001b[39;49m\u001b[39m'\u001b[39;49m, \u001b[39m'\u001b[39;49m\u001b[39mtrim_user\u001b[39;49m\u001b[39m'\u001b[39;49m, \u001b[39m'\u001b[39;49m\u001b[39mexclude_replies\u001b[39;49m\u001b[39m'\u001b[39;49m,\n\u001b[0;32m    334\u001b[0m             \u001b[39m'\u001b[39;49m\u001b[39minclude_entities\u001b[39;49m\u001b[39m'\u001b[39;49m\n\u001b[0;32m    335\u001b[0m         ), \u001b[39m*\u001b[39;49m\u001b[39m*\u001b[39;49mkwargs\n\u001b[0;32m    336\u001b[0m     )\n",
      "File \u001b[1;32mc:\\Users\\Bounset\\AppData\\Local\\Programs\\Python\\Python311\\Lib\\site-packages\\tweepy\\api.py:269\u001b[0m, in \u001b[0;36mAPI.request\u001b[1;34m(self, method, endpoint, endpoint_parameters, params, headers, json_payload, parser, payload_list, payload_type, post_data, files, require_auth, return_cursors, upload_api, use_cache, **kwargs)\u001b[0m\n\u001b[0;32m    267\u001b[0m     \u001b[39mraise\u001b[39;00m BadRequest(resp)\n\u001b[0;32m    268\u001b[0m \u001b[39mif\u001b[39;00m resp\u001b[39m.\u001b[39mstatus_code \u001b[39m==\u001b[39m \u001b[39m401\u001b[39m:\n\u001b[1;32m--> 269\u001b[0m     \u001b[39mraise\u001b[39;00m Unauthorized(resp)\n\u001b[0;32m    270\u001b[0m \u001b[39mif\u001b[39;00m resp\u001b[39m.\u001b[39mstatus_code \u001b[39m==\u001b[39m \u001b[39m403\u001b[39m:\n\u001b[0;32m    271\u001b[0m     \u001b[39mraise\u001b[39;00m Forbidden(resp)\n",
      "\u001b[1;31mUnauthorized\u001b[0m: 401 Unauthorized\n32 - Could not authenticate you."
     ]
    }
   ],
   "source": [
    "\n",
    "# Configura tus credenciales de autenticación\n",
    "consumer_key = \"piu1MWnlaB3Cx5LC6wA78b1OK\"\n",
    "consumer_secret = \"Xu9JUP5mLCTiAnBcwX2xVjI28KjivE6RKPsOF8R87de9UTfqpr\"\n",
    "access_token = \"1658180096023224344-qHG58kPSMVasm3RvJ30uKaj6K8VBUv\"\n",
    "access_token_secret = \"xb0gRnlDfyJryLD6jmHGpDRzgAJMUD42tqVik0w2fbgrl\"\n",
    "\n",
    "# Autenticación con OAuth\n",
    "auth = tweepy.OAuthHandler(consumer_key, consumer_secret)\n",
    "auth.set_access_token(access_token, access_token_secret)\n",
    "\n",
    "# Crea un objeto API\n",
    "api = tweepy.API(auth)\n",
    "\n",
    "# Realiza una llamada a la API\n",
    "public_tweets = api.home_timeline()\n",
    "\n",
    "# Imprime los tweets en la línea de tiempo\n",
    "for tweet in public_tweets:\n",
    "    print(tweet.text)\n"
   ]
  },
  {
   "attachments": {},
   "cell_type": "markdown",
   "metadata": {},
   "source": [
    "--------------------------------------------------------------------------------------"
   ]
  },
  {
   "cell_type": "code",
   "execution_count": 62,
   "metadata": {},
   "outputs": [],
   "source": [
    "auth = tweepy.OAuth2BearerHandler(\"AAAAAAAAAAAAAAAAAAAAAJgYngEAAAAAmD5DpdOxvomPBEJWn0vL8TW2ZyQ%3DrCFoqOgAivebKhCU0FpzX2YAIDdT1SRlwaFL1xkOW9zc9CnmJ9\")\n",
    "api = tweepy.API(auth)"
   ]
  },
  {
   "cell_type": "code",
   "execution_count": 63,
   "metadata": {},
   "outputs": [],
   "source": [
    "import tweepy\n",
    "\n",
    "auth = tweepy.OAuth2AppHandler(\n",
    "    \"piu1MWnlaB3Cx5LC6wA78b1OK\", \"McYzSxJHdD5qpYBfdLf5060t9K5z28yqYCDveBPwUD8jy0oRSh\"\n",
    ")\n",
    "api = tweepy.API(auth)"
   ]
  },
  {
   "cell_type": "code",
   "execution_count": 64,
   "metadata": {},
   "outputs": [],
   "source": [
    "import tweepy\n",
    "\n",
    "auth = tweepy.OAuth1UserHandler(\n",
    "   \"piu1MWnlaB3Cx5LC6wA78b1OK\", \"McYzSxJHdD5qpYBfdLf5060t9K5z28yqYCDveBPwUD8jy0oRSh\",\n",
    "   \"1658180096023224344-Fh6W415nNRaZ0YNFRfr05V5wKmaBWX\", \"k84bNCNwGGCzfAB7iXaxa4JT0HMMp2aIuBL5p6mT0AnKs\"\n",
    ")\n",
    "api = tweepy.API(auth)"
   ]
  },
  {
   "attachments": {},
   "cell_type": "markdown",
   "metadata": {},
   "source": [
    "Twitter API v2."
   ]
  },
  {
   "cell_type": "code",
   "execution_count": null,
   "metadata": {},
   "outputs": [],
   "source": [
    "api_key = \"piu1MWnlaB3Cx5LC6wA78b1OK\"\n",
    "api_secret = \"McYzSxJHdD5qpYBfdLf5060t9K5z28yqYCDveBPwUD8jy0oRSh\"\n",
    "bearer_token = \"AAAAAAAAAAAAAAAAAAAAAPMQngEAAAAASsyEmTaUhGRA0GGbRek%2FKjd2r1Y%3DjIGuiT4nBrDFfpAMUtxnQbXAY96e8kpxDgivJC6HQxbWmuOtRC\"\n",
    "access_token = \"1658180096023224344-Fh6W415nNRaZ0YNFRfr05V5wKmaBWX\"\n",
    "access_token_secret = \"k84bNCNwGGCzfAB7iXaxa4JT0HMMp2aIuBL5p6mT0AnKs\""
   ]
  },
  {
   "cell_type": "code",
   "execution_count": 65,
   "metadata": {},
   "outputs": [],
   "source": [
    "client = tweepy.Client(\"AAAAAAAAAAAAAAAAAAAAAPMQngEAAAAASsyEmTaUhGRA0GGbRek%2FKjd2r1Y%3DjIGuiT4nBrDFfpAMUtxnQbXAY96e8kpxDgivJC6HQxbWmuOtRC\") \n"
   ]
  },
  {
   "cell_type": "code",
   "execution_count": 66,
   "metadata": {},
   "outputs": [],
   "source": [
    "client = tweepy.Client(\n",
    "    consumer_key=\"piu1MWnlaB3Cx5LC6wA78b1OK\",\n",
    "    consumer_secret=\"McYzSxJHdD5qpYBfdLf5060t9K5z28yqYCDveBPwUD8jy0oRSh\",\n",
    "    access_token=\"1658180096023224344-Fh6W415nNRaZ0YNFRfr05V5wKmaBWX\",\n",
    "    access_token_secret= \"k84bNCNwGGCzfAB7iXaxa4JT0HMMp2aIuBL5p6mT0AnKs\"\n",
    ")"
   ]
  },
  {
   "cell_type": "code",
   "execution_count": null,
   "metadata": {},
   "outputs": [],
   "source": [
    "import tweepy\n",
    "\n",
    "oauth2_user_handler = tweepy.OAuth2UserHandler(\n",
    "    client_id=\"Z0Q0R2tCeTZaY2hQLTVzMXpMRmY6MTpjaQ\",\n",
    "    redirect_uri=\"Callback / Redirect URI / URL here\",\n",
    "    scope=[\"Scope here\", \"Scope here\"],\n",
    "    # Client Secret is only necessary if using a confidential client\n",
    "    client_secret=\"Client Secret here\"\n",
    ")"
   ]
  }
 ],
 "metadata": {
  "kernelspec": {
   "display_name": "Python 3",
   "language": "python",
   "name": "python3"
  },
  "language_info": {
   "codemirror_mode": {
    "name": "ipython",
    "version": 3
   },
   "file_extension": ".py",
   "mimetype": "text/x-python",
   "name": "python",
   "nbconvert_exporter": "python",
   "pygments_lexer": "ipython3",
   "version": "3.11.1"
  },
  "orig_nbformat": 4
 },
 "nbformat": 4,
 "nbformat_minor": 2
}
