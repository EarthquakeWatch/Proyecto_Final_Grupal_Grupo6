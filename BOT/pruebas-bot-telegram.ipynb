{
 "cells": [
  {
   "attachments": {},
   "cell_type": "markdown",
   "metadata": {},
   "source": [
    "BOT TELEGRAM"
   ]
  },
  {
   "cell_type": "code",
   "execution_count": 83,
   "metadata": {},
   "outputs": [],
   "source": [
    "import requests \n",
    "from IPython.display import display \n",
    "import telegram \n",
    "import logging \n",
    "from telegram import Bot\n",
    "from telegram.ext import Updater, CommandHandler\n"
   ]
  },
  {
   "attachments": {},
   "cell_type": "markdown",
   "metadata": {},
   "source": [
    "Para verificar los datos del bot"
   ]
  },
  {
   "cell_type": "code",
   "execution_count": 49,
   "metadata": {},
   "outputs": [
    {
     "name": "stdout",
     "output_type": "stream",
     "text": [
      "Información del bot:\n",
      "ID: 6283832471\n",
      "Nombre: AlertSismosBot\n",
      "Nombre de usuario: Alert_sismos_bot\n"
     ]
    }
   ],
   "source": [
    "token = \"6283832471:AAGoH7EEKXw3cHs56lXegB6ZbXRLlAen09k\"  # Reemplaza esto con tu propio token\n",
    "\n",
    "url = f\"https://api.telegram.org/bot{token}/getMe\"\n",
    "\n",
    "response = requests.get(url)\n",
    "data = response.json()\n",
    "\n",
    "if response.status_code == 200:\n",
    "    if data[\"ok\"]:\n",
    "        bot_info = data[\"result\"]\n",
    "        print(\"Información del bot:\")\n",
    "        print(\"ID:\", bot_info[\"id\"])\n",
    "        print(\"Nombre:\", bot_info[\"first_name\"])\n",
    "        print(\"Nombre de usuario:\", bot_info[\"username\"])\n",
    "    else:\n",
    "        print(\"Error en la respuesta:\", data[\"description\"])\n",
    "else:\n",
    "    print(\"Error al obtener la información del bot:\", response.status_code)\n"
   ]
  },
  {
   "attachments": {},
   "cell_type": "markdown",
   "metadata": {},
   "source": [
    "https://api.telegram.org/bot6283832471:AAGoH7EEKXw3cHs56lXegB6ZbXRLlAen09k/getUpdates Id del chat!"
   ]
  },
  {
   "attachments": {},
   "cell_type": "markdown",
   "metadata": {},
   "source": [
    "Verificamos que el bot tenga conexion con python"
   ]
  },
  {
   "cell_type": "code",
   "execution_count": 3,
   "metadata": {},
   "outputs": [
    {
     "name": "stdout",
     "output_type": "stream",
     "text": [
      "Mensaje enviado correctamente\n"
     ]
    }
   ],
   "source": [
    "import requests\n",
    "token = \"6283832471:AAGoH7EEKXw3cHs56lXegB6ZbXRLlAen09k\"  # Reemplazamos esto con tu propio token\n",
    "chat_id = \"6205420569\"  # Reemplazamos esto con tu propio ID de chat\n",
    "mensaje = \"¡Alerta de sismo!.\" #El mensaje que queremos que envie\n",
    "\n",
    "url = f\"https://api.telegram.org/bot{token}/sendMessage\"\n",
    "params = {\n",
    "    \"chat_id\": chat_id,\n",
    "    \"text\": mensaje\n",
    "}\n",
    "\n",
    "response = requests.post(url, params=params)\n",
    "\n",
    "if response.status_code == 200:\n",
    "    print(\"Mensaje enviado correctamente\")\n",
    "else:\n",
    "    print(\"Error al enviar el mensaje:\", response.status_code)\n",
    "\n"
   ]
  },
  {
   "attachments": {},
   "cell_type": "markdown",
   "metadata": {},
   "source": [
    "------------------------------------------------------------------"
   ]
  },
  {
   "cell_type": "code",
   "execution_count": 74,
   "metadata": {},
   "outputs": [],
   "source": [
    "token = \"6283832471:AAGoH7EEKXw3cHs56lXegB6ZbXRLlAen09k\"  # Reemplazamos esto con tu propio token\n",
    "chat_id = \"6205420569\"  # Reemplazamos esto con tu propio ID de chat\n",
    "mensaje = \"¡Alerta de sismo!.\" #El mensaje que queremos que envie"
   ]
  },
  {
   "cell_type": "code",
   "execution_count": 71,
   "metadata": {},
   "outputs": [],
   "source": [
    "\n",
    "def enviar_mensaje(chat_id, mensaje):\n",
    "    url = f\"https://api.telegram.org/bot{token}/sendMessage\" \n",
    "    chat_id = \"6205420569\"  # Reemplaza con tu propio ID de chat \n",
    "    params = {\n",
    "        \"chat_id\": chat_id,\n",
    "        \"text\": mensaje\n",
    "    }\n",
    "    response = requests.post(url, params=params)\n",
    "    if response.status_code == 200:\n",
    "        print(\"Mensaje enviado correctamente\")\n",
    "    else:\n",
    "        print(\"Error al enviar el mensaje:\", response.status_code)"
   ]
  },
  {
   "cell_type": "code",
   "execution_count": 59,
   "metadata": {},
   "outputs": [
    {
     "name": "stdout",
     "output_type": "stream",
     "text": [
      "Mensaje enviado correctamente\n"
     ]
    }
   ],
   "source": [
    "enviar_mensaje(chat_id, mensaje)"
   ]
  },
  {
   "cell_type": "code",
   "execution_count": 75,
   "metadata": {},
   "outputs": [
    {
     "ename": "TypeError",
     "evalue": "enviar_mensaje() missing 1 required positional argument: 'mensaje'",
     "output_type": "error",
     "traceback": [
      "\u001b[1;31m---------------------------------------------------------------------------\u001b[0m",
      "\u001b[1;31mTypeError\u001b[0m                                 Traceback (most recent call last)",
      "Cell \u001b[1;32mIn[75], line 12\u001b[0m\n\u001b[0;32m     10\u001b[0m peligrosidad \u001b[39m=\u001b[39m obtener_peligrosidad_sismo(magnitud)\n\u001b[0;32m     11\u001b[0m mensaje \u001b[39m=\u001b[39m \u001b[39mf\u001b[39m\u001b[39m\"\u001b[39m\u001b[39mNivel de peligrosidad del sismo: \u001b[39m\u001b[39m{\u001b[39;00mpeligrosidad\u001b[39m}\u001b[39;00m\u001b[39m\"\u001b[39m\n\u001b[1;32m---> 12\u001b[0m enviar_mensaje(mensaje)\n",
      "\u001b[1;31mTypeError\u001b[0m: enviar_mensaje() missing 1 required positional argument: 'mensaje'"
     ]
    }
   ],
   "source": [
    "def obtener_peligrosidad_sismo(magnitud): \n",
    "    if magnitud < 4.0: \n",
    "        return \"baja\" \n",
    "    elif magnitud < 6.0: \n",
    "        return \"mediana\" \n",
    "    else: \n",
    "        return \"alta\" \n",
    "    \n",
    "magnitud = 5.2\n",
    "peligrosidad = obtener_peligrosidad_sismo(magnitud)\n",
    "mensaje = f\"Nivel de peligrosidad del sismo: {peligrosidad}\"\n",
    "enviar_mensaje(mensaje)"
   ]
  },
  {
   "cell_type": "code",
   "execution_count": 76,
   "metadata": {},
   "outputs": [
    {
     "name": "stdout",
     "output_type": "stream",
     "text": [
      "Mensaje enviado correctamente\n"
     ]
    }
   ],
   "source": [
    "def alert(comando):\n",
    "    if comando == \"/peligrosidad\":\n",
    "        magnitud = 5.2  # obtener la magnitud del sismo desde alguna fuente de datos\n",
    "        peligrosidad = obtener_peligrosidad_sismo(magnitud)\n",
    "        mensaje = f\"Nivel de peligrosidad del sismo: {peligrosidad}\"\n",
    "        enviar_mensaje(chat_id, mensaje)\n",
    "\n",
    "# Ejemplo de uso\n",
    "chat_id = \"6205420569\"  # Reemplazamos con tu propio ID de chat\n",
    "alert(\"/peligrosidad\")"
   ]
  },
  {
   "cell_type": "code",
   "execution_count": 77,
   "metadata": {},
   "outputs": [
    {
     "ename": "TypeError",
     "evalue": "alert() missing 1 required positional argument: 'context'",
     "output_type": "error",
     "traceback": [
      "\u001b[1;31m---------------------------------------------------------------------------\u001b[0m",
      "\u001b[1;31mTypeError\u001b[0m                                 Traceback (most recent call last)",
      "Cell \u001b[1;32mIn[77], line 9\u001b[0m\n\u001b[0;32m      6\u001b[0m         chat_id \u001b[39m=\u001b[39m update\u001b[39m.\u001b[39mmessage\u001b[39m.\u001b[39mchat_id\n\u001b[0;32m      7\u001b[0m         enviar_mensaje(chat_id, mensaje)\n\u001b[1;32m----> 9\u001b[0m alert(\u001b[39m\"\u001b[39;49m\u001b[39m/peligrosidad\u001b[39;49m\u001b[39m\"\u001b[39;49m)\n",
      "\u001b[1;31mTypeError\u001b[0m: alert() missing 1 required positional argument: 'context'"
     ]
    }
   ],
   "source": [
    "def alert(update, context):\n",
    "    if update.message.text == \"/peligrosidad\":\n",
    "        magnitud = 5.2  # Aquí deberías obtener la magnitud del sismo desde alguna fuente de datos\n",
    "        peligrosidad = obtener_peligrosidad_sismo(magnitud)\n",
    "        mensaje = f\"Nivel de peligrosidad del sismo: {peligrosidad}\"\n",
    "        chat_id = update.message.chat_id\n",
    "        enviar_mensaje(chat_id, mensaje)\n",
    " \n",
    "alert(\"/peligrosidad\")"
   ]
  }
 ],
 "metadata": {
  "kernelspec": {
   "display_name": "Python 3",
   "language": "python",
   "name": "python3"
  },
  "language_info": {
   "codemirror_mode": {
    "name": "ipython",
    "version": 3
   },
   "file_extension": ".py",
   "mimetype": "text/x-python",
   "name": "python",
   "nbconvert_exporter": "python",
   "pygments_lexer": "ipython3",
   "version": "3.11.1"
  },
  "orig_nbformat": 4
 },
 "nbformat": 4,
 "nbformat_minor": 2
}
