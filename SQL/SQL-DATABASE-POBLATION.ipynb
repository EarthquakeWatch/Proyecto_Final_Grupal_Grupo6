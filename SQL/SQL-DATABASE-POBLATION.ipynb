{
 "cells": [
  {
   "cell_type": "code",
   "execution_count": 1,
   "metadata": {},
   "outputs": [],
   "source": [
    "import mysql.connector\n",
    "import pandas as  pd\n",
    "import csv"
   ]
  },
  {
   "cell_type": "code",
   "execution_count": 13,
   "metadata": {},
   "outputs": [],
   "source": [
    "conexion = mysql.connector.connect(\n",
    "    host=\"127.0.0.1\",\n",
    "    user=\"root\",\n",
    "    password=\"1234\",\n",
    "    database=\"SISMOS\"\n",
    ")\n"
   ]
  },
  {
   "cell_type": "code",
   "execution_count": 14,
   "metadata": {},
   "outputs": [],
   "source": [
    "cursor = conexion.cursor()"
   ]
  },
  {
   "cell_type": "code",
   "execution_count": 15,
   "metadata": {},
   "outputs": [],
   "source": [
    "archivo_csv = 'DASHBOARD/CSV_TRANSFORMADOS/Datos_USA.csv'\n",
    "tabla = 'USA'\n",
    "\n",
    "with open(archivo_csv, 'r') as archivo:\n",
    "    lector_csv = csv.reader(archivo)\n",
    "    encabezado = next(lector_csv)  # Leer la primera línea como encabezado\n",
    "\n",
    "    for fila in lector_csv:\n",
    "        columnas = ', '.join([f\"`{col}`\" for col in encabezado])\n",
    "        valores = ', '.join(['%s'] * len(encabezado))\n",
    "        consulta = f\"INSERT INTO {tabla} ({columnas}) VALUES ({valores})\"\n",
    "        cursor.execute(consulta, fila)\n",
    "\n",
    "conexion.commit()  # Confirmar los cambios en la base de datos\n"
   ]
  },
  {
   "cell_type": "code",
   "execution_count": 16,
   "metadata": {},
   "outputs": [],
   "source": [
    "archivo_csv = 'DASHBOARD/CSV_TRANSFORMADOS/Datos_Japon.csv'\n",
    "tabla = 'JAPON'\n",
    "\n",
    "with open(archivo_csv, 'r',encoding='utf-8') as archivo:\n",
    "    lector_csv = csv.reader(archivo)\n",
    "    encabezado = next(lector_csv)  # Leer la primera línea como encabezado\n",
    "\n",
    "    for fila in lector_csv:\n",
    "        columnas = ', '.join([f\"`{col}`\" for col in encabezado])\n",
    "        valores = ', '.join(['%s'] * len(encabezado))\n",
    "        consulta = f\"INSERT INTO {tabla} ({columnas}) VALUES ({valores})\"\n",
    "        cursor.execute(consulta, fila)\n",
    "\n",
    "conexion.commit()  # Confirmar los cambios en la base de datos"
   ]
  },
  {
   "cell_type": "code",
   "execution_count": 17,
   "metadata": {},
   "outputs": [],
   "source": [
    "archivo_csv = 'DASHBOARD/CSV_TRANSFORMADOS/Datos_Peru_USGS.csv'\n",
    "tabla = 'PERU'\n",
    "\n",
    "with open(archivo_csv, 'r',encoding='utf-8') as archivo:\n",
    "    lector_csv = csv.reader(archivo)\n",
    "    encabezado = next(lector_csv)  # Leer la primera línea como encabezado\n",
    "\n",
    "    for fila in lector_csv:\n",
    "        columnas = ', '.join([f\"`{col}`\" for col in encabezado])\n",
    "        valores = ', '.join(['%s'] * len(encabezado))\n",
    "        consulta = f\"INSERT INTO {tabla} ({columnas}) VALUES ({valores})\"\n",
    "        cursor.execute(consulta, fila)\n",
    "\n",
    "conexion.commit()  # Confirmar los cambios en la base de datos"
   ]
  },
  {
   "cell_type": "code",
   "execution_count": 18,
   "metadata": {},
   "outputs": [],
   "source": [
    "conexion.close()  # Cerrar la conexión a la base de datos"
   ]
  }
 ],
 "metadata": {
  "kernelspec": {
   "display_name": "Python 3",
   "language": "python",
   "name": "python3"
  },
  "language_info": {
   "codemirror_mode": {
    "name": "ipython",
    "version": 3
   },
   "file_extension": ".py",
   "mimetype": "text/x-python",
   "name": "python",
   "nbconvert_exporter": "python",
   "pygments_lexer": "ipython3",
   "version": "3.11.0"
  },
  "orig_nbformat": 4
 },
 "nbformat": 4,
 "nbformat_minor": 2
}
