{
 "cells": [
  {
   "attachments": {},
   "cell_type": "markdown",
   "metadata": {},
   "source": [
    "# Librerias"
   ]
  },
  {
   "cell_type": "code",
   "execution_count": 69,
   "metadata": {},
   "outputs": [],
   "source": [
    "import pandas as pd\n",
    "import requests\n",
    "import json \n",
    "import folium \n",
    "import os\n",
    "from datetime import datetime, timedelta"
   ]
  },
  {
   "attachments": {},
   "cell_type": "markdown",
   "metadata": {},
   "source": [
    "# USGS\n",
    "## API Documentation - Earthquake Catalog\n",
    "### URL\n",
    "# Geophysics Institutions Throughout the World\n",
    "- https://www.usgs.gov/programs/earthquake-hazards/science/geophysics-institutions-throughout-world\n",
    "- https://earthquake.usgs.gov/fdsnws/event/1/[METHOD[?PARAMETERS]]\n",
    " - metodo: query\n",
    " - Parámetros:\n",
    "   - Ubicación: Las peticiones que utilicen tanto rectángulo como círculo devolverán la intersección, que puede estar vacía, utilízala con precaución.\n",
    "      * Conterminous U.S. [24.6, 50] Latitude. [-125, -65] Longitude.\n",
    "\n",
    "https://earthquake.usgs.gov/fdsnws/event/1/query?format=geojson&starttime=1995-05-04&minlatitude=24.6&maxlatitude=50&minlongitude=-125&maxlongitude=-65&limit=19999"
   ]
  },
  {
   "cell_type": "code",
   "execution_count": 70,
   "metadata": {},
   "outputs": [
    {
     "data": {
      "text/plain": [
       "'def sismo(url):\\n    # Establecer el tiempo de inicio desde hoy menos 20000 eventos\\n    endtime = datetime.today().strftime(\\'%Y-%m-%dT%H:%M:%S\\')\\n    starttime = (datetime.today() - timedelta(days=20000)).strftime(\\'%Y-%m-%dT%H:%M:%S\\')\\n\\n    # Establecer los demás parámetros de solicitud\\n    params = {\"format\": \"geojson\", \"starttime\": starttime, \"endtime\": endtime, \"minmagnitude\": 2.5,\\n            \"minlatitude\": 24.6, \"maxlatitude\": 50, \"minlongitude\": -125, \"maxlongitude\": -65, \"limit\": 20000}    \\n    data = requests.get(url, params = params)\\n    data = json.loads(data.text)\\n    return data\\n\\nurl = r\"https://earthquake.usgs.gov/fdsnws/event/1/query?\"\\ndic_sismo = sismo(url)\\ncount=0\\nfor i in (dic_sismo[\"features\"]):\\n    if i[\"properties\"][\\'cdi\\']:\\n        count += 1\\n# Convertir los datos a un dataframe\\ndf_sismo = pd.json_normalize(dic_sismo[\\'features\\'])'"
      ]
     },
     "execution_count": 70,
     "metadata": {},
     "output_type": "execute_result"
    }
   ],
   "source": [
    "def sismo(url):\n",
    "    # Establecer el tiempo de inicio desde hoy menos 20000 eventos\n",
    "    endtime = datetime.today().strftime('%Y-%m-%dT%H:%M:%S')\n",
    "    starttime = (datetime.today() - timedelta(days=20000)).strftime('%Y-%m-%dT%H:%M:%S')\n",
    "\n",
    "    # Establecer los demás parámetros de solicitud\n",
    "    params = {\"format\": \"geojson\", \"starttime\": starttime, \"endtime\": endtime, \"minmagnitude\": 2.5,\n",
    "            \"minlatitude\": 24.6, \"maxlatitude\": 50, \"minlongitude\": -125, \"maxlongitude\": -65, \"limit\": 20000}    \n",
    "    data = requests.get(url, params = params)\n",
    "    data = json.loads(data.text)\n",
    "    return data\n",
    "\n",
    "url = r\"https://earthquake.usgs.gov/fdsnws/event/1/query?\"\n",
    "dic_sismo = sismo(url)\n",
    "count=0\n",
    "for i in (dic_sismo[\"features\"]):\n",
    "    if i[\"properties\"]['cdi']:\n",
    "        count += 1\n",
    "# Convertir los datos a un dataframe\n",
    "df_sismo = pd.json_normalize(dic_sismo['features'])"
   ]
  },
  {
   "cell_type": "code",
   "execution_count": 71,
   "metadata": {},
   "outputs": [
    {
     "data": {
      "text/plain": [
       "'folder_path = \"../CSV_ORIGINAL\"\\nfile_name = \"raw_USA.csv\"\\nfile_path = os.path.join(folder_path, file_name)\\n\\ndf_sismo.to_csv(file_path, index=False)'"
      ]
     },
     "execution_count": 71,
     "metadata": {},
     "output_type": "execute_result"
    }
   ],
   "source": [
    "folder_path = \"../CSV_ORIGINAL\"\n",
    "file_name = \"raw_USA.csv\"\n",
    "file_path = os.path.join(folder_path, file_name)\n",
    "\n",
    "df_sismo.to_csv(file_path, index=False)"
   ]
  },
  {
   "cell_type": "code",
   "execution_count": 151,
   "metadata": {},
   "outputs": [],
   "source": [
    "df_sismo = pd.read_csv('../DASHBOARD/CSV_ORIGINAL/raw_USA.csv', sep=',')"
   ]
  },
  {
   "cell_type": "code",
   "execution_count": 152,
   "metadata": {},
   "outputs": [
    {
     "data": {
      "text/html": [
       "<div>\n",
       "<style scoped>\n",
       "    .dataframe tbody tr th:only-of-type {\n",
       "        vertical-align: middle;\n",
       "    }\n",
       "\n",
       "    .dataframe tbody tr th {\n",
       "        vertical-align: top;\n",
       "    }\n",
       "\n",
       "    .dataframe thead th {\n",
       "        text-align: right;\n",
       "    }\n",
       "</style>\n",
       "<table border=\"1\" class=\"dataframe\">\n",
       "  <thead>\n",
       "    <tr style=\"text-align: right;\">\n",
       "      <th></th>\n",
       "      <th>type</th>\n",
       "      <th>id</th>\n",
       "      <th>properties.mag</th>\n",
       "      <th>properties.place</th>\n",
       "      <th>properties.time</th>\n",
       "      <th>properties.updated</th>\n",
       "      <th>properties.tz</th>\n",
       "      <th>properties.url</th>\n",
       "      <th>properties.detail</th>\n",
       "      <th>properties.felt</th>\n",
       "      <th>...</th>\n",
       "      <th>properties.types</th>\n",
       "      <th>properties.nst</th>\n",
       "      <th>properties.dmin</th>\n",
       "      <th>properties.rms</th>\n",
       "      <th>properties.gap</th>\n",
       "      <th>properties.magType</th>\n",
       "      <th>properties.type</th>\n",
       "      <th>properties.title</th>\n",
       "      <th>geometry.type</th>\n",
       "      <th>geometry.coordinates</th>\n",
       "    </tr>\n",
       "  </thead>\n",
       "  <tbody>\n",
       "    <tr>\n",
       "      <th>0</th>\n",
       "      <td>Feature</td>\n",
       "      <td>us6000kbl9</td>\n",
       "      <td>2.50</td>\n",
       "      <td>5 km W of Zurich, Kansas</td>\n",
       "      <td>1683937354350</td>\n",
       "      <td>1683939752040</td>\n",
       "      <td>NaN</td>\n",
       "      <td>https://earthquake.usgs.gov/earthquakes/eventp...</td>\n",
       "      <td>https://earthquake.usgs.gov/fdsnws/event/1/que...</td>\n",
       "      <td>NaN</td>\n",
       "      <td>...</td>\n",
       "      <td>,origin,phase-data,</td>\n",
       "      <td>10.0</td>\n",
       "      <td>0.46000</td>\n",
       "      <td>0.5100</td>\n",
       "      <td>119.00</td>\n",
       "      <td>mb_lg</td>\n",
       "      <td>earthquake</td>\n",
       "      <td>M 2.5 - 5 km W of Zurich, Kansas</td>\n",
       "      <td>Point</td>\n",
       "      <td>[-99.4995, 39.2354, 3.69]</td>\n",
       "    </tr>\n",
       "    <tr>\n",
       "      <th>1</th>\n",
       "      <td>Feature</td>\n",
       "      <td>nn00859459</td>\n",
       "      <td>2.80</td>\n",
       "      <td>28 km WSW of Hawthorne, Nevada</td>\n",
       "      <td>1683930554464</td>\n",
       "      <td>1683935028040</td>\n",
       "      <td>NaN</td>\n",
       "      <td>https://earthquake.usgs.gov/earthquakes/eventp...</td>\n",
       "      <td>https://earthquake.usgs.gov/fdsnws/event/1/que...</td>\n",
       "      <td>NaN</td>\n",
       "      <td>...</td>\n",
       "      <td>,origin,phase-data,</td>\n",
       "      <td>14.0</td>\n",
       "      <td>0.22000</td>\n",
       "      <td>0.1563</td>\n",
       "      <td>64.37</td>\n",
       "      <td>ml</td>\n",
       "      <td>earthquake</td>\n",
       "      <td>M 2.8 - 28 km WSW of Hawthorne, Nevada</td>\n",
       "      <td>Point</td>\n",
       "      <td>[-118.9145, 38.4022, 11.5]</td>\n",
       "    </tr>\n",
       "    <tr>\n",
       "      <th>2</th>\n",
       "      <td>Feature</td>\n",
       "      <td>nc73887311</td>\n",
       "      <td>2.91</td>\n",
       "      <td>13km NNW of San Simeon, CA</td>\n",
       "      <td>1683925051130</td>\n",
       "      <td>1683935714063</td>\n",
       "      <td>NaN</td>\n",
       "      <td>https://earthquake.usgs.gov/earthquakes/eventp...</td>\n",
       "      <td>https://earthquake.usgs.gov/fdsnws/event/1/que...</td>\n",
       "      <td>NaN</td>\n",
       "      <td>...</td>\n",
       "      <td>,nearby-cities,origin,phase-data,scitech-link,</td>\n",
       "      <td>24.0</td>\n",
       "      <td>0.10920</td>\n",
       "      <td>0.1100</td>\n",
       "      <td>182.00</td>\n",
       "      <td>md</td>\n",
       "      <td>earthquake</td>\n",
       "      <td>M 2.9 - 13km NNW of San Simeon, CA</td>\n",
       "      <td>Point</td>\n",
       "      <td>[-121.2613297, 35.7476654, 3.66]</td>\n",
       "    </tr>\n",
       "    <tr>\n",
       "      <th>3</th>\n",
       "      <td>Feature</td>\n",
       "      <td>nc73887306</td>\n",
       "      <td>2.90</td>\n",
       "      <td>13km NNW of San Simeon, CA</td>\n",
       "      <td>1683925044320</td>\n",
       "      <td>1683935650059</td>\n",
       "      <td>NaN</td>\n",
       "      <td>https://earthquake.usgs.gov/earthquakes/eventp...</td>\n",
       "      <td>https://earthquake.usgs.gov/fdsnws/event/1/que...</td>\n",
       "      <td>NaN</td>\n",
       "      <td>...</td>\n",
       "      <td>,nearby-cities,origin,phase-data,scitech-link,</td>\n",
       "      <td>12.0</td>\n",
       "      <td>0.10120</td>\n",
       "      <td>0.1200</td>\n",
       "      <td>180.00</td>\n",
       "      <td>ml</td>\n",
       "      <td>earthquake</td>\n",
       "      <td>M 2.9 - 13km NNW of San Simeon, CA</td>\n",
       "      <td>Point</td>\n",
       "      <td>[-121.2488327, 35.7475014, 4.59]</td>\n",
       "    </tr>\n",
       "    <tr>\n",
       "      <th>4</th>\n",
       "      <td>Feature</td>\n",
       "      <td>ci40223751</td>\n",
       "      <td>2.77</td>\n",
       "      <td>8km NE of Cabazon, CA</td>\n",
       "      <td>1683912647620</td>\n",
       "      <td>1683935257500</td>\n",
       "      <td>NaN</td>\n",
       "      <td>https://earthquake.usgs.gov/earthquakes/eventp...</td>\n",
       "      <td>https://earthquake.usgs.gov/fdsnws/event/1/que...</td>\n",
       "      <td>NaN</td>\n",
       "      <td>...</td>\n",
       "      <td>,focal-mechanism,nearby-cities,origin,phase-da...</td>\n",
       "      <td>94.0</td>\n",
       "      <td>0.07689</td>\n",
       "      <td>0.1400</td>\n",
       "      <td>20.00</td>\n",
       "      <td>ml</td>\n",
       "      <td>earthquake</td>\n",
       "      <td>M 2.8 - 8km NE of Cabazon, CA</td>\n",
       "      <td>Point</td>\n",
       "      <td>[-116.7351667, 33.9791667, 17.35]</td>\n",
       "    </tr>\n",
       "  </tbody>\n",
       "</table>\n",
       "<p>5 rows × 30 columns</p>\n",
       "</div>"
      ],
      "text/plain": [
       "      type          id  properties.mag                properties.place  \\\n",
       "0  Feature  us6000kbl9            2.50        5 km W of Zurich, Kansas   \n",
       "1  Feature  nn00859459            2.80  28 km WSW of Hawthorne, Nevada   \n",
       "2  Feature  nc73887311            2.91      13km NNW of San Simeon, CA   \n",
       "3  Feature  nc73887306            2.90      13km NNW of San Simeon, CA   \n",
       "4  Feature  ci40223751            2.77           8km NE of Cabazon, CA   \n",
       "\n",
       "   properties.time  properties.updated  properties.tz  \\\n",
       "0    1683937354350       1683939752040            NaN   \n",
       "1    1683930554464       1683935028040            NaN   \n",
       "2    1683925051130       1683935714063            NaN   \n",
       "3    1683925044320       1683935650059            NaN   \n",
       "4    1683912647620       1683935257500            NaN   \n",
       "\n",
       "                                      properties.url  \\\n",
       "0  https://earthquake.usgs.gov/earthquakes/eventp...   \n",
       "1  https://earthquake.usgs.gov/earthquakes/eventp...   \n",
       "2  https://earthquake.usgs.gov/earthquakes/eventp...   \n",
       "3  https://earthquake.usgs.gov/earthquakes/eventp...   \n",
       "4  https://earthquake.usgs.gov/earthquakes/eventp...   \n",
       "\n",
       "                                   properties.detail  properties.felt  ...  \\\n",
       "0  https://earthquake.usgs.gov/fdsnws/event/1/que...              NaN  ...   \n",
       "1  https://earthquake.usgs.gov/fdsnws/event/1/que...              NaN  ...   \n",
       "2  https://earthquake.usgs.gov/fdsnws/event/1/que...              NaN  ...   \n",
       "3  https://earthquake.usgs.gov/fdsnws/event/1/que...              NaN  ...   \n",
       "4  https://earthquake.usgs.gov/fdsnws/event/1/que...              NaN  ...   \n",
       "\n",
       "                                    properties.types  properties.nst  \\\n",
       "0                                ,origin,phase-data,            10.0   \n",
       "1                                ,origin,phase-data,            14.0   \n",
       "2     ,nearby-cities,origin,phase-data,scitech-link,            24.0   \n",
       "3     ,nearby-cities,origin,phase-data,scitech-link,            12.0   \n",
       "4  ,focal-mechanism,nearby-cities,origin,phase-da...            94.0   \n",
       "\n",
       "  properties.dmin properties.rms  properties.gap  properties.magType  \\\n",
       "0         0.46000         0.5100          119.00               mb_lg   \n",
       "1         0.22000         0.1563           64.37                  ml   \n",
       "2         0.10920         0.1100          182.00                  md   \n",
       "3         0.10120         0.1200          180.00                  ml   \n",
       "4         0.07689         0.1400           20.00                  ml   \n",
       "\n",
       "  properties.type                        properties.title geometry.type  \\\n",
       "0      earthquake        M 2.5 - 5 km W of Zurich, Kansas         Point   \n",
       "1      earthquake  M 2.8 - 28 km WSW of Hawthorne, Nevada         Point   \n",
       "2      earthquake      M 2.9 - 13km NNW of San Simeon, CA         Point   \n",
       "3      earthquake      M 2.9 - 13km NNW of San Simeon, CA         Point   \n",
       "4      earthquake           M 2.8 - 8km NE of Cabazon, CA         Point   \n",
       "\n",
       "                geometry.coordinates  \n",
       "0          [-99.4995, 39.2354, 3.69]  \n",
       "1         [-118.9145, 38.4022, 11.5]  \n",
       "2   [-121.2613297, 35.7476654, 3.66]  \n",
       "3   [-121.2488327, 35.7475014, 4.59]  \n",
       "4  [-116.7351667, 33.9791667, 17.35]  \n",
       "\n",
       "[5 rows x 30 columns]"
      ]
     },
     "execution_count": 152,
     "metadata": {},
     "output_type": "execute_result"
    }
   ],
   "source": [
    "df_sismo.head()"
   ]
  },
  {
   "attachments": {},
   "cell_type": "markdown",
   "metadata": {},
   "source": [
    "Borro las columnas que no necesito"
   ]
  },
  {
   "cell_type": "code",
   "execution_count": 153,
   "metadata": {},
   "outputs": [
    {
     "data": {
      "text/plain": [
       "Index(['type', 'id', 'properties.mag', 'properties.place', 'properties.time',\n",
       "       'properties.updated', 'properties.tz', 'properties.url',\n",
       "       'properties.detail', 'properties.felt', 'properties.cdi',\n",
       "       'properties.mmi', 'properties.alert', 'properties.status',\n",
       "       'properties.tsunami', 'properties.sig', 'properties.net',\n",
       "       'properties.code', 'properties.ids', 'properties.sources',\n",
       "       'properties.types', 'properties.nst', 'properties.dmin',\n",
       "       'properties.rms', 'properties.gap', 'properties.magType',\n",
       "       'properties.type', 'properties.title', 'geometry.type',\n",
       "       'geometry.coordinates'],\n",
       "      dtype='object')"
      ]
     },
     "execution_count": 153,
     "metadata": {},
     "output_type": "execute_result"
    }
   ],
   "source": [
    "df_sismo.columns"
   ]
  },
  {
   "cell_type": "code",
   "execution_count": 154,
   "metadata": {},
   "outputs": [],
   "source": [
    "df_sismo.drop(columns=['type','properties.tz','properties.code','properties.url','properties.detail','properties.net'\n",
    "                       ,'properties.status','properties.types','properties.sources','properties.magType'\n",
    "                       ,'properties.type', 'properties.title', 'geometry.type'], axis=1, inplace=True) \n",
    "\n"
   ]
  },
  {
   "attachments": {},
   "cell_type": "markdown",
   "metadata": {},
   "source": [
    "Cambio el formato de la columna properties.time"
   ]
  },
  {
   "cell_type": "code",
   "execution_count": 155,
   "metadata": {},
   "outputs": [],
   "source": [
    "df_sismo[\"properties.time\"] = pd.to_datetime(df_sismo[\"properties.time\"], unit=\"ms\") \n",
    "df_sismo[\"properties.updated\"] = pd.to_datetime(df_sismo[\"properties.updated\"], unit=\"ms\")"
   ]
  },
  {
   "cell_type": "code",
   "execution_count": 156,
   "metadata": {},
   "outputs": [],
   "source": [
    "df_sismo['estado'] = df_sismo['properties.place'].str.split(',').str[1].str.strip()\n",
    "\n",
    "df_sismo['properties.place'] = df_sismo['properties.place'].str.split(',', expand=True)[0]\n"
   ]
  },
  {
   "cell_type": "code",
   "execution_count": 157,
   "metadata": {},
   "outputs": [
    {
     "data": {
      "text/html": [
       "<div>\n",
       "<style scoped>\n",
       "    .dataframe tbody tr th:only-of-type {\n",
       "        vertical-align: middle;\n",
       "    }\n",
       "\n",
       "    .dataframe tbody tr th {\n",
       "        vertical-align: top;\n",
       "    }\n",
       "\n",
       "    .dataframe thead th {\n",
       "        text-align: right;\n",
       "    }\n",
       "</style>\n",
       "<table border=\"1\" class=\"dataframe\">\n",
       "  <thead>\n",
       "    <tr style=\"text-align: right;\">\n",
       "      <th></th>\n",
       "      <th>id</th>\n",
       "      <th>properties.mag</th>\n",
       "      <th>properties.place</th>\n",
       "      <th>properties.time</th>\n",
       "      <th>properties.updated</th>\n",
       "      <th>properties.felt</th>\n",
       "      <th>properties.cdi</th>\n",
       "      <th>properties.mmi</th>\n",
       "      <th>properties.alert</th>\n",
       "      <th>properties.tsunami</th>\n",
       "      <th>properties.sig</th>\n",
       "      <th>properties.ids</th>\n",
       "      <th>properties.nst</th>\n",
       "      <th>properties.dmin</th>\n",
       "      <th>properties.rms</th>\n",
       "      <th>properties.gap</th>\n",
       "      <th>geometry.coordinates</th>\n",
       "      <th>estado</th>\n",
       "    </tr>\n",
       "  </thead>\n",
       "  <tbody>\n",
       "    <tr>\n",
       "      <th>0</th>\n",
       "      <td>us6000kbl9</td>\n",
       "      <td>2.50</td>\n",
       "      <td>5 km W of Zurich</td>\n",
       "      <td>2023-05-13 00:22:34.350</td>\n",
       "      <td>2023-05-13 01:02:32.040</td>\n",
       "      <td>NaN</td>\n",
       "      <td>NaN</td>\n",
       "      <td>NaN</td>\n",
       "      <td>NaN</td>\n",
       "      <td>0</td>\n",
       "      <td>96</td>\n",
       "      <td>,us6000kbl9,</td>\n",
       "      <td>10.0</td>\n",
       "      <td>0.46000</td>\n",
       "      <td>0.5100</td>\n",
       "      <td>119.00</td>\n",
       "      <td>[-99.4995, 39.2354, 3.69]</td>\n",
       "      <td>Kansas</td>\n",
       "    </tr>\n",
       "    <tr>\n",
       "      <th>1</th>\n",
       "      <td>nn00859459</td>\n",
       "      <td>2.80</td>\n",
       "      <td>28 km WSW of Hawthorne</td>\n",
       "      <td>2023-05-12 22:29:14.464</td>\n",
       "      <td>2023-05-12 23:43:48.040</td>\n",
       "      <td>NaN</td>\n",
       "      <td>NaN</td>\n",
       "      <td>NaN</td>\n",
       "      <td>NaN</td>\n",
       "      <td>0</td>\n",
       "      <td>121</td>\n",
       "      <td>,us6000kbkj,nn00859459,</td>\n",
       "      <td>14.0</td>\n",
       "      <td>0.22000</td>\n",
       "      <td>0.1563</td>\n",
       "      <td>64.37</td>\n",
       "      <td>[-118.9145, 38.4022, 11.5]</td>\n",
       "      <td>Nevada</td>\n",
       "    </tr>\n",
       "    <tr>\n",
       "      <th>2</th>\n",
       "      <td>nc73887311</td>\n",
       "      <td>2.91</td>\n",
       "      <td>13km NNW of San Simeon</td>\n",
       "      <td>2023-05-12 20:57:31.130</td>\n",
       "      <td>2023-05-12 23:55:14.063</td>\n",
       "      <td>NaN</td>\n",
       "      <td>NaN</td>\n",
       "      <td>NaN</td>\n",
       "      <td>NaN</td>\n",
       "      <td>0</td>\n",
       "      <td>130</td>\n",
       "      <td>,nc73887311,us6000kbjl,</td>\n",
       "      <td>24.0</td>\n",
       "      <td>0.10920</td>\n",
       "      <td>0.1100</td>\n",
       "      <td>182.00</td>\n",
       "      <td>[-121.2613297, 35.7476654, 3.66]</td>\n",
       "      <td>CA</td>\n",
       "    </tr>\n",
       "    <tr>\n",
       "      <th>3</th>\n",
       "      <td>nc73887306</td>\n",
       "      <td>2.90</td>\n",
       "      <td>13km NNW of San Simeon</td>\n",
       "      <td>2023-05-12 20:57:24.320</td>\n",
       "      <td>2023-05-12 23:54:10.059</td>\n",
       "      <td>NaN</td>\n",
       "      <td>NaN</td>\n",
       "      <td>NaN</td>\n",
       "      <td>NaN</td>\n",
       "      <td>0</td>\n",
       "      <td>129</td>\n",
       "      <td>,nc73887306,</td>\n",
       "      <td>12.0</td>\n",
       "      <td>0.10120</td>\n",
       "      <td>0.1200</td>\n",
       "      <td>180.00</td>\n",
       "      <td>[-121.2488327, 35.7475014, 4.59]</td>\n",
       "      <td>CA</td>\n",
       "    </tr>\n",
       "    <tr>\n",
       "      <th>4</th>\n",
       "      <td>ci40223751</td>\n",
       "      <td>2.77</td>\n",
       "      <td>8km NE of Cabazon</td>\n",
       "      <td>2023-05-12 17:30:47.620</td>\n",
       "      <td>2023-05-12 23:47:37.500</td>\n",
       "      <td>NaN</td>\n",
       "      <td>NaN</td>\n",
       "      <td>NaN</td>\n",
       "      <td>NaN</td>\n",
       "      <td>0</td>\n",
       "      <td>118</td>\n",
       "      <td>,ci40223751,us6000kbhy,</td>\n",
       "      <td>94.0</td>\n",
       "      <td>0.07689</td>\n",
       "      <td>0.1400</td>\n",
       "      <td>20.00</td>\n",
       "      <td>[-116.7351667, 33.9791667, 17.35]</td>\n",
       "      <td>CA</td>\n",
       "    </tr>\n",
       "  </tbody>\n",
       "</table>\n",
       "</div>"
      ],
      "text/plain": [
       "           id  properties.mag        properties.place         properties.time  \\\n",
       "0  us6000kbl9            2.50        5 km W of Zurich 2023-05-13 00:22:34.350   \n",
       "1  nn00859459            2.80  28 km WSW of Hawthorne 2023-05-12 22:29:14.464   \n",
       "2  nc73887311            2.91  13km NNW of San Simeon 2023-05-12 20:57:31.130   \n",
       "3  nc73887306            2.90  13km NNW of San Simeon 2023-05-12 20:57:24.320   \n",
       "4  ci40223751            2.77       8km NE of Cabazon 2023-05-12 17:30:47.620   \n",
       "\n",
       "       properties.updated  properties.felt  properties.cdi  properties.mmi  \\\n",
       "0 2023-05-13 01:02:32.040              NaN             NaN             NaN   \n",
       "1 2023-05-12 23:43:48.040              NaN             NaN             NaN   \n",
       "2 2023-05-12 23:55:14.063              NaN             NaN             NaN   \n",
       "3 2023-05-12 23:54:10.059              NaN             NaN             NaN   \n",
       "4 2023-05-12 23:47:37.500              NaN             NaN             NaN   \n",
       "\n",
       "  properties.alert  properties.tsunami  properties.sig  \\\n",
       "0              NaN                   0              96   \n",
       "1              NaN                   0             121   \n",
       "2              NaN                   0             130   \n",
       "3              NaN                   0             129   \n",
       "4              NaN                   0             118   \n",
       "\n",
       "            properties.ids  properties.nst  properties.dmin  properties.rms  \\\n",
       "0             ,us6000kbl9,            10.0          0.46000          0.5100   \n",
       "1  ,us6000kbkj,nn00859459,            14.0          0.22000          0.1563   \n",
       "2  ,nc73887311,us6000kbjl,            24.0          0.10920          0.1100   \n",
       "3             ,nc73887306,            12.0          0.10120          0.1200   \n",
       "4  ,ci40223751,us6000kbhy,            94.0          0.07689          0.1400   \n",
       "\n",
       "   properties.gap               geometry.coordinates  estado  \n",
       "0          119.00          [-99.4995, 39.2354, 3.69]  Kansas  \n",
       "1           64.37         [-118.9145, 38.4022, 11.5]  Nevada  \n",
       "2          182.00   [-121.2613297, 35.7476654, 3.66]      CA  \n",
       "3          180.00   [-121.2488327, 35.7475014, 4.59]      CA  \n",
       "4           20.00  [-116.7351667, 33.9791667, 17.35]      CA  "
      ]
     },
     "execution_count": 157,
     "metadata": {},
     "output_type": "execute_result"
    }
   ],
   "source": [
    "df_sismo.head(5)"
   ]
  },
  {
   "cell_type": "code",
   "execution_count": 158,
   "metadata": {},
   "outputs": [],
   "source": [
    "df_sismo.drop(columns='properties.place', inplace=True)"
   ]
  },
  {
   "cell_type": "code",
   "execution_count": 159,
   "metadata": {},
   "outputs": [],
   "source": [
    "#Divido la columna geometry coordinates\n",
    "df_sismo[['Longitud', 'Latitud', 'Profundidad']] = df_sismo['geometry.coordinates'].apply(lambda x: pd.Series(str(x).strip('[]').split(',')))"
   ]
  },
  {
   "cell_type": "code",
   "execution_count": 160,
   "metadata": {},
   "outputs": [
    {
     "data": {
      "text/html": [
       "<div>\n",
       "<style scoped>\n",
       "    .dataframe tbody tr th:only-of-type {\n",
       "        vertical-align: middle;\n",
       "    }\n",
       "\n",
       "    .dataframe tbody tr th {\n",
       "        vertical-align: top;\n",
       "    }\n",
       "\n",
       "    .dataframe thead th {\n",
       "        text-align: right;\n",
       "    }\n",
       "</style>\n",
       "<table border=\"1\" class=\"dataframe\">\n",
       "  <thead>\n",
       "    <tr style=\"text-align: right;\">\n",
       "      <th></th>\n",
       "      <th>id</th>\n",
       "      <th>properties.mag</th>\n",
       "      <th>properties.time</th>\n",
       "      <th>properties.updated</th>\n",
       "      <th>properties.felt</th>\n",
       "      <th>properties.cdi</th>\n",
       "      <th>properties.mmi</th>\n",
       "      <th>properties.alert</th>\n",
       "      <th>properties.tsunami</th>\n",
       "      <th>properties.sig</th>\n",
       "      <th>properties.ids</th>\n",
       "      <th>properties.nst</th>\n",
       "      <th>properties.dmin</th>\n",
       "      <th>properties.rms</th>\n",
       "      <th>properties.gap</th>\n",
       "      <th>geometry.coordinates</th>\n",
       "      <th>estado</th>\n",
       "      <th>Longitud</th>\n",
       "      <th>Latitud</th>\n",
       "      <th>Profundidad</th>\n",
       "    </tr>\n",
       "  </thead>\n",
       "  <tbody>\n",
       "    <tr>\n",
       "      <th>0</th>\n",
       "      <td>us6000kbl9</td>\n",
       "      <td>2.5</td>\n",
       "      <td>2023-05-13 00:22:34.350</td>\n",
       "      <td>2023-05-13 01:02:32.040</td>\n",
       "      <td>NaN</td>\n",
       "      <td>NaN</td>\n",
       "      <td>NaN</td>\n",
       "      <td>NaN</td>\n",
       "      <td>0</td>\n",
       "      <td>96</td>\n",
       "      <td>,us6000kbl9,</td>\n",
       "      <td>10.0</td>\n",
       "      <td>0.46</td>\n",
       "      <td>0.51</td>\n",
       "      <td>119.0</td>\n",
       "      <td>[-99.4995, 39.2354, 3.69]</td>\n",
       "      <td>Kansas</td>\n",
       "      <td>-99.4995</td>\n",
       "      <td>39.2354</td>\n",
       "      <td>3.69</td>\n",
       "    </tr>\n",
       "  </tbody>\n",
       "</table>\n",
       "</div>"
      ],
      "text/plain": [
       "           id  properties.mag         properties.time      properties.updated  \\\n",
       "0  us6000kbl9             2.5 2023-05-13 00:22:34.350 2023-05-13 01:02:32.040   \n",
       "\n",
       "   properties.felt  properties.cdi  properties.mmi properties.alert  \\\n",
       "0              NaN             NaN             NaN              NaN   \n",
       "\n",
       "   properties.tsunami  properties.sig properties.ids  properties.nst  \\\n",
       "0                   0              96   ,us6000kbl9,            10.0   \n",
       "\n",
       "   properties.dmin  properties.rms  properties.gap       geometry.coordinates  \\\n",
       "0             0.46            0.51           119.0  [-99.4995, 39.2354, 3.69]   \n",
       "\n",
       "   estado  Longitud   Latitud Profundidad  \n",
       "0  Kansas  -99.4995   39.2354        3.69  "
      ]
     },
     "execution_count": 160,
     "metadata": {},
     "output_type": "execute_result"
    }
   ],
   "source": [
    "df_sismo.head(1)"
   ]
  },
  {
   "cell_type": "code",
   "execution_count": 161,
   "metadata": {},
   "outputs": [],
   "source": [
    "df_sismo.drop(\"geometry.coordinates\", axis=1, inplace=True) "
   ]
  },
  {
   "cell_type": "code",
   "execution_count": 162,
   "metadata": {},
   "outputs": [
    {
     "data": {
      "text/plain": [
       "Index(['id', 'properties.mag', 'properties.time', 'properties.updated',\n",
       "       'properties.felt', 'properties.cdi', 'properties.mmi',\n",
       "       'properties.alert', 'properties.tsunami', 'properties.sig',\n",
       "       'properties.ids', 'properties.nst', 'properties.dmin', 'properties.rms',\n",
       "       'properties.gap', 'estado', 'Longitud', 'Latitud', 'Profundidad'],\n",
       "      dtype='object')"
      ]
     },
     "execution_count": 162,
     "metadata": {},
     "output_type": "execute_result"
    }
   ],
   "source": [
    "df_sismo.columns"
   ]
  },
  {
   "attachments": {},
   "cell_type": "markdown",
   "metadata": {},
   "source": [
    "properties.sig : un número que describe la importancia del evento. Los números más grandes indican un evento más significativo. Este valor se determina en función de una serie de factores, que incluyen: magnitud, MMI máximo, informes de sensación e impacto estimado."
   ]
  },
  {
   "attachments": {},
   "cell_type": "markdown",
   "metadata": {},
   "source": [
    "properties.dmin Distancia horizontal desde el epicentro hasta la estación más cercana (en grados). 1 grado son aproximadamente 111,2 kilómetros. En general, cuanto menor sea este número, más confiable es la profundidad calculada del terremoto."
   ]
  },
  {
   "attachments": {},
   "cell_type": "markdown",
   "metadata": {},
   "source": [
    "\tproperties.gap: La brecha azimutal más grande entre estaciones azimutalmente adyacentes (en grados). En general, cuanto más pequeño es este número, más confiable es la posición horizontal calculada del terremoto. Las ubicaciones de terremotos en las que la brecha azimutal supera los 180 grados suelen tener grandes incertidumbres de ubicación y profundidad."
   ]
  },
  {
   "cell_type": "code",
   "execution_count": 163,
   "metadata": {},
   "outputs": [
    {
     "data": {
      "text/html": [
       "<div>\n",
       "<style scoped>\n",
       "    .dataframe tbody tr th:only-of-type {\n",
       "        vertical-align: middle;\n",
       "    }\n",
       "\n",
       "    .dataframe tbody tr th {\n",
       "        vertical-align: top;\n",
       "    }\n",
       "\n",
       "    .dataframe thead th {\n",
       "        text-align: right;\n",
       "    }\n",
       "</style>\n",
       "<table border=\"1\" class=\"dataframe\">\n",
       "  <thead>\n",
       "    <tr style=\"text-align: right;\">\n",
       "      <th></th>\n",
       "      <th>id</th>\n",
       "      <th>Magnitud</th>\n",
       "      <th>Primer reg</th>\n",
       "      <th>Ultimo registro</th>\n",
       "      <th>properties.felt</th>\n",
       "      <th>cdi</th>\n",
       "      <th>mmi</th>\n",
       "      <th>alert</th>\n",
       "      <th>Posibilidad tsunami</th>\n",
       "      <th>Importancia del evento</th>\n",
       "      <th>ids</th>\n",
       "      <th>nst</th>\n",
       "      <th>Dist Horizontal epicentro</th>\n",
       "      <th>properties.rms</th>\n",
       "      <th>Brecha azimutal</th>\n",
       "      <th>estado</th>\n",
       "      <th>Longitud</th>\n",
       "      <th>Latitud</th>\n",
       "      <th>Profundidad</th>\n",
       "    </tr>\n",
       "  </thead>\n",
       "  <tbody>\n",
       "    <tr>\n",
       "      <th>0</th>\n",
       "      <td>us6000kbl9</td>\n",
       "      <td>2.5</td>\n",
       "      <td>2023-05-13 00:22:34.350</td>\n",
       "      <td>2023-05-13 01:02:32.040</td>\n",
       "      <td>NaN</td>\n",
       "      <td>NaN</td>\n",
       "      <td>NaN</td>\n",
       "      <td>NaN</td>\n",
       "      <td>0</td>\n",
       "      <td>96</td>\n",
       "      <td>,us6000kbl9,</td>\n",
       "      <td>10.0</td>\n",
       "      <td>0.46</td>\n",
       "      <td>0.51</td>\n",
       "      <td>119.0</td>\n",
       "      <td>Kansas</td>\n",
       "      <td>-99.4995</td>\n",
       "      <td>39.2354</td>\n",
       "      <td>3.69</td>\n",
       "    </tr>\n",
       "  </tbody>\n",
       "</table>\n",
       "</div>"
      ],
      "text/plain": [
       "           id  Magnitud              Primer reg         Ultimo registro  \\\n",
       "0  us6000kbl9       2.5 2023-05-13 00:22:34.350 2023-05-13 01:02:32.040   \n",
       "\n",
       "   properties.felt  cdi  mmi alert  Posibilidad tsunami  \\\n",
       "0              NaN  NaN  NaN   NaN                    0   \n",
       "\n",
       "   Importancia del evento           ids   nst  Dist Horizontal epicentro  \\\n",
       "0                      96  ,us6000kbl9,  10.0                       0.46   \n",
       "\n",
       "   properties.rms  Brecha azimutal  estado  Longitud   Latitud Profundidad  \n",
       "0            0.51            119.0  Kansas  -99.4995   39.2354        3.69  "
      ]
     },
     "execution_count": 163,
     "metadata": {},
     "output_type": "execute_result"
    }
   ],
   "source": [
    "df_sismo = df_sismo.rename(columns={\"properties.mag\": \"Magnitud\",\n",
    "                                    \"properties.time\": \"Primer reg\",\n",
    "                                    \"properties.updated\": \"Ultimo registro\",\n",
    "                                    \"properties.tsunami\": \"Posibilidad tsunami\",\n",
    "                                    \"properties.sig\": \"Importancia del evento\",\n",
    "                                    \"properties.dmin\": \"Dist Horizontal epicentro\",\n",
    "                                    \"properties.gap\": \"Brecha azimutal\",\n",
    "                                    'properties.cdi': 'cdi',  \n",
    "                                    'properties.mmi': 'mmi',  \n",
    "                                    'properties.net': 'net',  \n",
    "                                    'properties.code': 'code',\n",
    "                                    'properties.ids': 'ids',   \n",
    "                                    'properties.nst': 'nst',\n",
    "                                    'properties.alert': 'alert'})\n",
    "df_sismo.head(1)"
   ]
  },
  {
   "cell_type": "code",
   "execution_count": 164,
   "metadata": {},
   "outputs": [
    {
     "data": {
      "text/plain": [
       "array(['Kansas', 'Nevada', 'CA', 'California', 'Texas', nan, 'Washington',\n",
       "       'Arizona', 'Colorado', 'Mexico', 'New Mexico', 'Oklahoma', 'Idaho',\n",
       "       'Tennessee', 'B.C.', 'Wyoming', 'Canada', 'New Hampshire',\n",
       "       'New York', 'Montana', 'Utah', 'Ohio', 'Nebraska', 'Oregon',\n",
       "       'Missouri', 'Virginia', 'Maine', 'Kentucky', 'Arkansas',\n",
       "       'Minnesota', 'Mississippi', 'North Carolina', 'Quebec',\n",
       "       'Louisiana', 'South Carolina', 'Georgia', 'Alabama',\n",
       "       'South Dakota', 'Illinois', 'NV', 'United States', 'Florida',\n",
       "       'Iowa', 'MT', 'Maryland', 'NM', 'Michigan', 'ID', 'UT', 'OK', 'TN',\n",
       "       'Massachusetts', 'TX', 'Pennsylvania', 'New Jersey',\n",
       "       'NV Earthquake', 'KS', 'West Virginia', 'WA', 'WY', 'MO',\n",
       "       'Delaware', 'Indiana'], dtype=object)"
      ]
     },
     "execution_count": 164,
     "metadata": {},
     "output_type": "execute_result"
    }
   ],
   "source": [
    "df_sismo['estado'].unique()"
   ]
  },
  {
   "attachments": {},
   "cell_type": "markdown",
   "metadata": {},
   "source": [
    "## Normalizacion de la columna estado"
   ]
  },
  {
   "cell_type": "code",
   "execution_count": 165,
   "metadata": {},
   "outputs": [],
   "source": [
    "df_sismo['estado'] = df_sismo['estado'].replace({'United States': \"Sin Dato\",\n",
    "                                                 \"CA\":\"California\",\n",
    "                                                 \"WA\": \"Washington\",\n",
    "                                                 \"WY\": \"Wyoming\",\n",
    "                                                 \"UT\": \"Utah\",\n",
    "                                                 \"TN\": \"Tennessee\",\n",
    "                                                 \"TX\": \"Texas\",\n",
    "                                                 \"ID\": \"Idaho\",\n",
    "                                                 \"KS\": \"Kansas\",\n",
    "                                                 \"MO\": \"Misuri\",\n",
    "                                                 \"MT\": \"Montana\",\n",
    "                                                 \"NM\": \"Nuevo Mexico\",\n",
    "                                                 \"Mexico\": \"New Mexico\",\n",
    "                                                 \"NV\": \"Nevada\",\n",
    "                                                 \"NV Earthquake\":\"Nevada\",\n",
    "                                                 \"OK\": \"Oklahoma\"})"
   ]
  },
  {
   "cell_type": "code",
   "execution_count": 166,
   "metadata": {},
   "outputs": [
    {
     "data": {
      "text/plain": [
       "id                               0\n",
       "Magnitud                         0\n",
       "Primer reg                       0\n",
       "Ultimo registro                  0\n",
       "properties.felt              10137\n",
       "cdi                          10137\n",
       "mmi                          17236\n",
       "alert                        19462\n",
       "Posibilidad tsunami              0\n",
       "Importancia del evento           0\n",
       "ids                              0\n",
       "nst                           5591\n",
       "Dist Horizontal epicentro      892\n",
       "properties.rms                   2\n",
       "Brecha azimutal                 18\n",
       "estado                         389\n",
       "Longitud                         0\n",
       "Latitud                          0\n",
       "Profundidad                      0\n",
       "dtype: int64"
      ]
     },
     "execution_count": 166,
     "metadata": {},
     "output_type": "execute_result"
    }
   ],
   "source": [
    "df_sismo.isnull().sum()"
   ]
  },
  {
   "cell_type": "code",
   "execution_count": 167,
   "metadata": {},
   "outputs": [
    {
     "name": "stdout",
     "output_type": "stream",
     "text": [
      "<class 'pandas.core.frame.DataFrame'>\n",
      "RangeIndex: 20000 entries, 0 to 19999\n",
      "Data columns (total 19 columns):\n",
      " #   Column                     Non-Null Count  Dtype         \n",
      "---  ------                     --------------  -----         \n",
      " 0   id                         20000 non-null  object        \n",
      " 1   Magnitud                   20000 non-null  float64       \n",
      " 2   Primer reg                 20000 non-null  datetime64[ns]\n",
      " 3   Ultimo registro            20000 non-null  datetime64[ns]\n",
      " 4   properties.felt            9863 non-null   float64       \n",
      " 5   cdi                        9863 non-null   float64       \n",
      " 6   mmi                        2764 non-null   float64       \n",
      " 7   alert                      538 non-null    object        \n",
      " 8   Posibilidad tsunami        20000 non-null  int64         \n",
      " 9   Importancia del evento     20000 non-null  int64         \n",
      " 10  ids                        20000 non-null  object        \n",
      " 11  nst                        14409 non-null  float64       \n",
      " 12  Dist Horizontal epicentro  19108 non-null  float64       \n",
      " 13  properties.rms             19998 non-null  float64       \n",
      " 14  Brecha azimutal            19982 non-null  float64       \n",
      " 15  estado                     19611 non-null  object        \n",
      " 16  Longitud                   20000 non-null  object        \n",
      " 17  Latitud                    20000 non-null  object        \n",
      " 18  Profundidad                20000 non-null  object        \n",
      "dtypes: datetime64[ns](2), float64(8), int64(2), object(7)\n",
      "memory usage: 2.9+ MB\n"
     ]
    }
   ],
   "source": [
    "df_sismo.info()"
   ]
  },
  {
   "attachments": {},
   "cell_type": "markdown",
   "metadata": {},
   "source": [
    "Cambio el tipo de dato de Latitud y Longitud a float para poder utilizarlo en el mapa."
   ]
  },
  {
   "cell_type": "code",
   "execution_count": 168,
   "metadata": {},
   "outputs": [],
   "source": [
    "df_sismo[\"Longitud\"] = df_sismo[\"Longitud\"].astype(float) \n",
    "df_sismo[\"Latitud\"] = df_sismo[\"Latitud\"].astype(float) \n",
    "df_sismo[\"Profundidad\"] = df_sismo[\"Profundidad\"].astype(float)"
   ]
  },
  {
   "cell_type": "code",
   "execution_count": 169,
   "metadata": {},
   "outputs": [
    {
     "data": {
      "text/html": [
       "<div style=\"width:100%;\"><div style=\"position:relative;width:100%;height:0;padding-bottom:60%;\"><span style=\"color:#565656\">Make this Notebook Trusted to load map: File -> Trust Notebook</span><iframe srcdoc=\"&lt;!DOCTYPE html&gt;\n",
       "&lt;html&gt;\n",
       "&lt;head&gt;\n",
       "    \n",
       "    &lt;meta http-equiv=&quot;content-type&quot; content=&quot;text/html; charset=UTF-8&quot; /&gt;\n",
       "    \n",
       "        &lt;script&gt;\n",
       "            L_NO_TOUCH = false;\n",
       "            L_DISABLE_3D = false;\n",
       "        &lt;/script&gt;\n",
       "    \n",
       "    &lt;style&gt;html, body {width: 100%;height: 100%;margin: 0;padding: 0;}&lt;/style&gt;\n",
       "    &lt;style&gt;#map {position:absolute;top:0;bottom:0;right:0;left:0;}&lt;/style&gt;\n",
       "    &lt;script src=&quot;https://cdn.jsdelivr.net/npm/leaflet@1.9.3/dist/leaflet.js&quot;&gt;&lt;/script&gt;\n",
       "    &lt;script src=&quot;https://code.jquery.com/jquery-1.12.4.min.js&quot;&gt;&lt;/script&gt;\n",
       "    &lt;script src=&quot;https://cdn.jsdelivr.net/npm/bootstrap@5.2.2/dist/js/bootstrap.bundle.min.js&quot;&gt;&lt;/script&gt;\n",
       "    &lt;script src=&quot;https://cdnjs.cloudflare.com/ajax/libs/Leaflet.awesome-markers/2.0.2/leaflet.awesome-markers.js&quot;&gt;&lt;/script&gt;\n",
       "    &lt;link rel=&quot;stylesheet&quot; href=&quot;https://cdn.jsdelivr.net/npm/leaflet@1.9.3/dist/leaflet.css&quot;/&gt;\n",
       "    &lt;link rel=&quot;stylesheet&quot; href=&quot;https://cdn.jsdelivr.net/npm/bootstrap@5.2.2/dist/css/bootstrap.min.css&quot;/&gt;\n",
       "    &lt;link rel=&quot;stylesheet&quot; href=&quot;https://netdna.bootstrapcdn.com/bootstrap/3.0.0/css/bootstrap.min.css&quot;/&gt;\n",
       "    &lt;link rel=&quot;stylesheet&quot; href=&quot;https://cdn.jsdelivr.net/npm/@fortawesome/fontawesome-free@6.2.0/css/all.min.css&quot;/&gt;\n",
       "    &lt;link rel=&quot;stylesheet&quot; href=&quot;https://cdnjs.cloudflare.com/ajax/libs/Leaflet.awesome-markers/2.0.2/leaflet.awesome-markers.css&quot;/&gt;\n",
       "    &lt;link rel=&quot;stylesheet&quot; href=&quot;https://cdn.jsdelivr.net/gh/python-visualization/folium/folium/templates/leaflet.awesome.rotate.min.css&quot;/&gt;\n",
       "    \n",
       "            &lt;meta name=&quot;viewport&quot; content=&quot;width=device-width,\n",
       "                initial-scale=1.0, maximum-scale=1.0, user-scalable=no&quot; /&gt;\n",
       "            &lt;style&gt;\n",
       "                #map_c8c076408963d99f7adaff9de8b30da1 {\n",
       "                    position: relative;\n",
       "                    width: 100.0%;\n",
       "                    height: 100.0%;\n",
       "                    left: 0.0%;\n",
       "                    top: 0.0%;\n",
       "                }\n",
       "                .leaflet-container { font-size: 1rem; }\n",
       "            &lt;/style&gt;\n",
       "        \n",
       "&lt;/head&gt;\n",
       "&lt;body&gt;\n",
       "    \n",
       "    \n",
       "            &lt;div class=&quot;folium-map&quot; id=&quot;map_c8c076408963d99f7adaff9de8b30da1&quot; &gt;&lt;/div&gt;\n",
       "        \n",
       "&lt;/body&gt;\n",
       "&lt;script&gt;\n",
       "    \n",
       "    \n",
       "            var map_c8c076408963d99f7adaff9de8b30da1 = L.map(\n",
       "                &quot;map_c8c076408963d99f7adaff9de8b30da1&quot;,\n",
       "                {\n",
       "                    center: [37.494501116095, -112.46888447252665],\n",
       "                    crs: L.CRS.EPSG3857,\n",
       "                    zoom: 10,\n",
       "                    zoomControl: true,\n",
       "                    preferCanvas: false,\n",
       "                }\n",
       "            );\n",
       "\n",
       "            \n",
       "\n",
       "        \n",
       "    \n",
       "            var tile_layer_178a7b8a2d2856fccb16e425ddcbf0c4 = L.tileLayer(\n",
       "                &quot;https://{s}.tile.openstreetmap.org/{z}/{x}/{y}.png&quot;,\n",
       "                {&quot;attribution&quot;: &quot;Data by \\u0026copy; \\u003ca target=\\&quot;_blank\\&quot; href=\\&quot;http://openstreetmap.org\\&quot;\\u003eOpenStreetMap\\u003c/a\\u003e, under \\u003ca target=\\&quot;_blank\\&quot; href=\\&quot;http://www.openstreetmap.org/copyright\\&quot;\\u003eODbL\\u003c/a\\u003e.&quot;, &quot;detectRetina&quot;: false, &quot;maxNativeZoom&quot;: 18, &quot;maxZoom&quot;: 18, &quot;minZoom&quot;: 0, &quot;noWrap&quot;: false, &quot;opacity&quot;: 1, &quot;subdomains&quot;: &quot;abc&quot;, &quot;tms&quot;: false}\n",
       "            ).addTo(map_c8c076408963d99f7adaff9de8b30da1);\n",
       "        \n",
       "    \n",
       "            var marker_8b55ee26fdd12450ba89ebf175d091cf = L.marker(\n",
       "                [40.525, -124.423],\n",
       "                {}\n",
       "            ).addTo(map_c8c076408963d99f7adaff9de8b30da1);\n",
       "        \n",
       "    \n",
       "        var popup_9bbecf5029eec22b57467da2bbdb5bec = L.popup({&quot;maxWidth&quot;: &quot;100%&quot;});\n",
       "\n",
       "        \n",
       "            \n",
       "                var html_d323bbb1b45a36f4f6ccce57c209059d = $(`&lt;div id=&quot;html_d323bbb1b45a36f4f6ccce57c209059d&quot; style=&quot;width: 100.0%; height: 100.0%;&quot;&gt;Magnitud: 6.4&lt;br&gt;Ubicación: California&lt;/div&gt;`)[0];\n",
       "                popup_9bbecf5029eec22b57467da2bbdb5bec.setContent(html_d323bbb1b45a36f4f6ccce57c209059d);\n",
       "            \n",
       "        \n",
       "\n",
       "        marker_8b55ee26fdd12450ba89ebf175d091cf.bindPopup(popup_9bbecf5029eec22b57467da2bbdb5bec)\n",
       "        ;\n",
       "\n",
       "        \n",
       "    \n",
       "    \n",
       "            var marker_4b0d9495ee4ec21a06e3e7ce3d7c3351 = L.marker(\n",
       "                [30.7936, -116.3907],\n",
       "                {}\n",
       "            ).addTo(map_c8c076408963d99f7adaff9de8b30da1);\n",
       "        \n",
       "    \n",
       "        var popup_a3118577aa0d69224e3a69611a9df9cf = L.popup({&quot;maxWidth&quot;: &quot;100%&quot;});\n",
       "\n",
       "        \n",
       "            \n",
       "                var html_6359f7622444b095ce66d6e5ee510ba5 = $(`&lt;div id=&quot;html_6359f7622444b095ce66d6e5ee510ba5&quot; style=&quot;width: 100.0%; height: 100.0%;&quot;&gt;Magnitud: 6.2&lt;br&gt;Ubicación: New Mexico&lt;/div&gt;`)[0];\n",
       "                popup_a3118577aa0d69224e3a69611a9df9cf.setContent(html_6359f7622444b095ce66d6e5ee510ba5);\n",
       "            \n",
       "        \n",
       "\n",
       "        marker_4b0d9495ee4ec21a06e3e7ce3d7c3351.bindPopup(popup_a3118577aa0d69224e3a69611a9df9cf)\n",
       "        ;\n",
       "\n",
       "        \n",
       "    \n",
       "    \n",
       "            var marker_2153d83951b89df26377dc75feaeb834 = L.marker(\n",
       "                [28.1573, -112.3106],\n",
       "                {}\n",
       "            ).addTo(map_c8c076408963d99f7adaff9de8b30da1);\n",
       "        \n",
       "    \n",
       "        var popup_e80019caee73ec42bf801c49dcf981c4 = L.popup({&quot;maxWidth&quot;: &quot;100%&quot;});\n",
       "\n",
       "        \n",
       "            \n",
       "                var html_d58ef05ff1318f3af83ac40e74af05b3 = $(`&lt;div id=&quot;html_d58ef05ff1318f3af83ac40e74af05b3&quot; style=&quot;width: 100.0%; height: 100.0%;&quot;&gt;Magnitud: 6.1&lt;br&gt;Ubicación: New Mexico&lt;/div&gt;`)[0];\n",
       "                popup_e80019caee73ec42bf801c49dcf981c4.setContent(html_d58ef05ff1318f3af83ac40e74af05b3);\n",
       "            \n",
       "        \n",
       "\n",
       "        marker_2153d83951b89df26377dc75feaeb834.bindPopup(popup_e80019caee73ec42bf801c49dcf981c4)\n",
       "        ;\n",
       "\n",
       "        \n",
       "    \n",
       "    \n",
       "            var marker_eb9746cf6421f45997f41d3c069a2837 = L.marker(\n",
       "                [40.3901667, -124.298],\n",
       "                {}\n",
       "            ).addTo(map_c8c076408963d99f7adaff9de8b30da1);\n",
       "        \n",
       "    \n",
       "        var popup_9d1dae4ea1c9cfadcfdb6b4b73438006 = L.popup({&quot;maxWidth&quot;: &quot;100%&quot;});\n",
       "\n",
       "        \n",
       "            \n",
       "                var html_12836fcdd8c466c6c5d7973a884a7ca4 = $(`&lt;div id=&quot;html_12836fcdd8c466c6c5d7973a884a7ca4&quot; style=&quot;width: 100.0%; height: 100.0%;&quot;&gt;Magnitud: 6.2&lt;br&gt;Ubicación: California&lt;/div&gt;`)[0];\n",
       "                popup_9d1dae4ea1c9cfadcfdb6b4b73438006.setContent(html_12836fcdd8c466c6c5d7973a884a7ca4);\n",
       "            \n",
       "        \n",
       "\n",
       "        marker_eb9746cf6421f45997f41d3c069a2837.bindPopup(popup_9d1dae4ea1c9cfadcfdb6b4b73438006)\n",
       "        ;\n",
       "\n",
       "        \n",
       "    \n",
       "    \n",
       "            var marker_cf98009435ee4c9a1195c87f702772c0 = L.marker(\n",
       "                [40.2978333, -124.626],\n",
       "                {}\n",
       "            ).addTo(map_c8c076408963d99f7adaff9de8b30da1);\n",
       "        \n",
       "    \n",
       "        var popup_845b8bcf2d6e5ec771891bda2351c2d4 = L.popup({&quot;maxWidth&quot;: &quot;100%&quot;});\n",
       "\n",
       "        \n",
       "            \n",
       "                var html_dee210ef76c707ddf911dc6391b273b1 = $(`&lt;div id=&quot;html_dee210ef76c707ddf911dc6391b273b1&quot; style=&quot;width: 100.0%; height: 100.0%;&quot;&gt;Magnitud: 5.65&lt;br&gt;Ubicación: California&lt;/div&gt;`)[0];\n",
       "                popup_845b8bcf2d6e5ec771891bda2351c2d4.setContent(html_dee210ef76c707ddf911dc6391b273b1);\n",
       "            \n",
       "        \n",
       "\n",
       "        marker_cf98009435ee4c9a1195c87f702772c0.bindPopup(popup_845b8bcf2d6e5ec771891bda2351c2d4)\n",
       "        ;\n",
       "\n",
       "        \n",
       "    \n",
       "    \n",
       "            var marker_144211f40677350c782dca1635b60629 = L.marker(\n",
       "                [38.5075, -119.4998333],\n",
       "                {}\n",
       "            ).addTo(map_c8c076408963d99f7adaff9de8b30da1);\n",
       "        \n",
       "    \n",
       "        var popup_150652c488a3756132f62b13a2b7875d = L.popup({&quot;maxWidth&quot;: &quot;100%&quot;});\n",
       "\n",
       "        \n",
       "            \n",
       "                var html_e582d2a3515e83468db73ee3db93d81d = $(`&lt;div id=&quot;html_e582d2a3515e83468db73ee3db93d81d&quot; style=&quot;width: 100.0%; height: 100.0%;&quot;&gt;Magnitud: 6.0&lt;br&gt;Ubicación: California&lt;/div&gt;`)[0];\n",
       "                popup_150652c488a3756132f62b13a2b7875d.setContent(html_e582d2a3515e83468db73ee3db93d81d);\n",
       "            \n",
       "        \n",
       "\n",
       "        marker_144211f40677350c782dca1635b60629.bindPopup(popup_150652c488a3756132f62b13a2b7875d)\n",
       "        ;\n",
       "\n",
       "        \n",
       "    \n",
       "    \n",
       "            var marker_1fa617f2e53b939a393aa9c53c68af47 = L.marker(\n",
       "                [36.4468333, -117.9751667],\n",
       "                {}\n",
       "            ).addTo(map_c8c076408963d99f7adaff9de8b30da1);\n",
       "        \n",
       "    \n",
       "        var popup_6c17f82026847346e4b061e16de3c7e4 = L.popup({&quot;maxWidth&quot;: &quot;100%&quot;});\n",
       "\n",
       "        \n",
       "            \n",
       "                var html_8fc204fc957cf67b5ca2ee707d0eee13 = $(`&lt;div id=&quot;html_8fc204fc957cf67b5ca2ee707d0eee13&quot; style=&quot;width: 100.0%; height: 100.0%;&quot;&gt;Magnitud: 5.8&lt;br&gt;Ubicación: California&lt;/div&gt;`)[0];\n",
       "                popup_6c17f82026847346e4b061e16de3c7e4.setContent(html_8fc204fc957cf67b5ca2ee707d0eee13);\n",
       "            \n",
       "        \n",
       "\n",
       "        marker_1fa617f2e53b939a393aa9c53c68af47.bindPopup(popup_6c17f82026847346e4b061e16de3c7e4)\n",
       "        ;\n",
       "\n",
       "        \n",
       "    \n",
       "    \n",
       "            var marker_2d643055e89552b3d8051aee2ec5d83b = L.marker(\n",
       "                [35.6148333, -117.4281667],\n",
       "                {}\n",
       "            ).addTo(map_c8c076408963d99f7adaff9de8b30da1);\n",
       "        \n",
       "    \n",
       "        var popup_496bde25a96024bded1b3933ba454ff7 = L.popup({&quot;maxWidth&quot;: &quot;100%&quot;});\n",
       "\n",
       "        \n",
       "            \n",
       "                var html_53c52a3ebca646110a06b5e346923d49 = $(`&lt;div id=&quot;html_53c52a3ebca646110a06b5e346923d49&quot; style=&quot;width: 100.0%; height: 100.0%;&quot;&gt;Magnitud: 5.51&lt;br&gt;Ubicación: California&lt;/div&gt;`)[0];\n",
       "                popup_496bde25a96024bded1b3933ba454ff7.setContent(html_53c52a3ebca646110a06b5e346923d49);\n",
       "            \n",
       "        \n",
       "\n",
       "        marker_2d643055e89552b3d8051aee2ec5d83b.bindPopup(popup_496bde25a96024bded1b3933ba454ff7)\n",
       "        ;\n",
       "\n",
       "        \n",
       "    \n",
       "    \n",
       "            var marker_aa4ad66b9f770c20482f791bc09bf6e6 = L.marker(\n",
       "                [38.1689, -117.8497],\n",
       "                {}\n",
       "            ).addTo(map_c8c076408963d99f7adaff9de8b30da1);\n",
       "        \n",
       "    \n",
       "        var popup_58387beb8a09f930d9a55a7f853254fc = L.popup({&quot;maxWidth&quot;: &quot;100%&quot;});\n",
       "\n",
       "        \n",
       "            \n",
       "                var html_97c6785470bc8441131a5b5a4c13e9e4 = $(`&lt;div id=&quot;html_97c6785470bc8441131a5b5a4c13e9e4&quot; style=&quot;width: 100.0%; height: 100.0%;&quot;&gt;Magnitud: 6.5&lt;br&gt;Ubicación: Nevada&lt;/div&gt;`)[0];\n",
       "                popup_58387beb8a09f930d9a55a7f853254fc.setContent(html_97c6785470bc8441131a5b5a4c13e9e4);\n",
       "            \n",
       "        \n",
       "\n",
       "        marker_aa4ad66b9f770c20482f791bc09bf6e6.bindPopup(popup_58387beb8a09f930d9a55a7f853254fc)\n",
       "        ;\n",
       "\n",
       "        \n",
       "    \n",
       "    \n",
       "            var marker_27d6e22f2b8aad9349ebb99fdfe633a8 = L.marker(\n",
       "                [44.4646, -115.1175],\n",
       "                {}\n",
       "            ).addTo(map_c8c076408963d99f7adaff9de8b30da1);\n",
       "        \n",
       "    \n",
       "        var popup_9cfcf107aad495456ddd4d85240028c3 = L.popup({&quot;maxWidth&quot;: &quot;100%&quot;});\n",
       "\n",
       "        \n",
       "            \n",
       "                var html_dfa8c9eb5cbd5c85e21eb8dadfe261d9 = $(`&lt;div id=&quot;html_dfa8c9eb5cbd5c85e21eb8dadfe261d9&quot; style=&quot;width: 100.0%; height: 100.0%;&quot;&gt;Magnitud: 6.5&lt;br&gt;Ubicación: Idaho&lt;/div&gt;`)[0];\n",
       "                popup_9cfcf107aad495456ddd4d85240028c3.setContent(html_dfa8c9eb5cbd5c85e21eb8dadfe261d9);\n",
       "            \n",
       "        \n",
       "\n",
       "        marker_27d6e22f2b8aad9349ebb99fdfe633a8.bindPopup(popup_9cfcf107aad495456ddd4d85240028c3)\n",
       "        ;\n",
       "\n",
       "        \n",
       "    \n",
       "    \n",
       "            var marker_23f6690a90837251e8f4e876b76af5d5 = L.marker(\n",
       "                [40.751, -112.0783333],\n",
       "                {}\n",
       "            ).addTo(map_c8c076408963d99f7adaff9de8b30da1);\n",
       "        \n",
       "    \n",
       "        var popup_f18ac37d570f30e57717d501ff7c9a5e = L.popup({&quot;maxWidth&quot;: &quot;100%&quot;});\n",
       "\n",
       "        \n",
       "            \n",
       "                var html_c09f5a36fefe3e2a077c4df49f5ce919 = $(`&lt;div id=&quot;html_c09f5a36fefe3e2a077c4df49f5ce919&quot; style=&quot;width: 100.0%; height: 100.0%;&quot;&gt;Magnitud: 5.7&lt;br&gt;Ubicación: Utah&lt;/div&gt;`)[0];\n",
       "                popup_f18ac37d570f30e57717d501ff7c9a5e.setContent(html_c09f5a36fefe3e2a077c4df49f5ce919);\n",
       "            \n",
       "        \n",
       "\n",
       "        marker_23f6690a90837251e8f4e876b76af5d5.bindPopup(popup_f18ac37d570f30e57717d501ff7c9a5e)\n",
       "        ;\n",
       "\n",
       "        \n",
       "    \n",
       "    \n",
       "            var marker_39e7c3130bc55665a391d21eb93fccf8 = L.marker(\n",
       "                [35.7695, -117.5993333],\n",
       "                {}\n",
       "            ).addTo(map_c8c076408963d99f7adaff9de8b30da1);\n",
       "        \n",
       "    \n",
       "        var popup_5337d962e37f8d4c5673b8e28cbf1289 = L.popup({&quot;maxWidth&quot;: &quot;100%&quot;});\n",
       "\n",
       "        \n",
       "            \n",
       "                var html_6194884a9d2f1a4e65b541e5fe794f64 = $(`&lt;div id=&quot;html_6194884a9d2f1a4e65b541e5fe794f64&quot; style=&quot;width: 100.0%; height: 100.0%;&quot;&gt;Magnitud: 7.1&lt;br&gt;Ubicación: California&lt;/div&gt;`)[0];\n",
       "                popup_5337d962e37f8d4c5673b8e28cbf1289.setContent(html_6194884a9d2f1a4e65b541e5fe794f64);\n",
       "            \n",
       "        \n",
       "\n",
       "        marker_39e7c3130bc55665a391d21eb93fccf8.bindPopup(popup_5337d962e37f8d4c5673b8e28cbf1289)\n",
       "        ;\n",
       "\n",
       "        \n",
       "    \n",
       "    \n",
       "            var marker_49efc9900c824d6490ffd3dec3f879ad = L.marker(\n",
       "                [35.7053333, -117.5038333],\n",
       "                {}\n",
       "            ).addTo(map_c8c076408963d99f7adaff9de8b30da1);\n",
       "        \n",
       "    \n",
       "        var popup_77112bf6033b0c8eb7b2c777c63ae78c = L.popup({&quot;maxWidth&quot;: &quot;100%&quot;});\n",
       "\n",
       "        \n",
       "            \n",
       "                var html_b91071d81c5bb55b440be5d2805eacd1 = $(`&lt;div id=&quot;html_b91071d81c5bb55b440be5d2805eacd1&quot; style=&quot;width: 100.0%; height: 100.0%;&quot;&gt;Magnitud: 6.4&lt;br&gt;Ubicación: nan&lt;/div&gt;`)[0];\n",
       "                popup_77112bf6033b0c8eb7b2c777c63ae78c.setContent(html_b91071d81c5bb55b440be5d2805eacd1);\n",
       "            \n",
       "        \n",
       "\n",
       "        marker_49efc9900c824d6490ffd3dec3f879ad.bindPopup(popup_77112bf6033b0c8eb7b2c777c63ae78c)\n",
       "        ;\n",
       "\n",
       "        \n",
       "    \n",
       "    \n",
       "            var marker_091954da28b0d806f3c0efd363ccc2d3 = L.marker(\n",
       "                [40.2735, -124.3003333],\n",
       "                {}\n",
       "            ).addTo(map_c8c076408963d99f7adaff9de8b30da1);\n",
       "        \n",
       "    \n",
       "        var popup_069f983ccbb454860e27bc5ea99d3122 = L.popup({&quot;maxWidth&quot;: &quot;100%&quot;});\n",
       "\n",
       "        \n",
       "            \n",
       "                var html_6175eea31519114e6fcd7e332b242ee4 = $(`&lt;div id=&quot;html_6175eea31519114e6fcd7e332b242ee4&quot; style=&quot;width: 100.0%; height: 100.0%;&quot;&gt;Magnitud: 5.58&lt;br&gt;Ubicación: California&lt;/div&gt;`)[0];\n",
       "                popup_069f983ccbb454860e27bc5ea99d3122.setContent(html_6175eea31519114e6fcd7e332b242ee4);\n",
       "            \n",
       "        \n",
       "\n",
       "        marker_091954da28b0d806f3c0efd363ccc2d3.bindPopup(popup_069f983ccbb454860e27bc5ea99d3122)\n",
       "        ;\n",
       "\n",
       "        \n",
       "    \n",
       "    \n",
       "            var marker_187665bf96dfa56d59cc8dd33509b443 = L.marker(\n",
       "                [26.6862, -111.0785],\n",
       "                {}\n",
       "            ).addTo(map_c8c076408963d99f7adaff9de8b30da1);\n",
       "        \n",
       "    \n",
       "        var popup_b6d1dde5dff626f1ac0fd263b3ab7a2c = L.popup({&quot;maxWidth&quot;: &quot;100%&quot;});\n",
       "\n",
       "        \n",
       "            \n",
       "                var html_c7491fe95187d00781e4a60f1b60e623 = $(`&lt;div id=&quot;html_c7491fe95187d00781e4a60f1b60e623&quot; style=&quot;width: 100.0%; height: 100.0%;&quot;&gt;Magnitud: 6.3&lt;br&gt;Ubicación: New Mexico&lt;/div&gt;`)[0];\n",
       "                popup_b6d1dde5dff626f1ac0fd263b3ab7a2c.setContent(html_c7491fe95187d00781e4a60f1b60e623);\n",
       "            \n",
       "        \n",
       "\n",
       "        marker_187665bf96dfa56d59cc8dd33509b443.bindPopup(popup_b6d1dde5dff626f1ac0fd263b3ab7a2c)\n",
       "        ;\n",
       "\n",
       "        \n",
       "    \n",
       "&lt;/script&gt;\n",
       "&lt;/html&gt;\" style=\"position:absolute;width:100%;height:100%;left:0;top:0;border:none !important;\" allowfullscreen webkitallowfullscreen mozallowfullscreen></iframe></div></div>"
      ],
      "text/plain": [
       "<folium.folium.Map at 0x1a792cb6190>"
      ]
     },
     "execution_count": 169,
     "metadata": {},
     "output_type": "execute_result"
    }
   ],
   "source": [
    "# Crear un objeto de mapa centrado en una ubicación específica\n",
    "m = folium.Map(location=[df_sismo['Latitud'].mean(), df_sismo['Longitud'].mean()], zoom_start=10)\n",
    "\n",
    "# Iterar a través de las filas del dataframe y agregar marcadores al mapa\n",
    "for index, row in df_sismo.iterrows(): \n",
    "    if row[\"Magnitud\"] > 5.5:\n",
    "        popup_text = \"Magnitud: {}<br>Ubicación: {}\".format(row['Magnitud'], row['estado'])\n",
    "        folium.Marker(location=[row['Latitud'], row['Longitud']], popup=popup_text).add_to(m)\n",
    "\n",
    "# Mostrar el mapa\n",
    "m"
   ]
  },
  {
   "cell_type": "code",
   "execution_count": 170,
   "metadata": {},
   "outputs": [
    {
     "data": {
      "text/plain": [
       "Index(['id', 'Magnitud', 'Primer reg', 'Ultimo registro', 'properties.felt',\n",
       "       'cdi', 'mmi', 'alert', 'Posibilidad tsunami', 'Importancia del evento',\n",
       "       'ids', 'nst', 'Dist Horizontal epicentro', 'properties.rms',\n",
       "       'Brecha azimutal', 'estado', 'Longitud', 'Latitud', 'Profundidad'],\n",
       "      dtype='object')"
      ]
     },
     "execution_count": 170,
     "metadata": {},
     "output_type": "execute_result"
    }
   ],
   "source": [
    "df_sismo.columns"
   ]
  },
  {
   "attachments": {},
   "cell_type": "markdown",
   "metadata": {},
   "source": [
    "DATOS UTILIZADOS"
   ]
  },
  {
   "attachments": {},
   "cell_type": "markdown",
   "metadata": {},
   "source": [
    "Alert\n",
    "  - Tipo de datos: Cadena\n",
    "  - Valores típicos: “verde”, “amarillo”, “naranja”, “rojo”.\n",
    "  - Descripción: El nivel de alerta de la escala de impacto de terremotos de PAGER.  \n"
   ]
  },
  {
   "attachments": {},
   "cell_type": "markdown",
   "metadata": {},
   "source": [
    "**cdi**\n",
    "  - Tipo de datos: decimal\n",
    "  - Descripción: La máxima intensidad reportada para el evento. Calculado por DYFI. S \n",
    "i bien generalmente se informa como un número romano, para los fines de esta API, se espera que la intensidad  \n",
    "sea el equivalente decimal del número romano. Obtenga más información sobre la magnitud frente a la intensidad. \n",
    " "
   ]
  },
  {
   "attachments": {},
   "cell_type": "markdown",
   "metadata": {},
   "source": [
    "Depth \n",
    "- Tipo de datos: decimal \n",
    "- Profundidad del evento en kilómetros."
   ]
  },
  {
   "attachments": {},
   "cell_type": "markdown",
   "metadata": {},
   "source": [
    "DepthError\n",
    "  - Tipo de datos: decimal\n",
    "  - Valores típicos: [0, 100]- Descripción: Incertidumbre de la profundidad reportada del evento en kilómetros.\n",
    "  - Información adicional: El error de profundidad, en km, definido como la mayor proyección de los tres errores principales en una línea vertical. \n"
   ]
  },
  {
   "attachments": {},
   "cell_type": "markdown",
   "metadata": {},
   "source": [
    "Dmin \n",
    "  - Tipo de datos: decimal\n",
    "  - Descripción :Distancia horizontal desde el epicentro hasta la estación más cercana (en grados). 1 grado son aproximadamente 111,2 kilómetros.  \n",
    "En general, cuanto menor sea este número, más confiable es la profundidad calculada del terremoto."
   ]
  },
  {
   "attachments": {},
   "cell_type": "markdown",
   "metadata": {},
   "source": [
    "Gap\n",
    "  - Tipo de datos: decimal\n",
    "  - Descripción: La mayor brecha azimutal entre estaciones azimutalmente adyacentes (en grados). En general, cuanto más pequeño es este número, más confiable es la posición horizontal calculada del terremoto. Las ubicaciones de terremotos en las que la brecha azimutal supera los 180 grados suelen tener grandes incertidumbres de ubicación y profundidad."
   ]
  },
  {
   "attachments": {},
   "cell_type": "markdown",
   "metadata": {},
   "source": [
    "HorizontalError\n",
    "  - Tipo de datos: decimal\n",
    "  - Descripción: Incertidumbre de la ubicación reportada del evento en kilómetros.\n",
    "  - Información adicional: El error de ubicación horizontal, en km, definido como la longitud de la mayor proyección de los tres errores principales en un plano horizontal.  \n",
    "Los errores principales son los ejes principales del elipsoide de error y son mutuamente perpendiculares.  \n",
    "Las incertidumbres horizontales y verticales en la ubicación de un evento varían desde aproximadamente 100 m en horizontal y 300 metros en vertical para los eventos mejor ubicados, aquellos en medio de redes de sismógrafos densamente espaciadas, hasta decenas de kilómetros para eventos globales en muchas partes del mundo.  \n",
    "Informamos un valor \"desconocido\" si la red sísmica contribuyente no proporciona estimaciones de incertidumbre. "
   ]
  },
  {
   "attachments": {},
   "cell_type": "markdown",
   "metadata": {},
   "source": [
    "Latitud\n",
    "  - Tipo de datos: decimal\n",
    "  - Descripción :Grados decimales de latitud. Valores negativos para latitudes del sur.\n",
    "  - Información adicional: Un terremoto comienza a romperse en un hipocentro que está definido por una posición en la superficie de la tierra (epicentro) y una profundidad por debajo de este punto (profundidad focal). Proporcionamos las coordenadas del epicentro en unidades de latitud y longitud. La latitud es el número de grados al norte (N) o al sur (S) del ecuador y varía de 0 en el ecuador a 90 en los polos.\n"
   ]
  },
  {
   "attachments": {},
   "cell_type": "markdown",
   "metadata": {},
   "source": [
    "LocationSource \n",
    "  - Tipo de datos: Cadena\n",
    "  - Descripción: la red que originalmente creó la ubicación informada de este evento."
   ]
  },
  {
   "attachments": {},
   "cell_type": "markdown",
   "metadata": {},
   "source": [
    "Longitud\n",
    "  - Tipo de datos: decimal\n",
    "  - Descripción :Grados decimales de longitud. Valores negativos para longitudes occidentales.\n",
    "  - Información adicional: La longitud varía de 0 en Greenwich a 180 y el E o W muestra la dirección desde Greenwich. Las coordenadas se dan en el marco de referencia WGS84. La incertidumbre de la posición del hipocentro varía desde aproximadamente 100 m en horizontal y 300 metros en vertical para los eventos mejor ubicados, aquellos en medio de redes de sismógrafos densamente espaciadas, hasta decenas de kilómetros para eventos globales en muchas partes del mundo. \n"
   ]
  },
  {
   "attachments": {},
   "cell_type": "markdown",
   "metadata": {},
   "source": [
    "mag \n",
    " \n",
    "- Información adicional: La magnitud reportada es la que el Servicio Geológico de los EE. UU. considera oficial para este terremoto, y fue la mejor estimación disponible del tamaño del terremoto, en el momento en que se creó esta página."
   ]
  },
  {
   "attachments": {},
   "cell_type": "markdown",
   "metadata": {},
   "source": [
    "Mag Error\n",
    "  - Tipo de datos: decimal\n",
    "  - Descripción: Incertidumbre de la magnitud reportada del evento. El error estándar estimado de la magnitud. La incertidumbre corresponde al tipo de magnitud específica que se informa y no tiene en cuenta las variaciones de magnitud y los sesgos entre diferentes escalas de magnitud. Informamos un valor \"desconocido\" si la red sísmica contribuyente no proporciona estimaciones de incertidumbre.  \n",
    "   \n",
    "Podriamos hacer una alerta diferente cuando no se sabe la magnitud!!!"
   ]
  },
  {
   "attachments": {},
   "cell_type": "markdown",
   "metadata": {},
   "source": [
    "magNST\n",
    "  - Tipo de datos: entero\n",
    "  - - Descripción: El número total de estaciones sísmicas utilizadas para calcular la magnitud de este terremoto."
   ]
  },
  {
   "attachments": {},
   "cell_type": "markdown",
   "metadata": {},
   "source": [
    "mmi\n",
    "  - Tipo de datos: decimal\n",
    "  - Descripción: La intensidad instrumental máxima estimada para el evento. Calculado por ShakeMap. Si bien generalmente se informa como un número romano, para los fines de esta API, se espera que la intensidad sea el equivalente decimal del número romano. Obtenga más información sobre la magnitud frente a la intensidad.\n"
   ]
  },
  {
   "attachments": {},
   "cell_type": "markdown",
   "metadata": {},
   "source": [
    "Nph\n",
    "  - Número de fases utilizadas: Cadena\n",
    "  - Descripción: número de observaciones de tiempo de llegada P y S utilizadas para calcular la ubicación del hipocentro. Un mayor número de observaciones de tiempo de llegada generalmente da como resultado mejores ubicaciones de terremotos."
   ]
  },
  {
   "attachments": {},
   "cell_type": "markdown",
   "metadata": {},
   "source": [
    "Nst\n",
    "  - Tipo de datos: entero\n",
    "  - Descripción: El número total de estaciones sísmicas utilizadas para determinar la ubicación del terremoto.\n",
    "  - Información Adicional: Número de estaciones sísmicas que reportaron tiempos de llegada P y S para este sismo. Este número: puede ser mayor que el Número de fases utilizadas si se rechazan los tiempos de llegada porque la distancia a una estación sísmica excede la distancia máxima permitida o porque la observación del tiempo de llegada es inconsistente con la solución."
   ]
  },
  {
   "attachments": {},
   "cell_type": "markdown",
   "metadata": {},
   "source": [
    "Place\n",
    "  - Tipo de datos: Cadena\n",
    "  - - Descripción: Descripción textual de la región geográfica nombrada cercana al evento. Puede ser el nombre de una ciudad o el nombre de una región"
   ]
  },
  {
   "attachments": {},
   "cell_type": "markdown",
   "metadata": {},
   "source": [
    "Rms \n",
    "  - Tipo de datos: decimal\n",
    "  - Descripción: El residual de tiempo de viaje de la raíz cuadrada media (RMS), en segundos, usando todos los pesos. Este parámetro proporciona una medida del ajuste de los tiempos de llegada observados a los tiempos de llegada previstos para esta ubicación. Los números más pequeños reflejan un mejor ajuste de los datos. El valor depende de la precisión del modelo de velocidad utilizado para calcular la ubicación del terremoto, los pesos de calidad asignados a los datos de tiempo de llegada y el procedimiento utilizado para localizar el terremoto. "
   ]
  },
  {
   "attachments": {},
   "cell_type": "markdown",
   "metadata": {},
   "source": [
    "Sig (para discutir)\n",
    "  - Tipo de datos: entero\n",
    "  - Descripción: Un número que describe cuán significativo es el evento. Los números más grandes indican un evento más significativo. Este valor se determina en función de una serie de factores, que incluyen: magnitud, MMI máximo, informes de sensación e impacto estimado."
   ]
  },
  {
   "attachments": {},
   "cell_type": "markdown",
   "metadata": {},
   "source": [
    "time\n",
    "  - Tipo de datos: entero largo\n",
    "  - Información: Indicamos la fecha y hora en que el sismo inicia la ruptura, lo que se conoce como hora \"origen\". Tenga en cuenta que los grandes terremotos pueden continuar rompiéndose durante muchas decenas de segundos. Proporcionamos la hora en UTC (Tiempo Universal Coordinado). Los sismólogos usan UTC para evitar la confusión causada por las zonas horarias locales y el horario de verano. En las páginas de eventos individuales, también se proporcionan los tiempos en el epicentro y su hora local en función de la hora configurada en su computadora.\n"
   ]
  },
  {
   "attachments": {},
   "cell_type": "markdown",
   "metadata": {},
   "source": [
    "tsunami\n",
    "  - Tipo de datos: entero\n",
    "  - Descripción: esta bandera se establece en \"1\" para grandes eventos en regiones oceánicas y \"0\" en caso contrario. La existencia o el valor de esta bandera no indica si realmente existió o existirá un tsunami.\n"
   ]
  },
  {
   "attachments": {},
   "cell_type": "markdown",
   "metadata": {},
   "source": [
    "Tipy(para discutir)\n",
    "  - Tipo de datos: Cadena\n",
    "  - Descripción :Tipo de evento sísmico."
   ]
  },
  {
   "attachments": {},
   "cell_type": "markdown",
   "metadata": {},
   "source": [
    "Tz\n",
    "  - Tipo de datos: entero\n",
    "  - Descripción: Desplazamiento de zona horaria desde UTC en minutos en el epicentro del evento."
   ]
  },
  {
   "attachments": {},
   "cell_type": "markdown",
   "metadata": {},
   "source": [
    "Updated\n",
    "  - Tipo de datos: entero largo\n",
    "  - Descripción: hora en que se actualizó el evento por última vez. Los tiempos se informan en milisegundos desde la época"
   ]
  },
  {
   "attachments": {},
   "cell_type": "markdown",
   "metadata": {},
   "source": [
    "Status\n",
    "  - Tipo de datos: Cadena\n",
    "  - Descripción: Indica si el evento ha sido revisado por un humano."
   ]
  },
  {
   "attachments": {},
   "cell_type": "markdown",
   "metadata": {},
   "source": [
    "idss\n",
    "  - Tipo de datos: Cadena\n",
    "  - Descripción: una lista separada por comas de ID de eventos que están asociados a un evento.\n"
   ]
  },
  {
   "cell_type": "code",
   "execution_count": 171,
   "metadata": {},
   "outputs": [
    {
     "name": "stdout",
     "output_type": "stream",
     "text": [
      "<class 'pandas.core.frame.DataFrame'>\n",
      "RangeIndex: 20000 entries, 0 to 19999\n",
      "Data columns (total 19 columns):\n",
      " #   Column                     Non-Null Count  Dtype         \n",
      "---  ------                     --------------  -----         \n",
      " 0   id                         20000 non-null  object        \n",
      " 1   Magnitud                   20000 non-null  float64       \n",
      " 2   Primer reg                 20000 non-null  datetime64[ns]\n",
      " 3   Ultimo registro            20000 non-null  datetime64[ns]\n",
      " 4   properties.felt            9863 non-null   float64       \n",
      " 5   cdi                        9863 non-null   float64       \n",
      " 6   mmi                        2764 non-null   float64       \n",
      " 7   alert                      538 non-null    object        \n",
      " 8   Posibilidad tsunami        20000 non-null  int64         \n",
      " 9   Importancia del evento     20000 non-null  int64         \n",
      " 10  ids                        20000 non-null  object        \n",
      " 11  nst                        14409 non-null  float64       \n",
      " 12  Dist Horizontal epicentro  19108 non-null  float64       \n",
      " 13  properties.rms             19998 non-null  float64       \n",
      " 14  Brecha azimutal            19982 non-null  float64       \n",
      " 15  estado                     19611 non-null  object        \n",
      " 16  Longitud                   20000 non-null  float64       \n",
      " 17  Latitud                    20000 non-null  float64       \n",
      " 18  Profundidad                20000 non-null  float64       \n",
      "dtypes: datetime64[ns](2), float64(11), int64(2), object(4)\n",
      "memory usage: 2.9+ MB\n"
     ]
    }
   ],
   "source": [
    "df_sismo.info()"
   ]
  },
  {
   "cell_type": "code",
   "execution_count": 172,
   "metadata": {},
   "outputs": [
    {
     "data": {
      "text/plain": [
       "id                               0\n",
       "Magnitud                         0\n",
       "Primer reg                       0\n",
       "Ultimo registro                  0\n",
       "properties.felt              10137\n",
       "cdi                          10137\n",
       "mmi                          17236\n",
       "alert                        19462\n",
       "Posibilidad tsunami              0\n",
       "Importancia del evento           0\n",
       "ids                              0\n",
       "nst                           5591\n",
       "Dist Horizontal epicentro      892\n",
       "properties.rms                   2\n",
       "Brecha azimutal                 18\n",
       "estado                         389\n",
       "Longitud                         0\n",
       "Latitud                          0\n",
       "Profundidad                      0\n",
       "dtype: int64"
      ]
     },
     "execution_count": 172,
     "metadata": {},
     "output_type": "execute_result"
    }
   ],
   "source": [
    "df_sismo.isnull().sum()"
   ]
  },
  {
   "attachments": {},
   "cell_type": "markdown",
   "metadata": {},
   "source": [
    "Cambio el tipo de dato de Gap_seconds"
   ]
  },
  {
   "cell_type": "code",
   "execution_count": 173,
   "metadata": {},
   "outputs": [
    {
     "name": "stdout",
     "output_type": "stream",
     "text": [
      "<class 'pandas.core.frame.DataFrame'>\n",
      "RangeIndex: 20000 entries, 0 to 19999\n",
      "Data columns (total 19 columns):\n",
      " #   Column                     Non-Null Count  Dtype         \n",
      "---  ------                     --------------  -----         \n",
      " 0   id                         20000 non-null  object        \n",
      " 1   Magnitud                   20000 non-null  float64       \n",
      " 2   Primer reg                 20000 non-null  datetime64[ns]\n",
      " 3   Ultimo registro            20000 non-null  datetime64[ns]\n",
      " 4   properties.felt            9863 non-null   float64       \n",
      " 5   cdi                        9863 non-null   float64       \n",
      " 6   mmi                        2764 non-null   float64       \n",
      " 7   alert                      538 non-null    object        \n",
      " 8   Posibilidad tsunami        20000 non-null  int64         \n",
      " 9   Importancia del evento     20000 non-null  int64         \n",
      " 10  ids                        20000 non-null  object        \n",
      " 11  nst                        14409 non-null  float64       \n",
      " 12  Dist Horizontal epicentro  19108 non-null  float64       \n",
      " 13  properties.rms             19998 non-null  float64       \n",
      " 14  Brecha azimutal            19982 non-null  float64       \n",
      " 15  estado                     19611 non-null  object        \n",
      " 16  Longitud                   20000 non-null  float64       \n",
      " 17  Latitud                    20000 non-null  float64       \n",
      " 18  Profundidad                20000 non-null  float64       \n",
      "dtypes: datetime64[ns](2), float64(11), int64(2), object(4)\n",
      "memory usage: 2.9+ MB\n"
     ]
    }
   ],
   "source": [
    "df_sismo.info()"
   ]
  },
  {
   "cell_type": "code",
   "execution_count": 174,
   "metadata": {},
   "outputs": [],
   "source": [
    "folder_path = \"../DASHBOARD/CSV_TRANSFORMADOS\"\n",
    "file_name = \"Datos_USA.csv\"\n",
    "file_path = os.path.join(folder_path, file_name)\n",
    "\n",
    "df_sismo.to_csv(file_path, index=False)"
   ]
  }
 ],
 "metadata": {
  "kernelspec": {
   "display_name": "Python 3",
   "language": "python",
   "name": "python3"
  },
  "language_info": {
   "codemirror_mode": {
    "name": "ipython",
    "version": 3
   },
   "file_extension": ".py",
   "mimetype": "text/x-python",
   "name": "python",
   "nbconvert_exporter": "python",
   "pygments_lexer": "ipython3",
   "version": "3.11.0"
  },
  "orig_nbformat": 4
 },
 "nbformat": 4,
 "nbformat_minor": 2
}
