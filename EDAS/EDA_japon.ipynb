{
 "cells": [
  {
   "cell_type": "code",
   "execution_count": 12,
   "metadata": {},
   "outputs": [],
   "source": [
    "import requests\n",
    "import json\n",
    "import pandas as pd \n",
    "import re  \n",
    "import numpy as np\n",
    "import os\n"
   ]
  },
  {
   "attachments": {},
   "cell_type": "markdown",
   "metadata": {},
   "source": [
    "# Japan\n",
    "- Earthquake Research Institute, University of Tokyo https://www.eri.u-tokyo.ac.jp/\n",
    "- - Para fines distintos de la investigación académica Por favor, póngase en contacto con cada centro u observatorio para más detalles. Sin embargo, comercial No se pueden utilizar objetivos.\n",
    "- Geological Survey of Japan - GSJ https://www.gsj.jp/en/\n",
    "- Japan Meteorological Agency - JMA https://www.jma.go.jp/jma/indexe.html\n",
    "- Meteorological Research Institute - Japan Meteorological Agency (JMA) http://www.mri-jma.go.jp/index_en.html\n",
    "- National Research Institute for Earth Science and Disaster Prevention (NIED), Japan http://www.bosai.go.jp/\n",
    "- Kyoshin Network (K-NET) - strong motion http://www.kyoshin.bosai.go.jp/\n",
    "- F-Net - broadband http://www.fnet.bosai.go.jp/\n",
    "- Hi-Net - short period http://www.hinet.bosai.go.jp/\n",
    "- Earthquake Prediction Research Center http://wwweprc.eri.u-tokyo.ac.jp/\n",
    "- Geospatial Information Authority of Japan (GSI) https://www.gsi.go.jp/ENGLISH/\n",
    "- Japan Marine Science and Technology Center http://www.jamstec.go.jp/\n",
    "- International Institute of Seismology and Earthquake Engineering - IISEE https://iisee.kenken.go.jp/\n",
    "- Coordinating Committee for Earthquake Prediction, Japan https://cais.gsi.go.jp/YOCHIREN/index.e.html\n",
    "- Disaster Prevention Research Institute, Kyoto University http://www.dpri.kyoto-u.ac.jp/en/\n",
    "- Research Center for Earthquake Prediction https://www.rcep.dpri.kyoto-u.ac.jp/#ja\n",
    "- Sakurajima Volcano Research Center http://www.svo.dpri.kyoto-u.ac.jp/default_e.html"
   ]
  },
  {
   "cell_type": "code",
   "execution_count": 13,
   "metadata": {},
   "outputs": [],
   "source": [
    "url= 'https://www.jma.go.jp/bosai/quake/data/list.json'\n",
    "\n",
    "response =requests.get(url)\n",
    "data=response.json()\n",
    "df_japon= pd.DataFrame(data)"
   ]
  },
  {
   "cell_type": "code",
   "execution_count": null,
   "metadata": {},
   "outputs": [],
   "source": [
    "folder_path = \"../CSV_ORIGINAL\"\n",
    "file_name = \"raw_Japon.csv\"\n",
    "file_path = os.path.join(folder_path, file_name)\n",
    "\n",
    "df_japon.to_csv(file_path, index=False)"
   ]
  },
  {
   "cell_type": "code",
   "execution_count": 14,
   "metadata": {},
   "outputs": [
    {
     "data": {
      "text/html": [
       "<div>\n",
       "<style scoped>\n",
       "    .dataframe tbody tr th:only-of-type {\n",
       "        vertical-align: middle;\n",
       "    }\n",
       "\n",
       "    .dataframe tbody tr th {\n",
       "        vertical-align: top;\n",
       "    }\n",
       "\n",
       "    .dataframe thead th {\n",
       "        text-align: right;\n",
       "    }\n",
       "</style>\n",
       "<table border=\"1\" class=\"dataframe\">\n",
       "  <thead>\n",
       "    <tr style=\"text-align: right;\">\n",
       "      <th></th>\n",
       "      <th>ctt</th>\n",
       "      <th>eid</th>\n",
       "      <th>rdt</th>\n",
       "      <th>ttl</th>\n",
       "      <th>ift</th>\n",
       "      <th>ser</th>\n",
       "      <th>at</th>\n",
       "      <th>anm</th>\n",
       "      <th>acd</th>\n",
       "      <th>cod</th>\n",
       "      <th>mag</th>\n",
       "      <th>maxi</th>\n",
       "      <th>int</th>\n",
       "      <th>json</th>\n",
       "      <th>en_ttl</th>\n",
       "      <th>en_anm</th>\n",
       "    </tr>\n",
       "  </thead>\n",
       "  <tbody>\n",
       "    <tr>\n",
       "      <th>0</th>\n",
       "      <td>20230515012636</td>\n",
       "      <td>20230515012303</td>\n",
       "      <td>2023-05-15T01:26:00+09:00</td>\n",
       "      <td>震源・震度情報</td>\n",
       "      <td>発表</td>\n",
       "      <td>1</td>\n",
       "      <td>2023-05-15T01:23:00+09:00</td>\n",
       "      <td>八丈島近海</td>\n",
       "      <td>476</td>\n",
       "      <td>+33.4+139.3-10000/</td>\n",
       "      <td>5.2</td>\n",
       "      <td>2</td>\n",
       "      <td>[{'code': '13', 'maxi': '2', 'city': [{'code':...</td>\n",
       "      <td>20230515012636_20230515012303_VXSE5k_1.json</td>\n",
       "      <td>Earthquake and Seismic Intensity Information</td>\n",
       "      <td>Adjacent Sea of Hachijojima Island</td>\n",
       "    </tr>\n",
       "    <tr>\n",
       "      <th>1</th>\n",
       "      <td>20230515001236</td>\n",
       "      <td>20230515000935</td>\n",
       "      <td>2023-05-15T00:12:00+09:00</td>\n",
       "      <td>震源・震度情報</td>\n",
       "      <td>発表</td>\n",
       "      <td>1</td>\n",
       "      <td>2023-05-15T00:09:00+09:00</td>\n",
       "      <td>トカラ列島近海</td>\n",
       "      <td>798</td>\n",
       "      <td>+29.9+130.0+0/</td>\n",
       "      <td>2.2</td>\n",
       "      <td>1</td>\n",
       "      <td>[{'code': '46', 'maxi': '1', 'city': [{'code':...</td>\n",
       "      <td>20230515001236_20230515000935_VXSE5k_1.json</td>\n",
       "      <td>Earthquake and Seismic Intensity Information</td>\n",
       "      <td>Adjacent Sea of Tokara Islands</td>\n",
       "    </tr>\n",
       "    <tr>\n",
       "      <th>2</th>\n",
       "      <td>20230514232422</td>\n",
       "      <td>20230514232107</td>\n",
       "      <td>2023-05-14T23:24:00+09:00</td>\n",
       "      <td>震源・震度情報</td>\n",
       "      <td>発表</td>\n",
       "      <td>1</td>\n",
       "      <td>2023-05-14T23:21:00+09:00</td>\n",
       "      <td>八丈島近海</td>\n",
       "      <td>476</td>\n",
       "      <td>+33.3+139.3-10000/</td>\n",
       "      <td>4.8</td>\n",
       "      <td>1</td>\n",
       "      <td>[{'code': '13', 'maxi': '1', 'city': [{'code':...</td>\n",
       "      <td>20230514232422_20230514232107_VXSE5k_1.json</td>\n",
       "      <td>Earthquake and Seismic Intensity Information</td>\n",
       "      <td>Adjacent Sea of Hachijojima Island</td>\n",
       "    </tr>\n",
       "    <tr>\n",
       "      <th>3</th>\n",
       "      <td>20230514230658</td>\n",
       "      <td>20230514230339</td>\n",
       "      <td>2023-05-14T23:06:00+09:00</td>\n",
       "      <td>震源・震度情報</td>\n",
       "      <td>発表</td>\n",
       "      <td>1</td>\n",
       "      <td>2023-05-14T23:03:00+09:00</td>\n",
       "      <td>八丈島近海</td>\n",
       "      <td>476</td>\n",
       "      <td>+33.3+139.3-10000/</td>\n",
       "      <td>5.4</td>\n",
       "      <td>2</td>\n",
       "      <td>[{'code': '13', 'maxi': '2', 'city': [{'code':...</td>\n",
       "      <td>20230514230658_20230514230339_VXSE5k_1.json</td>\n",
       "      <td>Earthquake and Seismic Intensity Information</td>\n",
       "      <td>Adjacent Sea of Hachijojima Island</td>\n",
       "    </tr>\n",
       "    <tr>\n",
       "      <th>4</th>\n",
       "      <td>20230514225932</td>\n",
       "      <td>20230514225608</td>\n",
       "      <td>2023-05-14T22:59:00+09:00</td>\n",
       "      <td>震源・震度情報</td>\n",
       "      <td>発表</td>\n",
       "      <td>1</td>\n",
       "      <td>2023-05-14T22:56:00+09:00</td>\n",
       "      <td>八丈島近海</td>\n",
       "      <td>476</td>\n",
       "      <td>+33.3+139.4-10000/</td>\n",
       "      <td>5.0</td>\n",
       "      <td>1</td>\n",
       "      <td>[{'code': '13', 'maxi': '1', 'city': [{'code':...</td>\n",
       "      <td>20230514225932_20230514225608_VXSE5k_1.json</td>\n",
       "      <td>Earthquake and Seismic Intensity Information</td>\n",
       "      <td>Adjacent Sea of Hachijojima Island</td>\n",
       "    </tr>\n",
       "    <tr>\n",
       "      <th>...</th>\n",
       "      <td>...</td>\n",
       "      <td>...</td>\n",
       "      <td>...</td>\n",
       "      <td>...</td>\n",
       "      <td>...</td>\n",
       "      <td>...</td>\n",
       "      <td>...</td>\n",
       "      <td>...</td>\n",
       "      <td>...</td>\n",
       "      <td>...</td>\n",
       "      <td>...</td>\n",
       "      <td>...</td>\n",
       "      <td>...</td>\n",
       "      <td>...</td>\n",
       "      <td>...</td>\n",
       "      <td>...</td>\n",
       "    </tr>\n",
       "    <tr>\n",
       "      <th>318</th>\n",
       "      <td>20230416174537</td>\n",
       "      <td>20230416174209</td>\n",
       "      <td>2023-04-16T17:45:00+09:00</td>\n",
       "      <td>震源・震度情報</td>\n",
       "      <td>発表</td>\n",
       "      <td>1</td>\n",
       "      <td>2023-04-16T17:42:00+09:00</td>\n",
       "      <td>トカラ列島近海</td>\n",
       "      <td>798</td>\n",
       "      <td>+29.9+130.1+0/</td>\n",
       "      <td>2.3</td>\n",
       "      <td>1</td>\n",
       "      <td>[{'code': '46', 'maxi': '1', 'city': [{'code':...</td>\n",
       "      <td>20230416174537_20230416174209_VXSE5k_1.json</td>\n",
       "      <td>Earthquake and Seismic Intensity Information</td>\n",
       "      <td>Adjacent Sea of Tokara Islands</td>\n",
       "    </tr>\n",
       "    <tr>\n",
       "      <th>319</th>\n",
       "      <td>20230416151739</td>\n",
       "      <td>20230416151441</td>\n",
       "      <td>2023-04-16T15:17:00+09:00</td>\n",
       "      <td>震源・震度情報</td>\n",
       "      <td>発表</td>\n",
       "      <td>1</td>\n",
       "      <td>2023-04-16T15:14:00+09:00</td>\n",
       "      <td>紀伊水道</td>\n",
       "      <td>674</td>\n",
       "      <td>+33.7+135.1-40000/</td>\n",
       "      <td>3.4</td>\n",
       "      <td>1</td>\n",
       "      <td>[{'code': '30', 'maxi': '1', 'city': [{'code':...</td>\n",
       "      <td>20230416151739_20230416151441_VXSE5k_1.json</td>\n",
       "      <td>Earthquake and Seismic Intensity Information</td>\n",
       "      <td>Kiisuido Strait</td>\n",
       "    </tr>\n",
       "    <tr>\n",
       "      <th>320</th>\n",
       "      <td>20230415114433</td>\n",
       "      <td>20230415114100</td>\n",
       "      <td>2023-04-15T11:44:00+09:00</td>\n",
       "      <td>震源・震度情報</td>\n",
       "      <td>発表</td>\n",
       "      <td>1</td>\n",
       "      <td>2023-04-15T11:41:00+09:00</td>\n",
       "      <td>岩手県沖</td>\n",
       "      <td>286</td>\n",
       "      <td>+39.1+142.4-50000/</td>\n",
       "      <td>4.4</td>\n",
       "      <td>2</td>\n",
       "      <td>[{'code': '03', 'maxi': '2', 'city': [{'code':...</td>\n",
       "      <td>20230415114433_20230415114100_VXSE5k_1.json</td>\n",
       "      <td>Earthquake and Seismic Intensity Information</td>\n",
       "      <td>Off the Coast of Iwate Prefecture</td>\n",
       "    </tr>\n",
       "    <tr>\n",
       "      <th>321</th>\n",
       "      <td>20230415092656</td>\n",
       "      <td>20230415092346</td>\n",
       "      <td>2023-04-15T09:26:00+09:00</td>\n",
       "      <td>震源・震度情報</td>\n",
       "      <td>発表</td>\n",
       "      <td>1</td>\n",
       "      <td>2023-04-15T09:23:00+09:00</td>\n",
       "      <td>根室半島南東沖</td>\n",
       "      <td>189</td>\n",
       "      <td>+43.1+145.6-50000/</td>\n",
       "      <td>3.7</td>\n",
       "      <td>2</td>\n",
       "      <td>[{'code': '01', 'maxi': '2', 'city': [{'code':...</td>\n",
       "      <td>20230415092656_20230415092346_VXSE5k_1.json</td>\n",
       "      <td>Earthquake and Seismic Intensity Information</td>\n",
       "      <td>Off the southeast Coast of the Nemuro Peninsula</td>\n",
       "    </tr>\n",
       "    <tr>\n",
       "      <th>322</th>\n",
       "      <td>20230415072854</td>\n",
       "      <td>20230415072520</td>\n",
       "      <td>2023-04-15T07:28:00+09:00</td>\n",
       "      <td>震源・震度情報</td>\n",
       "      <td>発表</td>\n",
       "      <td>1</td>\n",
       "      <td>2023-04-15T07:25:00+09:00</td>\n",
       "      <td>千葉県東方沖</td>\n",
       "      <td>473</td>\n",
       "      <td>+35.8+140.9+0/</td>\n",
       "      <td>3.0</td>\n",
       "      <td>1</td>\n",
       "      <td>[{'code': '08', 'maxi': '1', 'city': [{'code':...</td>\n",
       "      <td>20230415072854_20230415072520_VXSE5k_1.json</td>\n",
       "      <td>Earthquake and Seismic Intensity Information</td>\n",
       "      <td>Off the east Coast of Chiba Prefecture</td>\n",
       "    </tr>\n",
       "  </tbody>\n",
       "</table>\n",
       "<p>323 rows × 16 columns</p>\n",
       "</div>"
      ],
      "text/plain": [
       "                ctt             eid                        rdt      ttl ift  \\\n",
       "0    20230515012636  20230515012303  2023-05-15T01:26:00+09:00  震源・震度情報  発表   \n",
       "1    20230515001236  20230515000935  2023-05-15T00:12:00+09:00  震源・震度情報  発表   \n",
       "2    20230514232422  20230514232107  2023-05-14T23:24:00+09:00  震源・震度情報  発表   \n",
       "3    20230514230658  20230514230339  2023-05-14T23:06:00+09:00  震源・震度情報  発表   \n",
       "4    20230514225932  20230514225608  2023-05-14T22:59:00+09:00  震源・震度情報  発表   \n",
       "..              ...             ...                        ...      ...  ..   \n",
       "318  20230416174537  20230416174209  2023-04-16T17:45:00+09:00  震源・震度情報  発表   \n",
       "319  20230416151739  20230416151441  2023-04-16T15:17:00+09:00  震源・震度情報  発表   \n",
       "320  20230415114433  20230415114100  2023-04-15T11:44:00+09:00  震源・震度情報  発表   \n",
       "321  20230415092656  20230415092346  2023-04-15T09:26:00+09:00  震源・震度情報  発表   \n",
       "322  20230415072854  20230415072520  2023-04-15T07:28:00+09:00  震源・震度情報  発表   \n",
       "\n",
       "    ser                         at      anm  acd                 cod  mag  \\\n",
       "0     1  2023-05-15T01:23:00+09:00    八丈島近海  476  +33.4+139.3-10000/  5.2   \n",
       "1     1  2023-05-15T00:09:00+09:00  トカラ列島近海  798      +29.9+130.0+0/  2.2   \n",
       "2     1  2023-05-14T23:21:00+09:00    八丈島近海  476  +33.3+139.3-10000/  4.8   \n",
       "3     1  2023-05-14T23:03:00+09:00    八丈島近海  476  +33.3+139.3-10000/  5.4   \n",
       "4     1  2023-05-14T22:56:00+09:00    八丈島近海  476  +33.3+139.4-10000/  5.0   \n",
       "..   ..                        ...      ...  ...                 ...  ...   \n",
       "318   1  2023-04-16T17:42:00+09:00  トカラ列島近海  798      +29.9+130.1+0/  2.3   \n",
       "319   1  2023-04-16T15:14:00+09:00     紀伊水道  674  +33.7+135.1-40000/  3.4   \n",
       "320   1  2023-04-15T11:41:00+09:00     岩手県沖  286  +39.1+142.4-50000/  4.4   \n",
       "321   1  2023-04-15T09:23:00+09:00  根室半島南東沖  189  +43.1+145.6-50000/  3.7   \n",
       "322   1  2023-04-15T07:25:00+09:00   千葉県東方沖  473      +35.8+140.9+0/  3.0   \n",
       "\n",
       "    maxi                                                int  \\\n",
       "0      2  [{'code': '13', 'maxi': '2', 'city': [{'code':...   \n",
       "1      1  [{'code': '46', 'maxi': '1', 'city': [{'code':...   \n",
       "2      1  [{'code': '13', 'maxi': '1', 'city': [{'code':...   \n",
       "3      2  [{'code': '13', 'maxi': '2', 'city': [{'code':...   \n",
       "4      1  [{'code': '13', 'maxi': '1', 'city': [{'code':...   \n",
       "..   ...                                                ...   \n",
       "318    1  [{'code': '46', 'maxi': '1', 'city': [{'code':...   \n",
       "319    1  [{'code': '30', 'maxi': '1', 'city': [{'code':...   \n",
       "320    2  [{'code': '03', 'maxi': '2', 'city': [{'code':...   \n",
       "321    2  [{'code': '01', 'maxi': '2', 'city': [{'code':...   \n",
       "322    1  [{'code': '08', 'maxi': '1', 'city': [{'code':...   \n",
       "\n",
       "                                            json  \\\n",
       "0    20230515012636_20230515012303_VXSE5k_1.json   \n",
       "1    20230515001236_20230515000935_VXSE5k_1.json   \n",
       "2    20230514232422_20230514232107_VXSE5k_1.json   \n",
       "3    20230514230658_20230514230339_VXSE5k_1.json   \n",
       "4    20230514225932_20230514225608_VXSE5k_1.json   \n",
       "..                                           ...   \n",
       "318  20230416174537_20230416174209_VXSE5k_1.json   \n",
       "319  20230416151739_20230416151441_VXSE5k_1.json   \n",
       "320  20230415114433_20230415114100_VXSE5k_1.json   \n",
       "321  20230415092656_20230415092346_VXSE5k_1.json   \n",
       "322  20230415072854_20230415072520_VXSE5k_1.json   \n",
       "\n",
       "                                           en_ttl  \\\n",
       "0    Earthquake and Seismic Intensity Information   \n",
       "1    Earthquake and Seismic Intensity Information   \n",
       "2    Earthquake and Seismic Intensity Information   \n",
       "3    Earthquake and Seismic Intensity Information   \n",
       "4    Earthquake and Seismic Intensity Information   \n",
       "..                                            ...   \n",
       "318  Earthquake and Seismic Intensity Information   \n",
       "319  Earthquake and Seismic Intensity Information   \n",
       "320  Earthquake and Seismic Intensity Information   \n",
       "321  Earthquake and Seismic Intensity Information   \n",
       "322  Earthquake and Seismic Intensity Information   \n",
       "\n",
       "                                              en_anm  \n",
       "0                 Adjacent Sea of Hachijojima Island  \n",
       "1                     Adjacent Sea of Tokara Islands  \n",
       "2                 Adjacent Sea of Hachijojima Island  \n",
       "3                 Adjacent Sea of Hachijojima Island  \n",
       "4                 Adjacent Sea of Hachijojima Island  \n",
       "..                                               ...  \n",
       "318                   Adjacent Sea of Tokara Islands  \n",
       "319                                  Kiisuido Strait  \n",
       "320                Off the Coast of Iwate Prefecture  \n",
       "321  Off the southeast Coast of the Nemuro Peninsula  \n",
       "322           Off the east Coast of Chiba Prefecture  \n",
       "\n",
       "[323 rows x 16 columns]"
      ]
     },
     "execution_count": 14,
     "metadata": {},
     "output_type": "execute_result"
    }
   ],
   "source": [
    "df_japon"
   ]
  },
  {
   "cell_type": "code",
   "execution_count": null,
   "metadata": {},
   "outputs": [],
   "source": [
    "df_japon.info()"
   ]
  },
  {
   "cell_type": "code",
   "execution_count": null,
   "metadata": {},
   "outputs": [],
   "source": [
    "df_japon.isnull().sum()"
   ]
  },
  {
   "attachments": {},
   "cell_type": "markdown",
   "metadata": {},
   "source": [
    "Cambio el formato de la fecha de la informacion del sismo: rdt"
   ]
  },
  {
   "cell_type": "code",
   "execution_count": null,
   "metadata": {},
   "outputs": [],
   "source": [
    "#Columna rdt\n",
    "# Convertir la columna 'fecha' a un objeto datetime\n",
    "df_japon['rdt'] = pd.to_datetime(df_japon['rdt'])\n",
    "\n",
    "# Eliminar la zona horaria de la columna 'fecha'\n",
    "df_japon['rdt'] = df_japon['rdt'].dt.tz_localize(None)\n",
    "\n",
    "# Convertir la columna 'fecha' de vuelta a un formato de cadena si es necesario\n",
    "df_japon['rdt'] = df_japon['rdt'].dt.strftime('%Y-%m-%d %H:%M:%S')"
   ]
  },
  {
   "cell_type": "code",
   "execution_count": null,
   "metadata": {},
   "outputs": [],
   "source": [
    "#Columna at \n",
    "df_japon['at'] = pd.to_datetime(df_japon['at'])\n",
    "\n",
    "# Eliminar la zona horaria de la columna 'fecha'\n",
    "df_japon['at'] = df_japon['at'].dt.tz_localize(None)\n",
    "\n",
    "# Convertir la columna 'fecha' de vuelta a un formato de cadena si es necesario\n",
    "df_japon['at'] = df_japon['at'].dt.strftime('%Y-%m-%d %H:%M:%S')"
   ]
  },
  {
   "cell_type": "code",
   "execution_count": null,
   "metadata": {},
   "outputs": [],
   "source": [
    "df_japon"
   ]
  },
  {
   "attachments": {},
   "cell_type": "markdown",
   "metadata": {},
   "source": [
    "Dropeo columnas que no voy a utilizar"
   ]
  },
  {
   "cell_type": "code",
   "execution_count": null,
   "metadata": {},
   "outputs": [],
   "source": [
    "df_japon.columns"
   ]
  },
  {
   "cell_type": "code",
   "execution_count": null,
   "metadata": {},
   "outputs": [],
   "source": [
    "df_japon.drop(columns=['ctt','ift', 'eid', 'ser','ttl', 'at', 'anm', 'acd','json','int', 'en_ttl', 'en_anm'], inplace=True)"
   ]
  },
  {
   "attachments": {},
   "cell_type": "markdown",
   "metadata": {},
   "source": [
    "Cambio de nombre a las columnas "
   ]
  },
  {
   "cell_type": "code",
   "execution_count": null,
   "metadata": {},
   "outputs": [],
   "source": [
    "df_japon = df_japon.rename(columns={\"rdt\" : \"time\"}) \n",
    "df_japon = df_japon.rename(columns={\"eid\" : \"id\"}) \n",
    "df_japon = df_japon.rename(columns={\"maxi\" : \"intensidad_max\"}) \n",
    "df_japon = df_japon.rename(columns={\"en_ttl\" : \"title\"}) \n",
    "df_japon = df_japon.rename(columns={\"en_anm\" : \"nombre_area_epicentral\"})"
   ]
  },
  {
   "attachments": {},
   "cell_type": "markdown",
   "metadata": {},
   "source": [
    "Extraigo latitud y longitud de cod"
   ]
  },
  {
   "cell_type": "code",
   "execution_count": null,
   "metadata": {},
   "outputs": [],
   "source": [
    "print(df_japon['cod'])"
   ]
  },
  {
   "cell_type": "code",
   "execution_count": null,
   "metadata": {},
   "outputs": [],
   "source": [
    "df_japon['cod'].isnull().sum()"
   ]
  },
  {
   "cell_type": "code",
   "execution_count": null,
   "metadata": {},
   "outputs": [],
   "source": [
    "df_japon['cod'] = df_japon['cod'].str.replace('/$', '')\n"
   ]
  },
  {
   "cell_type": "code",
   "execution_count": null,
   "metadata": {},
   "outputs": [],
   "source": [
    "df_japon['cod']"
   ]
  },
  {
   "cell_type": "code",
   "execution_count": null,
   "metadata": {},
   "outputs": [],
   "source": [
    "# Crear tres columnas nuevas usando extract()\n",
    "df_japon[['latitud', 'longitud', 'profundidad']] = df_japon['cod'].str.extract(r'([\\+\\-]\\d+\\.\\d+)([\\+\\-]\\d+\\.\\d+)([\\+\\-]\\d+)')"
   ]
  },
  {
   "cell_type": "code",
   "execution_count": null,
   "metadata": {},
   "outputs": [],
   "source": [
    "df_japon[['latitud', 'longitud', 'profundidad']].isnull().sum()"
   ]
  },
  {
   "cell_type": "code",
   "execution_count": null,
   "metadata": {},
   "outputs": [],
   "source": [
    "df_japon.drop(columns='cod', inplace=True)"
   ]
  },
  {
   "cell_type": "code",
   "execution_count": null,
   "metadata": {},
   "outputs": [],
   "source": [
    "df_japon"
   ]
  },
  {
   "cell_type": "code",
   "execution_count": null,
   "metadata": {},
   "outputs": [],
   "source": [
    "df_japon.dropna(inplace=True)"
   ]
  },
  {
   "cell_type": "code",
   "execution_count": null,
   "metadata": {},
   "outputs": [],
   "source": [
    "df_japon[['latitud', 'longitud', 'profundidad']] = df_japon[['latitud', 'longitud', 'profundidad']].applymap(lambda x: x[1:] if isinstance(x, str) else x)"
   ]
  },
  {
   "cell_type": "code",
   "execution_count": null,
   "metadata": {},
   "outputs": [],
   "source": [
    "df_japon[['latitud', 'longitud', 'profundidad']].isnull().sum()"
   ]
  },
  {
   "cell_type": "code",
   "execution_count": null,
   "metadata": {},
   "outputs": [],
   "source": [
    "df_japon.info()"
   ]
  },
  {
   "cell_type": "code",
   "execution_count": null,
   "metadata": {},
   "outputs": [],
   "source": [
    "df_japon[['latitud', 'longitud']] = df_japon[['latitud', 'longitud']].astype(float)\n",
    "df_japon['profundidad'] = df_japon['profundidad'].astype(int)\n",
    "df_japon['mag'] = df_japon['mag'].astype(float)"
   ]
  },
  {
   "cell_type": "code",
   "execution_count": null,
   "metadata": {},
   "outputs": [],
   "source": [
    "df_japon['intensidad_max'].replace('',0,inplace=True)\n",
    "diccionario_valores = {'1': '1', '2': '2', '3': '3', '4': '4', '5-': '5', '5+': '5', '6+': '6'}\n",
    "df_japon['intensidad_max'] = df_japon['intensidad_max'].replace(diccionario_valores)"
   ]
  },
  {
   "cell_type": "code",
   "execution_count": null,
   "metadata": {},
   "outputs": [],
   "source": [
    "df_japon['intensidad_max'].unique()"
   ]
  },
  {
   "cell_type": "code",
   "execution_count": null,
   "metadata": {},
   "outputs": [],
   "source": [
    "df_japon['intensidad_max'] = df_japon['intensidad_max'].fillna(0).astype(int)\n"
   ]
  },
  {
   "cell_type": "code",
   "execution_count": null,
   "metadata": {},
   "outputs": [],
   "source": [
    "df_japon"
   ]
  },
  {
   "cell_type": "code",
   "execution_count": null,
   "metadata": {},
   "outputs": [],
   "source": [
    "df_japon['profundidad'] = df_japon['profundidad'] // 1000\n"
   ]
  },
  {
   "cell_type": "code",
   "execution_count": null,
   "metadata": {},
   "outputs": [],
   "source": [
    "df_japon.info()"
   ]
  },
  {
   "cell_type": "code",
   "execution_count": null,
   "metadata": {},
   "outputs": [],
   "source": [
    "df_japon.isnull().sum()"
   ]
  },
  {
   "cell_type": "code",
   "execution_count": null,
   "metadata": {},
   "outputs": [],
   "source": [
    "df_japon"
   ]
  },
  {
   "cell_type": "code",
   "execution_count": null,
   "metadata": {},
   "outputs": [],
   "source": [
    "folder_path = \"../CSV_TRANSFORMADOS\"\n",
    "file_name = \"Datos_japon.csv\"\n",
    "file_path = os.path.join(folder_path, file_name)\n",
    "\n",
    "df_japon.to_csv(file_path, index=False)"
   ]
  },
  {
   "cell_type": "code",
   "execution_count": 2,
   "metadata": {},
   "outputs": [],
   "source": [
    "url= 'https://www.jma.go.jp/bosai/quake/data/list.json'  # define la URL de donde se va a extraer los datos."
   ]
  },
  {
   "cell_type": "code",
   "execution_count": null,
   "metadata": {},
   "outputs": [],
   "source": [
    "import requests\n",
    "import pandas as pd\n",
    "\n",
    "def get_japon_quake_data(url):\n",
    "    try:\n",
    "        response = requests.get(url)\n",
    "        data = response.json()\n",
    "        df_japon = pd.DataFrame(data)\n",
    "\n",
    "        # Transformaciones en el DataFrame\n",
    "        df_japon['rdt'] = pd.to_datetime(df_japon['rdt'])\n",
    "        df_japon['rdt'] = df_japon['rdt'].dt.tz_localize(None)\n",
    "        df_japon['rdt'] = df_japon['rdt'].dt.strftime('%Y-%m-%d %H:%M:%S')\n",
    "        \n",
    "        df_japon['at'] = pd.to_datetime(df_japon['at'])\n",
    "        df_japon['at'] = df_japon['at'].dt.tz_localize(None)\n",
    "        df_japon['at'] = df_japon['at'].dt.strftime('%Y-%m-%d %H:%M:%S')\n",
    "        \n",
    "        df_japon.drop(columns=['ctt','ift', 'eid', 'ser','ttl', 'at', 'anm', 'acd','json','int', 'en_ttl', 'en_anm'], inplace=True)\n",
    "        df_japon = df_japon.rename(columns={\"rdt\" : \"time\"}) \n",
    "        df_japon = df_japon.rename(columns={\"eid\" : \"id\"}) \n",
    "        df_japon = df_japon.rename(columns={\"maxi\" : \"intensidad_max\"}) \n",
    "        df_japon = df_japon.rename(columns={\"en_ttl\" : \"title\"}) \n",
    "        df_japon = df_japon.rename(columns={\"en_anm\" : \"nombre_area_epicentral\"})\n",
    "        \n",
    "        df_japon['cod'] = df_japon['cod'].str.replace('/$', '')\n",
    "        df_japon[['latitud', 'longitud', 'profundidad']] = df_japon['cod'].str.extract(r'([\\+\\-]\\d+\\.\\d+)([\\+\\-]\\d+\\.\\d+)([\\+\\-]\\d+)')\n",
    "        \n",
    "        df_japon.drop(columns='cod', inplace=True)\n",
    "        df_japon.dropna(inplace=True)\n",
    "        df_japon[['latitud', 'longitud', 'profundidad']] = df_japon[['latitud', 'longitud', 'profundidad']].applymap(lambda x: x[1:] if isinstance(x, str) else x)\n",
    "        df_japon[['latitud', 'longitud']] = df_japon[['latitud', 'longitud']].astype(float)\n",
    "        df_japon['profundidad'] = df_japon['profundidad'].astype(int)\n",
    "        df_japon['mag'] = df_japon['mag'].astype(float)\n",
    "        df_japon['intensidad_max'].replace('',0,inplace=True)\n",
    "        diccionario_valores = {'1': '1', '2': '2', '3': '3', '4': '4', '5-': '5', '5+': '5', '6+': '6'}\n",
    "        df_japon['intensidad_max'] = df_japon['intensidad_max'].replace(diccionario_valores)\n",
    "        df_japon['intensidad_max'] = df_japon['intensidad_max'].fillna(0).astype(int)\n",
    "        df_japon['profundidad'] = df_japon['profundidad'] // 1000\n",
    "        \n",
    "        return df_japon\n",
    "        \n",
    "    except requests.exceptions.RequestException as e:\n",
    "        print('Error al obtener los datos:', e)\n",
    "        return None\n",
    "        \n",
    "   \n"
   ]
  },
  {
   "cell_type": "code",
   "execution_count": 10,
   "metadata": {},
   "outputs": [],
   "source": [
    "import requests\n",
    "import pandas as pd\n",
    "\n",
    "def get_japan_quake_data(url):\n",
    "    try:\n",
    "        # Hacer una solicitud HTTP a la URL definida y convertir la respuesta en un objeto JSON de Python\n",
    "        response = requests.get(url)\n",
    "        data = response.json()\n",
    "\n",
    "        # Convertir el objeto JSON en un marco de datos de Pandas\n",
    "        df_japan = pd.DataFrame(data)\n",
    "\n",
    "        # Limpieza de datos\n",
    "        df_japan['rdt'] = pd.to_datetime(df_japan['rdt']).dt.tz_localize(None).dt.strftime('%Y-%m-%d %H:%M:%S')\n",
    "        df_japan['at'] = pd.to_datetime(df_japan['at']).dt.tz_localize(None).dt.strftime('%Y-%m-%d %H:%M:%S')\n",
    "        df_japan.drop(columns=['ctt','ift', 'eid', 'ser','ttl', 'at', 'anm', 'acd','json','int', 'en_ttl', 'en_anm'], inplace=True)\n",
    "        df_japan = df_japan.rename(columns={\"rdt\" : \"time\", \"eid\" : \"id\", \"maxi\" : \"intensidad_max\", \"en_ttl\" : \"title\", \"en_anm\" : \"nombre_area_epicentral\"})\n",
    "        df_japan['cod'] = df_japan['cod'].str.replace('/$', '')\n",
    "        df_japan[['latitud', 'longitud', 'profundidad']] = df_japan['cod'].str.extract(r'([\\+\\-]\\d+\\.\\d+)([\\+\\-]\\d+\\.\\d+)([\\+\\-]\\d+)')\n",
    "        df_japan.drop(columns='cod', inplace=True)\n",
    "        df_japan.dropna(inplace=True)\n",
    "        df_japan[['latitud', 'longitud', 'profundidad']] = df_japan[['latitud', 'longitud', 'profundidad']].applymap(lambda x: x[1:] if isinstance(x, str) else x)\n",
    "        df_japan[['latitud', 'longitud']] = df_japan[['latitud', 'longitud']].astype(float)\n",
    "        df_japan['profundidad'] = df_japan['profundidad'].astype(int)\n",
    "        df_japan['mag'] = df_japan['mag'].astype(float)\n",
    "        df_japan['intensidad_max'].replace('',0,inplace=True)\n",
    "        diccionario_valores = {'1': '1', '2': '2', '3': '3', '4': '4', '5-': '5', '5+': '5', '6+': '6'}\n",
    "        df_japan['intensidad_max'] = df_japan['intensidad_max'].replace(diccionario_valores)\n",
    "        df_japan['intensidad_max'] = df_japan['intensidad_max'].fillna(0).astype(int)\n",
    "        df_japan['profundidad'] = df_japan['profundidad'] // 1000\n",
    "\n",
    "        # Guardar el resultado en un archivo JSON\n",
    "        df_japan.to_json('../JSON/CON_ETL/japan_data.json', orient='records')\n",
    "\n",
    "        # Devolver el marco de datos resultante\n",
    "        return True\n",
    "    except requests.exceptions.RequestException as e:\n",
    "        print(f\"Error al hacer la solicitud HTTP: {e}\")\n",
    "    except ValueError as e:\n",
    "        print(f\"Error al decodificar el objeto JSON: {e}\")\n",
    "    except Exception as e:\n",
    "        print(f\"Error desconocido: {e}\")\n"
   ]
  },
  {
   "cell_type": "code",
   "execution_count": 11,
   "metadata": {},
   "outputs": [
    {
     "name": "stderr",
     "output_type": "stream",
     "text": [
      "C:\\Users\\Hernan\\AppData\\Local\\Temp\\ipykernel_14852\\4113655414.py:18: FutureWarning: The default value of regex will change from True to False in a future version.\n",
      "  df_japan['cod'] = df_japan['cod'].str.replace('/$', '')\n"
     ]
    },
    {
     "data": {
      "text/plain": [
       "True"
      ]
     },
     "execution_count": 11,
     "metadata": {},
     "output_type": "execute_result"
    }
   ],
   "source": [
    "get_japan_quake_data(url)\n"
   ]
  }
 ],
 "metadata": {
  "kernelspec": {
   "display_name": "Python 3",
   "language": "python",
   "name": "python3"
  },
  "language_info": {
   "codemirror_mode": {
    "name": "ipython",
    "version": 3
   },
   "file_extension": ".py",
   "mimetype": "text/x-python",
   "name": "python",
   "nbconvert_exporter": "python",
   "pygments_lexer": "ipython3",
   "version": "3.11.0"
  },
  "orig_nbformat": 4
 },
 "nbformat": 4,
 "nbformat_minor": 2
}
